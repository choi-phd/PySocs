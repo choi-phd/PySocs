{
 "cells": [
  {
   "cell_type": "markdown",
   "id": "2c1d1dcf-b882-4b7d-8647-1f4861c0e58d",
   "metadata": {},
   "source": [
    "# Python for Social Science"
   ]
  },
  {
   "cell_type": "markdown",
   "id": "22c51874-2e95-44a0-b3b5-bcbe9bf7b826",
   "metadata": {},
   "source": [
    "<img src=\"../figures/PySocs_banner.png\" width=\"50%\" align=\"left\">"
   ]
  },
  {
   "cell_type": "markdown",
   "id": "07308dd3-3983-49ac-bd54-9507360dc0cb",
   "metadata": {},
   "source": [
    "## Python Control Flows"
   ]
  },
  {
   "cell_type": "markdown",
   "id": "646b2c6d-4dc5-4a87-a67b-dd2b9558b2e1",
   "metadata": {},
   "source": [
    "Control flow determines the order in which individual statements, instructions, or function calls are executed or evaluated. In Python, control flow tools allow us to make decisions, repeat actions, and structure our programs logically."
   ]
  },
  {
   "cell_type": "markdown",
   "id": "b0edf1cf-bdb0-4485-8cb4-0790c9703f80",
   "metadata": {
    "tags": []
   },
   "source": [
    "## Conditional Statements\n",
    "\n",
    "Conditional statements, or simply conditionals, allow you to execute code based on specific conditions. They are a fundamental structure in programming. Conditionals enable different blocks of code to run depending on whether certain conditions are true."
   ]
  },
  {
   "cell_type": "markdown",
   "id": "4107f1ec-3f09-4275-be19-e45547f50b91",
   "metadata": {},
   "source": [
    "### Conditionals: `if` Statements\n",
    "\n",
    "The most widely used conditional is the **if-statement**. An if-statement controls whether some block of code is executed or not.\n",
    "\n",
    "*   The `if` keyword contains an expression to be evaluated and ends with a colon. \n",
    "*   The body of the if-statement is indented and contains the code to execute if the condition evaluates to `True`. If it is not satisfied or evaluates to `False`, the bock of code will be skipped."
   ]
  },
  {
   "cell_type": "code",
   "execution_count": 71,
   "id": "71ecad1f-1656-4846-8d73-fe6caf1dac8e",
   "metadata": {},
   "outputs": [
    {
     "name": "stdout",
     "output_type": "stream",
     "text": [
      "x is positive\n"
     ]
    }
   ],
   "source": [
    "x = 10\n",
    "\n",
    "if x > 0:\n",
    "    print(\"x is positive\")"
   ]
  },
  {
   "cell_type": "markdown",
   "id": "bdaa217a-937d-4ef5-b023-112f3b56ee5f",
   "metadata": {},
   "source": [
    "If the condition is not satisfied, nothing happens."
   ]
  },
  {
   "cell_type": "code",
   "execution_count": 72,
   "id": "9eba296c-a1b7-4dce-96d1-509ab4fe62c0",
   "metadata": {},
   "outputs": [],
   "source": [
    "x = -10\n",
    "\n",
    "if x > 0:\n",
    "    print(\"x is positive\")"
   ]
  },
  {
   "cell_type": "markdown",
   "id": "b7ec409b-3a77-48e6-97b4-6b58ccdd31cd",
   "metadata": {},
   "source": [
    "### Conditionals: `else` Statements\n",
    "\n",
    "`else` statements supplement `if` statements. They allow us to specify an alternative block of code to run if the if-statement's conditional is **not** satisfied."
   ]
  },
  {
   "cell_type": "code",
   "execution_count": 73,
   "id": "d29e931f-1097-4179-9537-e02b774773dd",
   "metadata": {},
   "outputs": [
    {
     "name": "stdout",
     "output_type": "stream",
     "text": [
      "x is negative\n"
     ]
    }
   ],
   "source": [
    "x = -10\n",
    "\n",
    "if x > 0:\n",
    "    print(\"x is positive\")\n",
    "else:\n",
    "    print(\"x is negative\")"
   ]
  },
  {
   "cell_type": "markdown",
   "id": "de3ccb90-b612-4b5d-aca6-38c91dbe1d2e",
   "metadata": {},
   "source": [
    "### Conditionals: `elif` Statements\n",
    "\n",
    "An `else` statement acts as a **catch all** and is placed at the very end. Typically, we may want to check other conditions, e.g., `x == 0` with one or more `elif` statements (i.e., short for else if) before `else`."
   ]
  },
  {
   "cell_type": "code",
   "execution_count": 80,
   "id": "239d59d8-6253-494a-afee-dbdfa9e35994",
   "metadata": {},
   "outputs": [
    {
     "name": "stdout",
     "output_type": "stream",
     "text": [
      "x is zero\n"
     ]
    }
   ],
   "source": [
    "x = 0\n",
    "\n",
    "if x > 0:\n",
    "    print(\"x is positive\")\n",
    "elif x == 0:\n",
    "    print(\"x is zero\")\n",
    "else:\n",
    "    print(\"x is negative\")"
   ]
  },
  {
   "cell_type": "markdown",
   "id": "731de2c8-65c7-4fba-b9ea-1477be8132bc",
   "metadata": {},
   "source": [
    "### Practice Exercise 1"
   ]
  },
  {
   "cell_type": "code",
   "execution_count": 84,
   "id": "04a85379-628b-4244-9710-99502a25ee8a",
   "metadata": {
    "tags": []
   },
   "outputs": [
    {
     "data": {
      "image/png": "[encoded data removed]",
      "text/plain": [
       "<Figure size 720x180 with 1 Axes>"
      ]
     },
     "metadata": {
      "needs_background": "light"
     },
     "output_type": "display_data"
    }
   ],
   "source": [
    "import matplotlib.pyplot as plt\n",
    "\n",
    "# Define BMI intervals and labels\n",
    "intervals = [10, 18.5, 24.9, 29.9, 34.9, 39.0, 50]\n",
    "labels = [\n",
    "    \"Underweight\",\n",
    "    \"Normal weight\",\n",
    "    \"Overweight\",\n",
    "    \"Obesity Class I\",\n",
    "    \"Obesity Class II\",\n",
    "    \"Obesity Class III\"\n",
    "]\n",
    "colors = ['lightblue', 'lightgreen', 'yellow', 'orange', 'red', 'darkred']\n",
    "\n",
    "# Create the plot\n",
    "fig, ax = plt.subplots(figsize=(10, 2.5))\n",
    "\n",
    "# Plot the intervals as colored bars\n",
    "for i in range(len(labels)):\n",
    "    ax.barh(0, intervals[i+1] - intervals[i], left=intervals[i], height=0.5, color=colors[i])\n",
    "    mid_point = (intervals[i] + intervals[i+1]) / 2\n",
    "    ax.text(mid_point, 0.0, labels[i], ha='center', va='bottom', fontsize=9)\n",
    "    ax.text(mid_point, -0.05, f\"{intervals[i]}–{intervals[i+1]}\", ha='center', va='top', fontsize=9)\n",
    "\n",
    "# Formatting\n",
    "ax.set_xlim(10, 50)\n",
    "ax.set_yticks([])\n",
    "ax.set_xlabel(\"Body Mass Index (BMI)\")\n",
    "ax.set_title(\"BMI Classification\")\n",
    "\n",
    "plt.tight_layout()"
   ]
  },
  {
   "cell_type": "markdown",
   "id": "2cb9013a-074d-4742-9f99-cc4322292450",
   "metadata": {},
   "source": [
    "### 🧍 Body Mass Index (BMI) Classification\n",
    "\n",
    "| **Category**           | **BMI Range (kg/m²)**     | **Description**                          |\n",
    "|------------------------|---------------------------|------------------------------------------|\n",
    "| Underweight            | Less than 18.5            | May indicate nutritional deficiency      |\n",
    "| Normal weight          | 18.5 – 24.9               | Generally considered healthy             |\n",
    "| Overweight             | 25.0 – 29.9               | Increased risk of health issues          |\n",
    "| Obesity Class I        | 30.0 – 34.9               | Moderate risk of chronic conditions      |\n",
    "| Obesity Class II       | 35.0 – 39.9               | High risk of chronic conditions          |\n",
    "| Obesity Class III      | 40.0 and above            | Very high risk; often called severe obesity |"
   ]
  },
  {
   "cell_type": "markdown",
   "id": "a209f255-7424-4f0e-944c-59df7b497401",
   "metadata": {
    "tags": []
   },
   "source": [
    "Using the BMI classification table, write a program that accepts a BMI value and prints out the corresponding BMI category (for example, \"Normal weight\"). Ensure that your code can handle any valid BMI input. Test your code using `bmi = 24.95`.Using the BMI classification table from the previous class, write a program that accepts a BMI value and prints out the corresponding BMI category (for example, \"Normal weight\"). Ensure that your code can handle any valid BMI input. Test your code using `bmi = 24.95`."
   ]
  },
  {
   "cell_type": "code",
   "execution_count": 85,
   "id": "409fd10b-ddec-4018-befd-1f1a0a3eac36",
   "metadata": {},
   "outputs": [
    {
     "name": "stdout",
     "output_type": "stream",
     "text": [
      "Normal weight\n"
     ]
    }
   ],
   "source": [
    "bmi = 24.95\n",
    "\n",
    "# YOUR CODE HERE\n",
    "if bmi < 18.5:\n",
    "    print(\"Underweight\")\n",
    "elif bmi < 25.0:\n",
    "    print(\"Normal weight\")\n",
    "elif bmi < 30.0:\n",
    "    print(\"Overweight\")\n",
    "elif bmi < 35.0:\n",
    "    print(\"Obesity Class I\")\n",
    "elif bmi < 40.0:\n",
    "    print(\"Obesity Class II\")\n",
    "else:\n",
    "    print(\"Ovesity Class III\")"
   ]
  },
  {
   "cell_type": "markdown",
   "id": "98917a36-8522-4d9e-b9c9-5b9c9a3e9142",
   "metadata": {
    "tags": []
   },
   "source": [
    "## 🔁 Loops"
   ]
  },
  {
   "cell_type": "markdown",
   "id": "2ff853de-546a-4750-8164-73fa36bc2214",
   "metadata": {},
   "source": [
    "### for Loop\n",
    "A `for-loop` is used to iterate over the items in a collection (like a list, tuple, or string) and execute a block of code multiple times. Here are some examples:"
   ]
  },
  {
   "cell_type": "code",
   "execution_count": 86,
   "id": "52a424c5-7790-43cd-ac4d-f65a67420d0c",
   "metadata": {},
   "outputs": [
    {
     "name": "stdout",
     "output_type": "stream",
     "text": [
      "1\n",
      "2\n",
      "3\n",
      "4\n",
      "5\n"
     ]
    }
   ],
   "source": [
    "for n in [1, 2, 3, 4, 5]:\n",
    "    print(n)"
   ]
  },
  {
   "cell_type": "code",
   "execution_count": 4,
   "id": "8641a03e-cbd8-4ef0-9cde-f955bc9433ca",
   "metadata": {},
   "outputs": [
    {
     "name": "stdout",
     "output_type": "stream",
     "text": [
      "apple\n",
      "blueberry\n",
      "cherry\n"
     ]
    }
   ],
   "source": [
    "for fruit in [\"apple\", \"blueberry\", \"cherry\"]:\n",
    "    print(fruit)"
   ]
  },
  {
   "cell_type": "code",
   "execution_count": 88,
   "id": "1502a8db-181e-44f0-9fa3-17ddc0b520de",
   "metadata": {},
   "outputs": [
    {
     "name": "stdout",
     "output_type": "stream",
     "text": [
      "H\n",
      "o\n",
      "o\n",
      "k\n",
      "'\n",
      "e\n",
      "m\n",
      " \n",
      "H\n",
      "o\n",
      "r\n",
      "n\n",
      "s\n",
      "!\n"
     ]
    }
   ],
   "source": [
    "for char in \"Hook'em Horns!\":\n",
    "    print(char)"
   ]
  },
  {
   "cell_type": "markdown",
   "id": "a7ea3ddd-c813-4d3c-be2e-20ef0f4a33bf",
   "metadata": {},
   "source": [
    "Objects that come after `in` must be **iterable**, such as lists, tuples, dictionaries, sets, or strings. Note: We will introduce these Python data types soon."
   ]
  },
  {
   "cell_type": "markdown",
   "id": "aa21c058-081f-4305-ab12-8b0a71fa09b4",
   "metadata": {},
   "source": [
    "### 🛑 Loop Control Statements"
   ]
  },
  {
   "cell_type": "markdown",
   "id": "de6e1cee-7400-4146-b9b9-a06722b38675",
   "metadata": {},
   "source": [
    "#### break\n",
    "Stops the loop entirely."
   ]
  },
  {
   "cell_type": "code",
   "execution_count": 58,
   "id": "d69f619e-68f1-4c17-94ac-84532f251df8",
   "metadata": {},
   "outputs": [
    {
     "name": "stdout",
     "output_type": "stream",
     "text": [
      "0\n",
      "1\n",
      "2\n",
      "3\n",
      "4\n"
     ]
    }
   ],
   "source": [
    "for i in range(10):\n",
    "    if i == 5:\n",
    "        break\n",
    "    print(i)"
   ]
  },
  {
   "cell_type": "markdown",
   "id": "18c5813d-08c6-468a-8458-71fb9b5983bc",
   "metadata": {},
   "source": [
    "#### continue\n",
    "Skips the current iteration and continues with the next."
   ]
  },
  {
   "cell_type": "code",
   "execution_count": 59,
   "id": "0c40ca46-5bc5-44d1-8638-390fcc286d35",
   "metadata": {},
   "outputs": [
    {
     "name": "stdout",
     "output_type": "stream",
     "text": [
      "0\n",
      "1\n",
      "3\n",
      "4\n"
     ]
    }
   ],
   "source": [
    "for i in range(5):\n",
    "    if i == 2:\n",
    "        continue\n",
    "    print(i)"
   ]
  },
  {
   "cell_type": "markdown",
   "id": "cecd90e2-977c-4465-9104-568a981e6a4b",
   "metadata": {},
   "source": [
    "#### pass\n",
    "Does nothing; used as a placeholder."
   ]
  },
  {
   "cell_type": "code",
   "execution_count": 5,
   "id": "d349bd19-1d26-4aaa-bc87-799e5d8148b7",
   "metadata": {},
   "outputs": [],
   "source": [
    "for i in range(3):\n",
    "    pass  # Placeholder for future code"
   ]
  },
  {
   "cell_type": "markdown",
   "id": "ddbdbd16-af42-43d7-bf8a-739b936ff10e",
   "metadata": {},
   "source": [
    "## ⚡ Comprehensions"
   ]
  },
  {
   "cell_type": "markdown",
   "id": "2f270282-28e2-4813-91db-4868d498fd83",
   "metadata": {},
   "source": [
    "Python offers concise ways to create collections using loops and conditions. Below we will start with comprehensions for lists; however, the same logic and syntax apply to other Python iterables, e.g., range, tuple, dictionary, and set."
   ]
  },
  {
   "cell_type": "markdown",
   "id": "ed923efb-cb43-400e-a9ac-3e3d7f690672",
   "metadata": {},
   "source": [
    "### List Comprehension\n",
    "\n",
    "A list comprehension in Python is a compact and readable way to create lists.\n",
    "It combines the process of **iterating**, **filtering**, and **transforming** data into a single line of code."
   ]
  },
  {
   "cell_type": "markdown",
   "id": "a240a60b-b0c3-4571-9236-0a9f45722739",
   "metadata": {},
   "source": [
    "#### Syntax of List Comprehension\n",
    "\n",
    "The basic syntax of list comprehensions is as follows:"
   ]
  },
  {
   "cell_type": "markdown",
   "id": "13b090e3-83fa-4214-8e5f-6aa338b639dd",
   "metadata": {},
   "source": [
    "```python\n",
    "new_list = [expression for item in iterable if condition]\n",
    "```"
   ]
  },
  {
   "cell_type": "markdown",
   "id": "d3e09ee1-5fbd-43fa-a183-207b18f0492a",
   "metadata": {},
   "source": [
    "| Component                  | Description                                                            |\n",
    "| -------------------------- | ---------------------------------------------------------------------- |\n",
    "| **expression**             | The operation or transformation applied to each element.               |\n",
    "| **item**                   | The variable that represents the current element in the iteration.     |\n",
    "| **iterable**               | A sequence or collection you want to loop through (e.g., list, range). |\n",
    "| **condition** *(optional)* | A filter that determines whether the element is included.              |\n"
   ]
  },
  {
   "cell_type": "markdown",
   "id": "845d2164-ae34-4cee-a3e9-ea4320dbde65",
   "metadata": {},
   "source": [
    "### Simple Examples"
   ]
  },
  {
   "cell_type": "markdown",
   "id": "a9ae69f8-e388-4b60-abe9-ff8d2a77b419",
   "metadata": {},
   "source": [
    "#### Example 1: Generate a list of numbers\n",
    "\n",
    "Create a list of numbers from 0 to 9."
   ]
  },
  {
   "cell_type": "code",
   "execution_count": 42,
   "id": "2afb7c02-952b-4413-857e-79658028430c",
   "metadata": {},
   "outputs": [
    {
     "data": {
      "text/plain": [
       "[0, 1, 2, 3, 4, 5, 6, 7, 8, 9]"
      ]
     },
     "execution_count": 42,
     "metadata": {},
     "output_type": "execute_result"
    }
   ],
   "source": [
    "[x for x in range(10)]"
   ]
  },
  {
   "cell_type": "markdown",
   "id": "a04d472a-81ed-45b5-b3e3-8e96f50f5dcd",
   "metadata": {},
   "source": [
    "A `for` loop equivant would be something like this:"
   ]
  },
  {
   "cell_type": "code",
   "execution_count": 74,
   "id": "1cf3d2cb-3e2b-489c-9ab4-c368cfc1fb72",
   "metadata": {},
   "outputs": [
    {
     "data": {
      "text/plain": [
       "[0, 1, 2, 3, 4, 5, 6, 7, 8, 9]"
      ]
     },
     "execution_count": 74,
     "metadata": {},
     "output_type": "execute_result"
    }
   ],
   "source": [
    "numbers = []\n",
    "for _ in range(10):\n",
    "    numbers.append(_)\n",
    "\n",
    "numbers"
   ]
  },
  {
   "cell_type": "markdown",
   "id": "57aab409-54e4-4cdb-8ff2-63d9b92f5158",
   "metadata": {},
   "source": [
    "By the way, the `_` in place of an index variable basically means \"I don't care what it's called\"."
   ]
  },
  {
   "cell_type": "markdown",
   "id": "1fc5fa72-ddda-4b0d-bbf1-fb90f98b7012",
   "metadata": {},
   "source": [
    "Of course, this trivial example can be accomplished with a built-in function:"
   ]
  },
  {
   "cell_type": "code",
   "execution_count": 94,
   "id": "48c63b71-f6a3-4eaa-bb22-4e7aae495100",
   "metadata": {},
   "outputs": [
    {
     "data": {
      "text/plain": [
       "[0, 1, 2, 3, 4, 5, 6, 7, 8, 9]"
      ]
     },
     "execution_count": 94,
     "metadata": {},
     "output_type": "execute_result"
    }
   ],
   "source": [
    "list(range(10))"
   ]
  },
  {
   "cell_type": "markdown",
   "id": "4f0e5733-7f47-493f-b65a-8b7a3289130a",
   "metadata": {},
   "source": [
    "#### Example 2: Squares of numbers\n",
    "\n",
    "A list comprehension makes more sense if you're transforming `x` while creating a list output. So, let's create a list of squares of numbers from 1 to 10."
   ]
  },
  {
   "cell_type": "code",
   "execution_count": 43,
   "id": "44878852-9119-43e1-80ae-23dcb2aab6ab",
   "metadata": {},
   "outputs": [
    {
     "data": {
      "text/plain": [
       "[1, 4, 9, 16, 25, 36, 49, 64, 81, 100]"
      ]
     },
     "execution_count": 43,
     "metadata": {},
     "output_type": "execute_result"
    }
   ],
   "source": [
    "[x**2 for x in range(1, 11)]"
   ]
  },
  {
   "cell_type": "markdown",
   "id": "3efa9765-b017-4d90-80c4-45b22ca58387",
   "metadata": {},
   "source": [
    "A `for` loop equivalent would be:"
   ]
  },
  {
   "cell_type": "code",
   "execution_count": 78,
   "id": "27990cc6-e1cb-43f1-9e53-d66ec3ca686b",
   "metadata": {},
   "outputs": [
    {
     "name": "stdout",
     "output_type": "stream",
     "text": [
      "[1, 4, 9, 16, 25, 36, 49, 64, 81, 100]\n"
     ]
    }
   ],
   "source": [
    "squares = []\n",
    "\n",
    "for i in range(1, 11):\n",
    "    squares.append(i**2)\n",
    "    \n",
    "print(squares)"
   ]
  },
  {
   "cell_type": "markdown",
   "id": "ae2c8561-d196-4d6b-adca-198d9b00b944",
   "metadata": {},
   "source": [
    "#### Example 3: Strings to uppercase\n",
    "\n",
    "Convert each word in `words` to uppercase letters."
   ]
  },
  {
   "cell_type": "code",
   "execution_count": 46,
   "id": "96c2f0b8-9ad4-43b4-9102-a853dcd68be1",
   "metadata": {},
   "outputs": [
    {
     "data": {
      "text/plain": [
       "['PYTHON', 'FOR', 'SOCIAL', 'SCIENCE']"
      ]
     },
     "execution_count": 46,
     "metadata": {},
     "output_type": "execute_result"
    }
   ],
   "source": [
    "words = [\"python\", \"for\", \"social\", \"science\"]\n",
    "[word.upper() for word in words]"
   ]
  },
  {
   "cell_type": "markdown",
   "id": "b4369ff0-b710-435f-8c09-0d76d96f9070",
   "metadata": {},
   "source": [
    "A simple variation of that is to capitalize the first letter of each word."
   ]
  },
  {
   "cell_type": "code",
   "execution_count": 47,
   "id": "8d2a333a-2fd6-4fae-a7d7-410515b6abe4",
   "metadata": {},
   "outputs": [
    {
     "data": {
      "text/plain": [
       "['Python', 'For', 'Social', 'Science']"
      ]
     },
     "execution_count": 47,
     "metadata": {},
     "output_type": "execute_result"
    }
   ],
   "source": [
    "[word.title() for word in words]"
   ]
  },
  {
   "cell_type": "markdown",
   "id": "254ec262-cc71-42b8-9042-986d5c68059c",
   "metadata": {},
   "source": [
    "#### Example 4: Count the letters in words\n",
    "\n",
    "Count the number of letters in each word."
   ]
  },
  {
   "cell_type": "code",
   "execution_count": 51,
   "id": "027ca668-4b39-4114-b082-6571ad52b623",
   "metadata": {},
   "outputs": [
    {
     "data": {
      "text/plain": [
       "[6, 3, 6, 7]"
      ]
     },
     "execution_count": 51,
     "metadata": {},
     "output_type": "execute_result"
    }
   ],
   "source": [
    "[len(word) for word in words]"
   ]
  },
  {
   "cell_type": "markdown",
   "id": "6ab7b948-5a60-40e4-8563-81293677dd51",
   "metadata": {},
   "source": [
    "### Practice Exercise 2\n"
   ]
  },
  {
   "cell_type": "markdown",
   "id": "f221f7cb-dc87-4e32-9d83-d2cfe522d209",
   "metadata": {},
   "source": [
    "Using `words` defined above, create a list of words in the *reverse* order with each word's characters also *reversed*. \n",
    "\n",
    "- Reverse the order of the list (last word becomes first).\n",
    "- Reverse each word’s characters (e.g., \"for\" → \"rof\").\n",
    "- Don't use `reversed()`.\n",
    "\n",
    "The expected result is:"
   ]
  },
  {
   "cell_type": "markdown",
   "id": "1f198e3a-910d-40d8-8c6b-80a2c296959a",
   "metadata": {},
   "source": [
    "```python\n",
    "['ecneics', 'laicos', 'rof', 'nohtyp']\n",
    "```"
   ]
  },
  {
   "cell_type": "code",
   "execution_count": 66,
   "id": "99d5c832-4c91-4baa-9afa-f7f0ec85933d",
   "metadata": {},
   "outputs": [
    {
     "data": {
      "text/plain": [
       "['ecneics', 'laicos', 'rof', 'nohtyp']"
      ]
     },
     "execution_count": 66,
     "metadata": {},
     "output_type": "execute_result"
    }
   ],
   "source": [
    "words = [\"python\", \"for\", \"social\", \"science\"]\n",
    "# YOUR CODE HERE\n"
   ]
  },
  {
   "cell_type": "markdown",
   "id": "def05587-c3f5-4a26-8f03-bf36a73b9e33",
   "metadata": {},
   "source": [
    "### List Comprehension with `if`\n",
    "\n",
    "We can include a filter or condition to execute the body of a `for` loop conditionally. For example,"
   ]
  },
  {
   "cell_type": "code",
   "execution_count": 19,
   "id": "61044af5-caab-4296-9f46-bbf5d58a667c",
   "metadata": {},
   "outputs": [
    {
     "name": "stdout",
     "output_type": "stream",
     "text": [
      "[4, 16, 36, 64]\n"
     ]
    }
   ],
   "source": [
    "even_squares = []\n",
    "\n",
    "for i in range(1, 10):\n",
    "    if i % 2 == 0:\n",
    "        even_squares.append(i**2)\n",
    "    \n",
    "print(even_squares)"
   ]
  },
  {
   "cell_type": "markdown",
   "id": "d4ec1363-91e9-45f9-bcb2-2e071f8b1007",
   "metadata": {},
   "source": [
    "Likewise, we can use a list comprehension with a filter (condition) like so:"
   ]
  },
  {
   "cell_type": "code",
   "execution_count": 25,
   "id": "c929c462-cdc3-4bda-963c-e9383d5beb13",
   "metadata": {},
   "outputs": [
    {
     "name": "stdout",
     "output_type": "stream",
     "text": [
      "[4, 16, 36, 64]\n"
     ]
    }
   ],
   "source": [
    "even_squares = [x**2 for x in range(1, 10) if x % 2 == 0]\n",
    "print(even_squares)"
   ]
  },
  {
   "cell_type": "markdown",
   "id": "d0cbda30-386b-45e7-95f0-da25660cf941",
   "metadata": {},
   "source": [
    "### Practice Exercise 3\n",
    "\n",
    "Convert each word in 'words' to lowercase if it contains more than three letters; otherwise, skip it. The expected result is:"
   ]
  },
  {
   "cell_type": "markdown",
   "id": "56982f72-0f83-4fb9-bd4f-3ff5dae599e9",
   "metadata": {},
   "source": [
    "```python\n",
    "['python', 'social', 'science']\n",
    "```"
   ]
  },
  {
   "cell_type": "code",
   "execution_count": 95,
   "id": "adbea99a-07aa-4715-9a39-56288b1bdbc8",
   "metadata": {},
   "outputs": [
    {
     "data": {
      "text/plain": [
       "['python', 'social', 'science']"
      ]
     },
     "execution_count": 95,
     "metadata": {},
     "output_type": "execute_result"
    }
   ],
   "source": [
    "words = ['PYTHON', 'FOR', 'SOCIAL', 'SCIENCE']\n",
    "# YOUR CODE HERE\n"
   ]
  },
  {
   "cell_type": "markdown",
   "id": "e2f6c1b9-73d1-46ee-b11e-f7718d29347d",
   "metadata": {},
   "source": [
    "### Illustration - List Comprehension with `if`\n",
    "\n",
    "This image is the original manuscript of *The Eyes of Texas* that hangs in the University of Texas Alumni Center. In the following code cell, we will preprocess the lyrics into a list of words after removing some punctuation characters."
   ]
  },
  {
   "cell_type": "markdown",
   "id": "5ec00847-f0ab-4cba-9723-150987445301",
   "metadata": {},
   "source": [
    "<img src=\"../figures/eyes_of_texas.png\" width=\"500\"/>"
   ]
  },
  {
   "cell_type": "code",
   "execution_count": 96,
   "id": "6e93794e-93fe-4699-ab99-2ce2104fe5ab",
   "metadata": {},
   "outputs": [],
   "source": [
    "lyrics = \"\"\"\n",
    "The Eyes of Texas are upon you,\n",
    "All the livelong day.\n",
    "The Eyes of Texas are upon you,\n",
    "You cannot get away.\n",
    "Do not think you can escape them\n",
    "At night or early in the morn --\n",
    "The Eyes of Texas are upon you\n",
    "Til Gabriel blows his horn.\n",
    "\"\"\""
   ]
  },
  {
   "cell_type": "markdown",
   "id": "4bfb1be8-925a-46f4-ab26-29a3c054f0d4",
   "metadata": {},
   "source": [
    "**Step 1**: Remove punctuation marks, or replace them with an empy string `\"\"`:"
   ]
  },
  {
   "cell_type": "code",
   "execution_count": 99,
   "id": "739aad47-a4c3-493e-8a80-d7883a178bbd",
   "metadata": {},
   "outputs": [
    {
     "name": "stdout",
     "output_type": "stream",
     "text": [
      "\n",
      "The Eyes of Texas are upon you\n",
      "All the livelong day\n",
      "The Eyes of Texas are upon you\n",
      "You cannot get away\n",
      "Do not think you can escape them\n",
      "At night or early in the morn \n",
      "The Eyes of Texas are upon you\n",
      "Til Gabriel blows his horn\n",
      "\n"
     ]
    }
   ],
   "source": [
    "cleaned_text = lyrics.replace(\",\", \"\") \\\n",
    "                     .replace(\".\", \"\") \\\n",
    "                     .replace(\"-\", \"\")\n",
    "print(cleaned_text)"
   ]
  },
  {
   "cell_type": "markdown",
   "id": "6c64aae1-a32c-44bf-a963-995a3051a7ae",
   "metadata": {},
   "source": [
    "📌 Note: The `\\` symbol at the end of the first two lines indicates that the command continues on the next line and has not yet finished."
   ]
  },
  {
   "cell_type": "markdown",
   "id": "6c082211-b02b-4fb5-b7fe-436d0fc300bf",
   "metadata": {},
   "source": [
    "**Step 2**: Create a list object parsing all words in `cleaned_words` as elements."
   ]
  },
  {
   "cell_type": "code",
   "execution_count": 104,
   "id": "72e144bb-36fc-4ecf-a604-d8b3d95eeec9",
   "metadata": {},
   "outputs": [
    {
     "name": "stdout",
     "output_type": "stream",
     "text": [
      "['The', 'Eyes', 'of', 'Texas', 'are', 'upon', 'you', 'All', 'the', 'livelong', 'day', 'The', 'Eyes', 'of', 'Texas', 'are', 'upon', 'you', 'You', 'cannot', 'get', 'away', 'Do', 'not', 'think', 'you', 'can', 'escape', 'them', 'At', 'night', 'or', 'early', 'in', 'the', 'morn', 'The', 'Eyes', 'of', 'Texas', 'are', 'upon', 'you', 'Til', 'Gabriel', 'blows', 'his', 'horn']\n"
     ]
    }
   ],
   "source": [
    "cleaned_words = cleaned_text.split()\n",
    "print(words)"
   ]
  },
  {
   "cell_type": "markdown",
   "id": "1338206f-0777-4f86-8a37-5d97c0e4e4da",
   "metadata": {},
   "source": [
    "### Practice Exercise 4"
   ]
  },
  {
   "cell_type": "markdown",
   "id": "bce1e9aa-75ab-4e77-aa27-07ff9bc92d9d",
   "metadata": {},
   "source": [
    "Now, it's your turn. Using `cleaned_words` and list comprehension display a shorter list of words in lowercase letters that are at least five (5) characters long. The expected result looks like this:"
   ]
  },
  {
   "cell_type": "markdown",
   "id": "0f07a5b5-07df-40c2-9a22-0c13aca13b68",
   "metadata": {},
   "source": [
    "```python\n",
    "['texas',\n",
    " 'livelong',\n",
    " 'texas',\n",
    " 'cannot',\n",
    " 'think',\n",
    " 'escape',\n",
    " 'night',\n",
    " 'early',\n",
    " 'texas',\n",
    " 'gabriel',\n",
    " 'blows']\n",
    "```"
   ]
  },
  {
   "cell_type": "code",
   "execution_count": 105,
   "id": "02b0fb9c-c8de-4fd1-9839-1051bbbe4185",
   "metadata": {
    "tags": []
   },
   "outputs": [
    {
     "data": {
      "text/plain": [
       "['texas',\n",
       " 'livelong',\n",
       " 'texas',\n",
       " 'cannot',\n",
       " 'think',\n",
       " 'escape',\n",
       " 'night',\n",
       " 'early',\n",
       " 'texas',\n",
       " 'gabriel',\n",
       " 'blows']"
      ]
     },
     "execution_count": 105,
     "metadata": {},
     "output_type": "execute_result"
    }
   ],
   "source": [
    "# YOUR CODE HERE\n"
   ]
  },
  {
   "cell_type": "markdown",
   "id": "8be4597c-6c6d-460c-b3a0-9c9b8b2f3c82",
   "metadata": {},
   "source": [
    "### List Comprehension with `if-else`\n",
    "\n",
    "The filter may have an **else** clause. Suppose we want to square even numbers and keep odd numbers as is:"
   ]
  },
  {
   "cell_type": "code",
   "execution_count": 23,
   "id": "4941993f-411e-412b-82dc-15981f3dcdb8",
   "metadata": {},
   "outputs": [
    {
     "data": {
      "text/plain": [
       "[1, 4, 3, 16, 5, 36, 7, 64, 9]"
      ]
     },
     "execution_count": 23,
     "metadata": {},
     "output_type": "execute_result"
    }
   ],
   "source": [
    "[x**2 if x % 2 == 0 else x for x in range(1, 10)]"
   ]
  },
  {
   "cell_type": "markdown",
   "id": "bc5436b7-c02c-40c1-96f7-a40022e026e2",
   "metadata": {},
   "source": [
    "### Illustration - List Comprehension with `if-else`\n",
    "\n",
    "Imagine you have a list of daily temperatures (in °F) and you want to categorize each temperature according to the Texas standard:\n",
    "\n",
    "- \"Cold\" if the temperature is below 80°F,\n",
    "- \"Warm\" if it's between 80°F and 100°F,\n",
    "- \"Hot\" if it's above 100°F."
   ]
  },
  {
   "cell_type": "markdown",
   "id": "8331c54e-2978-4993-8ebc-79e07d86a4b4",
   "metadata": {},
   "source": [
    "If we use a `for` loop, we may do something like this:"
   ]
  },
  {
   "cell_type": "code",
   "execution_count": 110,
   "id": "e29bc0af-43ea-4ba0-8804-c20e4b23bf41",
   "metadata": {},
   "outputs": [
    {
     "name": "stdout",
     "output_type": "stream",
     "text": [
      "['Cold', 'Cold', 'Hot', 'Warm', 'Warm', 'Cold', 'Cold']\n"
     ]
    }
   ],
   "source": [
    "temperatures = [45, 62, 105, 85, 90, 55, 78]\n",
    "\n",
    "texas_categories = []\n",
    "\n",
    "for temp in temperatures:\n",
    "    if temp < 80:\n",
    "        texas_categories.append(\"Cold\")\n",
    "    elif temp <= 100:\n",
    "        texas_categories.append(\"Warm\")\n",
    "    else:\n",
    "        texas_categories.append(\"Hot\")\n",
    "\n",
    "print(texas_categories)"
   ]
  },
  {
   "cell_type": "markdown",
   "id": "4a53fbb8-6215-46eb-a976-85d53f94d307",
   "metadata": {},
   "source": [
    "Alternatively, we can use a list comprehension with `if-else` clauses."
   ]
  },
  {
   "cell_type": "code",
   "execution_count": 114,
   "id": "bc1bc98d-a32b-424e-ad28-b117f2e8d220",
   "metadata": {},
   "outputs": [
    {
     "name": "stdout",
     "output_type": "stream",
     "text": [
      "['Cold', 'Cold', 'Hot', 'Warm', 'Warm', 'Cold', 'Cold']\n"
     ]
    }
   ],
   "source": [
    "# Categorize each temperature using if-elif-else logic\n",
    "texas_categories = [\n",
    "    \"Cold\" if temp < 80 else \"Warm\" if temp <= 100 else \"Hot\"\n",
    "    for temp in temperatures\n",
    "]\n",
    "\n",
    "print(texas_categories)"
   ]
  },
  {
   "cell_type": "markdown",
   "id": "8940d545-4a90-48c7-86be-600dc960607a",
   "metadata": {},
   "source": [
    "List comprehensions are slightly faster than regular `for` loops in Python."
   ]
  },
  {
   "cell_type": "markdown",
   "id": "88b3d2db-ed3c-48ff-b50e-6bf2378190d0",
   "metadata": {},
   "source": [
    "### Practice Exercise 5"
   ]
  },
  {
   "cell_type": "markdown",
   "id": "ea8e34a1-2b80-43a2-bf7e-6fda4dfcc29e",
   "metadata": {},
   "source": [
    "Imaging you are analyzing some social science survey data and need to categorize a response variable as follows:\n",
    "\n",
    "- 0 → \"Nevel\"\n",
    "- 1 → \"Rarely\"\n",
    "- 2 → \"Sometimes\"\n",
    "- 3 → \"Often\"\n",
    "- 4 → \"Always\""
   ]
  },
  {
   "cell_type": "markdown",
   "id": "8a938599-d934-4bb8-821d-859e91357829",
   "metadata": {},
   "source": [
    "Categorize each value in `responses` below into a new list, `categories`, according to the mapping scheme provided above using a list comprehension with **if-else** logic and print `categories`."
   ]
  },
  {
   "cell_type": "code",
   "execution_count": 115,
   "id": "17a0d9ed-1d61-4478-9821-6712d2a371e2",
   "metadata": {},
   "outputs": [
    {
     "name": "stdout",
     "output_type": "stream",
     "text": [
      "['Never', 'Often', 'Sometimes', 'Rarely', 'Sometimes', 'Always', 'Often', 'Always', 'Rarely', 'Never']\n"
     ]
    }
   ],
   "source": [
    "responses = [0, 3, 2, 1, 2, 4, 3, 4, 1, 0]\n",
    "\n",
    "# YOUR CODE HERE\n"
   ]
  },
  {
   "cell_type": "markdown",
   "id": "ea61f34e-9b9b-4628-90a9-b959083731f8",
   "metadata": {},
   "source": [
    "### Practice Exercise 6\n",
    "\n",
    "Your code above assumes that the `if-else` clauses handle all expected values in `responses`. However, what if one of the values is `None`, which is commonly used as a sentinel value to indicate missing data? Revise your code so that `None` is properly represented as \"Unanswered.\""
   ]
  },
  {
   "cell_type": "code",
   "execution_count": 116,
   "id": "c3b60851-1ed4-4bd7-a192-dbed0a5debff",
   "metadata": {},
   "outputs": [
    {
     "name": "stdout",
     "output_type": "stream",
     "text": [
      "['Never', 'Unanswered', 'Often', 'Sometimes', 'Rarely', 'Sometimes', 'Always', 'Often', 'Always', 'Rarely', 'Never']\n"
     ]
    }
   ],
   "source": [
    "responses = [0, None, 3, 2, 1, 2, 4, 3, 4, 1, 0]\n",
    "\n",
    "# YOUR CODE HERE\n"
   ]
  },
  {
   "cell_type": "markdown",
   "id": "5ca4b169-3916-4150-8b96-0e4d99832cd6",
   "metadata": {},
   "source": [
    "## Tuple\n",
    "\n",
    "A tuple is an **ordered**, **immutable** collection of elements in Python.\n",
    "\n",
    "- **Ordered**: Elements maintain their position.\n",
    "- **Immutable**: Cannot change, add, or remove elements after creation.\n",
    "- Elements can be any type: numbers, strings, lists, other tuples, etc."
   ]
  },
  {
   "cell_type": "markdown",
   "id": "a81a3369-ded3-40f8-83ce-de7f0ced04d9",
   "metadata": {},
   "source": [
    "### Syntax"
   ]
  },
  {
   "cell_type": "markdown",
   "id": "506ce467-1364-4022-bc9e-0815d5730144",
   "metadata": {},
   "source": [
    "```python\n",
    "my_tuple = (element1, element2, element3)\n",
    "```"
   ]
  },
  {
   "cell_type": "markdown",
   "id": "99fcc733-d4d2-435b-87bd-d4ad72935089",
   "metadata": {},
   "source": [
    "⚠️ **Note**: Parentheses are optional for simple tuples."
   ]
  },
  {
   "cell_type": "markdown",
   "id": "e3bd13eb-c5b1-483e-95e9-5f25636ea79b",
   "metadata": {},
   "source": [
    "```python\n",
    "my_tuple = (0, 1, 2)\n",
    "my_tuple[0] = 1\n",
    "```"
   ]
  },
  {
   "cell_type": "markdown",
   "id": "00bd09c6-949d-48a7-9361-7bb7d88f4bd6",
   "metadata": {},
   "source": [
    "❌ A tuple is a fixed-length, immutable sequence of objects. As such, attempting to modify its elements will raise an error."
   ]
  },
  {
   "cell_type": "markdown",
   "id": "2e65f9c0-1e5e-404b-b83a-889981f8096c",
   "metadata": {},
   "source": [
    "The parentheses are often omitted in various contexts when their absence does not cause confusion."
   ]
  },
  {
   "cell_type": "code",
   "execution_count": 118,
   "id": "de61408c-bb83-420b-b432-488642695580",
   "metadata": {},
   "outputs": [
    {
     "name": "stdout",
     "output_type": "stream",
     "text": [
      "(0, 1, 2)\n"
     ]
    }
   ],
   "source": [
    "my_tuple = 0, 1, 2\n",
    "print(my_tuple)"
   ]
  },
  {
   "cell_type": "markdown",
   "id": "bfb54b45-31ed-4232-99f9-aee1e6fa770b",
   "metadata": {},
   "source": [
    "🧠 A couple of interesting features enabled by tuples are unpacking and swapping:"
   ]
  },
  {
   "cell_type": "markdown",
   "id": "0dbef0bd-4325-4918-8253-ef826da1953b",
   "metadata": {},
   "source": [
    "#### Unpacking"
   ]
  },
  {
   "cell_type": "code",
   "execution_count": 120,
   "id": "b1e49a74-4c84-4ced-a746-e411898477d1",
   "metadata": {},
   "outputs": [
    {
     "name": "stdout",
     "output_type": "stream",
     "text": [
      "x is 0\n",
      "y is 1\n",
      "z is 2\n"
     ]
    }
   ],
   "source": [
    "x, y, z = my_tuple\n",
    "print(f\"x is {x}\")\n",
    "print(f\"y is {y}\")\n",
    "print(f\"z is {z}\")"
   ]
  },
  {
   "cell_type": "markdown",
   "id": "b7b3fded-df82-4acb-8082-b1b2269c9a1b",
   "metadata": {},
   "source": [
    "#### Swapping"
   ]
  },
  {
   "cell_type": "code",
   "execution_count": 121,
   "id": "9a3f5f8d-6ad4-4d29-8c2a-710c276fc6ad",
   "metadata": {},
   "outputs": [
    {
     "name": "stdout",
     "output_type": "stream",
     "text": [
      "x is now 1\n",
      "y is now 0\n"
     ]
    }
   ],
   "source": [
    "x, y = y, x\n",
    "\n",
    "print(f\"x is now {x}\")\n",
    "print(f\"y is now {y}\")"
   ]
  },
  {
   "cell_type": "markdown",
   "id": "f0284be8-c489-4b85-923d-48c44fc17d71",
   "metadata": {},
   "source": [
    "### Creating Tuples\n",
    "\n",
    "Tuples can be created from lists using the `tuple()` function:"
   ]
  },
  {
   "cell_type": "code",
   "execution_count": 145,
   "id": "94863ad7-c7fa-49b5-b0d3-f6001906cbdf",
   "metadata": {},
   "outputs": [
    {
     "data": {
      "text/plain": [
       "('apple', 'banana', 'cherry')"
      ]
     },
     "execution_count": 145,
     "metadata": {},
     "output_type": "execute_result"
    }
   ],
   "source": [
    "my_list = [\"apple\", \"banana\", \"cherry\"]\n",
    "my_tuple = tuple(my_list)\n",
    "my_tuple"
   ]
  },
  {
   "cell_type": "markdown",
   "id": "5baf3651-ee0f-4472-8bf8-74de87e57dae",
   "metadata": {},
   "source": [
    "⚠️ **Note:** There is a unique case in which a tuple contains only a single element. For example,"
   ]
  },
  {
   "cell_type": "code",
   "execution_count": 174,
   "id": "48d5d8b1-d678-41df-ab66-f93926514161",
   "metadata": {},
   "outputs": [],
   "source": [
    "single = (10)"
   ]
  },
  {
   "cell_type": "markdown",
   "id": "38858ba7-3f5b-45be-8683-d35e4aa81bba",
   "metadata": {},
   "source": [
    "However, that is not a tuple."
   ]
  },
  {
   "cell_type": "code",
   "execution_count": 175,
   "id": "bb768c7c-d39b-4966-a249-080f4d591820",
   "metadata": {},
   "outputs": [
    {
     "data": {
      "text/plain": [
       "int"
      ]
     },
     "execution_count": 175,
     "metadata": {},
     "output_type": "execute_result"
    }
   ],
   "source": [
    "type(single)"
   ]
  },
  {
   "cell_type": "markdown",
   "id": "d11fda5e-6ae3-4234-93c4-59b7f6ca352c",
   "metadata": {},
   "source": [
    "To make a tuple with a single element, you must add ',' at the end like so:"
   ]
  },
  {
   "cell_type": "code",
   "execution_count": 176,
   "id": "71cfa2ac-b1c5-418f-9e85-2f7d11332148",
   "metadata": {},
   "outputs": [
    {
     "data": {
      "text/plain": [
       "tuple"
      ]
     },
     "execution_count": 176,
     "metadata": {},
     "output_type": "execute_result"
    }
   ],
   "source": [
    "single = (10, )\n",
    "type(single)"
   ]
  },
  {
   "cell_type": "markdown",
   "id": "266a4802-c837-41f1-8f71-dbb9e98bd9cd",
   "metadata": {},
   "source": [
    "### Tuple Operations"
   ]
  },
  {
   "cell_type": "code",
   "execution_count": 143,
   "id": "89a3a6de-be33-4e17-94cc-80aef39e4d40",
   "metadata": {},
   "outputs": [
    {
     "name": "stdout",
     "output_type": "stream",
     "text": [
      "(1, 2, 3, 4, 5, 6)\n"
     ]
    }
   ],
   "source": [
    "a = (1, 2, 3)\n",
    "b = (4, 5, 6)\n",
    "\n",
    "# Concatenation\n",
    "c = a + b\n",
    "print(c)  # (1, 2, 3, 4, 5, 6)"
   ]
  },
  {
   "cell_type": "code",
   "execution_count": 141,
   "id": "08481ecb-05a4-44ae-b5fb-62b2f1e727bf",
   "metadata": {},
   "outputs": [
    {
     "name": "stdout",
     "output_type": "stream",
     "text": [
      "(1, 2, 3, 1, 2, 3)\n"
     ]
    }
   ],
   "source": [
    "# Repetition\n",
    "d = a * 2\n",
    "print(d)  # (1, 2, 3, 1, 2, 3)"
   ]
  },
  {
   "cell_type": "code",
   "execution_count": 142,
   "id": "11ddecef-2f0a-4983-8f61-887133d6d1f6",
   "metadata": {},
   "outputs": [
    {
     "name": "stdout",
     "output_type": "stream",
     "text": [
      "True\n",
      "False\n"
     ]
    }
   ],
   "source": [
    "# Membership\n",
    "print(2 in a)  # True\n",
    "print(7 in a)  # False"
   ]
  },
  {
   "cell_type": "code",
   "execution_count": 150,
   "id": "472b1b83-a351-4551-a48c-ef0557bf444e",
   "metadata": {},
   "outputs": [
    {
     "data": {
      "text/plain": [
       "2"
      ]
     },
     "execution_count": 150,
     "metadata": {},
     "output_type": "execute_result"
    }
   ],
   "source": [
    "# Count\n",
    "d.count(1)  # 2 instances of 1 in `d`"
   ]
  },
  {
   "cell_type": "markdown",
   "id": "e0a71f5e-3635-46bb-b862-fec7a803db14",
   "metadata": {},
   "source": [
    "### Use Case for Tuples\n",
    "\n",
    "So why do we need tuples when we have lists? Tuples and lists may seem similar because both are ordered collections, but they have different use cases. Here’s why you might choose a tuple even when you could use a list."
   ]
  },
  {
   "cell_type": "markdown",
   "id": "11665f85-d700-4fb0-8236-ed4749fd5497",
   "metadata": {},
   "source": [
    "| Feature                | Tuple                       | List                  | Use Case                              |\n",
    "| ---------------------- | --------------------------- | --------------------- | ------------------------------------- |\n",
    "| Mutability             | Immutable                   | Mutable               | Use tuple when data should not change |\n",
    "| Dictionary Keys        | ✅ Allowed                   | ❌ Not allowed         | Coordinates, composite IDs            |\n",
    "| Memory & Performance   | Less memory, faster         | More memory, slower   | Large static datasets                 |\n",
    "| Semantic meaning       | Fixed/constant data | Variable data | RGB colors, coordinates               |\n",
    "| Function return values | ✅ Unpacking convenient      | ✅ Possible            | Returning multiple values             |\n"
   ]
  },
  {
   "cell_type": "markdown",
   "id": "1ec1f880-171f-4a4f-b72b-33f87d82a06c",
   "metadata": {},
   "source": [
    "#### Immutability (Data Protection)\n",
    "\n",
    "- Tuples are immutable, meaning once created, the data cannot be changed.\n",
    "- This makes them ideal for data that should remain constant.\n",
    "- Example: storing coordinates of a point in 2D space."
   ]
  },
  {
   "cell_type": "markdown",
   "id": "16430b90-cd39-4853-bb1a-b179eec30b0c",
   "metadata": {},
   "source": [
    "#### Dictionary Keys\n",
    "\n",
    "We haven't discussed dictionaries yet. So, the following is a preview. Dictionaries are heavily used in Python programming. They represent a collection of key-value pairs. They are iterable but not a sequence. We reference their elements with the keys not indexes.\n",
    "\n",
    "- Only immutable types can be dictionary keys.\n",
    "- Tuples can be used as keys; lists cannot."
   ]
  },
  {
   "cell_type": "code",
   "execution_count": 123,
   "id": "01e0f9cb-ad35-4135-98a1-7f7ba485fdd1",
   "metadata": {},
   "outputs": [
    {
     "name": "stdout",
     "output_type": "stream",
     "text": [
      "The city at (30.2672, -97.7431) is Austin\n"
     ]
    }
   ],
   "source": [
    "# Dictionary mapping GPS coordinates to city names\n",
    "locations = {\n",
    "    (30.2672, -97.7431): \"Austin\",\n",
    "    (40.7128, -74.0060): \"New York\",\n",
    "    (34.0522, -118.2437): \"Los Angeles\",\n",
    "}\n",
    "\n",
    "# Look up a city by its coordinates\n",
    "coordinates = (30.2672, -97.7431)\n",
    "print(f\"The city at {coordinates} is {locations[coordinates]}\")\n"
   ]
  },
  {
   "cell_type": "markdown",
   "id": "4e0fe7c8-28c8-4048-89d1-42118304a278",
   "metadata": {},
   "source": [
    "#### Performance & Memory Efficiency\n",
    "\n",
    "- Tuples are slightly faster and use less memory than lists.\n",
    "- If you have large datasets that don’t need modification, tuples are better."
   ]
  },
  {
   "cell_type": "code",
   "execution_count": 124,
   "id": "9b174192-9d75-4118-8874-d062f815a6ce",
   "metadata": {},
   "outputs": [
    {
     "name": "stdout",
     "output_type": "stream",
     "text": [
      "120\n",
      "80\n"
     ]
    }
   ],
   "source": [
    "import sys\n",
    "\n",
    "lst = [1, 2, 3, 4, 5]\n",
    "tup = (1, 2, 3, 4, 5)\n",
    "\n",
    "print(sys.getsizeof(lst))  # e.g., 120 bytes\n",
    "print(sys.getsizeof(tup))  # e.g., 80 bytes"
   ]
  },
  {
   "cell_type": "markdown",
   "id": "48de0c3d-24a5-4ec9-9803-4a4d0ba0be78",
   "metadata": {},
   "source": [
    "#### Semantic Meaning\n",
    "\n",
    "- Choosing a tuple can signal intent: “This data should not change.”\n",
    "- For example, using a list might imply that the RGB values are meant to change:"
   ]
  },
  {
   "cell_type": "code",
   "execution_count": 122,
   "id": "425c801f-58dd-479a-acf1-4454c3ecd4f9",
   "metadata": {},
   "outputs": [],
   "source": [
    "rgb_color = (255, 0, 0)  # Red color, fixed!"
   ]
  },
  {
   "cell_type": "markdown",
   "id": "4a21b78c-63cf-476f-9750-5fb28935e073",
   "metadata": {},
   "source": [
    "## Set\n",
    "\n",
    "A set in Python is a collection of **unique**, **unordered** elements.\n",
    "Think of it like a mathematical set: it automatically *removes duplicates*, and you can perform set operations such as **union**, **intersection**, and **difference**.\n",
    "\n",
    "Sets are **mutable**, but they **cannot** contain mutable items like lists or dictionaries."
   ]
  },
  {
   "cell_type": "markdown",
   "id": "bd0ddfe0-3ff0-4241-9e4f-16989c578a4c",
   "metadata": {},
   "source": [
    "### Syntax"
   ]
  },
  {
   "cell_type": "markdown",
   "id": "38508f0a-c467-4234-90ad-78ad355e1b21",
   "metadata": {},
   "source": [
    "```python\n",
    "my_set = {element1, element2, element3}\n",
    "```"
   ]
  },
  {
   "cell_type": "markdown",
   "id": "ca4cb7fe-fed8-48fd-9cf6-831b87b37003",
   "metadata": {},
   "source": [
    "Sets can be created from lists using the `set()` function like so (here's my HEB shopping list):"
   ]
  },
  {
   "cell_type": "code",
   "execution_count": 41,
   "id": "acc0e321-aa05-48c4-ad5e-1c8e7a768435",
   "metadata": {},
   "outputs": [
    {
     "name": "stdout",
     "output_type": "stream",
     "text": [
      "{'bread', 'chicken', 'eggs', 'apples', 'yogurt'}\n"
     ]
    }
   ],
   "source": [
    "my_list = [\"yogurt\", \"eggs\", \"bread\", \"chicken\", \"apples\", \"yogurt\"]\n",
    "my_set = set(my_list)\n",
    "print(my_set)"
   ]
  },
  {
   "cell_type": "markdown",
   "id": "1ff1745f-0998-41a9-928f-aa19c737648f",
   "metadata": {},
   "source": [
    "Yes, I included \"yogurt\" twice on purpose. Sets are mutable, but they are **unordered** collections, not sequences. Therefore, if you try to index or slice a set, you'll get a TypeError."
   ]
  },
  {
   "cell_type": "markdown",
   "id": "7cd87ebe-fab7-4b75-8aed-032599782352",
   "metadata": {},
   "source": [
    "```python\n",
    "my_set[0] # ❌ ERROR\n",
    "\n",
    "TypeError: 'set' object is not subscriptable\n",
    "```"
   ]
  },
  {
   "cell_type": "markdown",
   "id": "4a94b5aa-92ab-403b-bad7-5e9ac579bd2c",
   "metadata": {},
   "source": [
    "⚠️ Important: The order of the elements is arbitrary, so don't rely on it unless you sort it."
   ]
  },
  {
   "cell_type": "markdown",
   "id": "887ec0ac-8d65-491c-9db2-a1777d478f24",
   "metadata": {},
   "source": [
    "Sorting a set in Python always returns a list, not a set. "
   ]
  },
  {
   "cell_type": "code",
   "execution_count": 42,
   "id": "2976f420-58f5-4b27-b003-383f9127d18e",
   "metadata": {},
   "outputs": [
    {
     "name": "stdout",
     "output_type": "stream",
     "text": [
      "['apples', 'bread', 'chicken', 'eggs', 'yogurt']\n"
     ]
    },
    {
     "data": {
      "text/plain": [
       "list"
      ]
     },
     "execution_count": 42,
     "metadata": {},
     "output_type": "execute_result"
    }
   ],
   "source": [
    "my_set = sorted(my_set)\n",
    "print(my_set)\n",
    "type(my_set)"
   ]
  },
  {
   "cell_type": "markdown",
   "id": "100daa8a-de1a-4070-8813-c2281a153403",
   "metadata": {},
   "source": [
    "If you need a sorted, order-preserving set-like behavior, it's better to keep it as a list or tuple after sorting."
   ]
  },
  {
   "cell_type": "code",
   "execution_count": 43,
   "id": "de4b74d0-b234-4b0d-860b-7c6fec884ca4",
   "metadata": {},
   "outputs": [
    {
     "name": "stdout",
     "output_type": "stream",
     "text": [
      "{'bread', 'chicken', 'eggs', 'apples', 'yogurt'}\n"
     ]
    }
   ],
   "source": [
    "my_set = set(my_set)\n",
    "print(my_set)"
   ]
  },
  {
   "cell_type": "markdown",
   "id": "f648001c-7daf-42dc-b1be-2aafa94c881a",
   "metadata": {},
   "source": [
    "### Adding and Removing Elements\n",
    "\n",
    "Again, indexing does not work with Python sets. To add or remove elements, we will need to use the methods:"
   ]
  },
  {
   "cell_type": "markdown",
   "id": "e1dc27ab-1182-480a-abfc-b0d7f03163a2",
   "metadata": {},
   "source": [
    "| Method         | What it Does                                    | Example                             |\n",
    "| -------------- | ----------------------------------------------- | ----------------------------------- |\n",
    "| **`add()`**    | Adds **one single element**                     | `myset.add(\"apple\")`                |\n",
    "| **`update()`** | Adds **multiple elements** from an **iterable** | `myset.update([\"apple\", \"banana\"])` |\n",
    "| **`remove()`** | Removes **one single element** (raises an error if missing) | `myset.remove(\"apple\")`             |\n",
    "| **`discard()`** | Removes **one single element** (no error if element is missing) | `myset.discard(\"apple\")`             |"
   ]
  },
  {
   "cell_type": "code",
   "execution_count": 44,
   "id": "69566cba-4f4d-4da4-b368-eea633ad5616",
   "metadata": {},
   "outputs": [
    {
     "data": {
      "text/plain": [
       "{'apples', 'bread', 'chicken', 'eggs', 'olive oil', 'yogurt'}"
      ]
     },
     "execution_count": 44,
     "metadata": {},
     "output_type": "execute_result"
    }
   ],
   "source": [
    "my_set.add(\"olive oil\")\n",
    "my_set"
   ]
  },
  {
   "cell_type": "markdown",
   "id": "c937b5c1-ea07-48c3-9b59-5ed6fc4a29b3",
   "metadata": {},
   "source": [
    "```python\n",
    "my_set.remove(\"coffee\")\n",
    "```\n",
    "\n",
    "❌ This raises an error because \"coffee\" is not in `my_set`."
   ]
  },
  {
   "cell_type": "code",
   "execution_count": 39,
   "id": "0a0911e9-d3f9-4fda-ab17-8ff4925209e4",
   "metadata": {},
   "outputs": [
    {
     "data": {
      "text/plain": [
       "{'apples', 'bread', 'chicken', 'eggs', 'olive oil', 'yogurt'}"
      ]
     },
     "execution_count": 39,
     "metadata": {},
     "output_type": "execute_result"
    }
   ],
   "source": [
    "my_set.discard(\"coffee\") # does not complain\n",
    "my_set"
   ]
  },
  {
   "cell_type": "markdown",
   "id": "3b00c127-753c-4387-a75c-16ffcf69038f",
   "metadata": {},
   "source": [
    "We can add multiple elements at once like this:"
   ]
  },
  {
   "cell_type": "code",
   "execution_count": 46,
   "id": "d84e198e-3261-4c0f-9929-4fa79c6ff6d7",
   "metadata": {},
   "outputs": [
    {
     "data": {
      "text/plain": [
       "{'apples',\n",
       " 'bread',\n",
       " 'carrots',\n",
       " 'chicken',\n",
       " 'eggs',\n",
       " 'mini peppers',\n",
       " 'olive oil',\n",
       " 'yogurt'}"
      ]
     },
     "execution_count": 46,
     "metadata": {},
     "output_type": "execute_result"
    }
   ],
   "source": [
    "my_set.update([\"mini peppers\", \"carrots\"])\n",
    "my_set"
   ]
  },
  {
   "cell_type": "markdown",
   "id": "8b147f6b-6e39-4966-912d-8bcff843fca2",
   "metadata": {},
   "source": [
    "### Set Operations"
   ]
  },
  {
   "cell_type": "markdown",
   "id": "56c42622-63bf-4010-91c1-8d6b7932da8b",
   "metadata": {},
   "source": [
    "![Set Operation](../figures/set_operation.png)"
   ]
  },
  {
   "cell_type": "markdown",
   "id": "31fc784b-2b3d-4040-85b6-34ee30c6dce9",
   "metadata": {},
   "source": [
    "Sets in Python are mathematical sets. As such, set operations, union, intersection, and difference, work as usual."
   ]
  },
  {
   "cell_type": "markdown",
   "id": "a39d476c-c663-49f4-bf1b-17edb2c78a47",
   "metadata": {},
   "source": [
    "| **Operation**                        | **Mathematical Symbol** | **Python Operator** | **Python Method**           | **Description**                                  |\n",
    "| ------------------------------------ | ----------------------- | ------------------- | --------------------------- | ------------------------------------------------ |\n",
    "| **Union**                            | $A \\cup B$              | `A \\| B`            | `A.union(B)`                | Combines **all unique elements** from both sets. |\n",
    "| **Intersection**                     | $A \\cap B$              | `A & B`             | `A.intersection(B)`         | Keeps only **elements common** to both sets.     |\n",
    "| **Difference** (Relative Complement) | $A - B$                 | `A - B`             | `A.difference(B)`           | Elements in **A but not in B**.                  |\n",
    "| **Symmetric Difference**             | $A \\triangle B$         | `A ^ B`             | `A.symmetric_difference(B)` | Elements **in either A or B, but not both**.     |\n"
   ]
  },
  {
   "cell_type": "markdown",
   "id": "d896f8de-748f-478a-bf46-c819bae472d7",
   "metadata": {},
   "source": [
    "#### Examples\n",
    "\n",
    "Let's demonstrate each operation with two sample sets:"
   ]
  },
  {
   "cell_type": "code",
   "execution_count": 70,
   "id": "932023d1-92f3-4c34-8d18-54dfd7b01d12",
   "metadata": {},
   "outputs": [
    {
     "name": "stdout",
     "output_type": "stream",
     "text": [
      "{1, 2, 3, 4, 5, 6}\n",
      "{3, 4}\n",
      "{1, 2}\n",
      "{1, 2, 5, 6}\n"
     ]
    }
   ],
   "source": [
    "A = {1, 2, 3, 4}\n",
    "B = {3, 4, 5, 6}\n",
    "\n",
    "print(A | B)  # Union -> {1, 2, 3, 4, 5, 6}\n",
    "print(A & B)  # Intersection -> {3, 4}\n",
    "print(A - B)  # Difference -> {1, 2}\n",
    "print(A ^ B)  # Symmetric Difference -> {1, 2, 5, 6}"
   ]
  },
  {
   "cell_type": "markdown",
   "id": "0f27c893-7bfd-4bcd-a12d-ffaa167dfe98",
   "metadata": {},
   "source": [
    "### Practical Example: Removing Stopwords\n",
    "\n",
    "Suppose you're processing text and want to remove *stopwords* from a set of words. Stop words are common, high-frequency words (like \"the,\" \"and,\" \"is\") that are often removed from text in Natural Language Processing (NLP).\n",
    "\n",
    "Here's a (partial) list of English stopwords:"
   ]
  },
  {
   "cell_type": "code",
   "execution_count": 60,
   "id": "b2b89016-46e2-4f46-92b8-ccddbe29e642",
   "metadata": {},
   "outputs": [
    {
     "name": "stdout",
     "output_type": "stream",
     "text": [
      "['i', 'me', 'my', 'myself', 'we', 'our', 'ours', 'ourselves', 'you', 'your', 'yours', 'yourself', 'yourselves', 'he', 'him', 'his', 'himself', 'she', 'her', 'hers', 'herself', 'it', 'its', 'itself', 'they', 'them', 'their', 'theirs', 'themselves', 'what', 'which', 'who', 'whom', 'this', 'that', 'these', 'those', 'am', 'is', 'are', 'was', 'were', 'be', 'been', 'being', 'have', 'has', 'had', 'having', 'do', 'does', 'did', 'doing', 'a', 'an', 'the', 'and', 'but', 'if', 'or', 'because', 'as', 'until', 'while', 'of', 'at', 'by', 'for', 'with', 'about', 'against', 'between', 'into', 'through', 'during', 'before', 'after', 'above', 'below', 'to', 'from', 'up', 'down', 'in', 'out', 'on', 'off', 'over', 'under', 'again', 'further', 'then', 'once', 'here', 'there', 'when', 'where', 'why', 'how', 'all', 'any', 'both', 'each', 'few', 'more', 'most', 'other', 'some', 'such', 'no', 'nor', 'not', 'only', 'own', 'same', 'so', 'than', 'too', 'very', 's', 't', 'can', 'will', 'just', 'don', 'should', 'now']\n"
     ]
    }
   ],
   "source": [
    "stopwords = [\"i\", \"me\", \"my\", \"myself\", \"we\", \"our\", \"ours\", \"ourselves\", \"you\", \"your\", \"yours\", \"yourself\", \"yourselves\", \"he\", \"him\", \"his\", \"himself\", \"she\", \"her\", \"hers\", \"herself\", \"it\", \"its\", \"itself\", \"they\", \"them\", \"their\", \"theirs\", \"themselves\", \"what\", \"which\", \"who\", \"whom\", \"this\", \"that\", \"these\", \"those\", \"am\", \"is\", \"are\", \"was\", \"were\", \"be\", \"been\", \"being\", \"have\", \"has\", \"had\", \"having\", \"do\", \"does\", \"did\", \"doing\", \"a\", \"an\", \"the\", \"and\", \"but\", \"if\", \"or\", \"because\", \"as\", \"until\", \"while\", \"of\", \"at\", \"by\", \"for\", \"with\", \"about\", \"against\", \"between\", \"into\", \"through\", \"during\", \"before\", \"after\", \"above\", \"below\", \"to\", \"from\", \"up\", \"down\", \"in\", \"out\", \"on\", \"off\", \"over\", \"under\", \"again\", \"further\", \"then\", \"once\", \"here\", \"there\", \"when\", \"where\", \"why\", \"how\", \"all\", \"any\", \"both\", \"each\", \"few\", \"more\", \"most\", \"other\", \"some\", \"such\", \"no\", \"nor\", \"not\", \"only\", \"own\", \"same\", \"so\", \"than\", \"too\", \"very\", \"s\", \"t\", \"can\", \"will\", \"just\", \"don\", \"should\", \"now\"]\n",
    "print(stopwords)"
   ]
  },
  {
   "cell_type": "markdown",
   "id": "7804b773-99ae-4ae7-98bd-e24519ab0f1c",
   "metadata": {},
   "source": [
    "Let's recall the `words` list we created earlier from *The Eyes of Texas*. Here's the list:"
   ]
  },
  {
   "cell_type": "code",
   "execution_count": 61,
   "id": "8f38524a-d49e-43f2-84e0-32d534c988ad",
   "metadata": {},
   "outputs": [
    {
     "name": "stdout",
     "output_type": "stream",
     "text": [
      "['The', 'Eyes', 'of', 'Texas', 'are', 'upon', 'you', 'All', 'the', 'livelong', 'day', 'The', 'Eyes', 'of', 'Texas', 'are', 'upon', 'you', 'You', 'cannot', 'get', 'away', 'Do', 'not', 'think', 'you', 'can', 'escape', 'them', 'At', 'night', 'or', 'early', 'in', 'the', 'morn', 'The', 'Eyes', 'of', 'Texas', 'are', 'upon', 'you', 'Til', 'Gabriel', 'blows', 'his', 'horn']\n"
     ]
    }
   ],
   "source": [
    "print(words)"
   ]
  },
  {
   "cell_type": "markdown",
   "id": "1feab8ab-73be-4af5-bce8-b01009adefa2",
   "metadata": {},
   "source": [
    "#### Pre-Processing\n",
    "\n",
    "Use a list comprehension to convert all uppercase letters in the list to lowercase, then save the result as `words_lower`."
   ]
  },
  {
   "cell_type": "code",
   "execution_count": 125,
   "id": "80d4cbc3-9f98-41ee-a9dc-aaa494f913d4",
   "metadata": {},
   "outputs": [
    {
     "name": "stdout",
     "output_type": "stream",
     "text": [
      "['the', 'eyes', 'of', 'texas', 'are', 'upon', 'you', 'all', 'the', 'livelong', 'day', 'the', 'eyes', 'of', 'texas', 'are', 'upon', 'you', 'you', 'cannot', 'get', 'away', 'do', 'not', 'think', 'you', 'can', 'escape', 'them', 'at', 'night', 'or', 'early', 'in', 'the', 'morn', 'the', 'eyes', 'of', 'texas', 'are', 'upon', 'you', 'til', 'gabriel', 'blows', 'his', 'horn']\n"
     ]
    }
   ],
   "source": [
    "words_lower = [word.lower() for word in words]\n",
    "print(words_lower)"
   ]
  },
  {
   "cell_type": "markdown",
   "id": "6ebe3001-b77b-4468-9416-82b9c875b2b5",
   "metadata": {},
   "source": [
    "### Practice Exercise 7\n",
    "\n",
    "Using a list comprehension... \n",
    "- Remove any `stopwords` from `words_lower`;\n",
    "- Hint: `if ___ not in ___`\n",
    "- Save the result as a set, `words_lower_cleaned`;\n",
    "- Print `words_lower_cleaned`\n",
    "- The expected result is as follows:"
   ]
  },
  {
   "cell_type": "markdown",
   "id": "fac7174d-3544-4ce8-8d29-8166f9df6f1f",
   "metadata": {},
   "source": [
    "```python\n",
    "{'horn', 'upon', 'get', 'think', 'livelong', 'eyes', 'escape', 'early', 'day', 'til', 'gabriel', 'cannot', 'blows', 'away', 'texas', 'morn', 'night'}\n",
    "```"
   ]
  },
  {
   "cell_type": "code",
   "execution_count": 64,
   "id": "036bb23d-61c6-475e-99dc-18443b7b5598",
   "metadata": {},
   "outputs": [
    {
     "name": "stdout",
     "output_type": "stream",
     "text": [
      "{'horn', 'upon', 'get', 'think', 'livelong', 'eyes', 'escape', 'early', 'day', 'til', 'gabriel', 'cannot', 'blows', 'away', 'texas', 'morn', 'night'}\n"
     ]
    }
   ],
   "source": [
    "# YOUR CODE HERE\n"
   ]
  },
  {
   "cell_type": "markdown",
   "id": "a26f0964-2f0c-41ff-b661-29736e329b0d",
   "metadata": {
    "tags": []
   },
   "source": [
    "## Dictionary\n",
    "\n",
    "Here, we will formally introduce dictionaries. Dictionaries are commonly used in Python programming and represent a collection of key-value pairs. Recall the earlier illustration where survey responses were recoded using list comprehension."
   ]
  },
  {
   "cell_type": "markdown",
   "id": "eb7074b8-7d3f-473d-9282-e9e8f542fd0a",
   "metadata": {},
   "source": [
    "Arguably, the dictionary or dict in Python may be the most important built-in Python data structure. A dictionary stores a collection of key-value pairs.\n",
    "\n",
    "- Each **key** is unique and maps to a **value**.\n",
    "- Dictionaries are unordered.\n",
    "- Keys must be immutable types (strings, numbers, tuples).\n",
    "- Values can be any type (numbers, strings, lists, even other dictionaries).\n",
    "\n",
    "### Syntax"
   ]
  },
  {
   "cell_type": "markdown",
   "id": "407b66e2-7c2e-4430-b458-26dad1720e35",
   "metadata": {},
   "source": [
    "```python\n",
    "my_dict = {\n",
    "    \"key1\": \"value1\",\n",
    "    \"key2\": \"value2\",\n",
    "    \"key3\": \"value3\"\n",
    "}\n",
    "```"
   ]
  },
  {
   "cell_type": "markdown",
   "id": "e3aa5ca6-807d-46af-8184-39f8246f9d38",
   "metadata": {},
   "source": [
    "Here's a simple dict containing some information on a student."
   ]
  },
  {
   "cell_type": "code",
   "execution_count": 156,
   "id": "2070252c-95c2-492e-9ff8-84bb06c33a44",
   "metadata": {},
   "outputs": [
    {
     "name": "stdout",
     "output_type": "stream",
     "text": [
      "{'name': 'Alice', 'major': 'EDP', 'age': 30, 'grades': ['A', 'B', 'A']}\n"
     ]
    }
   ],
   "source": [
    "student = {\n",
    "    \"name\": \"Alice\",\n",
    "    \"major\": \"EDP\",\n",
    "    \"age\": 30,\n",
    "    \"grades\": [\"A\", \"B\", \"A\"]\n",
    "}\n",
    "\n",
    "print(student)"
   ]
  },
  {
   "cell_type": "markdown",
   "id": "4b68ddd3-cb66-435f-952f-710e5eccb27d",
   "metadata": {},
   "source": [
    "You can access, insert, delete, or set elements using the same syntax as for a list."
   ]
  },
  {
   "cell_type": "code",
   "execution_count": 118,
   "id": "29e73f79-4104-4cc5-b20b-bf829c791720",
   "metadata": {},
   "outputs": [
    {
     "data": {
      "text/plain": [
       "True"
      ]
     },
     "execution_count": 118,
     "metadata": {},
     "output_type": "execute_result"
    }
   ],
   "source": [
    "\"name\" in student"
   ]
  },
  {
   "cell_type": "code",
   "execution_count": 119,
   "id": "150d7695-4150-44fe-9460-e1c9f40317c2",
   "metadata": {},
   "outputs": [
    {
     "data": {
      "text/plain": [
       "'Alice'"
      ]
     },
     "execution_count": 119,
     "metadata": {},
     "output_type": "execute_result"
    }
   ],
   "source": [
    "student[\"name\"]"
   ]
  },
  {
   "cell_type": "code",
   "execution_count": 120,
   "id": "17248bee-371b-4597-a081-d30530bd3f1e",
   "metadata": {},
   "outputs": [
    {
     "data": {
      "text/plain": [
       "{'name': 'Bob', 'major': 'EDP', 'age': 30, 'grade': ['A', 'B', 'A']}"
      ]
     },
     "execution_count": 120,
     "metadata": {},
     "output_type": "execute_result"
    }
   ],
   "source": [
    "student[\"name\"] = \"Bob\"\n",
    "\n",
    "student"
   ]
  },
  {
   "cell_type": "code",
   "execution_count": 158,
   "id": "6cd68925-8646-45b5-b830-c8041f729972",
   "metadata": {},
   "outputs": [
    {
     "data": {
      "text/plain": [
       "'A'"
      ]
     },
     "execution_count": 158,
     "metadata": {},
     "output_type": "execute_result"
    }
   ],
   "source": [
    "student[\"grades\"][2]"
   ]
  },
  {
   "cell_type": "code",
   "execution_count": 159,
   "id": "cb2d0ec5-af2b-4812-aba7-a1592021a2ff",
   "metadata": {},
   "outputs": [
    {
     "data": {
      "text/plain": [
       "{'name': 'Alice',\n",
       " 'major': 'EDP',\n",
       " 'age': 30,\n",
       " 'grades': ['A', 'B', 'A'],\n",
       " 'final_grade': 'A'}"
      ]
     },
     "execution_count": 159,
     "metadata": {},
     "output_type": "execute_result"
    }
   ],
   "source": [
    "student[\"final_grade\"] = \"A\"\n",
    "\n",
    "student"
   ]
  },
  {
   "cell_type": "code",
   "execution_count": 160,
   "id": "dba8fda9-26b7-4a8b-8171-35143d1d6df8",
   "metadata": {},
   "outputs": [
    {
     "data": {
      "text/plain": [
       "{'name': 'Alice',\n",
       " 'major': 'EDP',\n",
       " 'grades': ['A', 'B', 'A'],\n",
       " 'final_grade': 'A'}"
      ]
     },
     "execution_count": 160,
     "metadata": {},
     "output_type": "execute_result"
    }
   ],
   "source": [
    "del student[\"age\"]\n",
    "\n",
    "student"
   ]
  },
  {
   "cell_type": "code",
   "execution_count": 126,
   "id": "e197ff65-82c2-4679-b9ed-e6bf7bfcc29a",
   "metadata": {},
   "outputs": [
    {
     "data": {
      "text/plain": [
       "False"
      ]
     },
     "execution_count": 126,
     "metadata": {},
     "output_type": "execute_result"
    }
   ],
   "source": [
    "\"age\" in student"
   ]
  },
  {
   "cell_type": "code",
   "execution_count": 161,
   "id": "ee36d802-b235-4ee0-9a1e-80015661c1fe",
   "metadata": {},
   "outputs": [
    {
     "data": {
      "text/plain": [
       "['name', 'major', 'grades', 'final_grade']"
      ]
     },
     "execution_count": 161,
     "metadata": {},
     "output_type": "execute_result"
    }
   ],
   "source": [
    "list(student.keys())"
   ]
  },
  {
   "cell_type": "code",
   "execution_count": 162,
   "id": "b9044d81-72ef-44fd-9a47-4b50c9cbedee",
   "metadata": {},
   "outputs": [
    {
     "data": {
      "text/plain": [
       "['Alice', 'EDP', ['A', 'B', 'A'], 'A']"
      ]
     },
     "execution_count": 162,
     "metadata": {},
     "output_type": "execute_result"
    }
   ],
   "source": [
    "list(student.values())"
   ]
  },
  {
   "cell_type": "code",
   "execution_count": 163,
   "id": "7c1e9fac-1aa1-407a-a8da-dd4c013d2c42",
   "metadata": {},
   "outputs": [
    {
     "name": "stdout",
     "output_type": "stream",
     "text": [
      "dict_items([('name', 'Alice'), ('major', 'EDP'), ('grades', ['A', 'B', 'A']), ('final_grade', 'A')])\n"
     ]
    }
   ],
   "source": [
    "print(student.items())"
   ]
  },
  {
   "cell_type": "markdown",
   "id": "1a5079fd-3b79-47d0-9422-0dcc2b58c28c",
   "metadata": {},
   "source": [
    "Notice that each item is a tuple of ('key', 'value') pairs."
   ]
  },
  {
   "cell_type": "markdown",
   "id": "708ef74d-89b0-44bb-aa78-7e8f4e3a90ba",
   "metadata": {},
   "source": [
    "### Example: Survey Data Recoding - Redux\n",
    "\n",
    "The list comprehension example we used previously for recoding survey responses was not bad, but there is a more effective and cleaner way to accomplish this. We will demonstrate that dictionaries make such operations more straightforward."
   ]
  },
  {
   "cell_type": "code",
   "execution_count": 164,
   "id": "1204bf10-b7b1-4d35-bad2-d87498fc5897",
   "metadata": {},
   "outputs": [
    {
     "data": {
      "text/plain": [
       "{0: 'Never',\n",
       " 1: 'Rarely',\n",
       " 2: 'Sometimes',\n",
       " 3: 'Often',\n",
       " 4: 'Always',\n",
       " None: 'Unanswered'}"
      ]
     },
     "execution_count": 164,
     "metadata": {},
     "output_type": "execute_result"
    }
   ],
   "source": [
    "# Create a dictionary to map scores to categories\n",
    "mapping = {\n",
    "    0: \"Never\",\n",
    "    1: \"Rarely\",\n",
    "    2: \"Sometimes\",\n",
    "    3: \"Often\",\n",
    "    4: \"Always\",\n",
    "    None: \"Unanswered\"\n",
    "}\n",
    "\n",
    "mapping"
   ]
  },
  {
   "cell_type": "markdown",
   "id": "14f2c6d5-c40b-41cd-92d4-b1dd4a1eb4c3",
   "metadata": {},
   "source": [
    "Now that we have a dictionary. We can use it in a list comprehension as follows:"
   ]
  },
  {
   "cell_type": "code",
   "execution_count": 108,
   "id": "740dc318-b013-4f74-93fe-fe532aac81bf",
   "metadata": {},
   "outputs": [
    {
     "name": "stdout",
     "output_type": "stream",
     "text": [
      "['Never', 'Unanswered', 'Often', 'Sometimes', 'Rarely', 'Sometimes', 'Always', 'Often', 'Always', 'Rarely', 'Never']\n"
     ]
    }
   ],
   "source": [
    "# Your list of numeric responses\n",
    "responses = [0, None, 3, 2, 1, 2, 4, 3, 4, 1, 0]\n",
    "\n",
    "# Use list comprehension with dictionary lookup\n",
    "categories = [mapping[x] for x in responses]\n",
    "\n",
    "print(categories)"
   ]
  },
  {
   "cell_type": "markdown",
   "id": "321a649d-895d-49f5-9cb4-0a440cf4842d",
   "metadata": {
    "tags": []
   },
   "source": [
    "#### Common Dictionary Methods\n",
    "\n",
    "This table shows some common methods associated with dictionaries."
   ]
  },
  {
   "cell_type": "markdown",
   "id": "3a27a577-98dc-4c7d-bdec-65dad0a7f77a",
   "metadata": {},
   "source": [
    "| Method                    | Description                      |\n",
    "| ------------------------- | -------------------------------- |\n",
    "| `dict.keys()`             | Returns all keys                 |\n",
    "| `dict.values()`           | Returns all values               |\n",
    "| `dict.items()`            | Returns key-value pairs          |\n",
    "| `dict.get(key, default)`  | Safely get a value, with default |\n",
    "| `dict.pop(key)`           | Remove key and return value      |\n",
    "| `dict.popitem()`          | Remove last inserted key-value   |\n",
    "| `dict.clear()`            | Remove all items                 |\n",
    "| `dict.update(other_dict)` | Merge another dictionary         |\n"
   ]
  },
  {
   "cell_type": "markdown",
   "id": "c2c99cef-6526-4164-b85f-5d7bbb4874ae",
   "metadata": {},
   "source": [
    "The fourth method `dict.get(key, default)` can be useful to map an unexpected value to a default value:"
   ]
  },
  {
   "cell_type": "code",
   "execution_count": 169,
   "id": "3fd562bf-3111-476e-86da-96e9190db6d2",
   "metadata": {},
   "outputs": [
    {
     "data": {
      "text/plain": [
       "'Rarely'"
      ]
     },
     "execution_count": 169,
     "metadata": {},
     "output_type": "execute_result"
    }
   ],
   "source": [
    "mapping.get(1, \"Unanswered\")"
   ]
  },
  {
   "cell_type": "code",
   "execution_count": 170,
   "id": "143abeba-ba79-4763-8ae3-aa5fca2ed213",
   "metadata": {},
   "outputs": [
    {
     "data": {
      "text/plain": [
       "'Unanswered'"
      ]
     },
     "execution_count": 170,
     "metadata": {},
     "output_type": "execute_result"
    }
   ],
   "source": [
    "mapping.get(99, \"Unanswered\")"
   ]
  },
  {
   "cell_type": "markdown",
   "id": "0a0813d9-c159-4513-9a00-42c3f09dbb4f",
   "metadata": {
    "tags": []
   },
   "source": [
    "#### Creating a Dictionary from Sequences"
   ]
  },
  {
   "cell_type": "markdown",
   "id": "40b2c7ae-2a92-4767-99cd-362cc018ea6c",
   "metadata": {},
   "source": [
    "We can create a dictionary from two lists (more generally, sequences) that can be paired up element-wise. "
   ]
  },
  {
   "cell_type": "markdown",
   "id": "a28071bb-0fd1-47e1-806b-472552ce7e2c",
   "metadata": {},
   "source": [
    "As a first shot, you may think something like this:"
   ]
  },
  {
   "cell_type": "markdown",
   "id": "628bed70-0815-4d2a-82ac-6660e917015f",
   "metadata": {},
   "source": [
    "```python\n",
    "mappings = {}\n",
    "mappings.keys = [0, 1, 2, 3, 4]\n",
    "mappings.values = [\"Never\", \"Rarely\", \"Sometimes\", \"Often\", \"Always\"]\n",
    "mappings\n",
    "```"
   ]
  },
  {
   "cell_type": "markdown",
   "id": "9438f9bf-2c4a-4bb4-92fa-e6707223b7e5",
   "metadata": {},
   "source": [
    "❌ Unfortunately, that throws an error because `keys` and `values` are read-only *methods* of a dictionary, not *attributes* you can assign to."
   ]
  },
  {
   "cell_type": "markdown",
   "id": "54ef6b37-7456-4335-a46e-c3e626afe989",
   "metadata": {},
   "source": [
    "We can achieve this using the `dict()` function and the `zip()`function as follows:"
   ]
  },
  {
   "cell_type": "code",
   "execution_count": 177,
   "id": "3f4ff9f8-5ec7-4c25-a783-4deed8b5cd6f",
   "metadata": {},
   "outputs": [
    {
     "name": "stdout",
     "output_type": "stream",
     "text": [
      "{0: 'Never', 1: 'Rarely', 2: 'Sometimes', 3: 'Often', 4: 'Always'}\n"
     ]
    }
   ],
   "source": [
    "keys = [0, 1, 2, 3, 4]\n",
    "values = [\"Never\", \"Rarely\", \"Sometimes\", \"Often\", \"Always\"]\n",
    "\n",
    "mappings = dict(zip(keys, values))\n",
    "print(mappings)"
   ]
  },
  {
   "cell_type": "markdown",
   "id": "fadb22e3-d83b-4dce-b148-0e100c916a95",
   "metadata": {},
   "source": [
    "`zip(keys, values)` pairs each `key` with its corresponding `value`:\n",
    "(0, \"Never\"), (1, \"Rarely\"), ...\n",
    "\n",
    "`dict(...)` converts those pairs into a dictionary."
   ]
  },
  {
   "cell_type": "markdown",
   "id": "0efb128f-3744-4b0e-8677-824201400bfa",
   "metadata": {},
   "source": [
    "You can't directly display what `zip(keys, values)` contains."
   ]
  },
  {
   "cell_type": "code",
   "execution_count": 182,
   "id": "987291bb-e926-41f1-9242-60d0d4c263ff",
   "metadata": {},
   "outputs": [
    {
     "data": {
      "text/plain": [
       "<zip at 0x7fe388decd80>"
      ]
     },
     "execution_count": 182,
     "metadata": {},
     "output_type": "execute_result"
    }
   ],
   "source": [
    "zip(keys, values)"
   ]
  },
  {
   "cell_type": "markdown",
   "id": "20553711-1fad-4178-9e89-1ca030af1e34",
   "metadata": {},
   "source": [
    "`zip()` does not directly store all pairs in memory.\n",
    "- It creates an **iterator** that generates pairs on the fly.\n",
    "- Converting to `list()` or `tuple()` materializes the result for display or reuse."
   ]
  },
  {
   "cell_type": "code",
   "execution_count": 184,
   "id": "76834b33-2ea3-4876-80b2-8d502d54f3ed",
   "metadata": {},
   "outputs": [
    {
     "data": {
      "text/plain": [
       "[(0, 'Never'), (1, 'Rarely'), (2, 'Sometimes'), (3, 'Often'), (4, 'Always')]"
      ]
     },
     "execution_count": 184,
     "metadata": {},
     "output_type": "execute_result"
    }
   ],
   "source": [
    "list(zip(keys, values))"
   ]
  },
  {
   "cell_type": "code",
   "execution_count": 185,
   "id": "e09dc9b2-cb22-4e21-9d11-66c516b2adf0",
   "metadata": {},
   "outputs": [
    {
     "data": {
      "text/plain": [
       "((0, 'Never'), (1, 'Rarely'), (2, 'Sometimes'), (3, 'Often'), (4, 'Always'))"
      ]
     },
     "execution_count": 185,
     "metadata": {},
     "output_type": "execute_result"
    }
   ],
   "source": [
    "tuple(zip(keys, values))"
   ]
  },
  {
   "cell_type": "markdown",
   "id": "e3494176-c4b2-4a46-89f5-908adf2a549c",
   "metadata": {},
   "source": [
    "#### Creating a Dictionary using Comprehension\n",
    "\n",
    "We can also use a **dictionary comprehension** to create a dictionary as follows:"
   ]
  },
  {
   "cell_type": "code",
   "execution_count": 181,
   "id": "8747dda6-bde4-47d9-8c48-7490cd51557c",
   "metadata": {},
   "outputs": [
    {
     "name": "stdout",
     "output_type": "stream",
     "text": [
      "{0: 'Never', 1: 'Rarely', 2: 'Sometimes', 3: 'Often', 4: 'Always'}\n"
     ]
    }
   ],
   "source": [
    "mappings = {k: v for k, v in zip(keys, values)}\n",
    "print(mappings)"
   ]
  },
  {
   "cell_type": "markdown",
   "id": "a4d93ef0-45f6-437f-be8b-e34cd6348410",
   "metadata": {},
   "source": [
    "For dictionaries, we can use a for-loop along with **f-strings** to display the key-value pairs:"
   ]
  },
  {
   "cell_type": "code",
   "execution_count": 187,
   "id": "ad608711-9cb8-42c0-9132-7524aeb025c1",
   "metadata": {},
   "outputs": [
    {
     "name": "stdout",
     "output_type": "stream",
     "text": [
      "0: Never\n",
      "1: Rarely\n",
      "2: Sometimes\n",
      "3: Often\n",
      "4: Always\n"
     ]
    }
   ],
   "source": [
    "for key, value in mappings.items():\n",
    "    print(f\"{key}: {value}\")"
   ]
  },
  {
   "cell_type": "markdown",
   "id": "3fd308f0-96f0-4aa6-bad2-1229bc6e2f40",
   "metadata": {},
   "source": [
    "In Python, **f-strings** (formatted string literals) provide a concise and powerful way to embed expressions inside strings.\n",
    "- An **f-string** is simply a string prefixed with the letter f or F.\n",
    "- Inside the string, you can embed Python expressions using curly braces {}"
   ]
  },
  {
   "cell_type": "code",
   "execution_count": 232,
   "id": "384b58bb-1da7-4017-a2bb-09764efaeb66",
   "metadata": {},
   "outputs": [
    {
     "name": "stdout",
     "output_type": "stream",
     "text": [
      "My name is Alice, and I live in the Wonderland\n"
     ]
    }
   ],
   "source": [
    "name = \"Alice\"\n",
    "where = \"the Wonderland\"\n",
    "\n",
    "message = f\"My name is {name}, and I live in {where}\"\n",
    "print(message)"
   ]
  },
  {
   "cell_type": "markdown",
   "id": "d00c6e96-7622-4893-93f8-cc1d5a6c721d",
   "metadata": {},
   "source": [
    "More examples with numbers..."
   ]
  },
  {
   "cell_type": "code",
   "execution_count": 192,
   "id": "b1df1262-7896-42c3-981c-5b4e678ce02e",
   "metadata": {},
   "outputs": [
    {
     "data": {
      "text/plain": [
       "'My favorite numbers are 3.14159 and 2.71828.'"
      ]
     },
     "execution_count": 192,
     "metadata": {},
     "output_type": "execute_result"
    }
   ],
   "source": [
    "pi = 3.14159\n",
    "euler = 2.71828\n",
    "\n",
    "f\"My favorite numbers are {pi} and {euler}.\""
   ]
  },
  {
   "cell_type": "code",
   "execution_count": 234,
   "id": "d6a6f454-b2d1-4663-9f85-557189beac74",
   "metadata": {},
   "outputs": [
    {
     "data": {
      "text/plain": [
       "'My favorite numbers are 3.142 and 2.718.'"
      ]
     },
     "execution_count": 234,
     "metadata": {},
     "output_type": "execute_result"
    }
   ],
   "source": [
    "f\"My favorite numbers are {pi:.3f} and {euler:.3f}.\""
   ]
  },
  {
   "cell_type": "code",
   "execution_count": 233,
   "id": "04c2bb12-5567-4cfc-acb6-8dcde643ce70",
   "metadata": {},
   "outputs": [
    {
     "data": {
      "text/plain": [
       "'pi + euler is 5.86.'"
      ]
     },
     "execution_count": 233,
     "metadata": {},
     "output_type": "execute_result"
    }
   ],
   "source": [
    "f\"pi + euler is {pi + euler:.2f}.\""
   ]
  },
  {
   "cell_type": "markdown",
   "id": "9943a87e-f260-477a-9040-06d6a355eb3c",
   "metadata": {},
   "source": [
    "### In-Depth Study: Dictionary Comprehension\n",
    "\n",
    "Let's recall the `words` list we created earlier from *The Eyes of Texas*. We will build a dictionary of the **unique** words in `words` and count how many times each unique word appears, ignoring capitalization. This means, for example, that \"The\" and \"the\" are considered the same word.\n",
    "\n",
    "We will first create this dictionary, `by_word`, using a for-loop, and then demonstrate how to do the same with a dictionary comprehension.\n",
    "\n",
    "For reference, the `words` list contains the following words."
   ]
  },
  {
   "cell_type": "code",
   "execution_count": 204,
   "id": "5e848a55-5170-4863-9623-b844524049a7",
   "metadata": {},
   "outputs": [
    {
     "name": "stdout",
     "output_type": "stream",
     "text": [
      "['The', 'Eyes', 'of', 'Texas', 'are', 'upon', 'you', 'All', 'the', 'livelong', 'day', 'The', 'Eyes', 'of', 'Texas', 'are', 'upon', 'you', 'You', 'cannot', 'get', 'away', 'Do', 'not', 'think', 'you', 'can', 'escape', 'them', 'At', 'night', 'or', 'early', 'in', 'the', 'morn', 'The', 'Eyes', 'of', 'Texas', 'are', 'upon', 'you', 'Til', 'Gabriel', 'blows', 'his', 'horn']\n"
     ]
    }
   ],
   "source": [
    "print(words)"
   ]
  },
  {
   "cell_type": "code",
   "execution_count": 218,
   "id": "2ae291ca-10f5-4923-968a-9796b8ca62a1",
   "metadata": {},
   "outputs": [
    {
     "name": "stdout",
     "output_type": "stream",
     "text": [
      "['All', 'At', 'Do', 'Eyes', 'Eyes', 'Eyes', 'Gabriel', 'Texas', 'Texas', 'Texas', 'The', 'The', 'The', 'Til', 'You', 'are', 'are', 'are', 'away', 'blows', 'can', 'cannot', 'day', 'early', 'escape', 'get', 'his', 'horn', 'in', 'livelong', 'morn', 'night', 'not', 'of', 'of', 'of', 'or', 'the', 'the', 'them', 'think', 'upon', 'upon', 'upon', 'you', 'you', 'you', 'you']\n"
     ]
    }
   ],
   "source": [
    "print(sorted(words))"
   ]
  },
  {
   "cell_type": "code",
   "execution_count": 220,
   "id": "af8fe13d-f059-480b-b236-295c7bb573c8",
   "metadata": {},
   "outputs": [
    {
     "data": {
      "text/plain": [
       "'There are 48 words.'"
      ]
     },
     "execution_count": 220,
     "metadata": {},
     "output_type": "execute_result"
    }
   ],
   "source": [
    "f\"There are {len(words)} words.\""
   ]
  },
  {
   "cell_type": "code",
   "execution_count": 236,
   "id": "056b0757-1d97-4230-ac4d-e1aeda321e0a",
   "metadata": {},
   "outputs": [
    {
     "data": {
      "text/plain": [
       "{'the': 5,\n",
       " 'eyes': 3,\n",
       " 'of': 3,\n",
       " 'texas': 3,\n",
       " 'are': 3,\n",
       " 'upon': 3,\n",
       " 'you': 5,\n",
       " 'all': 1,\n",
       " 'livelong': 1,\n",
       " 'day': 1,\n",
       " 'cannot': 1,\n",
       " 'get': 1,\n",
       " 'away': 1,\n",
       " 'do': 1,\n",
       " 'not': 1,\n",
       " 'think': 1,\n",
       " 'can': 1,\n",
       " 'escape': 1,\n",
       " 'them': 1,\n",
       " 'at': 1,\n",
       " 'night': 1,\n",
       " 'or': 1,\n",
       " 'early': 1,\n",
       " 'in': 1,\n",
       " 'morn': 1,\n",
       " 'til': 1,\n",
       " 'gabriel': 1,\n",
       " 'blows': 1,\n",
       " 'his': 1,\n",
       " 'horn': 1}"
      ]
     },
     "execution_count": 236,
     "metadata": {},
     "output_type": "execute_result"
    }
   ],
   "source": [
    "by_word = {}\n",
    "\n",
    "for word in words:\n",
    "    word = word.lower()\n",
    "    if word not in by_word:\n",
    "        by_word[word] = 1\n",
    "    else:\n",
    "        by_word[word] += 1\n",
    "        \n",
    "by_word"
   ]
  },
  {
   "cell_type": "markdown",
   "id": "e1840f07-8d95-45be-bb9c-7a98a8775339",
   "metadata": {},
   "source": [
    "Now, we reproduce `by_word` using a dictionary comprehension as follows:"
   ]
  },
  {
   "cell_type": "code",
   "execution_count": 230,
   "id": "f99ac7a5-189b-4b79-a87d-720290a2270a",
   "metadata": {},
   "outputs": [
    {
     "data": {
      "text/plain": [
       "{'can': 1,\n",
       " 'texas': 3,\n",
       " 'in': 1,\n",
       " 'do': 1,\n",
       " 'at': 1,\n",
       " 'the': 5,\n",
       " 'night': 1,\n",
       " 'them': 1,\n",
       " 'eyes': 3,\n",
       " 'think': 1,\n",
       " 'blows': 1,\n",
       " 'cannot': 1,\n",
       " 'horn': 1,\n",
       " 'morn': 1,\n",
       " 'his': 1,\n",
       " 'til': 1,\n",
       " 'you': 5,\n",
       " 'escape': 1,\n",
       " 'gabriel': 1,\n",
       " 'not': 1,\n",
       " 'all': 1,\n",
       " 'of': 3,\n",
       " 'livelong': 1,\n",
       " 'away': 1,\n",
       " 'early': 1,\n",
       " 'or': 1,\n",
       " 'upon': 3,\n",
       " 'get': 1,\n",
       " 'day': 1,\n",
       " 'are': 3}"
      ]
     },
     "execution_count": 230,
     "metadata": {},
     "output_type": "execute_result"
    }
   ],
   "source": [
    "words_lower = [word.lower() for word in words]\n",
    "\n",
    "{word: words_lower.count(word) for word in set(words_lower)}"
   ]
  },
  {
   "cell_type": "markdown",
   "id": "8f1bffc6-603e-47a4-8418-40afed4cc11a",
   "metadata": {},
   "source": [
    "Here, we annotate the components of the dictionary comprehension example:\n",
    "\n",
    "- `words_lower`:      ensures every element is lowercase.\n",
    "- `set(words_lower)`: provides a *set* of unique words which ensures we only count each word once.\n",
    "- `.count(word)`:     a method to count a specific word in a set.\n",
    "- `set(words)`:       creates a set of unique words."
   ]
  },
  {
   "cell_type": "markdown",
   "id": "b0b5bf9f-5f3b-4904-94c4-db7790dbdc98",
   "metadata": {},
   "source": [
    "If you think that's too much work, which I agree, you can use the `collections` package and its function `Counter` to achieve the same thing as follows:"
   ]
  },
  {
   "cell_type": "code",
   "execution_count": 5,
   "id": "b4a87458-ac14-4897-a0b6-6381176628ec",
   "metadata": {},
   "outputs": [],
   "source": [
    "from collections import Counter"
   ]
  },
  {
   "cell_type": "code",
   "execution_count": 7,
   "id": "5e88a7b4-3069-4b1b-a88c-6e278c4cfee2",
   "metadata": {},
   "outputs": [
    {
     "data": {
      "text/plain": [
       "Counter({'the': 5,\n",
       "         'eyes': 3,\n",
       "         'of': 3,\n",
       "         'texas': 3,\n",
       "         'are': 3,\n",
       "         'upon': 3,\n",
       "         'you': 5,\n",
       "         'all': 1,\n",
       "         'livelong': 1,\n",
       "         'day': 1,\n",
       "         'cannot': 1,\n",
       "         'get': 1,\n",
       "         'away': 1,\n",
       "         'do': 1,\n",
       "         'not': 1,\n",
       "         'think': 1,\n",
       "         'can': 1,\n",
       "         'escape': 1,\n",
       "         'them': 1,\n",
       "         'at': 1,\n",
       "         'night': 1,\n",
       "         'or': 1,\n",
       "         'early': 1,\n",
       "         'in': 1,\n",
       "         'morn': 1,\n",
       "         'til': 1,\n",
       "         'gabriel': 1,\n",
       "         'blows': 1,\n",
       "         'his': 1,\n",
       "         'horn': 1})"
      ]
     },
     "execution_count": 7,
     "metadata": {},
     "output_type": "execute_result"
    }
   ],
   "source": [
    "Counter(word.lower() for word in words)"
   ]
  },
  {
   "cell_type": "markdown",
   "id": "762d6981-b552-4d41-a190-cba5742434e1",
   "metadata": {},
   "source": [
    "### Wrap Up"
   ]
  },
  {
   "cell_type": "markdown",
   "id": "15440bd5-2320-4bf1-8f6d-8ef4ed3f213f",
   "metadata": {},
   "source": [
    "That's it for now. Please...\n",
    "- Finish the DC course \"Intermediate Python\" by noon 9/15."
   ]
  },
  {
   "cell_type": "markdown",
   "id": "95c2e95d-e0e0-4c30-b25f-0b9990c44122",
   "metadata": {},
   "source": [
    "BY PRINTING YOUR NAME BELOW, YOU CONFIRM THAT THE EXERCISES YOU SUBMITTED IN THIS NOTEBOOK ARE YOUR OWN AND THAT YOU DID NOT USE AI TO ASSIST WITH YOUR WORK."
   ]
  },
  {
   "cell_type": "code",
   "execution_count": null,
   "id": "c83e7ab1-263e-43ef-8c26-f132c81480de",
   "metadata": {},
   "outputs": [],
   "source": [
    "# PRINT YOUR NAME\n",
    "print(\"Enter Your Name Here\")"
   ]
  }
 ],
 "metadata": {
  "kernelspec": {
   "display_name": "Python 3 (ipykernel)",
   "language": "python",
   "name": "python3"
  },
  "language_info": {
   "codemirror_mode": {
    "name": "ipython",
    "version": 3
   },
   "file_extension": ".py",
   "mimetype": "text/x-python",
   "name": "python",
   "nbconvert_exporter": "python",
   "pygments_lexer": "ipython3",
   "version": "3.9.12"
  }
 },
 "nbformat": 4,
 "nbformat_minor": 5
}
