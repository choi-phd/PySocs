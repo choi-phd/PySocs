{
 "cells": [
  {
   "cell_type": "markdown",
   "id": "2c1d1dcf-b882-4b7d-8647-1f4861c0e58d",
   "metadata": {},
   "source": [
    "# Python for Social Science"
   ]
  },
  {
   "cell_type": "markdown",
   "id": "22c51874-2e95-44a0-b3b5-bcbe9bf7b826",
   "metadata": {},
   "source": [
    "<img src=\"../figures/PySocs_banner.png\" width=\"50%\" align=\"left\">"
   ]
  },
  {
   "cell_type": "markdown",
   "id": "07308dd3-3983-49ac-bd54-9507360dc0cb",
   "metadata": {},
   "source": [
    "# Python Data Types"
   ]
  },
  {
   "cell_type": "markdown",
   "id": "a26f0964-2f0c-41ff-b661-29736e329b0d",
   "metadata": {
    "tags": []
   },
   "source": [
    "## Dictionary\n",
    "\n",
    "Wrapping up the previous topic, we will now formally introduce dictionaries. Dictionaries are commonly used in Python programming and consist of key-value pairs. "
   ]
  },
  {
   "cell_type": "markdown",
   "id": "eb7074b8-7d3f-473d-9282-e9e8f542fd0a",
   "metadata": {
    "tags": []
   },
   "source": [
    "Arguably, the dictionary or dict in Python may be the most important built-in Python data structure. A dictionary stores a collection of key-value pairs.\n",
    "\n",
    "- Each **key** is unique and maps to a **value**.\n",
    "- Dictionaries are unordered, so the elements are accessed using unique keys rather than numeric indexes.\n",
    "- Keys must be immutable types (strings, tuples).\n",
    "- Values can be any type (numbers, strings, lists, even other dictionaries).\n",
    "\n",
    "### Syntax"
   ]
  },
  {
   "cell_type": "markdown",
   "id": "407b66e2-7c2e-4430-b458-26dad1720e35",
   "metadata": {},
   "source": [
    "```python\n",
    "my_dict = {\n",
    "    \"key1\": \"value1\",\n",
    "    \"key2\": \"value2\",\n",
    "    \"key3\": \"value3\"\n",
    "}\n",
    "```"
   ]
  },
  {
   "cell_type": "markdown",
   "id": "e3aa5ca6-807d-46af-8184-39f8246f9d38",
   "metadata": {},
   "source": [
    "Here's a simple dict containing some information on a student."
   ]
  },
  {
   "cell_type": "code",
   "execution_count": 1,
   "id": "2070252c-95c2-492e-9ff8-84bb06c33a44",
   "metadata": {},
   "outputs": [
    {
     "name": "stdout",
     "output_type": "stream",
     "text": [
      "{'name': 'Alice', 'major': 'EDP', 'age': 30, 'grades': ['A', 'B', 'A']}\n"
     ]
    }
   ],
   "source": [
    "student = {\n",
    "    \"name\": \"Alice\",\n",
    "    \"major\": \"EDP\",\n",
    "    \"age\": 30,\n",
    "    \"grades\": [\"A\", \"B\", \"A\"]\n",
    "}\n",
    "\n",
    "print(student)"
   ]
  },
  {
   "cell_type": "markdown",
   "id": "4b68ddd3-cb66-435f-952f-710e5eccb27d",
   "metadata": {},
   "source": [
    "You can access, insert, delete, or set elements using the same syntax as for a list."
   ]
  },
  {
   "cell_type": "code",
   "execution_count": 2,
   "id": "29e73f79-4104-4cc5-b20b-bf829c791720",
   "metadata": {},
   "outputs": [
    {
     "data": {
      "text/plain": [
       "True"
      ]
     },
     "execution_count": 2,
     "metadata": {},
     "output_type": "execute_result"
    }
   ],
   "source": [
    "\"name\" in student"
   ]
  },
  {
   "cell_type": "code",
   "execution_count": 3,
   "id": "150d7695-4150-44fe-9460-e1c9f40317c2",
   "metadata": {},
   "outputs": [
    {
     "data": {
      "text/plain": [
       "'Alice'"
      ]
     },
     "execution_count": 3,
     "metadata": {},
     "output_type": "execute_result"
    }
   ],
   "source": [
    "student[\"name\"]"
   ]
  },
  {
   "cell_type": "code",
   "execution_count": 4,
   "id": "17248bee-371b-4597-a081-d30530bd3f1e",
   "metadata": {},
   "outputs": [
    {
     "data": {
      "text/plain": [
       "{'name': 'Bob', 'major': 'EDP', 'age': 30, 'grades': ['A', 'B', 'A']}"
      ]
     },
     "execution_count": 4,
     "metadata": {},
     "output_type": "execute_result"
    }
   ],
   "source": [
    "student[\"name\"] = \"Bob\"\n",
    "\n",
    "student"
   ]
  },
  {
   "cell_type": "code",
   "execution_count": 5,
   "id": "6cd68925-8646-45b5-b830-c8041f729972",
   "metadata": {},
   "outputs": [
    {
     "data": {
      "text/plain": [
       "'A'"
      ]
     },
     "execution_count": 5,
     "metadata": {},
     "output_type": "execute_result"
    }
   ],
   "source": [
    "student[\"grades\"][2]"
   ]
  },
  {
   "cell_type": "code",
   "execution_count": 6,
   "id": "cb2d0ec5-af2b-4812-aba7-a1592021a2ff",
   "metadata": {},
   "outputs": [
    {
     "data": {
      "text/plain": [
       "{'name': 'Bob',\n",
       " 'major': 'EDP',\n",
       " 'age': 30,\n",
       " 'grades': ['A', 'B', 'A'],\n",
       " 'final_grade': 'A'}"
      ]
     },
     "execution_count": 6,
     "metadata": {},
     "output_type": "execute_result"
    }
   ],
   "source": [
    "student[\"final_grade\"] = \"A\"\n",
    "\n",
    "student"
   ]
  },
  {
   "cell_type": "code",
   "execution_count": 7,
   "id": "dba8fda9-26b7-4a8b-8171-35143d1d6df8",
   "metadata": {},
   "outputs": [
    {
     "data": {
      "text/plain": [
       "{'name': 'Bob', 'major': 'EDP', 'grades': ['A', 'B', 'A'], 'final_grade': 'A'}"
      ]
     },
     "execution_count": 7,
     "metadata": {},
     "output_type": "execute_result"
    }
   ],
   "source": [
    "del student[\"age\"]\n",
    "\n",
    "student"
   ]
  },
  {
   "cell_type": "code",
   "execution_count": 8,
   "id": "e197ff65-82c2-4679-b9ed-e6bf7bfcc29a",
   "metadata": {},
   "outputs": [
    {
     "data": {
      "text/plain": [
       "False"
      ]
     },
     "execution_count": 8,
     "metadata": {},
     "output_type": "execute_result"
    }
   ],
   "source": [
    "\"age\" in student"
   ]
  },
  {
   "cell_type": "code",
   "execution_count": 9,
   "id": "ee36d802-b235-4ee0-9a1e-80015661c1fe",
   "metadata": {},
   "outputs": [
    {
     "data": {
      "text/plain": [
       "['name', 'major', 'grades', 'final_grade']"
      ]
     },
     "execution_count": 9,
     "metadata": {},
     "output_type": "execute_result"
    }
   ],
   "source": [
    "list(student.keys())"
   ]
  },
  {
   "cell_type": "code",
   "execution_count": 10,
   "id": "b9044d81-72ef-44fd-9a47-4b50c9cbedee",
   "metadata": {},
   "outputs": [
    {
     "data": {
      "text/plain": [
       "['Bob', 'EDP', ['A', 'B', 'A'], 'A']"
      ]
     },
     "execution_count": 10,
     "metadata": {},
     "output_type": "execute_result"
    }
   ],
   "source": [
    "list(student.values())"
   ]
  },
  {
   "cell_type": "code",
   "execution_count": 11,
   "id": "7c1e9fac-1aa1-407a-a8da-dd4c013d2c42",
   "metadata": {},
   "outputs": [
    {
     "name": "stdout",
     "output_type": "stream",
     "text": [
      "dict_items([('name', 'Bob'), ('major', 'EDP'), ('grades', ['A', 'B', 'A']), ('final_grade', 'A')])\n"
     ]
    }
   ],
   "source": [
    "print(student.items())"
   ]
  },
  {
   "cell_type": "markdown",
   "id": "1a5079fd-3b79-47d0-9422-0dcc2b58c28c",
   "metadata": {},
   "source": [
    "Notice that each item is a tuple of ('key', 'value') pairs."
   ]
  },
  {
   "cell_type": "markdown",
   "id": "708ef74d-89b0-44bb-aa78-7e8f4e3a90ba",
   "metadata": {},
   "source": [
    "### Example: Survey Data Recoding - Redux\n",
    "\n",
    "Remember the earlier example where survey responses were recoded using list comprehension. The list comprehension example we used previously for recoding survey responses was not bad, but there is a more effective and cleaner way to accomplish this. We will demonstrate that dictionaries make such operations more straightforward."
   ]
  },
  {
   "cell_type": "code",
   "execution_count": 2,
   "id": "1204bf10-b7b1-4d35-bad2-d87498fc5897",
   "metadata": {},
   "outputs": [
    {
     "data": {
      "text/plain": [
       "{0: 'Never',\n",
       " 1: 'Rarely',\n",
       " 2: 'Sometimes',\n",
       " 3: 'Often',\n",
       " 4: 'Always',\n",
       " None: 'Unanswered'}"
      ]
     },
     "execution_count": 2,
     "metadata": {},
     "output_type": "execute_result"
    }
   ],
   "source": [
    "# Create a dictionary to map scores to categories\n",
    "mapping = {\n",
    "    0: \"Never\",\n",
    "    1: \"Rarely\",\n",
    "    2: \"Sometimes\",\n",
    "    3: \"Often\",\n",
    "    4: \"Always\",\n",
    "    None: \"Unanswered\"\n",
    "}\n",
    "\n",
    "mapping"
   ]
  },
  {
   "cell_type": "markdown",
   "id": "14f2c6d5-c40b-41cd-92d4-b1dd4a1eb4c3",
   "metadata": {},
   "source": [
    "Now that we have a dictionary. We can use it in a list comprehension as follows:"
   ]
  },
  {
   "cell_type": "code",
   "execution_count": 8,
   "id": "740dc318-b013-4f74-93fe-fe532aac81bf",
   "metadata": {},
   "outputs": [
    {
     "name": "stdout",
     "output_type": "stream",
     "text": [
      "['Never', 'Unanswered', 'Often', 'Sometimes', 'Rarely', 'Sometimes', 'Always', 'Often', 'Always', 'Rarely', 'Never']\n"
     ]
    }
   ],
   "source": [
    "# Your list of numeric responses\n",
    "responses = [0, None, 3, 2, 1, 2, 4, 3, 4, 1, 0]\n",
    "\n",
    "# Use list comprehension with dictionary lookup\n",
    "categories = [mapping[x] for x in responses]\n",
    "\n",
    "print(categories)"
   ]
  },
  {
   "cell_type": "markdown",
   "id": "7058c08c-0c40-40bf-9585-557b85d73981",
   "metadata": {},
   "source": [
    "This works as long as `mapping` exhausts all potential values in `responses`. For example, the following will throw an error:"
   ]
  },
  {
   "cell_type": "markdown",
   "id": "7e258033-5700-4dbf-a601-09bde5f088f7",
   "metadata": {},
   "source": [
    "```python\n",
    "responses = [0, None, 3, 2, 1, 2, 4, 3, 4, 1, 0, 99]\n",
    "categories = [mapping[x] for x in responses]\n",
    "\n",
    "KeyError: 99\n",
    "```"
   ]
  },
  {
   "cell_type": "markdown",
   "id": "52913240-a7c1-44e6-9355-90d10546da96",
   "metadata": {},
   "source": [
    "So, how do we address the issue? \n",
    "\n",
    "Hint: `dict.get()`"
   ]
  },
  {
   "cell_type": "code",
   "execution_count": null,
   "id": "47706e98-57fd-447d-bd13-7828818a4ef8",
   "metadata": {},
   "outputs": [],
   "source": [
    "# YOUR CODE HERE\n"
   ]
  },
  {
   "cell_type": "markdown",
   "id": "321a649d-895d-49f5-9cb4-0a440cf4842d",
   "metadata": {
    "tags": []
   },
   "source": [
    "#### Common Dictionary Methods\n",
    "\n",
    "This table shows some common methods associated with dictionaries."
   ]
  },
  {
   "cell_type": "markdown",
   "id": "3a27a577-98dc-4c7d-bdec-65dad0a7f77a",
   "metadata": {},
   "source": [
    "| Method                    | Description                      |\n",
    "| ------------------------- | -------------------------------- |\n",
    "| `dict.keys()`             | Returns all keys                 |\n",
    "| `dict.values()`           | Returns all values               |\n",
    "| `dict.items()`            | Returns key-value pairs          |\n",
    "| `dict.get(key, default)`  | Safely get a value, with default |\n",
    "| `dict.pop(key)`           | Remove key and return value      |\n",
    "| `dict.popitem()`          | Remove last inserted key-value   |\n",
    "| `dict.clear()`            | Remove all items                 |\n",
    "| `dict.update(other_dict)` | Merge another dictionary         |\n"
   ]
  },
  {
   "cell_type": "markdown",
   "id": "c2c99cef-6526-4164-b85f-5d7bbb4874ae",
   "metadata": {},
   "source": [
    "The fourth method `dict.get(key, default)` can be useful to map an unexpected value to a default value:"
   ]
  },
  {
   "cell_type": "code",
   "execution_count": 14,
   "id": "3fd562bf-3111-476e-86da-96e9190db6d2",
   "metadata": {},
   "outputs": [
    {
     "data": {
      "text/plain": [
       "'Rarely'"
      ]
     },
     "execution_count": 14,
     "metadata": {},
     "output_type": "execute_result"
    }
   ],
   "source": [
    "mapping.get(1, \"Unanswered\")"
   ]
  },
  {
   "cell_type": "code",
   "execution_count": 15,
   "id": "143abeba-ba79-4763-8ae3-aa5fca2ed213",
   "metadata": {},
   "outputs": [
    {
     "data": {
      "text/plain": [
       "'Unanswered'"
      ]
     },
     "execution_count": 15,
     "metadata": {},
     "output_type": "execute_result"
    }
   ],
   "source": [
    "mapping.get(99, \"Unanswered\")"
   ]
  },
  {
   "cell_type": "markdown",
   "id": "0a0813d9-c159-4513-9a00-42c3f09dbb4f",
   "metadata": {
    "tags": []
   },
   "source": [
    "#### Creating a Dictionary from Sequences"
   ]
  },
  {
   "cell_type": "markdown",
   "id": "40b2c7ae-2a92-4767-99cd-362cc018ea6c",
   "metadata": {},
   "source": [
    "We can create a dictionary from two lists (more generally, sequences) that can be paired up element-wise. "
   ]
  },
  {
   "cell_type": "markdown",
   "id": "a28071bb-0fd1-47e1-806b-472552ce7e2c",
   "metadata": {},
   "source": [
    "As a first shot, you may think something like this:"
   ]
  },
  {
   "cell_type": "markdown",
   "id": "628bed70-0815-4d2a-82ac-6660e917015f",
   "metadata": {},
   "source": [
    "```python\n",
    "mappings = {}\n",
    "mappings.keys = [0, 1, 2, 3, 4]\n",
    "mappings.values = [\"Never\", \"Rarely\", \"Sometimes\", \"Often\", \"Always\"]\n",
    "mappings\n",
    "```"
   ]
  },
  {
   "cell_type": "markdown",
   "id": "9438f9bf-2c4a-4bb4-92fa-e6707223b7e5",
   "metadata": {},
   "source": [
    "❌ Unfortunately, that throws an error because `keys` and `values` are read-only *methods* of a dictionary, not *attributes* you can assign to."
   ]
  },
  {
   "cell_type": "markdown",
   "id": "54ef6b37-7456-4335-a46e-c3e626afe989",
   "metadata": {},
   "source": [
    "We can achieve this using the `dict()` function and the `zip()`function as follows:"
   ]
  },
  {
   "cell_type": "code",
   "execution_count": 16,
   "id": "3f4ff9f8-5ec7-4c25-a783-4deed8b5cd6f",
   "metadata": {},
   "outputs": [
    {
     "name": "stdout",
     "output_type": "stream",
     "text": [
      "{0: 'Never', 1: 'Rarely', 2: 'Sometimes', 3: 'Often', 4: 'Always'}\n"
     ]
    }
   ],
   "source": [
    "keys = [0, 1, 2, 3, 4]\n",
    "values = [\"Never\", \"Rarely\", \"Sometimes\", \"Often\", \"Always\"]\n",
    "\n",
    "mappings = dict(zip(keys, values))\n",
    "print(mappings)"
   ]
  },
  {
   "cell_type": "markdown",
   "id": "fadb22e3-d83b-4dce-b148-0e100c916a95",
   "metadata": {},
   "source": [
    "`zip(keys, values)` pairs each `key` with its corresponding `value`:\n",
    "(0, \"Never\"), (1, \"Rarely\"), ...\n",
    "\n",
    "`dict(...)` converts those pairs into a dictionary."
   ]
  },
  {
   "cell_type": "markdown",
   "id": "0efb128f-3744-4b0e-8677-824201400bfa",
   "metadata": {},
   "source": [
    "You can't directly display what `zip(keys, values)` contains."
   ]
  },
  {
   "cell_type": "code",
   "execution_count": 17,
   "id": "987291bb-e926-41f1-9242-60d0d4c263ff",
   "metadata": {},
   "outputs": [
    {
     "data": {
      "text/plain": [
       "<zip at 0x7fdbd8950a80>"
      ]
     },
     "execution_count": 17,
     "metadata": {},
     "output_type": "execute_result"
    }
   ],
   "source": [
    "zip(keys, values)"
   ]
  },
  {
   "cell_type": "markdown",
   "id": "20553711-1fad-4178-9e89-1ca030af1e34",
   "metadata": {},
   "source": [
    "`zip()` does not directly store all pairs in memory.\n",
    "- It creates an **iterator** that generates pairs on the fly.\n",
    "- Converting to `list()` or `tuple()` materializes the result for display or reuse."
   ]
  },
  {
   "cell_type": "code",
   "execution_count": 18,
   "id": "76834b33-2ea3-4876-80b2-8d502d54f3ed",
   "metadata": {},
   "outputs": [
    {
     "data": {
      "text/plain": [
       "[(0, 'Never'), (1, 'Rarely'), (2, 'Sometimes'), (3, 'Often'), (4, 'Always')]"
      ]
     },
     "execution_count": 18,
     "metadata": {},
     "output_type": "execute_result"
    }
   ],
   "source": [
    "list(zip(keys, values))"
   ]
  },
  {
   "cell_type": "code",
   "execution_count": 19,
   "id": "e09dc9b2-cb22-4e21-9d11-66c516b2adf0",
   "metadata": {},
   "outputs": [
    {
     "data": {
      "text/plain": [
       "((0, 'Never'), (1, 'Rarely'), (2, 'Sometimes'), (3, 'Often'), (4, 'Always'))"
      ]
     },
     "execution_count": 19,
     "metadata": {},
     "output_type": "execute_result"
    }
   ],
   "source": [
    "tuple(zip(keys, values))"
   ]
  },
  {
   "cell_type": "markdown",
   "id": "e3494176-c4b2-4a46-89f5-908adf2a549c",
   "metadata": {},
   "source": [
    "#### Creating a Dictionary using Comprehension\n",
    "\n",
    "We can also use a **dictionary comprehension** to create a dictionary as follows:"
   ]
  },
  {
   "cell_type": "code",
   "execution_count": 20,
   "id": "8747dda6-bde4-47d9-8c48-7490cd51557c",
   "metadata": {},
   "outputs": [
    {
     "name": "stdout",
     "output_type": "stream",
     "text": [
      "{0: 'Never', 1: 'Rarely', 2: 'Sometimes', 3: 'Often', 4: 'Always'}\n"
     ]
    }
   ],
   "source": [
    "mappings = {k: v for k, v in zip(keys, values)}\n",
    "print(mappings)"
   ]
  },
  {
   "cell_type": "markdown",
   "id": "a4d93ef0-45f6-437f-be8b-e34cd6348410",
   "metadata": {},
   "source": [
    "For dictionaries, we can use a for-loop along with **f-strings** to display the key-value pairs:"
   ]
  },
  {
   "cell_type": "code",
   "execution_count": 21,
   "id": "ad608711-9cb8-42c0-9132-7524aeb025c1",
   "metadata": {},
   "outputs": [
    {
     "name": "stdout",
     "output_type": "stream",
     "text": [
      "0: Never\n",
      "1: Rarely\n",
      "2: Sometimes\n",
      "3: Often\n",
      "4: Always\n"
     ]
    }
   ],
   "source": [
    "for key, value in mappings.items():\n",
    "    print(f\"{key}: {value}\")"
   ]
  },
  {
   "cell_type": "markdown",
   "id": "3fd308f0-96f0-4aa6-bad2-1229bc6e2f40",
   "metadata": {},
   "source": [
    "In Python, **f-strings** (formatted string literals) provide a concise and powerful way to embed expressions inside strings.\n",
    "- An **f-string** is simply a string prefixed with the letter f or F.\n",
    "- Inside the string, you can embed Python expressions using curly braces {}"
   ]
  },
  {
   "cell_type": "code",
   "execution_count": 22,
   "id": "384b58bb-1da7-4017-a2bb-09764efaeb66",
   "metadata": {},
   "outputs": [
    {
     "name": "stdout",
     "output_type": "stream",
     "text": [
      "My name is Alice, and I live in Wonderland.\n"
     ]
    }
   ],
   "source": [
    "name = \"Alice\"\n",
    "where = \"Wonderland\"\n",
    "\n",
    "message = f\"My name is {name}, and I live in {where}.\"\n",
    "print(message)"
   ]
  },
  {
   "cell_type": "markdown",
   "id": "d00c6e96-7622-4893-93f8-cc1d5a6c721d",
   "metadata": {},
   "source": [
    "More examples with numbers..."
   ]
  },
  {
   "cell_type": "code",
   "execution_count": 23,
   "id": "b1df1262-7896-42c3-981c-5b4e678ce02e",
   "metadata": {},
   "outputs": [
    {
     "data": {
      "text/plain": [
       "'My favorite numbers are 3.14159 and 2.71828.'"
      ]
     },
     "execution_count": 23,
     "metadata": {},
     "output_type": "execute_result"
    }
   ],
   "source": [
    "pi = 3.14159\n",
    "euler = 2.71828\n",
    "\n",
    "f\"My favorite numbers are {pi} and {euler}.\""
   ]
  },
  {
   "cell_type": "code",
   "execution_count": 24,
   "id": "d6a6f454-b2d1-4663-9f85-557189beac74",
   "metadata": {},
   "outputs": [
    {
     "data": {
      "text/plain": [
       "'My favorite numbers are 3.142 and 2.718.'"
      ]
     },
     "execution_count": 24,
     "metadata": {},
     "output_type": "execute_result"
    }
   ],
   "source": [
    "f\"My favorite numbers are {pi:.3f} and {euler:.3f}.\""
   ]
  },
  {
   "cell_type": "code",
   "execution_count": 25,
   "id": "04c2bb12-5567-4cfc-acb6-8dcde643ce70",
   "metadata": {},
   "outputs": [
    {
     "data": {
      "text/plain": [
       "'pi + euler is 5.86.'"
      ]
     },
     "execution_count": 25,
     "metadata": {},
     "output_type": "execute_result"
    }
   ],
   "source": [
    "f\"pi + euler is {pi + euler:.2f}.\""
   ]
  },
  {
   "cell_type": "markdown",
   "id": "9943a87e-f260-477a-9040-06d6a355eb3c",
   "metadata": {},
   "source": [
    "### In-Depth Study: Dictionary Comprehension\n",
    "\n",
    "Let's recall the `words` list we created earlier from *The Eyes of Texas*. We will build a dictionary of the **unique** words in `words` and count how many times each unique word appears, ignoring capitalization. This means, for example, that \"The\" and \"the\" are considered the same word.\n",
    "\n",
    "We will first create this dictionary, `by_word`, using a for-loop, and then demonstrate how to do the same with a dictionary comprehension.\n",
    "\n",
    "For reference, the `words` list contains the following words."
   ]
  },
  {
   "cell_type": "code",
   "execution_count": 26,
   "id": "b6d62260-e7e1-4929-ac38-0663fb1c0e4a",
   "metadata": {},
   "outputs": [
    {
     "name": "stdout",
     "output_type": "stream",
     "text": [
      "\n",
      "The Eyes of Texas are upon you\n",
      "All the livelong day\n",
      "The Eyes of Texas are upon you\n",
      "You cannot get away\n",
      "Do not think you can escape them\n",
      "At night or early in the morn \n",
      "The Eyes of Texas are upon you\n",
      "Til Gabriel blows his horn\n",
      "\n"
     ]
    }
   ],
   "source": [
    "lyrics = \"\"\"\n",
    "The Eyes of Texas are upon you,\n",
    "All the livelong day.\n",
    "The Eyes of Texas are upon you,\n",
    "You cannot get away.\n",
    "Do not think you can escape them\n",
    "At night or early in the morn --\n",
    "The Eyes of Texas are upon you\n",
    "Til Gabriel blows his horn.\n",
    "\"\"\"\n",
    "\n",
    "cleaned_text = lyrics.replace(\",\", \"\") \\\n",
    "                     .replace(\".\", \"\") \\\n",
    "                     .replace(\"-\", \"\")\n",
    "print(cleaned_text)"
   ]
  },
  {
   "cell_type": "code",
   "execution_count": 27,
   "id": "4c2319f3-add0-488d-a703-5b364148d4dc",
   "metadata": {},
   "outputs": [
    {
     "name": "stdout",
     "output_type": "stream",
     "text": [
      "['The', 'Eyes', 'of', 'Texas', 'are', 'upon', 'you', 'All', 'the', 'livelong', 'day', 'The', 'Eyes', 'of', 'Texas', 'are', 'upon', 'you', 'You', 'cannot', 'get', 'away', 'Do', 'not', 'think', 'you', 'can', 'escape', 'them', 'At', 'night', 'or', 'early', 'in', 'the', 'morn', 'The', 'Eyes', 'of', 'Texas', 'are', 'upon', 'you', 'Til', 'Gabriel', 'blows', 'his', 'horn']\n"
     ]
    }
   ],
   "source": [
    "words = cleaned_text.split()\n",
    "\n",
    "print(words)"
   ]
  },
  {
   "cell_type": "code",
   "execution_count": 28,
   "id": "2ae291ca-10f5-4923-968a-9796b8ca62a1",
   "metadata": {},
   "outputs": [
    {
     "name": "stdout",
     "output_type": "stream",
     "text": [
      "['All', 'At', 'Do', 'Eyes', 'Eyes', 'Eyes', 'Gabriel', 'Texas', 'Texas', 'Texas', 'The', 'The', 'The', 'Til', 'You', 'are', 'are', 'are', 'away', 'blows', 'can', 'cannot', 'day', 'early', 'escape', 'get', 'his', 'horn', 'in', 'livelong', 'morn', 'night', 'not', 'of', 'of', 'of', 'or', 'the', 'the', 'them', 'think', 'upon', 'upon', 'upon', 'you', 'you', 'you', 'you']\n"
     ]
    }
   ],
   "source": [
    "print(sorted(words))"
   ]
  },
  {
   "cell_type": "code",
   "execution_count": 29,
   "id": "af8fe13d-f059-480b-b236-295c7bb573c8",
   "metadata": {},
   "outputs": [
    {
     "data": {
      "text/plain": [
       "'There are 48 words.'"
      ]
     },
     "execution_count": 29,
     "metadata": {},
     "output_type": "execute_result"
    }
   ],
   "source": [
    "f\"There are {len(words)} words.\""
   ]
  },
  {
   "cell_type": "code",
   "execution_count": 30,
   "id": "056b0757-1d97-4230-ac4d-e1aeda321e0a",
   "metadata": {},
   "outputs": [
    {
     "data": {
      "text/plain": [
       "{'the': 5,\n",
       " 'eyes': 3,\n",
       " 'of': 3,\n",
       " 'texas': 3,\n",
       " 'are': 3,\n",
       " 'upon': 3,\n",
       " 'you': 5,\n",
       " 'all': 1,\n",
       " 'livelong': 1,\n",
       " 'day': 1,\n",
       " 'cannot': 1,\n",
       " 'get': 1,\n",
       " 'away': 1,\n",
       " 'do': 1,\n",
       " 'not': 1,\n",
       " 'think': 1,\n",
       " 'can': 1,\n",
       " 'escape': 1,\n",
       " 'them': 1,\n",
       " 'at': 1,\n",
       " 'night': 1,\n",
       " 'or': 1,\n",
       " 'early': 1,\n",
       " 'in': 1,\n",
       " 'morn': 1,\n",
       " 'til': 1,\n",
       " 'gabriel': 1,\n",
       " 'blows': 1,\n",
       " 'his': 1,\n",
       " 'horn': 1}"
      ]
     },
     "execution_count": 30,
     "metadata": {},
     "output_type": "execute_result"
    }
   ],
   "source": [
    "by_word = {}\n",
    "\n",
    "for word in words:\n",
    "    word = word.lower()\n",
    "    if word not in by_word:\n",
    "        by_word[word] = 1\n",
    "    else:\n",
    "        by_word[word] += 1\n",
    "        \n",
    "by_word"
   ]
  },
  {
   "cell_type": "markdown",
   "id": "e1840f07-8d95-45be-bb9c-7a98a8775339",
   "metadata": {},
   "source": [
    "Now, we reproduce `by_word` using a dictionary comprehension as follows:"
   ]
  },
  {
   "cell_type": "code",
   "execution_count": 31,
   "id": "f99ac7a5-189b-4b79-a87d-720290a2270a",
   "metadata": {},
   "outputs": [
    {
     "data": {
      "text/plain": [
       "{'at': 1,\n",
       " 'get': 1,\n",
       " 'away': 1,\n",
       " 'blows': 1,\n",
       " 'in': 1,\n",
       " 'eyes': 3,\n",
       " 'his': 1,\n",
       " 'not': 1,\n",
       " 'all': 1,\n",
       " 'the': 5,\n",
       " 'cannot': 1,\n",
       " 'night': 1,\n",
       " 'you': 5,\n",
       " 'can': 1,\n",
       " 'or': 1,\n",
       " 'day': 1,\n",
       " 'early': 1,\n",
       " 'livelong': 1,\n",
       " 'texas': 3,\n",
       " 'morn': 1,\n",
       " 'of': 3,\n",
       " 'are': 3,\n",
       " 'them': 1,\n",
       " 'gabriel': 1,\n",
       " 'do': 1,\n",
       " 'escape': 1,\n",
       " 'til': 1,\n",
       " 'horn': 1,\n",
       " 'upon': 3,\n",
       " 'think': 1}"
      ]
     },
     "execution_count": 31,
     "metadata": {},
     "output_type": "execute_result"
    }
   ],
   "source": [
    "words_lower = [word.lower() for word in words]\n",
    "\n",
    "{word: words_lower.count(word) for word in set(words_lower)}"
   ]
  },
  {
   "cell_type": "markdown",
   "id": "8f1bffc6-603e-47a4-8418-40afed4cc11a",
   "metadata": {},
   "source": [
    "Here, we annotate the components of the dictionary comprehension example:\n",
    "\n",
    "- `words_lower`:      ensures every element is lowercase.\n",
    "- `set(words_lower)`: provides a *set* of unique words which ensures we only count each word once.\n",
    "- `.count(word)`:     a method to count a specific word in a set.\n",
    "- `set(words)`:       creates a set of unique words."
   ]
  },
  {
   "cell_type": "markdown",
   "id": "b0b5bf9f-5f3b-4904-94c4-db7790dbdc98",
   "metadata": {},
   "source": [
    "If you think that's too much work, which I agree, you can use the `collections` package and its function `Counter` to achieve the same thing as follows:"
   ]
  },
  {
   "cell_type": "code",
   "execution_count": 32,
   "id": "b4a87458-ac14-4897-a0b6-6381176628ec",
   "metadata": {},
   "outputs": [],
   "source": [
    "from collections import Counter"
   ]
  },
  {
   "cell_type": "code",
   "execution_count": 33,
   "id": "5e88a7b4-3069-4b1b-a88c-6e278c4cfee2",
   "metadata": {},
   "outputs": [
    {
     "data": {
      "text/plain": [
       "Counter({'the': 5,\n",
       "         'eyes': 3,\n",
       "         'of': 3,\n",
       "         'texas': 3,\n",
       "         'are': 3,\n",
       "         'upon': 3,\n",
       "         'you': 5,\n",
       "         'all': 1,\n",
       "         'livelong': 1,\n",
       "         'day': 1,\n",
       "         'cannot': 1,\n",
       "         'get': 1,\n",
       "         'away': 1,\n",
       "         'do': 1,\n",
       "         'not': 1,\n",
       "         'think': 1,\n",
       "         'can': 1,\n",
       "         'escape': 1,\n",
       "         'them': 1,\n",
       "         'at': 1,\n",
       "         'night': 1,\n",
       "         'or': 1,\n",
       "         'early': 1,\n",
       "         'in': 1,\n",
       "         'morn': 1,\n",
       "         'til': 1,\n",
       "         'gabriel': 1,\n",
       "         'blows': 1,\n",
       "         'his': 1,\n",
       "         'horn': 1})"
      ]
     },
     "execution_count": 33,
     "metadata": {},
     "output_type": "execute_result"
    }
   ],
   "source": [
    "Counter(word.lower() for word in words)"
   ]
  },
  {
   "cell_type": "markdown",
   "id": "21636af4-6c2d-4a8a-9eb6-6ba2dfb660e4",
   "metadata": {},
   "source": [
    "### Practice Exercise - Movie Ratings Database\n",
    "\n",
    "You are given a small dataset of movies, where each movie has information such as genre, year released, and ratings from different reviewers.\n",
    "\n",
    "Your task is to perform different operations to analyze this dataset using Python dictionaries."
   ]
  },
  {
   "cell_type": "code",
   "execution_count": 12,
   "id": "e77f4f8a-c643-419e-9953-343849beb779",
   "metadata": {},
   "outputs": [
    {
     "data": {
      "text/html": [
       "<div>\n",
       "<style scoped>\n",
       "    .dataframe tbody tr th:only-of-type {\n",
       "        vertical-align: middle;\n",
       "    }\n",
       "\n",
       "    .dataframe tbody tr th {\n",
       "        vertical-align: top;\n",
       "    }\n",
       "\n",
       "    .dataframe thead th {\n",
       "        text-align: right;\n",
       "    }\n",
       "</style>\n",
       "<table border=\"1\" class=\"dataframe\">\n",
       "  <thead>\n",
       "    <tr style=\"text-align: right;\">\n",
       "      <th></th>\n",
       "      <th>Inception</th>\n",
       "      <th>The Dark Knight</th>\n",
       "      <th>Interstellar</th>\n",
       "      <th>The Godfather</th>\n",
       "      <th>Parasite</th>\n",
       "    </tr>\n",
       "  </thead>\n",
       "  <tbody>\n",
       "    <tr>\n",
       "      <th>year</th>\n",
       "      <td>2010</td>\n",
       "      <td>2008</td>\n",
       "      <td>2014</td>\n",
       "      <td>1972</td>\n",
       "      <td>2019</td>\n",
       "    </tr>\n",
       "    <tr>\n",
       "      <th>genre</th>\n",
       "      <td>Sci-Fi</td>\n",
       "      <td>Action</td>\n",
       "      <td>Sci-Fi</td>\n",
       "      <td>Crime</td>\n",
       "      <td>Thriller</td>\n",
       "    </tr>\n",
       "    <tr>\n",
       "      <th>ratings</th>\n",
       "      <td>{'IMDB': 8.8, 'RottenTomatoes': 87, 'Metacriti...</td>\n",
       "      <td>{'IMDB': 9.0, 'RottenTomatoes': 94, 'Metacriti...</td>\n",
       "      <td>{'IMDB': 8.6, 'RottenTomatoes': 72, 'Metacriti...</td>\n",
       "      <td>{'IMDB': 9.2, 'RottenTomatoes': 97, 'Metacriti...</td>\n",
       "      <td>{'IMDB': 8.6, 'RottenTomatoes': 99, 'Metacriti...</td>\n",
       "    </tr>\n",
       "  </tbody>\n",
       "</table>\n",
       "</div>"
      ],
      "text/plain": [
       "                                                 Inception  \\\n",
       "year                                                  2010   \n",
       "genre                                               Sci-Fi   \n",
       "ratings  {'IMDB': 8.8, 'RottenTomatoes': 87, 'Metacriti...   \n",
       "\n",
       "                                           The Dark Knight  \\\n",
       "year                                                  2008   \n",
       "genre                                               Action   \n",
       "ratings  {'IMDB': 9.0, 'RottenTomatoes': 94, 'Metacriti...   \n",
       "\n",
       "                                              Interstellar  \\\n",
       "year                                                  2014   \n",
       "genre                                               Sci-Fi   \n",
       "ratings  {'IMDB': 8.6, 'RottenTomatoes': 72, 'Metacriti...   \n",
       "\n",
       "                                             The Godfather  \\\n",
       "year                                                  1972   \n",
       "genre                                                Crime   \n",
       "ratings  {'IMDB': 9.2, 'RottenTomatoes': 97, 'Metacriti...   \n",
       "\n",
       "                                                  Parasite  \n",
       "year                                                  2019  \n",
       "genre                                             Thriller  \n",
       "ratings  {'IMDB': 8.6, 'RottenTomatoes': 99, 'Metacriti...  "
      ]
     },
     "execution_count": 12,
     "metadata": {},
     "output_type": "execute_result"
    }
   ],
   "source": [
    "movies = {\n",
    "    \"Inception\": {\n",
    "        \"year\": 2010,\n",
    "        \"genre\": \"Sci-Fi\",\n",
    "        \"ratings\": {\"IMDB\": 8.8, \"RottenTomatoes\": 87, \"Metacritic\": 74}\n",
    "    },\n",
    "    \"The Dark Knight\": {\n",
    "        \"year\": 2008,\n",
    "        \"genre\": \"Action\",\n",
    "        \"ratings\": {\"IMDB\": 9.0, \"RottenTomatoes\": 94, \"Metacritic\": 84}\n",
    "    },\n",
    "    \"Interstellar\": {\n",
    "        \"year\": 2014,\n",
    "        \"genre\": \"Sci-Fi\",\n",
    "        \"ratings\": {\"IMDB\": 8.6, \"RottenTomatoes\": 72, \"Metacritic\": 74}\n",
    "    },\n",
    "    \"The Godfather\": {\n",
    "        \"year\": 1972,\n",
    "        \"genre\": \"Crime\",\n",
    "        \"ratings\": {\"IMDB\": 9.2, \"RottenTomatoes\": 97, \"Metacritic\": 100}\n",
    "    },\n",
    "    \"Parasite\": {\n",
    "        \"year\": 2019,\n",
    "        \"genre\": \"Thriller\",\n",
    "        \"ratings\": {\"IMDB\": 8.6, \"RottenTomatoes\": 99, \"Metacritic\": 96}\n",
    "    }\n",
    "}\n",
    "\n",
    "import pandas as pd\n",
    "\n",
    "pd.DataFrame(movies)"
   ]
  },
  {
   "cell_type": "markdown",
   "id": "4a71736c-8d0a-42da-b1ea-d8f0ddc6528f",
   "metadata": {},
   "source": [
    "#### Task 1: Display all movie titles\n",
    "\n",
    "Print out just the movie titles, one per line. You may find the following table helpful:\n",
    "\n",
    "| Code                        | What Python Iterates Over | Notes                   |\n",
    "| --------------------------- | ------------------------- | ----------------------- |\n",
    "| `for x in dict:`            | **Keys**                  | Default behavior        |\n",
    "| `for x in dict.keys():`     | **Keys**                  | Explicit, same as above |\n",
    "| `for x in dict.values():`   | **Values**                | Values only             |\n",
    "| `for k, v in dict.items():` | **(Key, Value) pairs**    | Most useful for both    |\n"
   ]
  },
  {
   "cell_type": "code",
   "execution_count": 13,
   "id": "10aa79e3-65b7-4588-9062-dfe2f852f305",
   "metadata": {},
   "outputs": [
    {
     "name": "stdout",
     "output_type": "stream",
     "text": [
      "Inception\n",
      "The Dark Knight\n",
      "Interstellar\n",
      "The Godfather\n",
      "Parasite\n"
     ]
    }
   ],
   "source": [
    "# YOUR CODE HERE\n"
   ]
  },
  {
   "cell_type": "markdown",
   "id": "3dfb3da6-7350-4aa4-acac-be5e1ef5e815",
   "metadata": {},
   "source": [
    "#### Task 2: Find movies released after 2010\n",
    "\n",
    "Create a list of movie names released after 2010.\n",
    "\n",
    "**Hint**: Check the \"year\" key inside each movie dictionary.\n",
    "\n",
    "The expected output:\n",
    "\n",
    "```python\n",
    "['Interstellar', 'Parasite']\n",
    "```"
   ]
  },
  {
   "cell_type": "code",
   "execution_count": 16,
   "id": "5caa0586-2106-4866-be1c-5caf5b30ea5b",
   "metadata": {},
   "outputs": [
    {
     "data": {
      "text/plain": [
       "['Interstellar', 'Parasite']"
      ]
     },
     "execution_count": 16,
     "metadata": {},
     "output_type": "execute_result"
    }
   ],
   "source": [
    "# YOUR CODE HERE\n"
   ]
  },
  {
   "cell_type": "markdown",
   "id": "46562146-4338-4f87-b3e7-67c1311c2913",
   "metadata": {},
   "source": [
    "#### Task 3: Get the average IMDB rating\n",
    "\n",
    "Calculate the average IMDB rating of all movies."
   ]
  },
  {
   "cell_type": "code",
   "execution_count": 20,
   "id": "d80665f3-d6fc-49f0-9ccc-df4da65ffc06",
   "metadata": {},
   "outputs": [
    {
     "data": {
      "text/plain": [
       "8.84"
      ]
     },
     "execution_count": 20,
     "metadata": {},
     "output_type": "execute_result"
    }
   ],
   "source": [
    "# YOUR CODE HERE\n"
   ]
  },
  {
   "cell_type": "markdown",
   "id": "9aaebcbe-ffd3-4323-94c2-e16f1fa98a28",
   "metadata": {},
   "source": [
    "#### Task 4: Add a new movie to the dictionary\n",
    "\n",
    "Add \"Oppenheimer\" with this data:\n",
    "- Year: 2023\n",
    "- Genre: \"Biography\"\n",
    "- Ratings: IMDB: 8.5, RottenTomatoes: 93, Metacritic: 88"
   ]
  },
  {
   "cell_type": "code",
   "execution_count": 2,
   "id": "6bbbe2e4-d619-4cd5-97d1-f7673261e868",
   "metadata": {},
   "outputs": [],
   "source": [
    "# YOUR CODE HERE\n"
   ]
  },
  {
   "cell_type": "markdown",
   "id": "da8b9427-52bc-45b8-952e-7349b8b21828",
   "metadata": {},
   "source": [
    "# Introduction to Numpy\n",
    "\n",
    "![NumPy](../figures/NumPy.png)"
   ]
  },
  {
   "cell_type": "markdown",
   "id": "1e85a6d5-11b2-4d84-94db-40c2e5a309fc",
   "metadata": {},
   "source": [
    "NumPy (Numerical Python) is the fundamental package for scientific computing in Python. Along with pandas, NumPy is considered the lingua franca for scientific computation. It provides:\n",
    "\n",
    "-    Efficient array operations\n",
    "-    Mathematical functions\n",
    "-    Random number generation\n",
    "-    Linear algebra operations\n",
    "-    Integration with other libraries like Pandas, Matplotlib, and SciPy"
   ]
  },
  {
   "cell_type": "markdown",
   "id": "76b16dc0-a388-41a0-bea2-66002a71bbe6",
   "metadata": {},
   "source": [
    "Although many data analysts prefer pandas for most statistical analyses, understanding array-oriented computing with NumPy is essential for advanced data analysis tasks.\n",
    "\n",
    "We will focus primarily on NumPy’s array-based operations for data munging and cleaning, subsetting and filtering, transforming data, and performing key statistical operations. This includes tasks such as reshaping, aggregating, and summarizing data."
   ]
  },
  {
   "cell_type": "markdown",
   "id": "4ec66ca1-81e0-46b4-b025-9f70ba2dfcba",
   "metadata": {},
   "source": [
    "## Loading NumPy"
   ]
  },
  {
   "cell_type": "code",
   "execution_count": null,
   "id": "82304bca-bbea-4e36-8454-3a9f2303d037",
   "metadata": {},
   "outputs": [],
   "source": [
    "import numpy as np"
   ]
  },
  {
   "cell_type": "markdown",
   "id": "8e79cbdb-f8d4-4839-875e-799bc79ec029",
   "metadata": {},
   "source": [
    "## NumPy Arrays\n",
    "\n",
    "NumPy arrays are the core of the library. They are faster and more **memory-efficient** than Python lists. They also support vectorized computations, replacing loops and comprehensions."
   ]
  },
  {
   "cell_type": "markdown",
   "id": "b133fab0-1c4a-437c-9bf3-7d70d8edaf5f",
   "metadata": {},
   "source": [
    "### Creating NumPy Arrays\n",
    "\n",
    "NumPy arrays are iterable objects similar to Python lists. NumPy arrays are homogeneous (i.e., atomic or all elements must be the same type)."
   ]
  },
  {
   "cell_type": "markdown",
   "id": "0bebcbd5-cd6e-4773-b820-81ca1c4de6a9",
   "metadata": {},
   "source": [
    "We can create a NumPy array from a list as follows:"
   ]
  },
  {
   "cell_type": "code",
   "execution_count": null,
   "id": "6b5a8921-51e7-4a21-839e-f6e82f29daa8",
   "metadata": {},
   "outputs": [],
   "source": [
    "# From a Python list\n",
    "my_list = [1, 2, 3, 4]\n",
    "my_array = np.array(my_list)\n",
    "print(my_array)  # [1 2 3 4]"
   ]
  },
  {
   "cell_type": "code",
   "execution_count": null,
   "id": "527cfd1f-80ef-476e-ae35-7e9b905ec85b",
   "metadata": {},
   "outputs": [],
   "source": [
    "# Range of numbers\n",
    "arr_range = np.arange(0, 10, 2)  # start, stop, step (note stop is exclusive)\n",
    "print(arr_range)\n",
    "\n",
    "# Linearly spaced numbers\n",
    "arr_linspace = np.linspace(0, 1, 5)  # 5 numbers between 0 and 1\n",
    "print(arr_linspace)"
   ]
  },
  {
   "cell_type": "markdown",
   "id": "ab631607-9af2-4c08-8329-f20a98811918",
   "metadata": {},
   "source": [
    "### Array Operations\n",
    "\n",
    "NumPy supports element-wise operations, matrix operations, and aggregations. It promotes vectorized operations instead of loops for efficiency."
   ]
  },
  {
   "cell_type": "code",
   "execution_count": null,
   "id": "482e901f-69f0-4e98-8a4b-4bd856dfc77e",
   "metadata": {},
   "outputs": [],
   "source": [
    "a = np.array([1, 2, 3])\n",
    "b = np.array([4, 5, 6])\n",
    "\n",
    "# Arithmetic operations\n",
    "print(a + b)   # [5 7 9]\n",
    "print(a - b)   # [-3 -3 -3]\n",
    "print(a * b)   # [4 10 18] element-wise\n",
    "print(a / b)   # [0.25 0.4 0.5]\n"
   ]
  },
  {
   "cell_type": "markdown",
   "id": "4a50526b-1df0-45ca-b023-41a2ad61964e",
   "metadata": {},
   "source": [
    "To add a number to each element of a Python list we needed a for-loop or a list comprehension. For exampe,"
   ]
  },
  {
   "cell_type": "code",
   "execution_count": null,
   "id": "aeaaecb3-f244-463d-be6b-463f1e6c8d24",
   "metadata": {},
   "outputs": [],
   "source": [
    "[x + 5 for x in my_list]"
   ]
  },
  {
   "cell_type": "markdown",
   "id": "bd2961be-ec74-4126-adc1-1b5bf34649de",
   "metadata": {},
   "source": [
    "In NumPy, this task is accomplished through a vectorized computation as shown below:"
   ]
  },
  {
   "cell_type": "code",
   "execution_count": null,
   "id": "21757bdb-6c22-4126-a366-d6df11c9ac6d",
   "metadata": {},
   "outputs": [],
   "source": [
    "my_array + 5"
   ]
  },
  {
   "cell_type": "markdown",
   "id": "4bf5eadd-2b81-4b16-9e50-9517028645a3",
   "metadata": {},
   "source": [
    "### Speed Advantage"
   ]
  },
  {
   "cell_type": "markdown",
   "id": "1d2e1af9-cd92-43b5-bec6-9a41cd102fa5",
   "metadata": {},
   "source": [
    "As demonstrated in Wes McKinney's book (p. 85), there is a significant performance advantage for NumPy—ranging from 10 to 100 times. For example, consider a list of one million integers compared to an equivalent NumPy array."
   ]
  },
  {
   "cell_type": "code",
   "execution_count": null,
   "id": "debb25e4-2014-4a70-9043-fe465166f2d0",
   "metadata": {},
   "outputs": [],
   "source": [
    "my_list = list(range(1_000_000))\n",
    "my_array = np.arange(1_000_000)"
   ]
  },
  {
   "cell_type": "markdown",
   "id": "b59ccb09-6365-4870-a6b3-93babf75fd8e",
   "metadata": {},
   "source": [
    "Let's divide each sequence by 2 and compare the time difference. "
   ]
  },
  {
   "cell_type": "code",
   "execution_count": null,
   "id": "f9d9dcb6-dfe3-4ba9-bbbf-53e9d15f52b0",
   "metadata": {},
   "outputs": [],
   "source": [
    "%timeit [x / 2 for x in my_list]"
   ]
  },
  {
   "cell_type": "code",
   "execution_count": null,
   "id": "50d07319-883d-43d8-b556-8d6ec62f19f8",
   "metadata": {},
   "outputs": [],
   "source": [
    "%timeit my_array / 2"
   ]
  },
  {
   "cell_type": "markdown",
   "id": "e004197f-39f2-4d75-a5cc-93b4a9fdeb86",
   "metadata": {},
   "source": [
    "### Memory Efficiency\n",
    "\n",
    "A NumPy array is a collection of homogeneous data-types that are stored in **contiguous** memory locations. Homogenous data elements let the NumPy array be densely packed resulting in lesser memory consumption. For large numerical data, always use NumPy arrays for better memory efficiency and performance."
   ]
  },
  {
   "cell_type": "markdown",
   "id": "928bded2-fc9f-4266-8953-70d93b3624ae",
   "metadata": {
    "tags": []
   },
   "source": [
    "### Mathematical functions\n",
    "\n",
    "NumPy provides vectorized math operations, meaning they operate on entire arrays at once — much faster and cleaner than Python loops.\n",
    "\n",
    "| Function            | Description                               |\n",
    "| ------------------- | ----------------------------------------- |\n",
    "| `np.add(x, y)`      | Element-wise addition                     |\n",
    "| `np.subtract(x, y)` | Element-wise subtraction                  |\n",
    "| `np.multiply(x, y)` | Element-wise multiplication               |\n",
    "| `np.divide(x, y)`   | Element-wise division                     |\n",
    "| `np.power(x, y)`    | Raise elements of `x` to the power of `y` |\n",
    "| `np.mod(x, y)`      | Element-wise remainder                    |\n",
    "| `np.sqrt(x)`        | Square root of `x`                        |\n",
    "| `np.exp(x)`         | $e^x$                                     |\n",
    "| `np.log(x)`         | Natural logarithm $\\text{ln}(x)$                 |\n",
    "| `np.log10(x)`       | Base-10 logarithm                         |"
   ]
  },
  {
   "cell_type": "code",
   "execution_count": null,
   "id": "d0cccc0d-be8b-4d5a-b663-f59b2a90de4d",
   "metadata": {},
   "outputs": [],
   "source": [
    "x = np.array([10, 20, 30, 40])\n",
    "y = np.array([1, 2, 3, 4])\n",
    "\n",
    "print(\"Add:\", np.add(x, y))\n",
    "print(\"Subtract:\", np.subtract(x, y))\n",
    "print(\"Multiply:\", np.multiply(x, y))\n",
    "print(\"Divide:\", np.divide(x, y))\n",
    "print(\"Power:\", np.power(x, 2))\n",
    "print(\"Modulus:\", np.mod(x, y))\n",
    "print(\"Square root:\", np.sqrt(x))\n",
    "print(\"Exponentiation:\", np.exp(y))"
   ]
  },
  {
   "cell_type": "markdown",
   "id": "b25992d1-c907-4629-8347-0b308c244397",
   "metadata": {},
   "source": [
    "### Rounding Functions\n",
    "\n",
    "| Function         | Description                       |\n",
    "| ---------------- | --------------------------------- |\n",
    "| `np.round(x, n)` | Round to `n` decimal places       |\n",
    "| `np.floor(x)`    | Round **down** to nearest integer |\n",
    "| `np.ceil(x)`     | Round **up** to nearest integer   |\n",
    "| `np.trunc(x)`    | Truncate decimal part             |"
   ]
  },
  {
   "cell_type": "code",
   "execution_count": null,
   "id": "29503eed-d1f1-40f2-8eb9-94297deee3f6",
   "metadata": {},
   "outputs": [],
   "source": [
    "vals = np.array([1.234, 2.678, -3.456])\n",
    "\n",
    "print(\"Round to 2 decimals:\", np.round(vals, 2))\n",
    "print(\"Floor:\", np.floor(vals))\n",
    "print(\"Ceil:\", np.ceil(vals))\n",
    "print(\"Truncate:\", np.trunc(vals))"
   ]
  },
  {
   "cell_type": "markdown",
   "id": "eeb2cafa-3ac2-4b70-92bf-6614fcf87163",
   "metadata": {},
   "source": [
    "### Aggregation Functions\n",
    "\n",
    "Aggregate functions reduce an array to a single value or along a specified axis.\n",
    "\n",
    "| Function         | Purpose             |\n",
    "| ---------------- | ------------------- |\n",
    "| `np.size(arr)`   | N of all elements   |\n",
    "| `np.sum(arr)`    | Sum of all elements |\n",
    "| `np.mean(arr)`   | Mean (average)      |\n",
    "| `np.median(arr)` | Median              |\n",
    "| `np.std(arr)`    | Standard deviation  |\n",
    "| `np.var(arr)`    | Variance            |\n",
    "| `np.min(arr)`    | Minimum value       |\n",
    "| `np.max(arr)`    | Maximum value       |\n"
   ]
  },
  {
   "cell_type": "code",
   "execution_count": null,
   "id": "126f6c4c-032c-4c1b-a3c9-0d8f58d31086",
   "metadata": {},
   "outputs": [],
   "source": [
    "data = np.array([1, 3, 5, 7, 9])\n",
    "\n",
    "print(\"N:\", np.size(data))\n",
    "print(\"Sum:\", np.sum(data))\n",
    "print(\"Mean:\", np.mean(data))\n",
    "print(\"Median:\", np.median(data))\n",
    "print(\"Standard Deviation:\", np.std(data))\n",
    "print(\"Variance:\", np.var(data))\n",
    "print(\"Min:\", np.min(data))\n",
    "print(\"Max:\", np.max(data))"
   ]
  },
  {
   "cell_type": "markdown",
   "id": "e6fac9b9-2fd8-463a-b765-ceed3466458a",
   "metadata": {
    "jp-MarkdownHeadingCollapsed": true,
    "tags": []
   },
   "source": [
    "### Aggregate Functions with Different Axes\n",
    "\n",
    "For multidimensional arrays, `ndarray`, the NumPy aggregate functions can work with different axes. Let's go step-by-step to understand how aggregations like `sum()`, `mean()`, `max()`, etc., can **collapse** dimensions of arrays based on the axis you specify. \n",
    "\n",
    "The concept of axes is summarized in the following table:\n",
    "\n",
    "| Axis       | Meaning in a 2D array                                                                    |\n",
    "| ---------- | ---------------------------------------------------------------------------------------- |\n",
    "| **axis=0** | Operates **down the rows**, collapsing **rows**, result is **one value per column**      |\n",
    "| **axis=1** | Operates **across the columns**, collapsing **columns**, result is **one value per row** |\n",
    "\n",
    "They can be concisely denoted as: axis=0 ↓    axis=1 →.\n",
    "\n",
    "![Array Dimensions and Axes](../figures/array_dimensions_axes.png)\n",
    "\n",
    "Source: Vaughan, L. (2023) Python Tools for Scientists."
   ]
  },
  {
   "cell_type": "code",
   "execution_count": null,
   "id": "13524695-01f8-43a4-864e-e8d52a313101",
   "metadata": {},
   "outputs": [],
   "source": [
    "# Create a 3x4 array\n",
    "A = np.array([\n",
    "    [1, 2, 3, 4],\n",
    "    [5, 6, 7, 8],\n",
    "    [9, 10, 11, 12]\n",
    "])\n",
    "\n",
    "print(\"Array A:\\n\", A)\n",
    "print(\"\\nShape:\", A.shape)"
   ]
  },
  {
   "cell_type": "markdown",
   "id": "de1afad2-3ddf-4912-b556-55c44558dd9e",
   "metadata": {},
   "source": [
    "#### Example: `np.sum()` in 2D"
   ]
  },
  {
   "cell_type": "code",
   "execution_count": null,
   "id": "63261348-bbcb-4db4-8788-917b55615c6c",
   "metadata": {},
   "outputs": [],
   "source": [
    "# Sum across rows (axis=0)\n",
    "sum_axis0 = np.sum(A, axis=0)\n",
    "print(\"Sum along axis=0 ↓ (column-wise):\", sum_axis0)\n",
    "\n",
    "# Sum across columns (axis=1)\n",
    "sum_axis1 = np.sum(A, axis=1)\n",
    "print(\"Sum along axis=1 → (row-wise):\", sum_axis1)\n",
    "\n",
    "# Sum of all elements (no axis specified)\n",
    "total_sum = np.sum(A)\n",
    "print(\"Sum of all elements:\", total_sum)"
   ]
  },
  {
   "cell_type": "markdown",
   "id": "b7d4db5c-1f9e-4583-9f63-437440ee1a6b",
   "metadata": {},
   "source": [
    "#### Example: `np.sum()` in 3D"
   ]
  },
  {
   "cell_type": "code",
   "execution_count": null,
   "id": "cbd68304-cd98-4323-b1ca-d9c3d09905a6",
   "metadata": {},
   "outputs": [],
   "source": [
    "B = np.arange(1, 25).reshape(2, 3, 4)\n",
    "print(\"Array B:\\n\", B)\n",
    "print(\"Shape:\", B.shape)"
   ]
  },
  {
   "cell_type": "markdown",
   "id": "7cb06f44-8a72-4f50-adb2-6b80fbcc16e7",
   "metadata": {},
   "source": [
    "| Axis       | Meaning in 3D array                                             |\n",
    "| ---------- | --------------------------------------------------------------- |\n",
    "| **axis=0** | Operates **between blocks**, collapsing **the first dimension** |\n",
    "| **axis=1** | Operates **between rows** inside each block                     |\n",
    "| **axis=2** | Operates **between columns** inside each row                    |"
   ]
  },
  {
   "cell_type": "code",
   "execution_count": null,
   "id": "61a75ffa-5c2f-4325-8825-5ed81eb52f94",
   "metadata": {},
   "outputs": [],
   "source": [
    "print(\"Sum over axis=0:\\n\", np.sum(B, axis=0))  # Shape becomes (3,4)\n",
    "print(\"\\nSum over axis=1:\\n\", np.sum(B, axis=1))  # Shape becomes (2,4)\n",
    "print(\"\\nSum over axis=2:\\n\", np.sum(B, axis=2))  # Shape becomes (2,3)"
   ]
  },
  {
   "cell_type": "markdown",
   "id": "5b4eb094-8fd7-4a3e-8e52-a6c7b4576c14",
   "metadata": {
    "tags": []
   },
   "source": [
    "### In-Depth Illustration\n",
    "\n",
    "Imagine we are monitoring temperature readings (in °F) for 2 cities, over 3 days, at 4 different times per day:\n",
    "\n",
    "- Cities: [\"Austin\" \"Dallas\"]\n",
    "- Days: [\"Day 1\", \"Day 2\", \"Day 3\"]\n",
    "- Times per day: [\"Morning\", \"Afternoon\", \"Evening\", \"Night\"]\n",
    "\n",
    "Shape of Data\n",
    "- Shape = (2 cities, 3 days, 4 time slots)"
   ]
  },
  {
   "cell_type": "code",
   "execution_count": null,
   "id": "939ceb5c-dea7-4abe-8e51-4c98c9ac22a4",
   "metadata": {
    "tags": []
   },
   "outputs": [],
   "source": [
    "# Temperature readings: shape (2, 3, 4)\n",
    "temps = np.array([\n",
    "    # Austin (3 days x 4 times)\n",
    "    [\n",
    "        [85, 90, 88, 74],  # Day 1\n",
    "        [86, 96, 89, 85],  # Day 2\n",
    "        [81, 97, 90, 83]   # Day 3\n",
    "    ],\n",
    "\n",
    "    # Dallas (3 days x 4 times)\n",
    "    [\n",
    "        [82, 97, 95, 81],  # Day 1\n",
    "        [83, 98, 96, 82],  # Day 2\n",
    "        [84, 99, 92, 83]   # Day 3\n",
    "    ]\n",
    "])\n",
    "\n",
    "cities = [\"Austin\", \"Dallas\"]\n",
    "days = [\"Day 1\", \"Day 2\", \"Day 3\"]\n",
    "times = [\"Morning\", \"Afternoon\", \"Evening\", \"Night\"]\n",
    "\n",
    "print(\"Temperature Array:\\n\", temps)\n",
    "print(\"Shape:\", temps.shape)\n"
   ]
  },
  {
   "cell_type": "markdown",
   "id": "b94aa769-b7b8-4c88-838f-477b669f0126",
   "metadata": {
    "tags": []
   },
   "source": [
    "#### Understanding the Axes\n",
    "\n",
    "| Axis       | Represents                                 | Size |\n",
    "| ---------- | ------------------------------------------ | ---- |\n",
    "| **axis=0** | Cities                                     | 2    |\n",
    "| **axis=1** | Days                                       | 3    |\n",
    "| **axis=2** | Times (Morning, Afternoon, Evening, Night) | 4    |"
   ]
  },
  {
   "cell_type": "markdown",
   "id": "09d77105-2724-4ed4-bcf2-eb8c58d5e95d",
   "metadata": {},
   "source": [
    "We can access a specific element of `temps`:\n",
    "\n",
    "```python\n",
    "temps[city, day, time]\n",
    "```"
   ]
  },
  {
   "cell_type": "code",
   "execution_count": null,
   "id": "9ee4839a-7061-4b7e-b57b-c80acad3e5b3",
   "metadata": {
    "tags": []
   },
   "outputs": [],
   "source": [
    "# Temperature in Austin, Day 3, Morning\n",
    "\n",
    "austin_day3_morning = temps[0, 2, 0]\n",
    "print(\"Austin, Day 3, Morning:\", austin_day3_morning, \"°F\")"
   ]
  },
  {
   "cell_type": "markdown",
   "id": "fda4941c-b32d-4a5b-8e2a-bab47dae04c4",
   "metadata": {
    "tags": []
   },
   "source": [
    "#### Practice Exercise 5\n",
    "\n",
    "Collapse Across Days and Times → Mean per City. \n",
    "\n",
    "- We want to average across both days (axis=1) and times (axis=2), leaving only the city dimension. \n",
    "- Let's save the result as `mean_per_city`.\n",
    "- Print `mean_per_city`."
   ]
  },
  {
   "cell_type": "code",
   "execution_count": null,
   "id": "d6330b3c-a483-4f68-9628-36ab85462999",
   "metadata": {
    "tags": []
   },
   "outputs": [],
   "source": [
    "# YOUR CODE HERE\n"
   ]
  },
  {
   "cell_type": "markdown",
   "id": "bdb6cb4c-67b0-48ce-84a7-26133e60990c",
   "metadata": {},
   "source": [
    "#### Practice Exercise 6\n",
    "\n",
    "Collapse Across Cities and Times → Mean per Day.\n",
    "\n",
    "- Here, we average across axis=0 (cities) and axis=2 (times), keeping days.\n",
    "- Let's save the result as `mean_per_day`.\n",
    "- Print `mean_per_day`."
   ]
  },
  {
   "cell_type": "code",
   "execution_count": null,
   "id": "2450b84d-69ca-4ee4-bffd-da209e6f03bb",
   "metadata": {},
   "outputs": [],
   "source": [
    "# YOUR CODE HERE\n"
   ]
  },
  {
   "cell_type": "markdown",
   "id": "898b3b92-246a-45e4-bd5b-1c3637213613",
   "metadata": {},
   "source": [
    "#### Practice Exercise 7\n",
    "\n",
    "Collapse Across Cities and Days → Mean per Time Slot\n",
    "\n",
    "- Now, we average across axis=0 (cities) and axis=1 (days), leaving only time slots.\n",
    "- Let's save the result as `mean_per_time`\n",
    "- Print `mean_per_time`"
   ]
  },
  {
   "cell_type": "code",
   "execution_count": null,
   "id": "4f576499-c2ef-43dd-9801-47a267b2145a",
   "metadata": {},
   "outputs": [],
   "source": [
    "# YOUR CODE HERE\n"
   ]
  },
  {
   "cell_type": "markdown",
   "id": "1ecb8495-8d95-4f12-b06b-7864dabfd771",
   "metadata": {},
   "source": [
    "#### Collapse All Axes → Overall Mean\n",
    "\n",
    "If you omit axis, NumPy averages across all elements."
   ]
  },
  {
   "cell_type": "code",
   "execution_count": null,
   "id": "28151aa4-fd46-4c0d-b91e-4e2de4d6fa2d",
   "metadata": {},
   "outputs": [],
   "source": [
    "overall_mean = np.mean(temps)\n",
    "print(\"Overall average temperature:\", overall_mean.round(2))"
   ]
  },
  {
   "cell_type": "markdown",
   "id": "284c0b7b-aede-4cdc-b654-e9221f1de6ec",
   "metadata": {},
   "source": [
    "| Operation                                       | Code                         | Remaining Shape |\n",
    "| ----------------------------------------------- | ---------------------------- | --------------- |\n",
    "| Mean **per city** (collapse days + times)       | `np.mean(temps, axis=(1,2))` | `(2,)`          |\n",
    "| Mean **per day** (collapse cities + times)      | `np.mean(temps, axis=(0,2))` | `(3,)`          |\n",
    "| Mean **per time slot** (collapse cities + days) | `np.mean(temps, axis=(0,1))` | `(4,)`          |\n",
    "| Overall mean (collapse everything)              | `np.mean(temps)`             | Scalar          |"
   ]
  },
  {
   "cell_type": "markdown",
   "id": "b646c0b0-ddc7-4d23-b310-ad25c47316c9",
   "metadata": {
    "tags": []
   },
   "source": [
    "## Multidimensional Arrays (`ndarray`)\n",
    "\n",
    "One of the core objects in the NumPy library is the n-dimensional array object, **ndarray**. It represents a multidimensional, **homogeneous** array of elements and serves as a fundamental data structure for scientific computing in Python, enabling efficient storage, fast mathematical operations, and manipulation of large datasets."
   ]
  },
  {
   "cell_type": "markdown",
   "id": "d101f90d-70e6-4979-b401-0ee4fc0b5498",
   "metadata": {},
   "source": [
    "### Creating `ndarray`"
   ]
  },
  {
   "cell_type": "code",
   "execution_count": null,
   "id": "3d9ac892-394d-44e2-9ac1-42353308b5fd",
   "metadata": {},
   "outputs": [],
   "source": [
    "# Create a 2D array of shape (3, 4)\n",
    "arr2d = np.array([[1, 2, 3, 4], \n",
    "                  [5, 6, 7, 8], \n",
    "                  [9, 10, 11, 12]])\n",
    "print(arr2d)"
   ]
  },
  {
   "cell_type": "markdown",
   "id": "c6574b89-9c32-4ba0-a96e-542de58e4a6f",
   "metadata": {},
   "source": [
    "You can use the standard indexing to access (select or modify) a specific element a 2-d array using row index and column index."
   ]
  },
  {
   "cell_type": "code",
   "execution_count": null,
   "id": "f3aaadd3-9931-4000-ae22-9b4d8c9f824e",
   "metadata": {
    "tags": []
   },
   "outputs": [],
   "source": [
    "arr2d[2, 2] # Row 2, Column 2"
   ]
  },
  {
   "cell_type": "markdown",
   "id": "e6a30832-7568-4660-b750-18c79a08138c",
   "metadata": {},
   "source": [
    "Alternatively, we can access this 2-d array in two steps, or recursively."
   ]
  },
  {
   "cell_type": "code",
   "execution_count": null,
   "id": "ff2bbe95-cb19-432a-ba12-8072ac228182",
   "metadata": {
    "tags": []
   },
   "outputs": [],
   "source": [
    "arr2d[2][2] # Row 2, Column 2"
   ]
  },
  {
   "cell_type": "markdown",
   "id": "756cc1ad-6684-4d68-94f9-6a1cc14e19ef",
   "metadata": {},
   "source": [
    "To generalize this in a higher dimensional array, let's consider a 3-dimensional array of shape `(2, 3, 4)`. "
   ]
  },
  {
   "cell_type": "code",
   "execution_count": null,
   "id": "5f5b0397-88df-496f-b978-7048a9e14acb",
   "metadata": {},
   "outputs": [],
   "source": [
    "# Create a 3D array of shape (2, 3, 4)\n",
    "arr3d = np.array([\n",
    "    [\n",
    "        [1, 2, 3, 4],\n",
    "        [5, 6, 7, 8],\n",
    "        [9, 10, 11, 12]\n",
    "    ],\n",
    "    [\n",
    "        [13, 14, 15, 16],\n",
    "        [17, 18, 19, 20],\n",
    "        [21, 22, 23, 24]\n",
    "    ]\n",
    "])\n",
    "\n",
    "print(arr3d)"
   ]
  },
  {
   "cell_type": "markdown",
   "id": "aadf0804-31a5-4942-8364-28e0330cd2cd",
   "metadata": {},
   "source": [
    "Before we discuss how to access the elements of this array, can you think of a simpler (easier) way to create the same array? We can create an `ndarray` by reshaping a one-dimensional array as follows:"
   ]
  },
  {
   "cell_type": "code",
   "execution_count": null,
   "id": "2c2bfe09-c104-456d-b0f1-0d3dd3dbeaaf",
   "metadata": {},
   "outputs": [],
   "source": [
    "arr3d = np.arange(1, 25).reshape((2, 3, 4))\n",
    "print(arr3d)"
   ]
  },
  {
   "cell_type": "markdown",
   "id": "e4502801-c117-474b-9d55-d8c3d97476dc",
   "metadata": {},
   "source": [
    "Similar to the `range()` function, `np.arange()` returns evenly spaced values within a given interval.\n",
    "\n",
    "```python\n",
    "np.arange([start,] stop[, step,])\n",
    "```\n",
    "\n",
    "The only required argument is `stop`, and the interval is half-open or open on the right side, `[start, stop)`, excluding `stop`. Try `np.arange?` for more information"
   ]
  },
  {
   "cell_type": "markdown",
   "id": "8174e85c-f031-4742-857c-a1d023b64f7f",
   "metadata": {},
   "source": [
    "Now, `11` is in **Block** 0, **Row** 2, and **Column** 2. So, we can access the element as follows:"
   ]
  },
  {
   "cell_type": "code",
   "execution_count": null,
   "id": "1e51aca4-2747-41c1-b7bd-0469f9786d03",
   "metadata": {},
   "outputs": [],
   "source": [
    "arr3d[0, 2, 2] "
   ]
  },
  {
   "cell_type": "markdown",
   "id": "e5fd5b23-36b7-4e77-9dcc-17f22cfe50d2",
   "metadata": {},
   "source": [
    "or recursively"
   ]
  },
  {
   "cell_type": "code",
   "execution_count": null,
   "id": "49c1d75e-459e-43ff-acb9-5b655a0661c8",
   "metadata": {},
   "outputs": [],
   "source": [
    "arr3d[0][2][2]"
   ]
  },
  {
   "cell_type": "markdown",
   "id": "43c4b109-5536-4749-89f1-b1dcd585c1fa",
   "metadata": {},
   "source": [
    "The second method is a little slower but works as well."
   ]
  },
  {
   "cell_type": "markdown",
   "id": "231c2612-f4b8-4cbe-a99f-5cdf64fba377",
   "metadata": {},
   "source": [
    "### Special Functions for creating `ndarray` "
   ]
  },
  {
   "cell_type": "markdown",
   "id": "7a9c1de2-5d67-452f-a122-7cff00ebb826",
   "metadata": {},
   "source": [
    "Several helper functions are available in NumPy to generate special `ndarray` objects."
   ]
  },
  {
   "cell_type": "code",
   "execution_count": null,
   "id": "40ca1a23-bc0a-4055-ae03-7938f0a64107",
   "metadata": {},
   "outputs": [],
   "source": [
    "# Array of zeros\n",
    "zeros = np.zeros((2, 3))\n",
    "print(zeros)"
   ]
  },
  {
   "cell_type": "code",
   "execution_count": null,
   "id": "1508726f-9c38-4a61-8ad1-442de6291b11",
   "metadata": {},
   "outputs": [],
   "source": [
    "# Array of ones\n",
    "ones = np.ones((3, 2))\n",
    "print(ones)"
   ]
  },
  {
   "cell_type": "code",
   "execution_count": null,
   "id": "ca1172c2-4945-4705-815a-c7e3ee580a67",
   "metadata": {},
   "outputs": [],
   "source": [
    "# Array of a specific number\n",
    "full = np.full((3, 3), 99)\n",
    "print(full)"
   ]
  },
  {
   "cell_type": "code",
   "execution_count": null,
   "id": "ec461b5e-4e94-4006-84ec-e2f47668f2de",
   "metadata": {},
   "outputs": [],
   "source": [
    "# Identity matrix 3x3\n",
    "I = np.eye(3)\n",
    "print(I)"
   ]
  },
  {
   "cell_type": "markdown",
   "id": "924b2c6c-f6c8-4a52-918c-7289f8d6d127",
   "metadata": {
    "tags": []
   },
   "source": [
    "### Array Attributes\n",
    "\n",
    "NumPy ndarrays have several **attributes** that are easily accessible and can be retrieved as follows:"
   ]
  },
  {
   "cell_type": "code",
   "execution_count": null,
   "id": "492354da-0da0-4e9f-aee3-245d6f56ce6b",
   "metadata": {},
   "outputs": [],
   "source": [
    "arr = np.array([[1, 2, 3], \n",
    "                [4, 5, 6]])\n",
    "\n",
    "print(arr.shape)  # (2, 3)\n",
    "print(arr.ndim)   # 2 dimensions\n",
    "print(arr.size)   # 6 elements\n",
    "print(arr.dtype)  # data type\n"
   ]
  },
  {
   "cell_type": "markdown",
   "id": "d9d797c2-c275-4c50-afaa-c0bd8cc0770f",
   "metadata": {
    "tags": []
   },
   "source": [
    "### Indexing and Slicing `ndarray`\n",
    "\n",
    "![Slicing a 2D array](../figures/slicing_2d_array.png)\n",
    "\n",
    "Source: Vaughan, L. (2023) Python Tools for Scientists."
   ]
  },
  {
   "cell_type": "markdown",
   "id": "8ba2a10a-c87d-469c-a656-75bde439a270",
   "metadata": {},
   "source": [
    "#### Indexing a 1D Array"
   ]
  },
  {
   "cell_type": "code",
   "execution_count": null,
   "id": "74e932ae-1e2a-4570-8caf-17875cfd9c0b",
   "metadata": {},
   "outputs": [],
   "source": [
    "arr = np.array([10, 20, 30, 40, 50])\n",
    "\n",
    "# Indexing\n",
    "print(arr[0])   # 10\n",
    "print(arr[-1])  # 50\n",
    "\n",
    "# Slicing\n",
    "print(arr[1:4])   # [20 30 40]\n",
    "print(arr[:3])    # [10 20 30]\n",
    "print(arr[::2])   # [10 30 50]"
   ]
  },
  {
   "cell_type": "markdown",
   "id": "ae61006e-8b3f-4b5c-a795-1343182a8a20",
   "metadata": {
    "tags": []
   },
   "source": [
    "#### Boolean Indexing and Filtering"
   ]
  },
  {
   "cell_type": "code",
   "execution_count": null,
   "id": "7e8f0c96-2d07-429a-9b99-b2a448c03f8e",
   "metadata": {
    "tags": []
   },
   "outputs": [],
   "source": [
    "arr = np.array([10, 20, 30, 40, 50])\n",
    "\n",
    "# Condition\n",
    "mask = arr > 25\n",
    "print(mask)          # [False False  True  True  True]\n",
    "print(arr[mask])     # [30 40 50]\n",
    "\n",
    "# Combine conditions\n",
    "print(arr[(arr > 20) & (arr < 50)])  # [30 40]\n"
   ]
  },
  {
   "cell_type": "markdown",
   "id": "851816da-3a39-4d09-9b43-b182becbe45b",
   "metadata": {},
   "source": [
    "#### Indexing a 2D Array"
   ]
  },
  {
   "cell_type": "code",
   "execution_count": null,
   "id": "ff9762a2-9b33-4aff-b782-3d258eae3d81",
   "metadata": {},
   "outputs": [],
   "source": [
    "arr2d = np.array([\n",
    "    [10, 20, 30, 40],\n",
    "    [50, 60, 70, 80],\n",
    "    [90, 100, 110, 120]\n",
    "])\n",
    "\n",
    "print(arr2d[0, 1])    # 20\n",
    "print(arr2d[:, 1])    # all rows, column 1 -> [20 60 100]\n",
    "print(arr2d[1, :])    # all columns, row 1 -> [50 60 70 80]"
   ]
  },
  {
   "cell_type": "markdown",
   "id": "e33db384-b245-4f70-ae51-6481282f8c79",
   "metadata": {},
   "source": [
    "#### Fancy Indexing (Using Lists/Arrays of Indices)\n",
    "\n",
    "Fancy indexing in NumPy refers to advanced indexing where you use arrays or lists of indices (instead of just slices or single integers) to access or modify multiple elements of a NumPy array at once."
   ]
  },
  {
   "cell_type": "code",
   "execution_count": null,
   "id": "c033790b-efc1-44bf-a226-3f565b3cbead",
   "metadata": {},
   "outputs": [],
   "source": [
    "# Selecting specific rows\n",
    "\n",
    "print(arr2d[[0, 2]])  # Select rows 0 and 2"
   ]
  },
  {
   "cell_type": "code",
   "execution_count": null,
   "id": "e890efa9-3ddc-400e-85ba-b1f3fcda9aa2",
   "metadata": {},
   "outputs": [],
   "source": [
    "# Selecting specific rows\n",
    "\n",
    "print(arr2d[:, [1, 3]]) # Select columns 1 and 3"
   ]
  },
  {
   "cell_type": "code",
   "execution_count": null,
   "id": "f2742fbc-3826-44d1-b02b-777d49cd4976",
   "metadata": {},
   "outputs": [],
   "source": [
    "# Selecting specific (row, column) pairs\n",
    "\n",
    "print(arr2d[[0, 1, 2], [3, 2, 1]]) # Picks (0,3), (1,2), (2,1) → [40, 70, 100]"
   ]
  },
  {
   "cell_type": "markdown",
   "id": "a5223740-5e51-4cd2-b8d0-16950e8b9e7f",
   "metadata": {},
   "source": [
    "#### Mixing Slicing and Fancy Indexing\n",
    "\n",
    "You can combine slicing and fancy indexing for more complex selections."
   ]
  },
  {
   "cell_type": "code",
   "execution_count": null,
   "id": "09df1690-2361-4afd-94e5-be936c0557a3",
   "metadata": {},
   "outputs": [],
   "source": [
    "\n",
    "print(arr2d[0:2, [1, 3]])  # Select rows 0 and 1, columns 1 and 3"
   ]
  },
  {
   "cell_type": "markdown",
   "id": "908df621-8f66-4291-b87a-e15d1acb42c7",
   "metadata": {
    "tags": []
   },
   "source": [
    "#### Reshaping and Stacking"
   ]
  },
  {
   "cell_type": "code",
   "execution_count": null,
   "id": "8ad67898-0eeb-4a4d-b379-32e57e784c39",
   "metadata": {
    "tags": []
   },
   "outputs": [],
   "source": [
    "arr = np.arange(1, 13)  # 1D array with 12 elements\n",
    "\n",
    "# Reshape\n",
    "arr2d = arr.reshape(3, 4)\n",
    "print(arr2d)\n",
    "\n",
    "# Flatten\n",
    "print(arr2d.flatten())\n",
    "\n",
    "# Stacking\n",
    "a = np.array([1, 2])\n",
    "b = np.array([3, 4])\n",
    "print(np.vstack((a, b)))  # vertical\n",
    "print(np.hstack((a, b)))  # horizontal\n"
   ]
  },
  {
   "cell_type": "markdown",
   "id": "5399740e-3326-490d-af54-45bf501e65c8",
   "metadata": {},
   "source": [
    "#### Summary of Indexing Methods\n",
    "\n",
    "| Method               | Example         | Use Case              |\n",
    "| -------------------- | --------------- | --------------------- |\n",
    "| **Basic indexing**   | `arr[1, 2]`     | Single element        |\n",
    "| **Row slice**        | `arr[1, :]`     | All columns of a row  |\n",
    "| **Column slice**     | `arr[:, 2]`     | All rows of a column  |\n",
    "| **Submatrix slice**  | `arr[0:2, 1:3]` | Subset block          |\n",
    "| **Negative index**   | `arr[-1, -1]`   | Last row/column       |\n",
    "| **Fancy indexing**   | `arr[:, [1,3]]` | Specific columns      |\n",
    "| **Boolean indexing** | `arr[arr>50]`   | Conditional selection |\n"
   ]
  },
  {
   "cell_type": "markdown",
   "id": "102ef3b3-63d0-4d78-9383-509bd3cfa163",
   "metadata": {},
   "source": [
    "### View, Shallow Copy, and Deep Copy\n",
    "\n",
    "In NumPy, understanding views, shallow copies, and deep copies is crucial because they determine how data is shared or duplicated in memory. These concepts affect performance, memory usage, and unexpected changes to arrays."
   ]
  },
  {
   "cell_type": "markdown",
   "id": "9bb14478-a7a2-46f3-b0c8-9351f4228e85",
   "metadata": {},
   "source": [
    "### View in NumPy\n",
    "\n",
    "A view is a different array object that shares the same data in memory with the original array.\n",
    "\n",
    "- No data is copied.\n",
    "- Changes made in one will reflect in the other.\n",
    "\n",
    "Created using:\n",
    "- Slicing (arr[1:4])\n",
    "- reshape() (sometimes)\n",
    "- .view() method"
   ]
  },
  {
   "cell_type": "code",
   "execution_count": null,
   "id": "146e659d-77b8-4497-a47d-949b4b5bad8e",
   "metadata": {},
   "outputs": [],
   "source": [
    "# Example: View via Slicing\n",
    "\n",
    "a = np.array([1, 2, 3, 4, 5])\n",
    "b = a[1:4]   # view\n",
    "b[0] = 99    # change in view affects the original\n",
    "\n",
    "print(\"Original array:\", a)  # [ 1 99  3  4  5 ]\n",
    "print(\"View array:\", b)      # [99  3  4]"
   ]
  },
  {
   "cell_type": "markdown",
   "id": "f9badad9-d2e5-4a48-83bb-654d211fe43d",
   "metadata": {},
   "source": [
    "✔️  **Key point**: Both `a` and `b` share the same underlying data buffer."
   ]
  },
  {
   "cell_type": "markdown",
   "id": "f5088647-03b2-40ef-a3db-68bafd5981e2",
   "metadata": {},
   "source": [
    "#### Shallow Copy\n",
    "\n",
    "A shallow copy creates a new array object, but the data buffer is still shared.\n",
    "\n",
    "- Think of it as a view with its own metadata, such as shape or dtype.\n",
    "- Changes to the data affect both arrays.\n",
    "- Changes to the shape of one don’t affect the other.\n",
    "\n",
    "Created using:\n",
    "- ndarray.view()\n",
    "- Certain functions like reshape() (if possible)"
   ]
  },
  {
   "cell_type": "code",
   "execution_count": null,
   "id": "3fceef38-95f6-47ab-8263-a57b87253223",
   "metadata": {},
   "outputs": [],
   "source": [
    "# Example: Shallow Copy\n",
    "\n",
    "a = np.array([[1, 2, 3], \n",
    "              [4, 5, 6]])\n",
    "\n",
    "b = a.view()  # shallow copy\n",
    "\n",
    "b.shape = (3, 2)  # metadata change only affects `b`\n",
    "\n",
    "print(\"Shape of a:\", a.shape)  # (2, 3)\n",
    "print(\"Shape of b:\", b.shape)  # (3, 2)\n",
    "\n",
    "b[0, 0] = 99\n",
    "print(\"\\nOriginal array:\\n\", a)"
   ]
  },
  {
   "cell_type": "markdown",
   "id": "e47f71c6-03fd-472a-bb1a-9ff0d24cc2bc",
   "metadata": {},
   "source": [
    "✔️ **Key point**: The shape was independent, but data changes are shared."
   ]
  },
  {
   "cell_type": "markdown",
   "id": "6cadcc8e-93c5-4135-8e3d-a01975d340ff",
   "metadata": {},
   "source": [
    "#### Deep Copy\n",
    "\n",
    "A deep copy creates a completely new array and data buffer.\n",
    "- No data sharing between the original and the copy.\n",
    "- Safe for independent modifications.\n",
    "\n",
    "Created using:\n",
    "- np.copy()\n",
    "- ndarray.copy()"
   ]
  },
  {
   "cell_type": "code",
   "execution_count": null,
   "id": "fec829bc-d7af-4c28-b971-14bb64a0c0f8",
   "metadata": {},
   "outputs": [],
   "source": [
    "# Example: Deep Copy\n",
    "\n",
    "a = np.array([1, 2, 3, 4, 5])\n",
    "b = a.copy()   # deep copy\n",
    "\n",
    "b[0] = 99\n",
    "print(\"Original array:\", a)  # [1 2 3 4 5]\n",
    "print(\"Deep copy:\", b)       # [99  2  3  4  5]"
   ]
  },
  {
   "cell_type": "markdown",
   "id": "6cd19685-09ab-452c-955a-448eccbfad27",
   "metadata": {},
   "source": [
    "✔️ **Key point**: Changes to `b` do **NOT** affect `a`."
   ]
  },
  {
   "cell_type": "markdown",
   "id": "e336523c-c7e5-470d-b3e8-57e6bbdf3ef2",
   "metadata": {},
   "source": [
    "#### Comparison of Shallow and Deep Copy\n",
    "\n",
    "| **Feature**        | **View** (Slice) | **Shallow Copy (`.view()`)** | **Deep Copy (`.copy()`)** |\n",
    "| ------------------ | ---------------- | ---------------------------- | ------------------------- |\n",
    "| New object created | ✅ Yes            | ✅ Yes                        | ✅ Yes                     |\n",
    "| Shares data buffer | ✅ Yes            | ✅ Yes                        | ❌ No                      |\n",
    "| Shape independence | ❌ No (linked)    | ✅ Yes                        | ✅ Yes                     |\n",
    "| Data independence  | ❌ No             | ❌ No                         | ✅ Yes                     |\n",
    "| Speed              | ⚡ Very Fast      | ⚡ Very Fast                  | 🐢 Slower (data copied)   |\n"
   ]
  },
  {
   "cell_type": "markdown",
   "id": "2fd95d8f-b947-4ab0-bdd2-06f9f012d22a",
   "metadata": {},
   "source": [
    "#### When to Use Which\n",
    "\n",
    "| **Scenario**                         | **Recommended**                                  |\n",
    "| ------------------------------------ | ------------------------------------------------ |\n",
    "| Large datasets, performance critical | **View** or **Shallow Copy** (avoid duplication) |\n",
    "| Data must remain unchanged and safe  | **Deep Copy**                                    |\n",
    "| Modifying shape only, not data       | **Shallow Copy**                                 |\n",
    "| Completely independent copy needed   | **Deep Copy**                                    |"
   ]
  },
  {
   "cell_type": "markdown",
   "id": "4232b344-bd68-4423-a25a-fa43bd1b8d8f",
   "metadata": {},
   "source": [
    "### Array Arithmetic\n",
    "\n",
    "Computation with NumPy arrays is vectorized, meaning you can perform arithmetic operations using simple mathematical and logical operators."
   ]
  },
  {
   "cell_type": "code",
   "execution_count": null,
   "id": "cdd37fca-ffc8-4900-8c9f-96dffcf09822",
   "metadata": {},
   "outputs": [],
   "source": [
    "A = np.arange(1, 10).reshape((3, 3))\n",
    "A"
   ]
  },
  {
   "cell_type": "code",
   "execution_count": null,
   "id": "7ce30e1d-5749-4909-8e3c-31cf89c1c8fd",
   "metadata": {},
   "outputs": [],
   "source": [
    "B = np.arange(9, 0, -1).reshape((3, 3))\n",
    "B"
   ]
  },
  {
   "cell_type": "code",
   "execution_count": null,
   "id": "0441a5a5-4464-42fb-9549-f3b10754f1d3",
   "metadata": {},
   "outputs": [],
   "source": [
    "A + B"
   ]
  },
  {
   "cell_type": "code",
   "execution_count": null,
   "id": "3711703d-2e32-4fd9-bc20-ecacf0da71df",
   "metadata": {},
   "outputs": [],
   "source": [
    "B - A"
   ]
  },
  {
   "cell_type": "code",
   "execution_count": null,
   "id": "4f800563-5751-41c4-9f05-2fd44ba9ad58",
   "metadata": {},
   "outputs": [],
   "source": [
    "A * B"
   ]
  },
  {
   "cell_type": "code",
   "execution_count": null,
   "id": "08cb150d-0005-4ca2-ac7c-77633add6da6",
   "metadata": {},
   "outputs": [],
   "source": [
    "A / B"
   ]
  },
  {
   "cell_type": "code",
   "execution_count": null,
   "id": "15f77286-fd21-4962-b86f-f3b2d7de1427",
   "metadata": {
    "tags": []
   },
   "outputs": [],
   "source": [
    "A > B"
   ]
  },
  {
   "cell_type": "markdown",
   "id": "6004703b-e4a3-49c1-9602-a32190d6c4f5",
   "metadata": {},
   "source": [
    "### Array Broadcasting\n",
    "\n",
    "There are a set of strict rules for how computations involving two arrays are performed in NumPy.\n",
    "\n",
    "![Rules of Broadcasting](../figures/broadcasting.png)\n",
    "\n",
    "Source: Jake VanderPlas (2023). Python Data Science Handbook"
   ]
  },
  {
   "cell_type": "markdown",
   "id": "22db745b-dbec-472a-8f02-02f1ad5a0875",
   "metadata": {},
   "source": [
    "#### Rule 1\n",
    "\n",
    "If the two arrays differ in their number of dimensions, the shape of the one with fewer dimensions is padded with ones on its leading (left) side."
   ]
  },
  {
   "cell_type": "code",
   "execution_count": null,
   "id": "7c9642e0-c96d-48db-be75-3d17fe2e0bf7",
   "metadata": {},
   "outputs": [],
   "source": [
    "np.arange(3) + 5"
   ]
  },
  {
   "cell_type": "markdown",
   "id": "e40c276c-0a1f-485c-9262-620762c8dd05",
   "metadata": {},
   "source": [
    "#### Rule 2\n",
    "If the shape of the two arrays does not match in any dimension, the array with shape equal to 1 in that dimension is stretched to match the other shape."
   ]
  },
  {
   "cell_type": "code",
   "execution_count": null,
   "id": "ab73b0d1-c816-4fd0-972c-3fad3c09924e",
   "metadata": {},
   "outputs": [],
   "source": [
    "np.ones((3, 3)) + np.arange(3)"
   ]
  },
  {
   "cell_type": "code",
   "execution_count": null,
   "id": "d66d626c-7d8b-4bbb-82d1-4b8f43f43509",
   "metadata": {},
   "outputs": [],
   "source": [
    "np.arange(3).reshape((3, 1)) + np.arange(3)"
   ]
  },
  {
   "cell_type": "markdown",
   "id": "efc5a1c6-a287-46a4-b7c6-b5101373a7da",
   "metadata": {},
   "source": [
    "#### Rule 3\n",
    "\n",
    "If in any dimension the sizes disagree and neither is equal to 1, an error is raised."
   ]
  },
  {
   "cell_type": "markdown",
   "id": "4f386139-0e29-4925-b744-f2db62ae3570",
   "metadata": {},
   "source": [
    "```python\n",
    "np.ones((3, 3)) + np.zeros((4, 4))\n",
    "\n",
    "ValueError: operands could not be broadcast together with shapes (3,3) (4,4)\n",
    "```"
   ]
  },
  {
   "cell_type": "markdown",
   "id": "4c5152d7-c90f-465a-b2c6-9cbd6a4f8b2f",
   "metadata": {
    "tags": []
   },
   "source": [
    "### Random Number Functions\n",
    "\n",
    "NumPy provides a powerful random module to generate random numbers from a variety of distributions.\n",
    "\n",
    "| Function                             | Description                    |\n",
    "| ------------------------------------ | ------------------------------ |\n",
    "| `np.random.rand(n)`                  | Uniform random numbers \\[0,1)  |\n",
    "| `np.random.randn(n)`                 | Standard normal distribution   |\n",
    "| `np.random.normal(loc, scale, size)` | Normal distribution ($\\mu$, $\\sigma$, $N$) |\n",
    "| `np.random.randint(low, high, size)` | Random integers                |\n",
    "| `np.random.choice(arr)`              | Random selection from an array |\n"
   ]
  },
  {
   "cell_type": "markdown",
   "id": "0b0893b2-f761-4503-99e6-e7b6542dfd5d",
   "metadata": {
    "tags": []
   },
   "source": [
    "### Reproducing Random Numbers\n",
    "\n",
    "Random number generators produce pseudo-random numbers. As a result, the \"random\" numbers from these functions can be reproduced if given a specific seed number. This is useful for replication purposes."
   ]
  },
  {
   "cell_type": "code",
   "execution_count": null,
   "id": "e285b7cc-593a-475a-b5fa-b98fb183453c",
   "metadata": {
    "tags": []
   },
   "outputs": [],
   "source": [
    "# Create a random generator with a fixed seed\n",
    "rng = np.random.default_rng(seed=2222)\n",
    "\n",
    "# Generate 10 random numbers from N(μ=50, σ=5)\n",
    "random_numbers = rng.normal(loc=50, scale=5, size=10)\n",
    "print(random_numbers)"
   ]
  },
  {
   "cell_type": "markdown",
   "id": "1b8df71a-fd23-47a1-884a-1a934d5134f1",
   "metadata": {},
   "source": [
    "### Visualizing Random Numbers"
   ]
  },
  {
   "cell_type": "code",
   "execution_count": null,
   "id": "cc15aca7-3177-45e8-82cd-cbecebc1a040",
   "metadata": {},
   "outputs": [],
   "source": [
    "import matplotlib.pyplot as plt\n",
    "\n",
    "rng = np.random.default_rng(seed=2222)\n",
    "data = rng.normal(loc=50, scale=5, size=1000)\n",
    "\n",
    "plt.hist(data, bins=30, edgecolor='black')\n",
    "plt.title(\"Normal Distribution (μ=50, σ=5)\")\n",
    "plt.xlabel(\"Value\")\n",
    "plt.ylabel(\"Frequency\")\n",
    "plt.show()"
   ]
  },
  {
   "cell_type": "markdown",
   "id": "4a0a02e5-e99b-4031-aaf0-9c97fba78b5d",
   "metadata": {
    "tags": []
   },
   "source": [
    "### Matrix Operations\n",
    "\n",
    "The following table summarizes matrix operations that are commonly used in numerical and statistical analyses:\n",
    "\n",
    "| Operation             | NumPy Function          |\n",
    "| --------------------- | ----------------------- |\n",
    "| Addition              | `+`                     |\n",
    "| Subtraction           | `-`                     |\n",
    "| Scalar Multiplication | `*`                     |\n",
    "| Matrix Multiplication | `@` or `np.dot`         |\n",
    "| Transpose             | `.T`                    |\n",
    "| Determinant           | `np.linalg.det`         |\n",
    "| Inverse               | `np.linalg.inv`         |\n",
    "| Rank                  | `np.linalg.matrix_rank` |\n",
    "| Solve Equations       | `np.linalg.solve`       |\n",
    "| Eigenvalues/Vectors   | `np.linalg.eig`         |\n",
    "| SVD                   | `np.linalg.svd`         |\n"
   ]
  },
  {
   "cell_type": "code",
   "execution_count": null,
   "id": "e2af5af4-df3d-4718-98f4-fd6718e0fd51",
   "metadata": {},
   "outputs": [],
   "source": [
    "A = np.array([[1, 2], \n",
    "              [3, 4]])\n",
    "\n",
    "B = np.array([[5, 6], \n",
    "              [7, 8]])\n",
    "\n",
    "# Element-wise multiplication\n",
    "print(A * B)"
   ]
  },
  {
   "cell_type": "code",
   "execution_count": null,
   "id": "fb0156e7-3655-4c5a-b997-5c15b1f22701",
   "metadata": {},
   "outputs": [],
   "source": [
    "# Matrix multiplication\n",
    "print(A @ B)"
   ]
  },
  {
   "cell_type": "code",
   "execution_count": null,
   "id": "22999943-dc34-4a19-b2fe-198ee5492c2b",
   "metadata": {},
   "outputs": [],
   "source": [
    "# Matrix multiplication with `dot()`\n",
    "print(np.dot(A, B))"
   ]
  },
  {
   "cell_type": "code",
   "execution_count": null,
   "id": "3b93279d-b7f4-401c-94b9-52dacb205a12",
   "metadata": {},
   "outputs": [],
   "source": [
    "# Transpose\n",
    "print(A.T)"
   ]
  },
  {
   "cell_type": "markdown",
   "id": "4eee0abc-d8ae-45bc-bb70-f57e24e859fe",
   "metadata": {},
   "source": [
    "### Matrix Algebra\n",
    "\n",
    "Matrix algebra is essential in many areas such as:\n",
    "\n",
    "- Machine learning\n",
    "- Data science\n",
    "- Computer graphics\n",
    "- Statistics and optimization\n",
    "\n",
    "NumPy makes it very efficient to handle matrices and perform linear algebra operations.\n",
    "\n",
    "In NumPy:\n",
    "- Vectors → 1D arrays\n",
    "- Matrices → 2D arrays (numpy.ndarray)\n",
    "- Higher-order tensors → 3D or more dimensional arrays"
   ]
  },
  {
   "cell_type": "markdown",
   "id": "1083b67c-1a13-4395-b21d-4b6d6fe4bde6",
   "metadata": {},
   "source": [
    "### Creating Matrices"
   ]
  },
  {
   "cell_type": "code",
   "execution_count": null,
   "id": "eb06e416-0342-4431-a544-5f470c888342",
   "metadata": {
    "tags": []
   },
   "outputs": [],
   "source": [
    "# Manually create a matrix\n",
    "A = np.array([[1, 2], [3, 4]])\n",
    "print(\"Matrix A:\\n\", A)\n",
    "\n",
    "# Zeros and ones matrices\n",
    "zero_matrix = np.zeros((2, 3))\n",
    "ones_matrix = np.ones((3, 3))\n",
    "print(\"\\nZero Matrix:\\n\", zero_matrix)\n",
    "print(\"\\nOnes Matrix:\\n\", ones_matrix)\n",
    "\n",
    "# Zeros and ones matching the shape of another array\n",
    "zero_like_A = np.zeros_like(A)\n",
    "ones_like_A = np.ones_like (A)\n",
    "print(\"\\nZero Like A:\\n\", zero_like_A)\n",
    "print(\"\\nOnes Like A:\\n\", ones_like_A)\n",
    "\n",
    "# Identity matrix\n",
    "I = np.eye(3)\n",
    "print(\"\\nIdentity Matrix:\\n\", I)\n",
    "\n",
    "# Random matrix\n",
    "random_matrix = np.random.rand(2, 2) # uniform distribution (0, 1)\n",
    "print(\"\\nRandom Matrix:\\n\", random_matrix)"
   ]
  },
  {
   "cell_type": "markdown",
   "id": "7446a2a1-3111-4e11-804c-103addaeb1ac",
   "metadata": {},
   "source": [
    "### Matrix Properties"
   ]
  },
  {
   "cell_type": "code",
   "execution_count": null,
   "id": "b7d7fbbf-499b-4520-95f1-1f03d3df88ef",
   "metadata": {},
   "outputs": [],
   "source": [
    "print(\"Shape of A:\", A.shape, \"\\n\")\n",
    "print(\"Transpose of A:\\n\", A.T, \"\\n\")\n",
    "print(\"Flatten A:\", A.flatten())"
   ]
  },
  {
   "cell_type": "markdown",
   "id": "cc3ec24c-c751-4688-b5b1-bf045f93c7c1",
   "metadata": {},
   "source": [
    "A brief aside: we can recreate the `flatten()` function using a list comprehension."
   ]
  },
  {
   "cell_type": "code",
   "execution_count": null,
   "id": "c86471cb-05ba-4e97-9176-559f3ffc0115",
   "metadata": {},
   "outputs": [],
   "source": [
    "[x for row in A for x in row]"
   ]
  },
  {
   "cell_type": "markdown",
   "id": "698a34ce-e8b3-4c97-b32f-ea6cc8fc6b8e",
   "metadata": {},
   "source": [
    "Can you flatten this?"
   ]
  },
  {
   "cell_type": "code",
   "execution_count": null,
   "id": "e6ecc0e7-50f7-4dd8-b1d6-6daa7a54e360",
   "metadata": {},
   "outputs": [],
   "source": [
    "A = np.array([\n",
    "    [\n",
    "        [1, 2, 3, 4],\n",
    "        [5, 6, 7, 8],\n",
    "        [9, 10, 11, 12]\n",
    "    ],\n",
    "    [\n",
    "        [13, 14, 15, 16],\n",
    "        [17, 18, 19, 20],\n",
    "        [21, 22, 23, 24]\n",
    "    ]\n",
    "])"
   ]
  },
  {
   "cell_type": "code",
   "execution_count": null,
   "id": "f3323b71-4355-48a4-86a1-0f511dd20aae",
   "metadata": {},
   "outputs": [],
   "source": [
    "A.flatten()"
   ]
  },
  {
   "cell_type": "markdown",
   "id": "7f5ab520-3d94-4ae7-b6ab-13ef6be896ee",
   "metadata": {},
   "source": [
    "I mean using a list comprehension."
   ]
  },
  {
   "cell_type": "code",
   "execution_count": null,
   "id": "f23bb6c5-4ef6-4768-8216-07c43062b32d",
   "metadata": {},
   "outputs": [],
   "source": [
    "np.array([val for depth in A for row in depth for val in row])"
   ]
  },
  {
   "cell_type": "markdown",
   "id": "6d07fbf3-d5fb-4e71-b50f-785d0805d960",
   "metadata": {},
   "source": [
    "### Matrix Multiplication"
   ]
  },
  {
   "cell_type": "code",
   "execution_count": null,
   "id": "6ab6cdca-475d-4385-bad3-cdaee4187a4b",
   "metadata": {},
   "outputs": [],
   "source": [
    "A = np.array([[1, 2], [3, 4]])\n",
    "print(\"Matrix A:\\n\", A, \"\\n\")\n",
    "\n",
    "B = np.array([[5, 6], [7, 8]])\n",
    "print(\"Matrix B:\\n\", B)\n",
    "\n",
    "# Element-wise multiplication\n",
    "print(\"\\nElement-wise A * B:\\n\", A * B)\n",
    "\n",
    "# Matrix multiplication\n",
    "print(\"\\nMatrix multiplication (A @ B):\\n\", A @ B)\n",
    "\n",
    "# Matrix multiplication A.dot(B)\n",
    "print(\"\\nMatrix multiplication (A.dot(B)):\\n\", A.dot(B))"
   ]
  },
  {
   "cell_type": "markdown",
   "id": "f3977ca4-0638-41d2-bd53-6e1a51404820",
   "metadata": {},
   "source": [
    "### Determinant, Inverse, and Rank"
   ]
  },
  {
   "cell_type": "code",
   "execution_count": null,
   "id": "39092fd0-01aa-44c5-9fc9-0ea6ca3b45af",
   "metadata": {},
   "outputs": [],
   "source": [
    "det_A = np.linalg.det(A)\n",
    "print(\"Determinant of A:\", det_A)\n",
    "\n",
    "# Inverse of A\n",
    "A_inv = np.linalg.inv(A)\n",
    "print(\"\\nInverse of A:\\n\", A_inv)\n",
    "\n",
    "# Verify A @ A_inv = Identity\n",
    "print(\"\\nA @ A_inv:\\n\", A @ A_inv)\n",
    "\n",
    "# Rank of A\n",
    "rank_A = np.linalg.matrix_rank(A)\n",
    "print(\"\\nRank of A:\", rank_A)"
   ]
  },
  {
   "cell_type": "markdown",
   "id": "5999b209-6fc1-4a7f-a474-8d14c02a1a59",
   "metadata": {},
   "source": [
    "The rank of a matrix is the maximum number of linearly independent rows or columns it contains, which is equivalent to the dimension of the vector space spanned by its rows or columns."
   ]
  },
  {
   "cell_type": "markdown",
   "id": "76c29a8b-ae0f-4450-9e55-6a017b147ca5",
   "metadata": {},
   "source": [
    "### Eigenvalues and Eigenvectors\n",
    "\n",
    "$$Av=λv$$"
   ]
  },
  {
   "cell_type": "code",
   "execution_count": null,
   "id": "8849b331-13e6-4a67-acd4-b79e54daa4fa",
   "metadata": {},
   "outputs": [],
   "source": [
    "A = np.array([[4, 2],\n",
    "              [1, 3]])\n",
    "\n",
    "eigenvalues, eigenvectors = np.linalg.eig(A)\n",
    "\n",
    "print(\"Eigenvalues (λ):\", eigenvalues)\n",
    "print(\"\\nEigenvectors (v):\\n\", eigenvectors)"
   ]
  },
  {
   "cell_type": "markdown",
   "id": "739955b9-c402-4f11-9e43-739366f158b1",
   "metadata": {},
   "source": [
    "### Practice Exercise 8\n",
    "\n",
    "Create two 3×3 matrices `M1` and `M2` with random **integers** between 1 and 10 (`np.random.randint(min, max, (shape))`).\n",
    "\n",
    "Compute: \n",
    "   - `M1 + M2`\n",
    "   - `M1 - M2`\n",
    "   - Element-wise multiplication\n",
    "   - Matrix multiplication `M1 @ M2`"
   ]
  },
  {
   "cell_type": "markdown",
   "id": "1cadb0ff-295e-429c-bf92-679e465e09e3",
   "metadata": {},
   "source": [
    "The expected results should resemble the following (note that the numbers may differ):\n",
    "\n",
    "```python\n",
    "M1 = \n",
    " [[10  3  3]\n",
    " [ 6  3  2]\n",
    " [ 7  7  9]] \n",
    "\n",
    "M2 = \n",
    " [[4 5 3]\n",
    " [7 5 1]\n",
    " [7 1 7]] \n",
    "\n",
    "M1 * M2 = \n",
    " [[40 15  9]\n",
    " [42 15  2]\n",
    " [49  7 63]] \n",
    "\n",
    "M1 @ M2 = \n",
    " [[ 82  68  54]\n",
    " [ 59  47  35]\n",
    " [140  79  91]] \n",
    "```"
   ]
  },
  {
   "cell_type": "code",
   "execution_count": null,
   "id": "08011320-61df-46af-a919-85b4303c3ce1",
   "metadata": {},
   "outputs": [],
   "source": [
    "# YOUR CODE HERE\n"
   ]
  },
  {
   "cell_type": "markdown",
   "id": "65006c2f-16ac-4220-b4b6-cff21340ec72",
   "metadata": {},
   "source": [
    "### Practice Exercise 9\n",
    "\n",
    "Given matrix:\n",
    "$$\n",
    "C = \\begin{bmatrix} 2 & 5 \\\\ 1 & 3 \\end{bmatrix}\n",
    "$$\n",
    "\n",
    "- Find the determinant, `det_C`.\n",
    "- Find the inverse, `C_inv`.\n",
    "- Verify $C @ C^{-1} = I$."
   ]
  },
  {
   "cell_type": "markdown",
   "id": "16d8894b-e9ee-4e72-afdf-74fe8eb77c92",
   "metadata": {},
   "source": [
    "The expected results are as follows:\n",
    "\n",
    "```python\n",
    "Determinant of C: 1.0 \n",
    "\n",
    "Inverse of C:\n",
    " [[ 3. -5.]\n",
    " [-1.  2.]] \n",
    "\n",
    "Verification C @ C_inv:\n",
    " [[1. 0.]\n",
    " [0. 1.]]\n",
    "```"
   ]
  },
  {
   "cell_type": "code",
   "execution_count": null,
   "id": "0cfcbf46-792e-4252-9f6d-9d938fb39c10",
   "metadata": {},
   "outputs": [],
   "source": [
    "# YOUR CODE HERE\n"
   ]
  },
  {
   "cell_type": "markdown",
   "id": "3a18cecf-2077-4a25-b780-c23f0129fb92",
   "metadata": {},
   "source": [
    "### Common Statistical Functions\n",
    "\n",
    "The table below summarized a set of common statistical functions available in NumPy:"
   ]
  },
  {
   "cell_type": "markdown",
   "id": "0cbb052d-feea-4d3b-a556-37f66b8166e3",
   "metadata": {},
   "source": [
    "| Function          | Description                                                  |\n",
    "| ----------------- | ------------------------------------------------------------ |\n",
    "| `np.mean()`       | Compute the arithmetic mean along the specified axis         |\n",
    "| `np.median()`     | Compute the median along the specified axis                  |\n",
    "| `np.std()`        | Compute the standard deviation                               |\n",
    "| `np.var()`        | Compute the variance                                         |\n",
    "| `np.min()`        | Minimum value of the array                                   |\n",
    "| `np.max()`        | Maximum value of the array                                   |\n",
    "| `np.percentile()` | Compute the q-th percentile of data along the specified axis |\n",
    "| `np.quantile()`   | Compute quantiles of data along the specified axis           |\n",
    "| `np.corrcoef()`   | Correlation coefficient matrix                               |\n",
    "| `np.cov()`        | Covariance matrix                                            |\n",
    "| `np.sum()`        | Sum of array elements                                        |\n",
    "| `np.prod()`       | Product of array elements                                    |\n",
    "| `np.cumsum()`     | Cumulative sum of elements                                   |\n",
    "| `np.cumprod()`    | Cumulative product of elements                               |\n"
   ]
  },
  {
   "cell_type": "markdown",
   "id": "9f7ea181-ddf7-4fe2-bf92-0355e06cc49b",
   "metadata": {},
   "source": [
    "### Statistical Operations\n",
    "\n",
    "In this illustration, we will show how to apply a series of statistical functions to perform the eigen decomposition of a matrix in four steps.\n",
    "\n",
    "- **Step 1**: Create a 5×3 dataset with random values.\n",
    "- **Step 2**: Center the data (subtract column mean).\n",
    "- **Step 3**: Compute the covariance matrix.\n",
    "- **Step 4**: Find the eigenvalues and eigenvectors."
   ]
  },
  {
   "cell_type": "code",
   "execution_count": null,
   "id": "855d2b91-5ec6-4343-8134-3e72619daad3",
   "metadata": {},
   "outputs": [],
   "source": [
    "# Step 1: Create a 5×3 dataset with random values.\n",
    "data = np.random.rand(5, 3)\n",
    "print(\"Original data:\\n\", data)"
   ]
  },
  {
   "cell_type": "code",
   "execution_count": null,
   "id": "317613c7-8792-413a-84e1-fc23e65dc673",
   "metadata": {},
   "outputs": [],
   "source": [
    "# Step 2: Center the data (subtract column mean).\n",
    "mean = data.mean(axis=0)\n",
    "centered_data = data - mean\n",
    "print(\"\\nCentered data:\\n\", centered_data)"
   ]
  },
  {
   "cell_type": "code",
   "execution_count": null,
   "id": "472295de-a77c-4826-bcf2-ac1255bb905e",
   "metadata": {},
   "outputs": [],
   "source": [
    "# Step 3: Compute the covariance matrix.\n",
    "cov_matrix = np.cov(centered_data.T)\n",
    "print(\"\\nCovariance matrix:\\n\", cov_matrix)"
   ]
  },
  {
   "cell_type": "code",
   "execution_count": null,
   "id": "4c817914-facf-425d-aa7d-c6d2889eb3d6",
   "metadata": {},
   "outputs": [],
   "source": [
    "# Step 4: Eigen decomposition\n",
    "eigenvalues, eigenvectors = np.linalg.eig(cov_matrix)\n",
    "print(\"\\nEigenvalues:\", eigenvalues)\n",
    "print(\"\\nEigenvectors:\\n\", eigenvectors)"
   ]
  },
  {
   "cell_type": "markdown",
   "id": "e38aca80-1742-4081-823b-f792a2778c37",
   "metadata": {},
   "source": [
    "## NumPy Array Illustration"
   ]
  },
  {
   "cell_type": "markdown",
   "id": "a39ff08b-96b2-43cc-ac0e-cacbdab14cbb",
   "metadata": {},
   "source": [
    "### Data Normalization"
   ]
  },
  {
   "cell_type": "code",
   "execution_count": null,
   "id": "0aaf30e4-e38e-4da5-b753-64c705758f3a",
   "metadata": {},
   "outputs": [],
   "source": [
    "data = np.array([10, 20, 30, 40, 50])\n",
    "normalized = (data - data.mean()) / data.std()\n",
    "print(normalized)\n"
   ]
  },
  {
   "cell_type": "markdown",
   "id": "f3434504-ed83-46cd-8d42-db861c495a3b",
   "metadata": {},
   "source": [
    "You can recreate this normalization using a list comprehension without using NumPy’s vectorized operations or specialized methods: `.mean()` and `.std()`."
   ]
  },
  {
   "cell_type": "code",
   "execution_count": null,
   "id": "4cbaea57-9472-4688-ab26-4d7bb8feb4ea",
   "metadata": {},
   "outputs": [],
   "source": [
    "data = [10, 20, 30, 40, 50]\n",
    "\n",
    "normalized = [\n",
    "    (x - sum(data)/len(data)) / (sum((y - sum(data)/len(data))**2 for y in data)/len(data))**0.5\n",
    "    for x in data\n",
    "]\n",
    "\n",
    "print(normalized)"
   ]
  },
  {
   "cell_type": "markdown",
   "id": "73c9c459-78da-4d89-a20a-d66f02745d39",
   "metadata": {},
   "source": [
    "⚠️ Note: This works, but it recomputes the mean twice and the standard deviation repeatedly for each element, which is less efficient than storing intermediate results."
   ]
  },
  {
   "cell_type": "markdown",
   "id": "a63ed1d4-af57-42b4-b51a-c2d08284b39f",
   "metadata": {},
   "source": [
    "A more efficient one that avoids computing the mean and standard deviation repeatedly is to use the `:=` operator (the **walrus operator**) that computes mean (`m`) and std (`s`) once, and then uses them for all elements."
   ]
  },
  {
   "cell_type": "code",
   "execution_count": null,
   "id": "6e253ce0-0d78-41ee-b77d-04b9fabccbe5",
   "metadata": {},
   "outputs": [],
   "source": [
    "data = [10, 20, 30, 40, 50]\n",
    "\n",
    "normalized = [\n",
    "    (x - (m := sum(data)/len(data))) / (s := (sum((y - m)**2 for y in data)/len(data))**0.5)\n",
    "    for x in data\n",
    "]\n",
    "\n",
    "print(normalized)\n"
   ]
  },
  {
   "cell_type": "markdown",
   "id": "3e8a72a5-30b2-45f6-a494-649a962eaf4a",
   "metadata": {},
   "source": [
    "Python does not have built-in functions for mean or standard deviation for lists in the core language. You have to use an external module or build your own custom function.\n",
    "\n",
    "The following is using the `statistics` module:"
   ]
  },
  {
   "cell_type": "code",
   "execution_count": null,
   "id": "ef6151b1-4103-4290-bc96-d45ef3add4f8",
   "metadata": {},
   "outputs": [],
   "source": [
    "import statistics"
   ]
  },
  {
   "cell_type": "code",
   "execution_count": null,
   "id": "1750d0b2-4cae-4fd8-a346-6db0c87560cc",
   "metadata": {},
   "outputs": [],
   "source": [
    "data = [10, 20, 30, 40, 50]\n",
    "\n",
    "mean = statistics.mean(data)\n",
    "std = statistics.stdev(data)  # sample standard deviation by default\n",
    "normalized = [(x - mean) / std for x in data]\n",
    "\n",
    "print(normalized)"
   ]
  },
  {
   "cell_type": "markdown",
   "id": "9d378daa-6442-46c3-9b32-facb3e16cad7",
   "metadata": {},
   "source": [
    "So, what's the point in doing all that when we have NumPy? Exactly, we should use NumPy's methods and vectorized computations!"
   ]
  },
  {
   "cell_type": "markdown",
   "id": "76126dda-21fe-41d7-a608-96df3fbccb1b",
   "metadata": {},
   "source": [
    "Here's a comparison table showing how to compute mean and standard deviation in Python using the three approaches: statistics module, NumPy, and manual calculation."
   ]
  },
  {
   "cell_type": "markdown",
   "id": "640145a7-f903-42a9-8050-2c753865b21f",
   "metadata": {},
   "source": [
    "| Feature                | `statistics` module                                                                                                  | `NumPy`                                                                                                   | Manual calculation                                                                                               |\n",
    "| ---------------------- | -------------------------------------------------------------------------------------------------------------------- | --------------------------------------------------------------------------------------------------------- | ---------------------------------------------------------------------------------------------------------------- |\n",
    "| **Import needed?**     | Yes: `import statistics`                                                                                             | Yes: `import numpy as np`                                                                                 | No                                                                                                               |\n",
    "| **Data type**          | Python list (or any iterable)                                                                                        | Python list or NumPy array                                                                                | Python list                                                                                                      |\n",
    "| **Mean**               | `statistics.mean(data)`                                                                                              | `np.mean(data)` or `data_array.mean()`                                                                    | `sum(data)/len(data)`                                                                                            |\n",
    "| **Standard deviation** | `statistics.stdev(data)` → sample std <br> `statistics.pstdev(data)` → population std                                | `np.std(data)` → population std <br> `np.std(data, ddof=1)` → sample std                                  | `sqrt(sum((x - mean)**2)/len(data))` → population std <br> `sqrt(sum((x - mean)**2)/(len(data)-1))` → sample std |\n",
    "| **Performance**        | Good for small datasets                                                                                              | Very fast, optimized for large datasets                                                                   | Slower for large datasets                                                                                        |\n",
    "| **Example**            | `import statistics` <br> `data = [10,20,30]` <br> `mean = statistics.mean(data)` <br> `std = statistics.stdev(data)` | `import numpy as np` <br> `data = np.array([10,20,30])` <br> `mean = data.mean()` <br> `std = data.std()` | `data = [10,20,30]` <br> `mean = sum(data)/len(data)` <br> `std = (sum((x-mean)**2)/len(data))**0.5`             |\n"
   ]
  },
  {
   "cell_type": "markdown",
   "id": "9175bfd6-5ec5-4c87-95a2-4831976d099a",
   "metadata": {},
   "source": [
    "### Practice Exercise 10\n",
    "\n",
    "Here’s a practice exercise using student test scores. It will help practice NumPy statistical functions with a dataset resembling a classroom scenario."
   ]
  },
  {
   "cell_type": "code",
   "execution_count": null,
   "id": "1464b3f8-90f0-4c6a-a2dc-100a26df1556",
   "metadata": {},
   "outputs": [],
   "source": [
    "# Test scores for 5 students across 4 subjects (Math, English, Science, History)\n",
    "# Rows = Students, Columns = Subjects\n",
    "scores = np.array([\n",
    "    [85, 78, 92, 88],   # Student A\n",
    "    [76, 85, 84, 80],   # Student B\n",
    "    [90, 92, 88, 95],   # Student C\n",
    "    [65, 70, 72, 68],   # Student D\n",
    "    [88, 82, 85, 87]    # Student E\n",
    "])\n",
    "\n",
    "students = np.array([\"Student A\", \"Student B\", \"Student C\", \"Student D\", \"Student E\"])\n",
    "subjects = np.array([\"Math\", \"English\", \"Science\", \"History\"])"
   ]
  },
  {
   "cell_type": "markdown",
   "id": "a813f14a-fbbd-437b-9537-a573bc9b6e81",
   "metadata": {},
   "source": [
    "#### (a) Average score for each student (row-wise mean)\n",
    "\n",
    "Expected output:\n",
    "\n",
    "```python\n",
    "Student A: 85.75\n",
    "Student B: 81.25\n",
    "Student C: 91.25\n",
    "Student D: 68.75\n",
    "Student E: 85.50\n",
    "```"
   ]
  },
  {
   "cell_type": "code",
   "execution_count": null,
   "id": "184ebb40-5b27-4d6e-81cb-c9398000262f",
   "metadata": {},
   "outputs": [],
   "source": [
    "# YOUR CODE HERE\n"
   ]
  },
  {
   "cell_type": "markdown",
   "id": "b2a845cd-ed91-4ed5-ae75-311642a990c1",
   "metadata": {},
   "source": [
    "#### (b) Average score for each subject (column-wise mean)\n",
    "\n",
    "Expected output:\n",
    "\n",
    "```python\n",
    "Math: 80.8\n",
    "English: 81.4\n",
    "Science: 84.2\n",
    "History: 83.6\n",
    "```"
   ]
  },
  {
   "cell_type": "code",
   "execution_count": null,
   "id": "62e23af0-d155-43b3-9d11-5e57b9bbb424",
   "metadata": {},
   "outputs": [],
   "source": [
    "# YOUR CODE HERE\n"
   ]
  },
  {
   "cell_type": "markdown",
   "id": "762d6981-b552-4d41-a190-cba5742434e1",
   "metadata": {},
   "source": [
    "### Wrap Up"
   ]
  },
  {
   "cell_type": "markdown",
   "id": "15440bd5-2320-4bf1-8f6d-8ef4ed3f213f",
   "metadata": {},
   "source": [
    "That's it for now. Please...\n",
    "- Finish the DC course \"Data Manipulation with pandas\" by noon 9/22."
   ]
  },
  {
   "cell_type": "markdown",
   "id": "95c2e95d-e0e0-4c30-b25f-0b9990c44122",
   "metadata": {},
   "source": [
    "BY PRINTING YOUR NAME BELOW, YOU CONFIRM THAT THE EXERCISES YOU SUBMITTED IN THIS NOTEBOOK ARE YOUR OWN AND THAT YOU DID NOT USE AI TO ASSIST WITH YOUR WORK."
   ]
  },
  {
   "cell_type": "code",
   "execution_count": null,
   "id": "c83e7ab1-263e-43ef-8c26-f132c81480de",
   "metadata": {},
   "outputs": [],
   "source": [
    "# PRINT YOUR NAME\n",
    "print(\"Enter Your Name Here\")"
   ]
  }
 ],
 "metadata": {
  "kernelspec": {
   "display_name": "Python 3 (ipykernel)",
   "language": "python",
   "name": "python3"
  },
  "language_info": {
   "codemirror_mode": {
    "name": "ipython",
    "version": 3
   },
   "file_extension": ".py",
   "mimetype": "text/x-python",
   "name": "python",
   "nbconvert_exporter": "python",
   "pygments_lexer": "ipython3",
   "version": "3.9.12"
  }
 },
 "nbformat": 4,
 "nbformat_minor": 5
}
