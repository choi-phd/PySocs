{
 "cells": [
  {
   "cell_type": "markdown",
   "id": "e83508c6",
   "metadata": {},
   "source": [
    "# Install Anaconda & Start Coding in Jupyter Notebook \n"
   ]
  },
  {
   "cell_type": "markdown",
   "id": "d7840da0-ec57-4604-9e63-eff546dcbc9e",
   "metadata": {
    "jp-MarkdownHeadingCollapsed": true,
    "tags": []
   },
   "source": [
    "## 🔧 Step 1: Download and Install Anaconda\n",
    "\n",
    "- Visit: https://www.anaconda.com/products/distribution\n",
    "- Choose your operating system (Windows, macOS, Linux).\n",
    "- Download the 64-bit Graphical Installer.\n",
    "- Run the installer and follow the prompts (default settings are fine)."
   ]
  },
  {
   "cell_type": "markdown",
   "id": "c9cfa5dc-20c3-4955-b094-f8cf3b4c575d",
   "metadata": {},
   "source": [
    "## 🔧 Step 2: Launch Jupyter Notebook\n",
    "- Open Anaconda Navigator.\n",
    "- Click Launch under Jupyter Notebook.\n",
    "- A browser window will open showing the Jupyter interface.\n",
    "- Click New > Python 3 to start a new notebook."
   ]
  },
  {
   "cell_type": "markdown",
   "id": "135d9682-8cc9-48d6-a051-3c90ddcbc039",
   "metadata": {},
   "source": [
    "## 🔧 Step 3: Install NumPy, pandas, and Matplotlib\n",
    "These libraries may already be included with Anaconda, but to ensure they’re up to date:\n",
    "\n",
    "Option A: Using Jupyter Notebook\n",
    "In a notebook cell, run:"
   ]
  },
  {
   "cell_type": "code",
   "execution_count": 1,
   "id": "2f14e827-3d59-4c80-8bdb-9875984f0ccf",
   "metadata": {},
   "outputs": [],
   "source": [
    "\n",
    "# !pip install numpy pandas matplotlib\n"
   ]
  },
  {
   "cell_type": "markdown",
   "id": "ddc92385-54b7-44c5-b5d1-f6028b582471",
   "metadata": {},
   "source": [
    "Option B: Using Anaconda Prompt or Terminal\n",
    "Open Anaconda Prompt (Windows) or Terminal (macOS/Linux), then run:"
   ]
  },
  {
   "cell_type": "code",
   "execution_count": 2,
   "id": "3b8b86e7-79fb-4485-9943-7514a37bbaa9",
   "metadata": {},
   "outputs": [],
   "source": [
    "\n",
    "# pip install numpy pandas matplotlib\n"
   ]
  },
  {
   "cell_type": "markdown",
   "id": "d16da805-97ce-4c8a-96b4-1b8085b2f761",
   "metadata": {},
   "source": [
    "Or, if you prefer using conda:"
   ]
  },
  {
   "cell_type": "code",
   "execution_count": 3,
   "id": "fb99c7f6-5f35-41c2-90a3-1f4c46552d44",
   "metadata": {},
   "outputs": [],
   "source": [
    "\n",
    "# conda install numpy pandas matplotlib\n"
   ]
  },
  {
   "cell_type": "markdown",
   "id": "7d577415",
   "metadata": {},
   "source": [
    "## 🔧 Step 4: Import Required Libraries\n",
    "We begin by importing the essential libraries for numerical computation, data manipulation, and plotting."
   ]
  },
  {
   "cell_type": "code",
   "execution_count": 7,
   "id": "edaeab84",
   "metadata": {},
   "outputs": [],
   "source": [
    "import numpy as np\n",
    "import pandas as pd\n",
    "import matplotlib.pyplot as plt"
   ]
  },
  {
   "cell_type": "markdown",
   "id": "a10c0cde",
   "metadata": {},
   "source": [
    "## 🔧 Step 5: Create a Simple Dataset\n",
    "We'll create a small dataset representing values over a few years."
   ]
  },
  {
   "cell_type": "code",
   "execution_count": 8,
   "id": "9cd0e127",
   "metadata": {},
   "outputs": [
    {
     "data": {
      "text/html": [
       "<div>\n",
       "<style scoped>\n",
       "    .dataframe tbody tr th:only-of-type {\n",
       "        vertical-align: middle;\n",
       "    }\n",
       "\n",
       "    .dataframe tbody tr th {\n",
       "        vertical-align: top;\n",
       "    }\n",
       "\n",
       "    .dataframe thead th {\n",
       "        text-align: right;\n",
       "    }\n",
       "</style>\n",
       "<table border=\"1\" class=\"dataframe\">\n",
       "  <thead>\n",
       "    <tr style=\"text-align: right;\">\n",
       "      <th></th>\n",
       "      <th>Year</th>\n",
       "      <th>Value</th>\n",
       "    </tr>\n",
       "  </thead>\n",
       "  <tbody>\n",
       "    <tr>\n",
       "      <th>0</th>\n",
       "      <td>2018</td>\n",
       "      <td>100</td>\n",
       "    </tr>\n",
       "    <tr>\n",
       "      <th>1</th>\n",
       "      <td>2019</td>\n",
       "      <td>120</td>\n",
       "    </tr>\n",
       "    <tr>\n",
       "      <th>2</th>\n",
       "      <td>2020</td>\n",
       "      <td>130</td>\n",
       "    </tr>\n",
       "    <tr>\n",
       "      <th>3</th>\n",
       "      <td>2021</td>\n",
       "      <td>160</td>\n",
       "    </tr>\n",
       "    <tr>\n",
       "      <th>4</th>\n",
       "      <td>2022</td>\n",
       "      <td>180</td>\n",
       "    </tr>\n",
       "  </tbody>\n",
       "</table>\n",
       "</div>"
      ],
      "text/plain": [
       "   Year  Value\n",
       "0  2018    100\n",
       "1  2019    120\n",
       "2  2020    130\n",
       "3  2021    160\n",
       "4  2022    180"
      ]
     },
     "execution_count": 8,
     "metadata": {},
     "output_type": "execute_result"
    }
   ],
   "source": [
    "data = pd.DataFrame({\n",
    "    'Year': [2018, 2019, 2020, 2021, 2022],\n",
    "    'Value': [100, 120, 130, 160, 180]\n",
    "})\n",
    "\n",
    "# Display the dataset\n",
    "data"
   ]
  },
  {
   "cell_type": "markdown",
   "id": "5c33259c",
   "metadata": {},
   "source": [
    "## 📈 Step 6: Plot the Data\n",
    "Now we visualize the data using a line plot."
   ]
  },
  {
   "cell_type": "code",
   "execution_count": 6,
   "id": "e63863b6",
   "metadata": {},
   "outputs": [
    {
     "data": {
      "image/png": "[encoded data removed]",
      "text/plain": [
       "<Figure size 432x288 with 1 Axes>"
      ]
     },
     "metadata": {
      "needs_background": "light"
     },
     "output_type": "display_data"
    }
   ],
   "source": [
    "plt.plot(data['Year'], data['Value'], marker='o')\n",
    "plt.title('Social Science Data Trend')\n",
    "plt.xlabel('Year')\n",
    "plt.ylabel('Value')\n",
    "plt.grid(True)\n",
    "plt.show()"
   ]
  },
  {
   "cell_type": "markdown",
   "id": "c242ad9b",
   "metadata": {},
   "source": [
    "## ✅ Summary\n",
    "You've learned how to:\n",
    "- Import libraries\n",
    "- Create a dataset using pandas\n",
    "- Visualize data using Matplotlib\n",
    "\n",
    "You can now explore more datasets and apply statistical analysis techniques!"
   ]
  }
 ],
 "metadata": {
  "kernelspec": {
   "display_name": "Python 3 (ipykernel)",
   "language": "python",
   "name": "python3"
  },
  "language_info": {
   "codemirror_mode": {
    "name": "ipython",
    "version": 3
   },
   "file_extension": ".py",
   "mimetype": "text/x-python",
   "name": "python",
   "nbconvert_exporter": "python",
   "pygments_lexer": "ipython3",
   "version": "3.9.12"
  }
 },
 "nbformat": 4,
 "nbformat_minor": 5
}
