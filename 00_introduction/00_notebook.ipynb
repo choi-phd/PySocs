{
 "cells": [
  {
   "cell_type": "markdown",
   "id": "1a951ca1",
   "metadata": {},
   "source": [
    "# Python for Social Science"
   ]
  },
  {
   "cell_type": "markdown",
   "id": "8474ca4a",
   "metadata": {},
   "source": [
    "<img src=\"../figures/PySocs_banner.png\" width=\"50%\" align=\"left\">"
   ]
  },
  {
   "cell_type": "markdown",
   "id": "374dba07",
   "metadata": {},
   "source": [
    "## Python Programming Language\n",
    "\n",
    "Python is a **general-purpose** programming **language** that enables *quick development*, is *easy to read*, **open-source**, established for three decades, consolidates the knowledge of *hundreds of thousands of experts* worldwide, runs on almost every machine, and can manage the complexities of applications involving **big data**."
   ]
  },
  {
   "cell_type": "markdown",
   "id": "1a775e25-6b3d-4523-b1d8-a6f2bbc42a11",
   "metadata": {},
   "source": [
    ">Python's rise as a major programming language over the past two decades has been nothing short of extraordinary.   \n",
    "\n",
    "Python was relatively obscure, ranked around \\#25 in the [TIOBE index](https://www.tiobe.com/tiobe-index/) in 2000. It began gaining traction, especially in academia and data science. By 2015, it had climbed to \\#7 and to \\#1 in 2017.\n",
    "\n",
    "As of 2025, Python is still ranked \\#1 and holds a commanding 26.14% share in the TIOBE Index, which is the highest ever recorded for any language."
   ]
  },
  {
   "cell_type": "markdown",
   "id": "9acfc333-4e97-48a4-9f88-cfbe3e599527",
   "metadata": {},
   "source": [
    "| Language    | Popularity Score |\n",
    "|-------------|------------------|\n",
    "| Python      | 29.03            |\n",
    "| JavaScript  | 24.01            |\n",
    "| Java        | 18.53            |\n",
    "| TypeScript  | 8.08             |\n",
    "| C#          | 8.01             |\n",
    "| PHP         | 6.16             |\n",
    "| C++         | 6.10             |\n",
    "| Go          | 5.73             |\n",
    "| Kotlin      | 3.83             |\n",
    "| R           | 3.01             |\n"
   ]
  },
  {
   "cell_type": "markdown",
   "id": "974ef6c6-d5e8-4443-89b7-69ce9e5aa794",
   "metadata": {},
   "source": [
    "As the graphs below show, neither other major general-purpose languages nor domain-specific languages in the field of statistics can compete with Python's growth over the years."
   ]
  },
  {
   "cell_type": "markdown",
   "id": "0649bc6a-8bdd-4244-b31d-3fc8fbec9967",
   "metadata": {},
   "source": [
    "<div style=\"display: flex;\">\n",
    "  <img src=\"../figures/growth_of_major_programming_languages.png\" style=\"width: 50%; margin-right: 10px;\">\n",
    "  <img src=\"../figures/growth_of_smaller_programming_languages.png\" style=\"width: 50%;\">\n",
    "</div>\n"
   ]
  },
  {
   "cell_type": "markdown",
   "id": "5c807b5a",
   "metadata": {},
   "source": [
    "## Python for Social Science Researchers\n",
    "\n",
    "Python is increasingly becoming an essential tool for social science researchers who seek to analyze complex data, automate research workflows, and enhance the reproducibility of their studies. With its readable syntax and powerful libraries—such as `numPy` and `pandas` for data processing, `matplotlib` for visualization, and `nltk` for text analysis—Python enables researchers to go beyond traditional methods. \n",
    "\n",
    "Educational researchers and psychologists can analyze experimental results and behavioral datasets, sociologists can use Python to explore patterns in census data, and political scientists can scrape and examine social media discourse or legislative records.   \n",
    "\n",
    "This course introduces Python with a focus on practical applications in social science, empowering researchers to turn raw data into meaningful insights.\n"
   ]
  },
  {
   "cell_type": "markdown",
   "id": "4ae8135f",
   "metadata": {
    "tags": []
   },
   "source": [
    "## Introduction to Jupyter Notebook\n",
    "\n",
    "Jupyter Notebook is an open-source web application that allows you to create and share documents that contain live code, equations, visualizations, and narrative text. It is widely used in data science, machine learning, and increasingly in social science research for its ability to combine code execution with rich documentation in a single, interactive environment.\n",
    "\n",
    "### Use in Social Science Research\n",
    "Jupyter Notebooks are particularly useful for social science researchers who want to:\n",
    "- Analyze survey data and census records.\n",
    "- Fit statistical models to empirical data.\n",
    "- Perform text analysis on interview transcripts or social media.\n",
    "- Document research workflows and share reproducible analyses with collaborators.\n",
    "\n",
    "Whether you're exploring data, building models, or writing up results, Jupyter Notebook provides a flexible and powerful environment for computational research.\n",
    "\n",
    "### Key Features\n",
    "- **Interactive Code Execution**: Write and run code in cells, see outputs immediately.\n",
    "- **Markdown Support**: Use Markdown cells to add formatted text, headings, lists, links, and LaTeX equations.\n",
    "- **Visualization Integration**: Display plots and charts inline using libraries like `matplotlib`, `seaborn`, or `plotly`.\n",
    "- **Data Exploration**: Load, clean, and analyze datasets using tools like `pandas` and `numpy`.\n",
    "- **Reproducibility**: Combine code, results, and explanations in one document for transparent and reproducible research."
   ]
  },
  {
   "cell_type": "markdown",
   "id": "ebcb202b",
   "metadata": {},
   "source": [
    "### Markdown Cells vs. Code Cells\n",
    "🧮 Code Cells  \n",
    "- Purpose: Used to write and execute Python (or other supported language) code.  \n",
    "- Behavior: When you run a code cell, the output (e.g., print statements, plots, results) appears directly below the cell.  \n",
    "\n",
    "Example:"
   ]
  },
  {
   "cell_type": "code",
   "execution_count": null,
   "id": "c1ff4c03",
   "metadata": {},
   "outputs": [],
   "source": [
    "x = 5\n",
    "print(x * 2)  # This will print 10"
   ]
  },
  {
   "cell_type": "markdown",
   "id": "0620033e",
   "metadata": {},
   "source": [
    "📝 Markdown Cells  \n",
    "- Purpose: Used for writing formatted text, documentation, instructions, or annotations  \n",
    "- Supports:\n",
    "    - Headings (#, ##, etc.)  \n",
    "    - Lists, **bold**, *italic*, and inline code\n",
    "    - Math equations using LaTeX, e.g., $$E = mc^2$$\n",
    "    - Images, links, and more"
   ]
  },
  {
   "cell_type": "markdown",
   "id": "4e7cc2eb",
   "metadata": {},
   "source": [
    "### Edit vs. Command Mode\n",
    "\n",
    "To edit an existing code cell, enter into it with a mouse click. You are \"in\" a code cell if its frame is highlighted in blue. We call that the **edit mode**.\n",
    "\n",
    "There is also a **command mode** that you reach by hitting the **Escape** key. That un-highlights the frame. You are now \"out\" of but still \"on\" the cell. If you were already in command mode, hitting the Escape key does *nothing*.\n",
    "\n",
    "Using the **Enter** and **Escape** keys, you can now switch between the two modes.\n",
    "\n",
    "- Enter **Edit Mode** by pressing **Return** on Mac, or **Enter** on PC. You can also double-click on a cell’s editor area.\n",
    "- Enter **Command Mode** by pressing **Esc** or clicking outside a cell's editor area. In command mode you can use shortcuts to work with cells:\n",
    "    - `c`: copy cell.\n",
    "    - `v`: paste cell.\n",
    "    - `d, d` (press key twice): delete cell.\n",
    "    - `x`: delete cell.\n",
    "    - `a`: insert cell above.\n",
    "    - `b`: insert cell below."
   ]
  },
  {
   "cell_type": "markdown",
   "id": "46784b46",
   "metadata": {},
   "source": [
    "### Toggle Between Code and Markdown Cells\n",
    "\n",
    "In Jupyter Notebook, you can toggle between code and markdown cells using keyboard shortcuts.\n",
    "\n",
    "- Change to Markdown Cell\n",
    "    - Press `M` shile the cell is selected (in command mode)\n",
    "- Change to Code Cell\n",
    "    - Press `Y` while the cell is selected (in command mode)\n",
    "\n",
    "⚠️ Make sure you're in command mode (not editing inside the cell). You can enter command mode by pressing `Esc`."
   ]
  },
  {
   "cell_type": "markdown",
   "id": "5f457681",
   "metadata": {},
   "source": [
    "## Getting Started with Jupyter Notebook\n",
    "\n",
    "### Running Your First Cell and Loading Data\n",
    "\n",
    "Now that you're familiar with the structure of Jupyter Notebooks, let's begin by running your first code cell and loading a dataset. To **execute**, or \"run,\" a code cell, hold down the **Control** key and press **Enter**. Note how you do *not* go to the subsequent cell if you keep re-executing the cell you are on. Alternatively, you can hold the **Shift** key and press **Enter**, which executes a cell *and* places your focus on the subsequent cell or creates a new one if there is none.\n",
    "\n",
    "\n",
    "### Running a Code Cell\n",
    "To execute a code cell:\n",
    "1. Click inside the cell.\n",
    "2. Press `Shift + Enter` or click the **Run** button in the toolbar.\n",
    "3. The output will appear directly below the cell.\n",
    "4. Alternatively, press `Alt + Enter` or `Option + Return` on Mac to run the cell and add a new cell below.\n",
    "\n",
    "Try running this simple example:"
   ]
  },
  {
   "cell_type": "code",
   "execution_count": null,
   "id": "fb7a4c72",
   "metadata": {},
   "outputs": [],
   "source": [
    "print(\"Welcome to Python for Social Science!\")"
   ]
  },
  {
   "cell_type": "markdown",
   "id": "77cb5699",
   "metadata": {},
   "source": [
    "## Loading a Dataset with Pandas  \n",
    "\n",
    "One of the most common tasks in social science research is working with tabular data, such as survey results or census records. Python's pandas library makes this easy.\n",
    "\n",
    "For the purposes of illustration, we'll be analyzing StackOverflow's annual developer survey data, the longest-running and most comprehensive study of those who code. This anonymous survey is designed to captuer a snapshot of the developer experience in 2025.\n",
    "\n",
    "Here’s how to load a CSV file and display the first few records:\n",
    "\n",
    "📝 **Note:** The following section is presented for demonstration purposes, and we will study each step in detail later. "
   ]
  },
  {
   "cell_type": "code",
   "execution_count": 210,
   "id": "cc80234e",
   "metadata": {},
   "outputs": [
    {
     "data": {
      "text/html": [
       "<div>\n",
       "<style scoped>\n",
       "    .dataframe tbody tr th:only-of-type {\n",
       "        vertical-align: middle;\n",
       "    }\n",
       "\n",
       "    .dataframe tbody tr th {\n",
       "        vertical-align: top;\n",
       "    }\n",
       "\n",
       "    .dataframe thead th {\n",
       "        text-align: right;\n",
       "    }\n",
       "</style>\n",
       "<table border=\"1\" class=\"dataframe\">\n",
       "  <thead>\n",
       "    <tr style=\"text-align: right;\">\n",
       "      <th></th>\n",
       "      <th>ResponseId</th>\n",
       "      <th>MainBranch</th>\n",
       "      <th>Age</th>\n",
       "      <th>EdLevel</th>\n",
       "      <th>Employment</th>\n",
       "      <th>EmploymentAddl</th>\n",
       "      <th>WorkExp</th>\n",
       "      <th>LearnCodeChoose</th>\n",
       "      <th>LearnCode</th>\n",
       "      <th>LearnCodeAI</th>\n",
       "      <th>...</th>\n",
       "      <th>AIAgentOrchestration</th>\n",
       "      <th>AIAgentOrchWrite</th>\n",
       "      <th>AIAgentObserveSecure</th>\n",
       "      <th>AIAgentObsWrite</th>\n",
       "      <th>AIAgentExternal</th>\n",
       "      <th>AIAgentExtWrite</th>\n",
       "      <th>AIHuman</th>\n",
       "      <th>AIOpen</th>\n",
       "      <th>ConvertedCompYearly</th>\n",
       "      <th>JobSat</th>\n",
       "    </tr>\n",
       "  </thead>\n",
       "  <tbody>\n",
       "    <tr>\n",
       "      <th>0</th>\n",
       "      <td>1</td>\n",
       "      <td>I am a developer by profession</td>\n",
       "      <td>25-34 years old</td>\n",
       "      <td>Master’s degree (M.A., M.S., M.Eng., MBA, etc.)</td>\n",
       "      <td>Employed</td>\n",
       "      <td>Caring for dependents (children, elderly, etc.)</td>\n",
       "      <td>8.0</td>\n",
       "      <td>Yes, I am not new to coding but am learning ne...</td>\n",
       "      <td>Online Courses or Certification (includes all ...</td>\n",
       "      <td>Yes, I learned how to use AI-enabled tools for...</td>\n",
       "      <td>...</td>\n",
       "      <td>Vertex AI</td>\n",
       "      <td>NaN</td>\n",
       "      <td>NaN</td>\n",
       "      <td>NaN</td>\n",
       "      <td>ChatGPT</td>\n",
       "      <td>NaN</td>\n",
       "      <td>When I don’t trust AI’s answers</td>\n",
       "      <td>Troubleshooting, profiling, debugging</td>\n",
       "      <td>61256.0</td>\n",
       "      <td>10.0</td>\n",
       "    </tr>\n",
       "    <tr>\n",
       "      <th>1</th>\n",
       "      <td>2</td>\n",
       "      <td>I am a developer by profession</td>\n",
       "      <td>25-34 years old</td>\n",
       "      <td>Associate degree (A.A., A.S., etc.)</td>\n",
       "      <td>Employed</td>\n",
       "      <td>NaN</td>\n",
       "      <td>2.0</td>\n",
       "      <td>Yes, I am not new to coding but am learning ne...</td>\n",
       "      <td>Online Courses or Certification (includes all ...</td>\n",
       "      <td>Yes, I learned how to use AI-enabled tools for...</td>\n",
       "      <td>...</td>\n",
       "      <td>NaN</td>\n",
       "      <td>NaN</td>\n",
       "      <td>NaN</td>\n",
       "      <td>NaN</td>\n",
       "      <td>NaN</td>\n",
       "      <td>NaN</td>\n",
       "      <td>When I don’t trust AI’s answers;When I want to...</td>\n",
       "      <td>All skills. AI is a flop.</td>\n",
       "      <td>104413.0</td>\n",
       "      <td>9.0</td>\n",
       "    </tr>\n",
       "    <tr>\n",
       "      <th>2</th>\n",
       "      <td>3</td>\n",
       "      <td>I am a developer by profession</td>\n",
       "      <td>35-44 years old</td>\n",
       "      <td>Bachelor’s degree (B.A., B.S., B.Eng., etc.)</td>\n",
       "      <td>Independent contractor, freelancer, or self-em...</td>\n",
       "      <td>None of the above</td>\n",
       "      <td>10.0</td>\n",
       "      <td>Yes, I am not new to coding but am learning ne...</td>\n",
       "      <td>Online Courses or Certification (includes all ...</td>\n",
       "      <td>Yes, I learned how to use AI-enabled tools for...</td>\n",
       "      <td>...</td>\n",
       "      <td>NaN</td>\n",
       "      <td>NaN</td>\n",
       "      <td>NaN</td>\n",
       "      <td>NaN</td>\n",
       "      <td>ChatGPT;Claude Code;GitHub Copilot;Google Gemini</td>\n",
       "      <td>NaN</td>\n",
       "      <td>When I don’t trust AI’s answers;When I want to...</td>\n",
       "      <td>Understand how things actually work, problem s...</td>\n",
       "      <td>53061.0</td>\n",
       "      <td>8.0</td>\n",
       "    </tr>\n",
       "    <tr>\n",
       "      <th>3</th>\n",
       "      <td>4</td>\n",
       "      <td>I am a developer by profession</td>\n",
       "      <td>35-44 years old</td>\n",
       "      <td>Bachelor’s degree (B.A., B.S., B.Eng., etc.)</td>\n",
       "      <td>Employed</td>\n",
       "      <td>None of the above</td>\n",
       "      <td>4.0</td>\n",
       "      <td>Yes, I am not new to coding but am learning ne...</td>\n",
       "      <td>Other online resources (e.g. standard search, ...</td>\n",
       "      <td>Yes, I learned how to use AI-enabled tools for...</td>\n",
       "      <td>...</td>\n",
       "      <td>NaN</td>\n",
       "      <td>NaN</td>\n",
       "      <td>NaN</td>\n",
       "      <td>NaN</td>\n",
       "      <td>ChatGPT;Claude Code</td>\n",
       "      <td>NaN</td>\n",
       "      <td>When I don’t trust AI’s answers;When I want to...</td>\n",
       "      <td>NaN</td>\n",
       "      <td>36197.0</td>\n",
       "      <td>6.0</td>\n",
       "    </tr>\n",
       "    <tr>\n",
       "      <th>4</th>\n",
       "      <td>5</td>\n",
       "      <td>I am a developer by profession</td>\n",
       "      <td>35-44 years old</td>\n",
       "      <td>Master’s degree (M.A., M.S., M.Eng., MBA, etc.)</td>\n",
       "      <td>Independent contractor, freelancer, or self-em...</td>\n",
       "      <td>Caring for dependents (children, elderly, etc.)</td>\n",
       "      <td>21.0</td>\n",
       "      <td>No, I am not new to coding and did not learn n...</td>\n",
       "      <td>NaN</td>\n",
       "      <td>Yes, I learned how to use AI-enabled tools for...</td>\n",
       "      <td>...</td>\n",
       "      <td>NaN</td>\n",
       "      <td>NaN</td>\n",
       "      <td>NaN</td>\n",
       "      <td>NaN</td>\n",
       "      <td>NaN</td>\n",
       "      <td>NaN</td>\n",
       "      <td>When I don’t trust AI’s answers</td>\n",
       "      <td>critical thinking, the skill to define the tas...</td>\n",
       "      <td>60000.0</td>\n",
       "      <td>7.0</td>\n",
       "    </tr>\n",
       "  </tbody>\n",
       "</table>\n",
       "<p>5 rows × 170 columns</p>\n",
       "</div>"
      ],
      "text/plain": [
       "   ResponseId                      MainBranch              Age  \\\n",
       "0           1  I am a developer by profession  25-34 years old   \n",
       "1           2  I am a developer by profession  25-34 years old   \n",
       "2           3  I am a developer by profession  35-44 years old   \n",
       "3           4  I am a developer by profession  35-44 years old   \n",
       "4           5  I am a developer by profession  35-44 years old   \n",
       "\n",
       "                                           EdLevel  \\\n",
       "0  Master’s degree (M.A., M.S., M.Eng., MBA, etc.)   \n",
       "1              Associate degree (A.A., A.S., etc.)   \n",
       "2     Bachelor’s degree (B.A., B.S., B.Eng., etc.)   \n",
       "3     Bachelor’s degree (B.A., B.S., B.Eng., etc.)   \n",
       "4  Master’s degree (M.A., M.S., M.Eng., MBA, etc.)   \n",
       "\n",
       "                                          Employment  \\\n",
       "0                                           Employed   \n",
       "1                                           Employed   \n",
       "2  Independent contractor, freelancer, or self-em...   \n",
       "3                                           Employed   \n",
       "4  Independent contractor, freelancer, or self-em...   \n",
       "\n",
       "                                    EmploymentAddl  WorkExp  \\\n",
       "0  Caring for dependents (children, elderly, etc.)      8.0   \n",
       "1                                              NaN      2.0   \n",
       "2                                None of the above     10.0   \n",
       "3                                None of the above      4.0   \n",
       "4  Caring for dependents (children, elderly, etc.)     21.0   \n",
       "\n",
       "                                     LearnCodeChoose  \\\n",
       "0  Yes, I am not new to coding but am learning ne...   \n",
       "1  Yes, I am not new to coding but am learning ne...   \n",
       "2  Yes, I am not new to coding but am learning ne...   \n",
       "3  Yes, I am not new to coding but am learning ne...   \n",
       "4  No, I am not new to coding and did not learn n...   \n",
       "\n",
       "                                           LearnCode  \\\n",
       "0  Online Courses or Certification (includes all ...   \n",
       "1  Online Courses or Certification (includes all ...   \n",
       "2  Online Courses or Certification (includes all ...   \n",
       "3  Other online resources (e.g. standard search, ...   \n",
       "4                                                NaN   \n",
       "\n",
       "                                         LearnCodeAI  ...  \\\n",
       "0  Yes, I learned how to use AI-enabled tools for...  ...   \n",
       "1  Yes, I learned how to use AI-enabled tools for...  ...   \n",
       "2  Yes, I learned how to use AI-enabled tools for...  ...   \n",
       "3  Yes, I learned how to use AI-enabled tools for...  ...   \n",
       "4  Yes, I learned how to use AI-enabled tools for...  ...   \n",
       "\n",
       "  AIAgentOrchestration  AIAgentOrchWrite AIAgentObserveSecure AIAgentObsWrite  \\\n",
       "0            Vertex AI               NaN                  NaN             NaN   \n",
       "1                  NaN               NaN                  NaN             NaN   \n",
       "2                  NaN               NaN                  NaN             NaN   \n",
       "3                  NaN               NaN                  NaN             NaN   \n",
       "4                  NaN               NaN                  NaN             NaN   \n",
       "\n",
       "                                    AIAgentExternal AIAgentExtWrite  \\\n",
       "0                                           ChatGPT             NaN   \n",
       "1                                               NaN             NaN   \n",
       "2  ChatGPT;Claude Code;GitHub Copilot;Google Gemini             NaN   \n",
       "3                               ChatGPT;Claude Code             NaN   \n",
       "4                                               NaN             NaN   \n",
       "\n",
       "                                             AIHuman  \\\n",
       "0                    When I don’t trust AI’s answers   \n",
       "1  When I don’t trust AI’s answers;When I want to...   \n",
       "2  When I don’t trust AI’s answers;When I want to...   \n",
       "3  When I don’t trust AI’s answers;When I want to...   \n",
       "4                    When I don’t trust AI’s answers   \n",
       "\n",
       "                                              AIOpen  ConvertedCompYearly  \\\n",
       "0              Troubleshooting, profiling, debugging              61256.0   \n",
       "1                          All skills. AI is a flop.             104413.0   \n",
       "2  Understand how things actually work, problem s...              53061.0   \n",
       "3                                                NaN              36197.0   \n",
       "4  critical thinking, the skill to define the tas...              60000.0   \n",
       "\n",
       "   JobSat  \n",
       "0    10.0  \n",
       "1     9.0  \n",
       "2     8.0  \n",
       "3     6.0  \n",
       "4     7.0  \n",
       "\n",
       "[5 rows x 170 columns]"
      ]
     },
     "execution_count": 210,
     "metadata": {},
     "output_type": "execute_result"
    }
   ],
   "source": [
    "import pandas as pd\n",
    "\n",
    "# Load a dataset \n",
    "df = pd.read_csv('../data/survey_results_public.csv')\n",
    "\n",
    "# Display the first few rows\n",
    "df.head()\n"
   ]
  },
  {
   "cell_type": "markdown",
   "id": "5019edce-fe76-4e2f-9ddb-4aeee86089fe",
   "metadata": {},
   "source": [
    "## Checking the Dataset\n",
    "The entire dataset is huge (and I had to retain only the first 1000 records). We can quickly check its dimension as follows:"
   ]
  },
  {
   "cell_type": "code",
   "execution_count": 211,
   "id": "20a1bc07-abc0-4d06-aaa7-fefd5ddf9339",
   "metadata": {},
   "outputs": [
    {
     "data": {
      "text/plain": [
       "(1000, 170)"
      ]
     },
     "execution_count": 211,
     "metadata": {},
     "output_type": "execute_result"
    }
   ],
   "source": [
    "df.shape"
   ]
  },
  {
   "cell_type": "markdown",
   "id": "9672d259-87f6-4177-bc47-fa570631d98f",
   "metadata": {},
   "source": [
    "More detailed information on the dataset can be obtained as follows:"
   ]
  },
  {
   "cell_type": "code",
   "execution_count": null,
   "id": "3e505916-4e83-4b46-b958-f79df696072f",
   "metadata": {},
   "outputs": [],
   "source": [
    "df.describe(include=\"number\").round(1)"
   ]
  },
  {
   "cell_type": "markdown",
   "id": "a97afcd7",
   "metadata": {},
   "source": [
    "## Visualizing Variables"
   ]
  },
  {
   "cell_type": "markdown",
   "id": "2bba5a0e",
   "metadata": {},
   "source": [
    "Visualizing data is a key component of data analysis. The following shows how to visualize some of the key variabes in `df`:"
   ]
  },
  {
   "cell_type": "code",
   "execution_count": 212,
   "id": "11405b3a-d7a6-44bc-a64d-62d554e73e0b",
   "metadata": {},
   "outputs": [],
   "source": [
    "import matplotlib.pyplot as plt\n",
    "import seaborn as sns\n",
    "\n",
    "# Set plot style\n",
    "sns.set_theme(style=\"whitegrid\")\n",
    "\n",
    "# Enable inline plotting (only needed in Jupyter Notebook)\n",
    "%matplotlib inline"
   ]
  },
  {
   "cell_type": "markdown",
   "id": "4f8bc0c8-8bcf-4e0d-9814-04d41faf10f7",
   "metadata": {},
   "source": [
    "The code cell above imports two most commonly used libraries for data visualization."
   ]
  },
  {
   "cell_type": "code",
   "execution_count": 213,
   "id": "d9a10db8-da8f-43c2-b8b0-a4088f9c6a99",
   "metadata": {},
   "outputs": [
    {
     "data": {
      "text/plain": [
       "<AxesSubplot:xlabel='WorkExp', ylabel='Count'>"
      ]
     },
     "execution_count": 213,
     "metadata": {},
     "output_type": "execute_result"
    },
    {
     "data": {
      "image/png": "[encoded data removed]",
      "text/plain": [
       "<Figure size 432x288 with 1 Axes>"
      ]
     },
     "metadata": {
      "needs_background": "light"
     },
     "output_type": "display_data"
    }
   ],
   "source": [
    "sns.histplot(df[\"WorkExp\"], kde=True, bins=30, color='skyblue')"
   ]
  },
  {
   "cell_type": "code",
   "execution_count": 214,
   "id": "c4093115-83de-45df-8a2b-9ada8c8ec0d0",
   "metadata": {},
   "outputs": [
    {
     "data": {
      "image/png": "[encoded data removed]",
      "text/plain": [
       "<Figure size 432x288 with 1 Axes>"
      ]
     },
     "metadata": {
      "needs_background": "light"
     },
     "output_type": "display_data"
    }
   ],
   "source": [
    "# Create a barplot for job satisfaction\n",
    "sns.countplot(x='JobSat', data=df)\n",
    "\n",
    "# Add labels and title\n",
    "plt.title('How satisfied are you in your current professional developer role?')\n",
    "plt.xlabel('Job Satisfaction')\n",
    "plt.ylabel('Count')\n",
    "\n",
    "# Show the plot\n",
    "plt.show()"
   ]
  },
  {
   "cell_type": "code",
   "execution_count": null,
   "id": "c591f716-3af1-418e-bca0-d90c8a17b99f",
   "metadata": {},
   "outputs": [],
   "source": [
    "print(df['AIThreat'].value_counts())"
   ]
  },
  {
   "cell_type": "code",
   "execution_count": null,
   "id": "962f8d7e-8946-45fe-8946-81bf8f35a3f0",
   "metadata": {},
   "outputs": [],
   "source": [
    "sns.countplot(x='AIThreat', data=df)\n",
    "\n",
    "# Add labels and title\n",
    "plt.title('Do you believe AI is a threat to your current job??')\n",
    "plt.xlabel('AI Threat')\n",
    "plt.ylabel('Count')\n",
    "\n",
    "# Show the plot\n",
    "plt.show()"
   ]
  },
  {
   "cell_type": "markdown",
   "id": "f26eb7d4",
   "metadata": {},
   "source": [
    "# Python Fundamentals"
   ]
  },
  {
   "cell_type": "markdown",
   "id": "d9ec0842-ff87-40b8-bb0e-60288292d387",
   "metadata": {},
   "source": [
    "Before we get started, let's make sure you're using the latest version of Python.   "
   ]
  },
  {
   "cell_type": "code",
   "execution_count": null,
   "id": "e64a6157",
   "metadata": {},
   "outputs": [],
   "source": [
    "!python --version"
   ]
  },
  {
   "cell_type": "markdown",
   "id": "0ccb23f4-84ef-4be2-8fb6-7e3924e832db",
   "metadata": {},
   "source": [
    "📝 **Note:** In Jupyter Notebook, the exclamation mark `!` serves as a prefix to execute shell (or terminal) commands directly within a code cell. This functionality allows users to interact with the underlying operating system without leaving the notebook environment."
   ]
  },
  {
   "cell_type": "markdown",
   "id": "9696dfde-8f23-4f58-a717-d9cebe672083",
   "metadata": {},
   "source": [
    "## Built-In Data Types\n",
    "\n",
    "Python provides several built-in data types that are commonly used in programming. In this section, we will explore four fundamental types:\n",
    "\n",
    "- Integers: `int`\n",
    "- Real Numbers (Floats): `float`\n",
    "- Booleans: `bool`\n",
    "- Characters (Strings): `str`\n",
    "\n",
    "Each section includes explanations and examples."
   ]
  },
  {
   "cell_type": "markdown",
   "id": "0f2d7152-250c-48b9-89a1-453a893f7d36",
   "metadata": {},
   "source": [
    "### Integers\n",
    "\n",
    "Integers are whole numbers without a decimal point. They can be positive, negative, or zero."
   ]
  },
  {
   "cell_type": "code",
   "execution_count": null,
   "id": "4f7a55f2-23a9-445a-b1b1-2242305bf89b",
   "metadata": {},
   "outputs": [],
   "source": [
    "a = 10\n",
    "b = -5\n",
    "c = 0\n",
    "\n",
    "print(a, b, c)\n",
    "\n",
    "print(type(a))\n",
    "print(type(b))\n",
    "print(type(c))"
   ]
  },
  {
   "cell_type": "markdown",
   "id": "9102f50a-b4d7-45e2-9794-eeb6e330c0d4",
   "metadata": {},
   "source": [
    "### Floats\n",
    "\n",
    "Floats are numbers that contain a decimal point. They are used to represent real numbers."
   ]
  },
  {
   "cell_type": "code",
   "execution_count": null,
   "id": "9c2e8eb7-6680-4654-8c49-d4958f3ad974",
   "metadata": {},
   "outputs": [],
   "source": [
    "x = 3.14\n",
    "y = -0.001\n",
    "z = 2.0\n",
    "\n",
    "print(x, y, z)\n",
    "\n",
    "print(type(x))\n",
    "print(type(y))\n",
    "print(type(z))"
   ]
  },
  {
   "cell_type": "markdown",
   "id": "6eadc579-9220-4394-a37f-e70dba544bba",
   "metadata": {},
   "source": [
    "### Booleans\n",
    "\n",
    "In Python, the Boolean data type represents one of two values: `True` or `False`.\n",
    "These are commonly used in logical operations, conditional statements, and control flow."
   ]
  },
  {
   "cell_type": "code",
   "execution_count": null,
   "id": "36c633e4-6d86-498d-803d-7f147cc46130",
   "metadata": {},
   "outputs": [],
   "source": [
    "is_sunny = True\n",
    "is_raining = False\n",
    "\n",
    "print(is_sunny, is_raining)\n",
    "\n",
    "print(type(is_sunny))\n",
    "print(type(is_raining))"
   ]
  },
  {
   "cell_type": "markdown",
   "id": "a11e7e98-1e81-44f9-847c-0dd3dc3b8077",
   "metadata": {},
   "source": [
    "### Strings\n",
    "\n",
    "Strings are sequences of characters enclosed in either single (`''`) or double (`\"\"`) quotes. They can represent words, sentences, or any text."
   ]
  },
  {
   "cell_type": "code",
   "execution_count": null,
   "id": "260b5b3e-aae9-4ffb-b613-0a562cbd03a8",
   "metadata": {},
   "outputs": [],
   "source": [
    "greeting = 'Hello'\n",
    "name = \"Alice\"\n",
    "message = greeting + ', ' + name + '!'\n",
    "\n",
    "print(message)\n",
    "\n",
    "print(type(greeting))\n",
    "print(type(name))\n",
    "print(type(message))"
   ]
  },
  {
   "cell_type": "markdown",
   "id": "c56dd0f7-3c57-42e1-b434-dc18697fc9e6",
   "metadata": {},
   "source": [
    "Long strings spanning multiple lines can be created with a pair of `\"\"\"` as follows:"
   ]
  },
  {
   "cell_type": "code",
   "execution_count": null,
   "id": "388a7d2b-a9bd-48c8-9bec-92cefa83c3b9",
   "metadata": {},
   "outputs": [],
   "source": [
    "joy_of_python = \"\"\"\n",
    "In a world of logic, crisp and clean,\n",
    "Python reigns—a coder’s dream.\n",
    "No curly braces, no semicolon fuss,\n",
    "Just simple syntax, elegant and thus.\n",
    "\n",
    "Indentation leads the way with grace,\n",
    "Each block aligned, no need to chase.\n",
    "From loops that dance to lists that grow,\n",
    "Python makes the data flow.\n",
    "\n",
    "With True and False, we test and try,\n",
    "Our logic soaring, reaching high.\n",
    "if, elif, else—a trio so fine,\n",
    "Decisions made in just one line.\n",
    "\n",
    "Dictionaries speak in key-value pairs,\n",
    "Tuples sit still in comfy chairs.\n",
    "Functions bloom with def and flair,\n",
    "Reusable code beyond compare.\n",
    "\n",
    "Pandas crunch and NumPy flies,\n",
    "Matplotlib paints with data skies.\n",
    "From scraping sites to AI dreams,\n",
    "Python powers endless schemes.\n",
    "\n",
    "So here’s to Python, sleek and bright,\n",
    "A lantern in the coder’s night.\n",
    "With every script, our minds take flight—\n",
    "In Python’s world, the future’s light.\n",
    "\"\"\""
   ]
  },
  {
   "cell_type": "code",
   "execution_count": null,
   "id": "7bc863cc-975e-4761-90a3-926c4fc0d875",
   "metadata": {},
   "outputs": [],
   "source": [
    "print(type(joy_of_python))"
   ]
  },
  {
   "cell_type": "markdown",
   "id": "0372ee83-d1bd-4c28-a10e-e8781ace3cb8",
   "metadata": {},
   "source": [
    "## 🔍 Binary Operators in Python\n",
    "\n",
    "\n",
    "| **Operator** | **Category**     | **Name**                  | **Description**                                                                 | **Example**             | **Result** |\n",
    "|--------------|------------------|---------------------------|----------------------------------------------------------------------------------|--------------------------|------------|\n",
    "| `+`          | Arithmetic        | Addition                  | Adds two numbers or concatenates sequences                                       | `3 + 5`                  | `8`        |\n",
    "| `-`          | Arithmetic        | Subtraction               | Subtracts the right operand from the left                                       | `10 - 4`                 | `6`        |\n",
    "| `*`          | Arithmetic        | Multiplication            | Multiplies two numbers or repeats sequences                                     | `2 * 3`                  | `6`        |\n",
    "| `/`          | Arithmetic        | Division                  | Divides the left operand by the right (float result)                            | `10 / 2`                 | `5.0`      |\n",
    "| `//`         | Arithmetic        | Floor Division            | Divides and returns the integer part                                            | `10 // 3`                | `3`        |\n",
    "| `%`          | Arithmetic        | Modulus                   | Returns the remainder of division                                               | `10 % 3`                 | `1`        |\n",
    "| `**`         | Arithmetic        | Exponentiation            | Raises the left operand to the power of the right                               | `2 ** 3`                 | `8`        |\n",
    "| `==`         | Comparison        | Equal to                  | Returns `True` if both operands are equal                                       | `5 == 5`                 | `True`     |\n",
    "| `!=`         | Comparison        | Not equal to              | Returns `True` if operands are not equal                                        | `5 != 3`                 | `True`     |\n",
    "| `>`          | Comparison        | Greater than              | Returns `True` if left operand is greater                                       | `7 > 5`                  | `True`     |\n",
    "| `<`          | Comparison        | Less than                 | Returns `True` if left operand is smaller                                       | `3 < 4`                  | `True`     |\n",
    "| `>=`         | Comparison        | Greater than or equal     | Returns `True` if left operand is greater or equal                              | `5 >= 5`                 | `True`     |\n",
    "| `<=`         | Comparison        | Less than or equal        | Returns `True` if left operand is smaller or equal                              | `4 <= 6`                 | `True`     |\n",
    "| `and`        | Logical           | Logical AND               | Returns `True` if both operands are `True`                                      | `True and False`         | `False`    |\n",
    "| `or`         | Logical           | Logical OR                | Returns `True` if at least one operand is `True`                                | `True or False`          | `True`     |\n",
    "| `not`        | Logical (Unary)   | Logical NOT               | Returns `True` if operand is `False` (unary operator)                           | `not True`               | `False`    |\n",
    "| `in`         | Membership        | Membership                | Returns `True` if a value is found in a sequence                                | `'a' in 'cat'`           | `True`     |\n",
    "| `is`         | Identity          | Identity                  | Returns `True` if both refer to the same object                                 | `a is b`                 | Depends    |\n"
   ]
  },
  {
   "cell_type": "markdown",
   "id": "ef6234c5-ff10-4b66-a071-ac3bfcaddcaf",
   "metadata": {},
   "source": [
    "In Python, integer division, also known as floor division, is performed using the double forward slash operator (`//`). This operator divides the first operand by the second and returns the largest integer less than or equal to the true quotient. This means it effectively rounds the result down to the nearest whole number."
   ]
  },
  {
   "cell_type": "code",
   "execution_count": null,
   "id": "d1a12c87-6ade-4db5-8a52-bb5b20d691d5",
   "metadata": {},
   "outputs": [],
   "source": [
    "result_float = 7 / 3\n",
    "print(result_float)\n",
    "print(type(result_float))\n",
    "\n",
    "result_int = 7 // 3\n",
    "print(result_int)\n",
    "print(type(result_int))"
   ]
  },
  {
   "cell_type": "markdown",
   "id": "3609b514-f021-44b0-b1ca-5d1a9699ebb9",
   "metadata": {},
   "source": [
    "The last operator `is` is also worth mentioning. The is operator checks identity, not equality. It returns `True` if both variables point to the same object in memory. If `a is b` is `True` both `a` and `b` are referencing the same object. It doesn't necessarily mean `a == b`. See if the following surprises your."
   ]
  },
  {
   "cell_type": "code",
   "execution_count": null,
   "id": "67683b4a-c6e0-4368-9ecc-c888b433a326",
   "metadata": {},
   "outputs": [],
   "source": [
    "a = 1000\n",
    "b = 1000\n",
    "print(a == b)  # True (values are equal)\n",
    "print(a is b)  # False (not the same object)"
   ]
  },
  {
   "cell_type": "markdown",
   "id": "b45d5d21-6e62-4c17-b197-a506b83a200b",
   "metadata": {},
   "source": [
    "In this case, `x` and `y` are equal in value, but they are not the same object, because Python doesn't _**intern**_ large integers by default.\n",
    "\n",
    "Somewhat strangely though, if you try the above with smaller numbers you will get different result."
   ]
  },
  {
   "cell_type": "code",
   "execution_count": null,
   "id": "d7b4806d-47c3-4604-babb-bdfc76073386",
   "metadata": {},
   "outputs": [],
   "source": [
    "a = 5\n",
    "b = 5\n",
    "print(a == b)  # True (values are equal)\n",
    "print(a is b)  # False (not the same object)"
   ]
  },
  {
   "cell_type": "markdown",
   "id": "a66e1d5d-3c13-4696-99af-ce820857246c",
   "metadata": {},
   "source": [
    "In Python, small integers (typically between -5 and 256) are **interned**—meaning they are cached and reused to optimize performance.\n",
    "\n",
    "So when you assign `a = 5` and `b = 5`, Python doesn't create two separate objects. Instead, both `a` and `b` point to the same memory location holding the integer `5`.\n",
    "\n",
    "The same thing happens for short strings."
   ]
  },
  {
   "cell_type": "code",
   "execution_count": null,
   "id": "578b5b9c-fc4c-4676-aef3-b922ac34061e",
   "metadata": {},
   "outputs": [],
   "source": [
    "x = \"hello\"\n",
    "y = \"hello\"\n",
    "print(x == y)  # True (values are equal)\n",
    "print(x is y)  # True for the same reason, although we expect `False` (not the same object)!"
   ]
  },
  {
   "cell_type": "markdown",
   "id": "4d148897-b0e1-4878-b857-8f309f6f920c",
   "metadata": {},
   "source": [
    "<img src=\"../figures/x_is_y.jpeg\" width=\"80%\" align=\"left\">"
   ]
  },
  {
   "cell_type": "markdown",
   "id": "1312b9b1-6d22-4d35-a3e6-184cfab5e88f",
   "metadata": {},
   "source": [
    "### 🔍 Logical Operators in Python: `and` vs `or`\n",
    "\n",
    "The `and` and `or` keywords are commonly used to evaluate whether specific (complex) conditions are met. \n",
    "\n",
    "| **Operand A** | **Operand B** | **A and B** | **A or B** |\n",
    "|---------------|---------------|-------------|------------|\n",
    "| `True`        | `True`        | `True`      | `True`     |\n",
    "| `True`        | `False`       | `False`     | `True`     |\n",
    "| `False`       | `True`        | `False`     | `True`     |\n",
    "| `False`       | `False`       | `False`     | `False`    |\n",
    "\n",
    "#### 🧠 Explanation:\n",
    "- `A and B` is `True` **only if both** A and B are `True`.\n",
    "- `A or B` is `True` **if at least one** of A or B is `True`.\n",
    "\n",
    "You can test this in Python using:"
   ]
  },
  {
   "cell_type": "code",
   "execution_count": null,
   "id": "c727a6c9-3c80-401f-bb4a-5bd92355f83c",
   "metadata": {},
   "outputs": [],
   "source": [
    "print(True and True)   # True\n",
    "print(True and False)  # False\n",
    "print(False or True)   # True\n",
    "print(False or False)  # False"
   ]
  },
  {
   "cell_type": "markdown",
   "id": "473a0662-8880-48a4-8dbf-82aa84cd28be",
   "metadata": {},
   "source": [
    "Predict the output before executing the code below."
   ]
  },
  {
   "cell_type": "code",
   "execution_count": null,
   "id": "676033cf-168c-4d82-a583-410ac5553afd",
   "metadata": {},
   "outputs": [],
   "source": [
    "print(10 < 20 and 5 > 2)\n",
    "print(10 <= 20 or 5 < 2)\n",
    "print(not (10 < 20))"
   ]
  },
  {
   "cell_type": "markdown",
   "id": "aab3dee9-67f2-49df-9ff2-abae8cb26492",
   "metadata": {},
   "source": [
    "## Practice Exercises\n",
    "\n",
    "Try solving the following exercises to reinforce your understanding of Python's built-in data types."
   ]
  },
  {
   "cell_type": "markdown",
   "id": "83ce1659-2a00-4405-af5a-638c2b7a120e",
   "metadata": {},
   "source": [
    "### Integer Exercises\n",
    "\n",
    "1. Create a variable `age` and assign your real or pretended age to it as a positive integer.\n",
    "2. Multiply `age` by 2 as `age_double`and print `age_double`.\n",
    "3. Use the `type()` function to check the data type of `age_double`."
   ]
  },
  {
   "cell_type": "code",
   "execution_count": null,
   "id": "70ae66fa-4bf0-49e4-bc0e-8aa3c165cb06",
   "metadata": {},
   "outputs": [],
   "source": [
    "# YOUR CODE HERE\n"
   ]
  },
  {
   "cell_type": "markdown",
   "id": "2f4716b2-0ff6-404d-8fcc-ce5508d1743b",
   "metadata": {},
   "source": [
    "4. Divide `age` by 2 as `age_half` and print `age_half`.\n",
    "5. Use the `type()` function to check the data type of `age_half`."
   ]
  },
  {
   "cell_type": "code",
   "execution_count": null,
   "id": "8bec6c15-8921-47a9-919e-df056b66363b",
   "metadata": {},
   "outputs": [],
   "source": [
    "# YOUR CODE HERE\n"
   ]
  },
  {
   "cell_type": "markdown",
   "id": "19f8ed1c-b06c-4f60-8b43-58e1b325ed4f",
   "metadata": {},
   "source": [
    "6. Floor divide `age` by 2 as `age_half_int` and print `age_half_int`.\n",
    "7. Use the `type()` function to check the data type of `age_half_int`."
   ]
  },
  {
   "cell_type": "code",
   "execution_count": null,
   "id": "e5db300e-cfe9-4e0d-817d-f23e26e540d9",
   "metadata": {},
   "outputs": [],
   "source": [
    "# YOUR CODE HERE\n"
   ]
  },
  {
   "cell_type": "markdown",
   "id": "ab0118a9-8b59-4bf8-9a6b-0e4ed12c6262",
   "metadata": {},
   "source": [
    "### Float Exercises\n",
    "\n",
    "The Body Mass Index (BMI) formula is $$\\text{BMI} = \\frac{\\text{weight}(kg)}{\\text{height}(m)^2}$$\n",
    "\n",
    "1. Create a variable `weight_lb` and assign `150.0` to it as a floating point number.\n",
    "2. Divide `weight_lb` by `2.205`as `weight_kg`.\n",
    "3. Creat a variable `height_feet` and assign `6.0` to it as a floating point number.\n",
    "4. Multiply `height_feet` by `0.3048` as `height_meter`.\n",
    "5. Create a variable `BMI` using the formula above (Note: `height_meter` squared is `height_metter ** 2`) and print `BMI`.\n",
    "6. Use the `type()` function to check the data type of `BMI`."
   ]
  },
  {
   "cell_type": "code",
   "execution_count": null,
   "id": "72fa4342-4a37-496a-b77d-22f1ae0d6a9e",
   "metadata": {},
   "outputs": [],
   "source": [
    "# YOUR CODE HERE\n"
   ]
  },
  {
   "cell_type": "markdown",
   "id": "8a8403e7-b403-4295-9f24-0ed1e790df31",
   "metadata": {
    "tags": []
   },
   "source": [
    "### Boolean Exercises\n",
    "\n",
    "Use the table below to create a boolean variable called `normal_weight`. Set it to `True` if the `BMI` calculated above falls between `18.5` and `24.9`, and `False` otherwise. Print `normal_weight`."
   ]
  },
  {
   "cell_type": "markdown",
   "id": "67df74ef-1aa8-4825-a118-57a123694d68",
   "metadata": {
    "tags": []
   },
   "source": [
    "\n",
    "### 🧍 Body Mass Index (BMI) Categories\n",
    "\n",
    "| **Category**           | **BMI Range (kg/m²)**     | **Description**                          |\n",
    "|------------------------|---------------------------|------------------------------------------|\n",
    "| Underweight            | Less than 18.5            | May indicate nutritional deficiency      |\n",
    "| Normal weight          | 18.5 – 24.9               | Generally considered healthy             |\n",
    "| Overweight             | 25.0 – 29.9               | Increased risk of health issues          |\n",
    "| Obesity Class I        | 30.0 – 34.9               | Moderate risk of chronic conditions      |\n",
    "| Obesity Class II       | 35.0 – 39.9               | High risk of chronic conditions          |\n",
    "| Obesity Class III      | 40.0 and above            | Very high risk; often called severe obesity |\n"
   ]
  },
  {
   "cell_type": "code",
   "execution_count": null,
   "id": "4f4c6498-6c3c-4120-9a1f-1899e2c86d8d",
   "metadata": {},
   "outputs": [],
   "source": [
    "# YOUR CODE HERE\n"
   ]
  },
  {
   "cell_type": "markdown",
   "id": "8dd8fb57-a920-49ab-9290-59c4bb95b4c8",
   "metadata": {},
   "source": [
    "## Container Objects\n",
    "\n",
    "Most programming languages provide **container objects**, often called “arrays,” which can hold a sequence of objects of the same type and access them using an index. It may be surprising that the Python core language does not have a built-in array concept (that is why we need `NumPy`). Instead, it offers a collection of container objects that are more flexible than arrays: `lists`, `tuples`, and `dictionaries`. "
   ]
  },
  {
   "cell_type": "markdown",
   "id": "0b2765c7-88a8-4871-982b-80619e73c719",
   "metadata": {},
   "source": [
    "### Lists\n",
    "\n",
    "A **list** is a built-in Python data type used to store multiple items in a single variable. Lists are ordered, mutable (changeable), and can contain elements of different types."
   ]
  },
  {
   "cell_type": "markdown",
   "id": "801fb7f8-1324-4044-ae2a-512ea257a60f",
   "metadata": {},
   "source": [
    "#### Creating a List"
   ]
  },
  {
   "cell_type": "code",
   "execution_count": null,
   "id": "069eb9da-f56e-4bdb-aaff-543490daa661",
   "metadata": {},
   "outputs": [],
   "source": [
    "numbers = [1, 2, 3, 4, 5]\n",
    "fruits = [\"apple\", \"banana\", \"cherry\"]\n",
    "mixed = [1, \"hello\", 3.14, True]\n",
    "print(numbers)\n",
    "print(fruits)\n",
    "print(mixed)"
   ]
  },
  {
   "cell_type": "markdown",
   "id": "348a90e0-cfd4-4254-b746-016a9e063d5c",
   "metadata": {},
   "source": [
    "#### Indexing Elements"
   ]
  },
  {
   "cell_type": "code",
   "execution_count": null,
   "id": "f6c5b36d-75a4-4025-b5e5-bfcc3cbce7ed",
   "metadata": {},
   "outputs": [],
   "source": [
    "print(fruits[0])  # Output: apple\n",
    "print(fruits[2])  # Output: cherry"
   ]
  },
  {
   "cell_type": "markdown",
   "id": "035ace73-4904-4de3-b276-32f0a682804b",
   "metadata": {},
   "source": [
    "📌 In Python, indexing starts at 0, which means the first element of a sequence (like a list, string, or tuple) is accessed using index 0, the second with index 1, and so on.    \n",
    "\n",
    "Why use 0-based indexing? \n",
    "\n",
    "There are a few reasons why 0-based indexing is widely used:\n",
    "\n",
    "- **Efficiency**: It simplifies the calculation of memory addresses in low-level languages.\n",
    "- **Consistency**: It aligns with how offsets work in arrays, i.e., the number of memory units (like bytes) from the start of the array to a particular element (e.g., the first element is at offset 0).\n",
    "- **Historical precedent**: Influential early languages like C adopted it, and many others followed."
   ]
  },
  {
   "cell_type": "markdown",
   "id": "f2e97e6e-396c-4d23-80ee-6779bde4be5a",
   "metadata": {},
   "source": [
    "#### Negative Indexing\n",
    "\n",
    "Python also supports negative indexing, which starts from the end of the list:"
   ]
  },
  {
   "cell_type": "markdown",
   "id": "0a470c76-89a5-4dcd-abf3-afdbb4bd063e",
   "metadata": {},
   "source": [
    "<img src=\"../figures/list_indexing.jpeg\" width=\"50%\" align=\"left\">"
   ]
  },
  {
   "cell_type": "markdown",
   "id": "4ff1be04-be1d-44bd-9a60-bc49db61c047",
   "metadata": {},
   "source": [
    "Each box in the bottom row represents an element in the `fruts` list, labeled with:\n",
    "\n",
    "- 🔵 Positive index (first row)\n",
    "- 🔴 Negative index (second row)"
   ]
  },
  {
   "cell_type": "code",
   "execution_count": null,
   "id": "0ac9ec9d-13de-47b0-a090-b05394ce9ef9",
   "metadata": {},
   "outputs": [],
   "source": [
    "print(fruits[-1])  # Output: cherry\n",
    "print(fruits[-2])  # Output: banana\n",
    "print(fruits[-3])  # Output: apple"
   ]
  },
  {
   "cell_type": "markdown",
   "id": "d8f96a51-f58c-46a9-b0b0-9dfeab2e68d9",
   "metadata": {},
   "source": [
    "Nagative indexing is useful because you can retrieve the last element of a list without knowing the length of the list."
   ]
  },
  {
   "cell_type": "code",
   "execution_count": null,
   "id": "f8a8ee5e-6fdd-49ae-97ba-009f838ba8fa",
   "metadata": {},
   "outputs": [],
   "source": [
    "print(fruits[len(fruits) - 1])"
   ]
  },
  {
   "cell_type": "markdown",
   "id": "9bc7a76d-b0b4-446f-b7cb-41570b153a64",
   "metadata": {},
   "source": [
    "📝 **Note:** The `len()` function gives you the length of a sequence."
   ]
  },
  {
   "cell_type": "markdown",
   "id": "73cc6e3e-526b-49a7-95b8-cde905f9e197",
   "metadata": {},
   "source": [
    "#### Checking Membership\n",
    "\n",
    "We can check whether a certain element is in a list:"
   ]
  },
  {
   "cell_type": "code",
   "execution_count": null,
   "id": "12092418-081a-4882-97e4-23cfa45fcb41",
   "metadata": {},
   "outputs": [],
   "source": [
    "print(\"apple\" in fruits)\n",
    "print(\"mango\" not in fruits)"
   ]
  },
  {
   "cell_type": "code",
   "execution_count": null,
   "id": "af09bd92-6acb-4ce3-a598-a88f44638089",
   "metadata": {},
   "outputs": [],
   "source": [
    "fruits"
   ]
  },
  {
   "cell_type": "markdown",
   "id": "b3d49d6d-50af-46e2-906b-3bb11b621aba",
   "metadata": {},
   "source": [
    "#### Modifying a List"
   ]
  },
  {
   "cell_type": "markdown",
   "id": "6b148446-b8a1-4220-95d4-8aeb70e8a711",
   "metadata": {},
   "source": [
    "Lists are mutable, so you can change their contents:"
   ]
  },
  {
   "cell_type": "code",
   "execution_count": null,
   "id": "a7ca2222-a707-4039-b592-31396ee887ce",
   "metadata": {},
   "outputs": [],
   "source": [
    "fruits[1] = \"blueberry\"\n",
    "print(fruits)  # Output: ['apple', 'blueberry', 'cherry']"
   ]
  },
  {
   "cell_type": "markdown",
   "id": "e76ae2b4-3112-4cea-a7be-cb789bc8e25f",
   "metadata": {},
   "source": [
    "#### ➕ Adding Elements"
   ]
  },
  {
   "cell_type": "markdown",
   "id": "bd8f8402-f5bf-4198-8a8d-07feb916a4a7",
   "metadata": {},
   "source": [
    "Use append() to add an item to the end:"
   ]
  },
  {
   "cell_type": "code",
   "execution_count": null,
   "id": "6503c31d-c3a0-480f-bf42-c305f7b520a0",
   "metadata": {},
   "outputs": [],
   "source": [
    "fruits.append(\"date\")\n",
    "print(fruits)  # Output: ['apple', 'blueberry', 'cherry', 'date']"
   ]
  },
  {
   "cell_type": "markdown",
   "id": "75f3b3f0-0de1-452a-ad49-d12cc0335770",
   "metadata": {},
   "source": [
    "⚠️ If you run the above code cell multiple times, you'll get lots of dates!"
   ]
  },
  {
   "cell_type": "markdown",
   "id": "71663d97-4017-42d5-b8c6-438a9ea4c0bb",
   "metadata": {},
   "source": [
    "#### ❌ Removing Elements\n",
    "\n",
    "We can use the `.remove()` *method* to remove elements from a list object."
   ]
  },
  {
   "cell_type": "code",
   "execution_count": null,
   "id": "96ef1826-79d8-4f29-b115-7d4b87371439",
   "metadata": {},
   "outputs": [],
   "source": [
    "fruits.remove(\"cherry\")  # Removes by value\n",
    "print(fruits)\n"
   ]
  },
  {
   "cell_type": "markdown",
   "id": "61e72a54-6a48-4362-b58c-3b616fee2119",
   "metadata": {},
   "source": [
    "⚠️ If you run the code cell above more than once, you'll get an error message (`ValueError: list.remove(x): x not in list`)! That is, Python complains because it can't remove an element that no longer exists.! "
   ]
  },
  {
   "cell_type": "markdown",
   "id": "a9cc6995-e01b-41ba-864d-b6ce94b7b3c4",
   "metadata": {},
   "source": [
    "You can also use the .pop() method in Python to remove and return an element from a list."
   ]
  },
  {
   "cell_type": "code",
   "execution_count": null,
   "id": "e415953f-ea28-4cab-b0c0-5e9a0a583369",
   "metadata": {},
   "outputs": [],
   "source": [
    "popped_item = fruits.pop()  # Removes last item\n",
    "print(popped_item)\n",
    "print(fruits)\n"
   ]
  },
  {
   "cell_type": "markdown",
   "id": "4c63bbe7-fcac-4adc-8b83-63b8295312ae",
   "metadata": {},
   "source": [
    "By default, it removes the last item, but you can also specify an index to remove a specific element. For example, we can remove the first element as follows:"
   ]
  },
  {
   "cell_type": "code",
   "execution_count": null,
   "id": "265e69f7-7e4a-4925-ac20-9872244553f9",
   "metadata": {},
   "outputs": [],
   "source": [
    "fruits.pop(0)"
   ]
  },
  {
   "cell_type": "markdown",
   "id": "7c41bfba-ca59-4dad-a627-c35385df763f",
   "metadata": {},
   "source": [
    "❗ Notice that once an element is popped (removed), the original list is permanently affected."
   ]
  },
  {
   "cell_type": "code",
   "execution_count": null,
   "id": "fe1e9354-8727-47bf-a383-e911bc0b7cd6",
   "metadata": {},
   "outputs": [],
   "source": [
    "print(fruits)"
   ]
  },
  {
   "cell_type": "markdown",
   "id": "6f9cd6bb-f939-445f-9995-52e167bbba73",
   "metadata": {},
   "source": [
    "⚠️ if you try to pop from an empty list, Python will raise an `IndexError`."
   ]
  },
  {
   "cell_type": "markdown",
   "id": "062e0913-78f3-41b5-856c-11c4420fad5b",
   "metadata": {},
   "source": [
    "#### 🧠 List Slicing"
   ]
  },
  {
   "cell_type": "markdown",
   "id": "f7c006c4-6465-4bdd-8be7-7d56fb590d98",
   "metadata": {},
   "source": [
    "Slicing allows you to extract a portion of a list (or string, tuple, etc.) using the syntax:\n",
    "\n",
    "`sequence[start:stop:step]`\n",
    "\n",
    "- `start`: index to begin (inclusive)\n",
    "- `stop` : index to end (**exclusive**)\n",
    "- `step` : interval between elements"
   ]
  },
  {
   "cell_type": "markdown",
   "id": "09d29c60-28c5-4bfd-a692-33e26e18dfe6",
   "metadata": {},
   "source": [
    "The indexes are optional and can be omitted:\n",
    "\n",
    "- `start` (optional): Defaults to 0 if omitted.\n",
    "- `end` (optional): Defaults to the length of list if omitted.\n",
    "- `step` (optional): Defaults to 1 if omitted"
   ]
  },
  {
   "cell_type": "code",
   "execution_count": null,
   "id": "201fabab-6c68-47e3-aaf5-292b110b8c80",
   "metadata": {},
   "outputs": [],
   "source": [
    "numbers = [1, 2, 3, 4, 5]"
   ]
  },
  {
   "cell_type": "code",
   "execution_count": null,
   "id": "f341033d-44bd-429f-8a77-b39cbb088876",
   "metadata": {},
   "outputs": [],
   "source": [
    "# First three elements\n",
    "print(numbers[0:3]) # [1, 2, 3]\n",
    "\n",
    "# Omitting `start`\n",
    "print(numbers[:3])  # [1, 2, 3]\n",
    "\n",
    "# Omitting `end`\n",
    "print(numbers[3:])  # [4, 5]"
   ]
  },
  {
   "cell_type": "markdown",
   "id": "8501b4f6-208c-4383-b421-9f4b2f23adec",
   "metadata": {},
   "source": [
    "Omitting both `start` and `end` returns the entire list."
   ]
  },
  {
   "cell_type": "code",
   "execution_count": null,
   "id": "84a3f8d1-a50e-489b-95e7-8834592db0c5",
   "metadata": {},
   "outputs": [],
   "source": [
    "fruits = [\"apple\", \"banana\", \"cherry\"]\n",
    "print(fruits[:])\n",
    "\n",
    "# alternatively\n",
    "print(fruits[::])"
   ]
  },
  {
   "cell_type": "markdown",
   "id": "822d376b-a0e7-434d-913d-24ab07d47686",
   "metadata": {},
   "source": [
    "#### 🔍 Why Use One Over the Other?\n",
    "- `sequence[:]` is more common and idiomatic for copying.\n",
    "- `sequence[::]` is less common but technically valid—it just makes the step explicit as 1."
   ]
  },
  {
   "cell_type": "markdown",
   "id": "3d76774f-b765-4c5e-a3a3-a906c095496d",
   "metadata": {},
   "source": [
    "#### Get Items at Specified Steps\n",
    "\n",
    "To extract elements at specific steps, use the `step` parameter."
   ]
  },
  {
   "cell_type": "code",
   "execution_count": null,
   "id": "30647284-483a-45ff-9f2c-c4063f4fa3b3",
   "metadata": {},
   "outputs": [],
   "source": [
    "# Get every other element \n",
    "print(numbers[::2]) # [1, 3, 5]"
   ]
  },
  {
   "cell_type": "code",
   "execution_count": null,
   "id": "c15f127f-94a2-4b5f-ac7c-f955085be689",
   "metadata": {},
   "outputs": [],
   "source": [
    "# Get every third element\n",
    "print(numbers[::3]) # [1, 4]"
   ]
  },
  {
   "cell_type": "markdown",
   "id": "5e475a50-47de-4636-8565-d6d8a952c7ec",
   "metadata": {},
   "source": [
    "#### Out-of-bound Slicing\n",
    "\n",
    "List slicing allows out-of-bound indexing without rasing errors. That is, if we specify indices beyond the list length, it will simply return the available items without throwing errors."
   ]
  },
  {
   "cell_type": "code",
   "execution_count": null,
   "id": "565c9755-f7ce-4c95-9623-196b10d2c074",
   "metadata": {},
   "outputs": [],
   "source": [
    "print(numbers[0:10]) # [1, 2, 3, 4, 5]"
   ]
  },
  {
   "cell_type": "markdown",
   "id": "f644f56f-68ee-4b97-b91d-d128aafe00f5",
   "metadata": {},
   "source": [
    "On the other hand, out-of-bound indexing throws errors."
   ]
  },
  {
   "cell_type": "code",
   "execution_count": null,
   "id": "add159f6-5477-46c6-8d5e-635a852014c7",
   "metadata": {},
   "outputs": [],
   "source": [
    "# print(numbers[10])"
   ]
  },
  {
   "cell_type": "markdown",
   "id": "3a4a8011-1795-48af-a744-3dc619460322",
   "metadata": {},
   "source": [
    "The above line throws an `IndexError`!"
   ]
  },
  {
   "cell_type": "markdown",
   "id": "8244d3b7-1533-4e78-b72c-3ca2045fa114",
   "metadata": {},
   "source": [
    "#### Negative Indexing\n",
    "\n",
    "Negative indexing is used to access elements from the end of the list. "
   ]
  },
  {
   "cell_type": "code",
   "execution_count": null,
   "id": "a8e6da36-299c-43ae-aea0-0c44d83ad011",
   "metadata": {},
   "outputs": [],
   "source": [
    "print(numbers[-3:]) # [3, 4, 5]"
   ]
  },
  {
   "cell_type": "code",
   "execution_count": null,
   "id": "284647fc-26e9-4765-b4e3-eadadcc85a4d",
   "metadata": {},
   "outputs": [],
   "source": [
    "print(numbers[-3:-1]) # [3, 4]"
   ]
  },
  {
   "cell_type": "markdown",
   "id": "a847c37f-d13c-4b10-910f-a3e5ba64791a",
   "metadata": {},
   "source": [
    "#### Reversing a List using Slicing\n",
    "\n",
    "In Python, you can reverse a list using slicing with a very concise syntax:"
   ]
  },
  {
   "cell_type": "code",
   "execution_count": null,
   "id": "ea13fadc-ec98-4a17-a975-b60cec6b0240",
   "metadata": {},
   "outputs": [],
   "source": [
    "print(numbers[::-1]) # [5, 4, 3, 2, 1]"
   ]
  },
  {
   "cell_type": "markdown",
   "id": "0c1fd5cf-dc8b-46fe-aa3b-345d0c9a53e3",
   "metadata": {},
   "source": [
    "When you use [::-1], you're saying:\n",
    "\n",
    "- Start from the end (`start` is omitted)\n",
    "- Go until the beginning (`stop` is omitted)\n",
    "- Step backwards by 1 (`step` = -1)"
   ]
  },
  {
   "cell_type": "markdown",
   "id": "5767640a-6bc6-4f7d-a9e6-46002b77b4c7",
   "metadata": {},
   "source": [
    "#### Slicing Creats New Objects"
   ]
  },
  {
   "cell_type": "code",
   "execution_count": null,
   "id": "5e7cb0e7-b329-4358-a3e5-9b675aac2539",
   "metadata": {},
   "outputs": [],
   "source": [
    "copy1 = fruits[:]\n",
    "copy2 = fruits[::]\n",
    "\n",
    "print(copy1 == copy2)  # True\n",
    "print(copy1 is copy2)  # False (different objects)"
   ]
  },
  {
   "cell_type": "markdown",
   "id": "4737bfe7-01f4-4b57-b9a1-bd96718d40f5",
   "metadata": {},
   "source": [
    "#### List Slicing Syntax with Examples\n",
    "\n",
    "| **Slicing Pattern** | **Description**                          | **Effect**                                 | **Example Output**                      |\n",
    "|---------------------|------------------------------------------|--------------------------------------------|-----------------------------------------|\n",
    "| `sequence[:]`       | Full slice (copy of entire sequence)     | Returns all elements                       | `['a', 'b', 'c']`                        |\n",
    "| `sequence[::]`      | Full slice with default step             | Same as `[:]`, returns all elements        | `['a', 'b', 'c']`                        |\n",
    "| `sequence[::-1]`    | Reverse the sequence                     | Returns elements in reverse order          | `['c', 'b', 'a']`                        |\n",
    "| `sequence[::2]`     | Every second element                     | Skips every other element                  | `['a', 'c']`                             |\n",
    "| `sequence[1:4]`     | Slice from index 1 to 3                  | Returns elements at index 1, 2, 3          | `['b', 'c', 'd']`                        |\n",
    "| `sequence[-2:]`     | Last two elements                       | Starts from second-to-last to end          | `['b', 'c']`                             |\n",
    "| `sequence[1:-1]`    | Middle elements                         | Excludes first and last                    | `['b']`                                  |\n"
   ]
  },
  {
   "cell_type": "markdown",
   "id": "af621db3-42fa-4f09-91a4-ef32aa41910f",
   "metadata": {},
   "source": [
    "#### 🧠 In-Place Modification vs Copy\n",
    "\n",
    "- Slicing: creates a new list (non-destructive)\n",
    "- In-place modification: uses methods like ``.append()`, `.sort()`, or direct assignment, `fruits[0] = \"apricot\"`"
   ]
  },
  {
   "cell_type": "code",
   "execution_count": null,
   "id": "eff40f54-1e33-42db-83a0-7b9d09cb5fbb",
   "metadata": {},
   "outputs": [],
   "source": [
    "copy1[0] = \"apricot\""
   ]
  },
  {
   "cell_type": "code",
   "execution_count": null,
   "id": "b1dce5ff-7c93-4b80-9779-53332c00d09e",
   "metadata": {},
   "outputs": [],
   "source": [
    "print(copy1)\n",
    "print(fruits)"
   ]
  },
  {
   "cell_type": "markdown",
   "id": "eecb1874-e6a8-45f9-8c8d-512757ad8a05",
   "metadata": {},
   "source": [
    "This can be confirmed from the memory locations of the objects."
   ]
  },
  {
   "cell_type": "code",
   "execution_count": null,
   "id": "efae0499-b29b-4e3c-b35a-bacc36f647c9",
   "metadata": {},
   "outputs": [],
   "source": [
    "print(id(fruits)) # memory address for fruits\n",
    "print(id(copy1))  # memory address for copy1\n",
    "print(id(copy2))  # memory address for copy2"
   ]
  },
  {
   "cell_type": "markdown",
   "id": "fd1ee6e3-e593-4927-b577-b21374ebc458",
   "metadata": {},
   "source": [
    "#### List Indexing & Slicing Exercises\n",
    "\n",
    "We'll use the following list for all exercises:"
   ]
  },
  {
   "cell_type": "code",
   "execution_count": null,
   "id": "73f08b49-8443-4f99-9872-e855eba2e6ef",
   "metadata": {},
   "outputs": [],
   "source": [
    "data = ['alpha', 'bravo', 'charlie', 'delta', 'echo', 'foxtrot', 'golf', 'hotel', 'india', 'juliet']"
   ]
  },
  {
   "cell_type": "markdown",
   "id": "9751552f-c6f8-489b-abb9-18979152e8f4",
   "metadata": {},
   "source": [
    "**Task 1:** Use slicing to reverse the list."
   ]
  },
  {
   "cell_type": "code",
   "execution_count": null,
   "id": "613f77f7-f715-466a-9e3b-dc0460eaa1a0",
   "metadata": {},
   "outputs": [],
   "source": [
    "# YOUR CODE HERE\n"
   ]
  },
  {
   "cell_type": "markdown",
   "id": "bd3508d9-d7a4-46a2-a53d-5fba8a58bfd2",
   "metadata": {},
   "source": [
    "**Task 2:** Use slicing to get every second element starting from index 1."
   ]
  },
  {
   "cell_type": "code",
   "execution_count": null,
   "id": "a1e5e702-d30e-4c44-be09-eea9af8bff5f",
   "metadata": {},
   "outputs": [],
   "source": [
    "# YOUR CODE HERE\n"
   ]
  },
  {
   "cell_type": "markdown",
   "id": "fd5c416e-7cf1-4a2f-8895-8ef669cd0dba",
   "metadata": {},
   "source": [
    "**Task 3:** Use negative indexing to get the last three elements."
   ]
  },
  {
   "cell_type": "code",
   "execution_count": null,
   "id": "15d75abf-41d1-4764-bd84-dd4c577a42b4",
   "metadata": {},
   "outputs": [],
   "source": [
    "# YOUR CODE HERE\n"
   ]
  },
  {
   "cell_type": "markdown",
   "id": "48747b36-10d7-4980-88f4-b4d555849b12",
   "metadata": {},
   "source": [
    "**Task 4:** Use slicing to extract `'charlie'`, `'delta'`, `'echo'`."
   ]
  },
  {
   "cell_type": "code",
   "execution_count": null,
   "id": "39916ca5-6100-412d-8628-6eb581998934",
   "metadata": {},
   "outputs": [],
   "source": [
    "# YOUR CODE HERE\n"
   ]
  },
  {
   "cell_type": "markdown",
   "id": "3413fed5-5cbd-4ba9-ae63-e854517ccd10",
   "metadata": {},
   "source": [
    "**Task 5:** Use slicing to replace `'charlie'` and `'delta'` with `'cairo'` and `'dallas'` in place. Print `data` to confirm. **Hint:** You need an assignment statement and the right side of the assignment should be a list."
   ]
  },
  {
   "cell_type": "code",
   "execution_count": null,
   "id": "90d40abd-1ed3-4e90-a10a-abd6a5af1993",
   "metadata": {},
   "outputs": [],
   "source": [
    "# YOUR CODE HERE\n"
   ]
  },
  {
   "cell_type": "markdown",
   "id": "96e1cecc-9286-4b84-ac47-439700a4d471",
   "metadata": {},
   "source": [
    "### Generating a Sequence"
   ]
  },
  {
   "cell_type": "markdown",
   "id": "24d8d4a8-4004-481b-84be-87664e94c347",
   "metadata": {},
   "source": [
    "The `range()` function generates a sequence of evenly spaced integers."
   ]
  },
  {
   "cell_type": "markdown",
   "id": "2e4809e5-bcd7-4559-9ccf-e957c1bc057c",
   "metadata": {},
   "source": [
    "<img src=\"../figures/range.jpeg\" width=\"50%\" align=\"left\">"
   ]
  },
  {
   "cell_type": "code",
   "execution_count": null,
   "id": "09b92130-aa1b-475b-a66b-f7f2db483c54",
   "metadata": {},
   "outputs": [],
   "source": [
    "range(10)"
   ]
  },
  {
   "cell_type": "markdown",
   "id": "49510369-d5ad-4765-b2c3-ed8e0a16a375",
   "metadata": {},
   "source": [
    "Nothing is printed because `range(10)` creates a range object (generator), because it does not store all values in memory nor display it unless you explicitly tell Python to do something with it.\n",
    "\n",
    "- `range(10)` is a generator-like object that **represents** a sequence of numbers from 0 to 9.\n",
    "- It's efficient: cnsider the effect on your computer's memory otherwise: `range(100_000_000_000)`.\n",
    "- It’s lazy—it doesn’t generate the numbers until you iterate over it.\n",
    "- If you want to see the contents, "
   ]
  },
  {
   "cell_type": "code",
   "execution_count": null,
   "id": "ed7e2f8c-fd22-44be-a214-02294cf4f795",
   "metadata": {},
   "outputs": [],
   "source": [
    "print(list(range(10))) # ➞ [0, 1, 2, 3, 4, 5, 6, 7, 8, 9]"
   ]
  },
  {
   "cell_type": "markdown",
   "id": "784d446f-4eeb-474c-bfb1-48abf26fb5ab",
   "metadata": {},
   "source": [
    "The `range()` function in Python can take up to three arguments, and each controls how the sequence of numbers is generated:\n",
    "\n",
    "`range(start, stop, step)`\n",
    "\n",
    "The second argument, `stop`, is required and others are optional."
   ]
  },
  {
   "cell_type": "markdown",
   "id": "b58477c2-d20a-42f8-8816-b1d5a2983c07",
   "metadata": {},
   "source": [
    "1. `start` (optional)\n",
    "- The number to start from\n",
    "- Default 0\n",
    "- Example:\n",
    "\n",
    "`range(3)` => # ➞ [0, 1, 2]       \n",
    "`range(2, 5)` # ➞ [2, 3, 4]"
   ]
  },
  {
   "cell_type": "markdown",
   "id": "2b1d132a-5f03-440c-a722-19912215f386",
   "metadata": {},
   "source": [
    "2. `stop` (required)\n",
    "- The number to stop before (exclusive).\n",
    "- This is always required unless you're using just one argument, in which case it's treated as stop and start defaults to 0."
   ]
  },
  {
   "cell_type": "markdown",
   "id": "c3b27bd9-a022-4724-a40e-fed1d8da3a5c",
   "metadata": {},
   "source": [
    "3. `step` (optional)\n",
    "\n",
    "- The amount to increment (or decrement) each time.\n",
    "- Default: 1\n",
    "- Can be negative for reverse sequences.\n",
    "- Example:\n",
    "\n",
    "`range(1, 10, 2)`     # ➞ [1, 3, 5, 7, 9]    \n",
    "`range(10, 0, -2)`    # ➞ [10, 8, 6, 4, 2]\n"
   ]
  },
  {
   "cell_type": "markdown",
   "id": "b1837445-e499-45de-bddc-d1d730c23272",
   "metadata": {},
   "source": [
    "⚠️ Notes:\n",
    "`range()` returns a range object, not a list. You can convert it using `list(range(...))`.\n",
    "If `step` is 0, Python will raise a `ValueError`."
   ]
  },
  {
   "cell_type": "markdown",
   "id": "154f742d-848c-4289-98c0-d1c906601a5b",
   "metadata": {},
   "source": [
    "### Wrap Up"
   ]
  },
  {
   "cell_type": "markdown",
   "id": "facaf7e9-c29e-4ee5-abe7-08a9f8b57dc7",
   "metadata": {},
   "source": [
    "That's it for now. Please...\n",
    "- Read Chapters 2 and 3 of WM.\n",
    "- Finish the DC course \"Introduction to Python\" by noon 9/1."
   ]
  },
  {
   "cell_type": "markdown",
   "id": "b427505f-2f72-4810-8848-ab40bba7d38d",
   "metadata": {},
   "source": [
    "BY PRINTING YOUR NAME BELOW, YOU CONFIRM THAT THE EXERCISES YOU SUBMITTED IN THIS NOTEBOOK ARE YOUR OWN AND THAT YOU DID NOT USE AI TO ASSIST WITH YOUR WORK."
   ]
  },
  {
   "cell_type": "code",
   "execution_count": null,
   "id": "c83e7ab1-263e-43ef-8c26-f132c81480de",
   "metadata": {},
   "outputs": [],
   "source": [
    "# PRINT YOUR NAME\n",
    "print(\"Enter Your Name Here\")"
   ]
  }
 ],
 "metadata": {
  "kernelspec": {
   "display_name": "Python 3 (ipykernel)",
   "language": "python",
   "name": "python3"
  },
  "language_info": {
   "codemirror_mode": {
    "name": "ipython",
    "version": 3
   },
   "file_extension": ".py",
   "mimetype": "text/x-python",
   "name": "python",
   "nbconvert_exporter": "python",
   "pygments_lexer": "ipython3",
   "version": "3.9.12"
  }
 },
 "nbformat": 4,
 "nbformat_minor": 5
}
