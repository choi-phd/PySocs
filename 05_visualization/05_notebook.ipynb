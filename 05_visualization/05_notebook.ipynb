{
 "cells": [
  {
   "cell_type": "markdown",
   "id": "9959c7ec-6ed0-470a-b70c-2a41c522467f",
   "metadata": {
    "tags": []
   },
   "source": [
    "# Python for Social Science"
   ]
  },
  {
   "cell_type": "markdown",
   "id": "34b5cece-cf65-4071-9661-e8c14de4e789",
   "metadata": {},
   "source": [
    "<img src=\"../figures/PySocs_banner.png\" width=\"50%\" align=\"left\">"
   ]
  },
  {
   "cell_type": "markdown",
   "id": "64662a96-cfa9-4a7e-839a-586806ddb417",
   "metadata": {},
   "source": [
    "# Data Visualization\n",
    "\n",
    ">*“The preliminary examination of data by simple graphical methods is always desirable. The purpose of such diagrams is not to substitute for adequate statistical treatment, but to afford a preliminary, and often valuable, means of detecting gross errors, of studying the general character of the material, and of suggesting appropriate statistical tests.”*\n",
    "\n",
    "This statement by Sir Ronald A. Fisher highlights the importance of using graphs and figures. Fisher emphasized that visualizations should clarify the data rather than substitute for analytical methods.\n",
    "\n",
    "This underscores the role of visualization as a tool for exploration and communication, making it useful for identifying patterns, errors, or anomalies."
   ]
  },
  {
   "cell_type": "markdown",
   "id": "024a1af9-bac3-4191-8fc4-6c25bcceb2d8",
   "metadata": {},
   "source": [
    "## Visualization using `matplotlib`\n",
    "\n",
    "Python offers a variety of packages for creating data visualizations, but none is more fundamental than `matplotlib`, which will be the focus of this session. The name `matplotlib` is derived from `MATLAB`, and the traditional interface of `matplotlib` mimics that of its predecessor."
   ]
  },
  {
   "cell_type": "code",
   "execution_count": null,
   "id": "7f6bd818-d394-4a9a-8bd1-0160f132c261",
   "metadata": {},
   "outputs": [],
   "source": [
    "import numpy as np\n",
    "import pandas as pd\n",
    "import matplotlib.pyplot as plt\n",
    "import statsmodels.api as sm"
   ]
  },
  {
   "cell_type": "markdown",
   "id": "4e9d3867-4f8a-4c03-ba94-b2284b4b15c9",
   "metadata": {},
   "source": [
    "`pyplot` is a collection of functions that make `matplotlib` work like `MATLAB`. By convention, `pyplot` is aliased to `plt`, which we just did in the above import cell."
   ]
  },
  {
   "cell_type": "markdown",
   "id": "73dde9bc-4ddc-4332-9e5f-36e095b63909",
   "metadata": {},
   "source": [
    "### Different Interfaces to `matplotlib`\n",
    "\n",
    "One aspect of `matplotlib` that can confuse some users is that there are several ways to access its functionalities:\n",
    "\n",
    "- **Method 1**: A high-level interface similar to MATLAB.\n",
    "- **Method 2**: A low-level object-oriented method.\n",
    "- **Method 3**: Methods offered by Pandas."
   ]
  },
  {
   "cell_type": "markdown",
   "id": "07116c0b-7ba3-4363-9afb-43dc2bad5d7b",
   "metadata": {},
   "source": [
    "**Method 1**\n",
    "\n",
    "Here’s a \"one-liner\" using **Method 1** to generate a simple line graph:"
   ]
  },
  {
   "cell_type": "code",
   "execution_count": null,
   "id": "06df77cb-a508-4c77-861b-01431eb24b25",
   "metadata": {},
   "outputs": [],
   "source": [
    "# Method 1\n",
    "\n",
    "arr = pd.Series(range(10))\n",
    "\n",
    "# One-liner\n",
    "plt.plot(arr)\n",
    "\n",
    "# Add options\n",
    "plt.title(\"Title\")\n",
    "plt.xlabel(\"x-axis\")\n",
    "plt.ylabel(\"y-axis\");"
   ]
  },
  {
   "cell_type": "markdown",
   "id": "54a8f5d3-1a01-43f4-b375-9bc00c146990",
   "metadata": {},
   "source": [
    "💡Although not explicitly shown, the simple `plot()` function call above creates two distinct objects: a **figure** and a default **axes**. The **figure** represents the entire white canvas, while the **axes** refers to the rectangular plot area within the canvas."
   ]
  },
  {
   "cell_type": "markdown",
   "id": "6fc25844-cb0d-4c8f-a47b-f5adf566b0d3",
   "metadata": {},
   "source": [
    "**Method 2**\n",
    "\n",
    "Using **Method 2**, the following example illustrates a more modern object-oriented interface:"
   ]
  },
  {
   "cell_type": "code",
   "execution_count": null,
   "id": "978cbdf4-a51e-4dde-96c6-bf02552d6b90",
   "metadata": {},
   "outputs": [],
   "source": [
    "# Method 2\n",
    "\n",
    "arr = pd.Series(range(10))\n",
    "\n",
    "# Two steps\n",
    "fig = plt.figure() # create a plot figure object\n",
    "ax = fig.add_subplot() # create an axes object inside fig\n",
    "\n",
    "ax.plot(arr)\n",
    "\n",
    "ax.set_title(\"Title\")\n",
    "ax.set_xlabel(\"x-axis\")\n",
    "ax.set_ylabel(\"y-axis\");"
   ]
  },
  {
   "cell_type": "markdown",
   "id": "a181a91e-9af7-4971-8181-2ba3e44a0e2c",
   "metadata": {},
   "source": [
    "In **Method 2**, a plot figure and an axes object are explicitly created before drawing a plot. Another source of confusion is that this *two-step* approach is often performed in a single step, as follows:"
   ]
  },
  {
   "cell_type": "code",
   "execution_count": null,
   "id": "12647ca0-9cb4-4922-9e42-189751e78150",
   "metadata": {},
   "outputs": [],
   "source": [
    "# Method 2B\n",
    "\n",
    "arr = pd.Series(range(10))\n",
    "\n",
    "fig, ax = plt.subplots() # create a plot figure object and an axes object\n",
    "\n",
    "ax.plot(arr)\n",
    "\n",
    "ax.set_title(\"Title\")\n",
    "ax.set_xlabel(\"x-axis\")\n",
    "ax.set_ylabel(\"y-axis\");"
   ]
  },
  {
   "cell_type": "markdown",
   "id": "a785388b-50eb-4749-ba6b-61223f974372",
   "metadata": {},
   "source": [
    "It creates both a `Figure` and an `Axes`\n",
    "- `fig` → the container (the entire window or canvas)\n",
    "- `ax` → the plotting area (the coordinate system where your data is drawn)"
   ]
  },
  {
   "cell_type": "markdown",
   "id": "6dd27139-6652-42b0-8bc1-cae0f65306b2",
   "metadata": {},
   "source": [
    "**Method 3**\n",
    "\n",
    "Lastly, Pandas is tightly integrated with `matplotlib`. In **Method 3**, Pandas uses Matplotlib as its backend and accesses Matplotlib functions through the `.plot()` accessor, rather than re-implementing plotting functionality."
   ]
  },
  {
   "cell_type": "code",
   "execution_count": null,
   "id": "8dd53c84-4c10-4659-9c4e-f8500cb2f8f7",
   "metadata": {},
   "outputs": [],
   "source": [
    "# Method 3\n",
    "\n",
    "arr = pd.Series(range(10))\n",
    "\n",
    "# Use pandas plot directly\n",
    "arr.plot(\n",
    "    title=\"Title\",\n",
    "    xlabel=\"x-axis\",\n",
    "    ylabel=\"y-axis\",\n",
    "    figsize=(6,4)\n",
    ")"
   ]
  },
  {
   "cell_type": "markdown",
   "id": "98479aeb-85f7-451d-b2fe-36322a5a3f83",
   "metadata": {},
   "source": [
    "This method is brief and ideal for rapid exploratory tasks.\n",
    "\n",
    "- `arr.plot()` automatically creates the figure and axes.\n",
    "- `title`, `xlabel`, and `ylabel` can be passed as arguments.\n",
    "- You can still access the `ax` object if you need finer customization afterward (with the assignment `ax = ...`)"
   ]
  },
  {
   "cell_type": "markdown",
   "id": "6e2a28c1-462f-4580-b274-128c35875637",
   "metadata": {},
   "source": [
    "✅ Using `pd.Series.plot()` / `pd.DataFrame.plot()`\n",
    "\n",
    "Advantages:\n",
    "- Concise: One-liner plotting for quick EDA (Exploratory Data Analysis).\n",
    "- Built-in labeling: Column names (or index names) are automatically used for labels and legends.\n",
    "- Fast iteration: Great when you’re inspecting multiple variables quickly in a notebook.\n",
    "\n",
    "Drawbacks:\n",
    "- Less flexibility: Only a subset of Matplotlib’s full plotting functions are exposed directly.\n",
    "- For more complex plots (multiple axes, subplots, regression overlays, custom annotations), you’ll often need to drop down into Matplotlib anyway."
   ]
  },
  {
   "cell_type": "markdown",
   "id": "dee563b5-0ef8-47bb-88a5-42fc35d4ee69",
   "metadata": {},
   "source": [
    "### Incremental Construction of Complex Visualizations\n",
    "\n",
    "One of Matplotlib's greatest strengths is its ability to allow incremental construction of visualizations. This approach enables you to build complex figures step by step, rather than requiring everything to be defined at once.\n",
    "\n",
    "In the following example, we illustrate some of the key ways Matplotlib supports incremental construction of complex figures."
   ]
  },
  {
   "cell_type": "code",
   "execution_count": null,
   "id": "aed944ba-31a6-4997-b20a-43d7ff544f40",
   "metadata": {},
   "outputs": [],
   "source": [
    "x = np.linspace(-8, 8, 100)\n",
    "p = 1 / (1 + np.exp(-x))  # cumulative logistic function\n",
    "r = p + np.random.normal(0, 0.01, size=len(p))  # p + random noise\n",
    "\n",
    "fig, ax = plt.subplots(figsize=(8, 5))\n",
    "\n",
    "# logistic curve\n",
    "ax.plot(x, p, linewidth=2, color=\"navy\",\n",
    "        label=r\"$p(x)=\\frac{1}{1 + e^{-x}}$\")\n",
    "\n",
    "# scatter points (transparent red)\n",
    "ax.scatter(x, r, color=\"red\", alpha=0.4, s=30, edgecolor=\"none\",\n",
    "           label=\"Simulated data\")\n",
    "\n",
    "# tangent line at (0, 0.5)\n",
    "ax.axline((0, 0.5), slope=0.25, color=\"black\", linestyle=\"--\",\n",
    "          label=\"Tangent line\")\n",
    "\n",
    "# reference lines\n",
    "ax.axvline(x=0, linestyle=\":\", color=\"gray\")\n",
    "ax.axhline(y=0.5, linestyle=\":\", color=\"gray\")\n",
    "\n",
    "# labels and legend\n",
    "ax.set_xlabel(\"x\")\n",
    "ax.set_ylabel(\"p(x)\")\n",
    "ax.legend()\n",
    "ax.set_title(\"Logistic Function with Simulated Data\", fontsize=14);"
   ]
  },
  {
   "cell_type": "markdown",
   "id": "35c8816b-502b-4238-b5b1-0f3360d9bdc2",
   "metadata": {},
   "source": [
    "### Multiple Subplots\n",
    "\n",
    "Matplotlib utilizes the concept of *subplots*, which enables the display of multiple plots within a single figure object. This makes it easier to compare different views of data. The distinction between **figure** and **axes** elements provides convenient management of multi-plot layouts, letting us control the overall figure as well as each plot."
   ]
  },
  {
   "cell_type": "code",
   "execution_count": null,
   "id": "d7f5d7c7-7637-4715-b76e-fec28ae60ac6",
   "metadata": {},
   "outputs": [],
   "source": [
    "x = np.linspace(0, 10, 100)\n",
    "\n",
    "fig, ax = plt.subplots()\n",
    "\n",
    "ax.plot(x , np.sin(x)) # Draw explicitly on 'ax'\n",
    "ax.set_title(\"sine(x)\")\n",
    "\n",
    "fig.suptitle(\"Trig Functions\");  # Control figure-wide properties"
   ]
  },
  {
   "cell_type": "markdown",
   "id": "cb0875cd-3f5b-4fbf-a317-7c3949123b9a",
   "metadata": {},
   "source": [
    "Again, you explicitly manage:\n",
    "- The Figure (`fig`) → overall container.\n",
    "- The Axes (`ax`) → the actual plotting area."
   ]
  },
  {
   "cell_type": "markdown",
   "id": "c20b4640-79e4-4cfa-b8d2-7a5b7da82c8d",
   "metadata": {},
   "source": [
    "We can add a second axes manually afterward with `fig.add_axes()`. For example,"
   ]
  },
  {
   "cell_type": "code",
   "execution_count": null,
   "id": "3bbc847c-9249-48e4-8d4a-4fb0bc541c56",
   "metadata": {},
   "outputs": [],
   "source": [
    "x = np.linspace(0, 10, 100)\n",
    "\n",
    "fig, ax = plt.subplots()\n",
    "\n",
    "ax.plot(x, np.sin(x))\n",
    "ax.set_title(\"sin(x)\")\n",
    "fig.suptitle(\"Trig Functions\")  # Control figure-wide properties\n",
    "\n",
    "# add a second axes in the same figure\n",
    "ax2 = fig.add_axes([0.365, 0.58, 0.25, 0.25])  # inset at top-center [left, bottom, width, height]\n",
    "ax2.plot(x, np.cos(x), color=\"orange\")\n",
    "ax2.set_title(\"cos(x)\");"
   ]
  },
  {
   "cell_type": "markdown",
   "id": "e61fb7a1-6a21-4174-b781-7adbf7eb98c1",
   "metadata": {},
   "source": [
    "More commonly, we might want to generate the first axes to leave some whitespace in the figure, so a second axes can be placed next to it but not overlapping."
   ]
  },
  {
   "cell_type": "code",
   "execution_count": null,
   "id": "3e2d0a54-4188-48b8-b895-89b6ac80b8c7",
   "metadata": {},
   "outputs": [],
   "source": [
    "fig = plt.figure(figsize=(8, 4))\n",
    "\n",
    "# First axes (occupies the left half, not the whole figure)\n",
    "ax1 = fig.add_axes([0.1, 0.1, 0.35, 0.8])  # [left, bottom, width, height]\n",
    "ax1.plot(x, np.sin(x))\n",
    "ax1.set_title(\"sin(x)\")\n",
    "\n",
    "# Second axes (occupies the right half)\n",
    "ax2 = fig.add_axes([0.55, 0.1, 0.35, 0.8])\n",
    "ax2.plot(x, np.cos(x), color=\"orange\")\n",
    "ax2.set_title(\"cos(x)\")\n",
    "\n",
    "fig.suptitle(\"Trig Functions\");  # Control figure-wide properties"
   ]
  },
  {
   "cell_type": "markdown",
   "id": "a23d0c4f-8074-4621-ae76-bdfe9b57133b",
   "metadata": {},
   "source": [
    "This feature might have a use case; however, the two-layer approach really shines when you have multiple plots pre-arranged within a figure object.\n",
    "\n",
    "Suppose you want to create four plots in a single figure object in a 2x2 partition."
   ]
  },
  {
   "cell_type": "code",
   "execution_count": null,
   "id": "10ed3d73-6f54-473f-bdcf-7b5757afd940",
   "metadata": {
    "scrolled": true
   },
   "outputs": [],
   "source": [
    "fig, ax = plt.subplots(2, 2) # 2x2 grid of axes\n",
    "\n",
    "# top left\n",
    "ax[0, 0].plot(x, np.sin(x))\n",
    "ax[0, 0].set_title(\"sin(x)\")\n",
    "\n",
    "# top right\n",
    "ax[0, 1].plot(x, np.cos(x), \"-\", color=\"orange\")\n",
    "ax[0, 1].set_title(\"cos(x)\")\n",
    "\n",
    "# bottom left\n",
    "ax[1, 0].hist(np.random.standard_normal(100), \n",
    "              bins=20, \n",
    "              color=\"blue\", \n",
    "              alpha=0.2)\n",
    "ax[1, 0].set_title(\"Histogram\")\n",
    "\n",
    "# bottom right\n",
    "ax[1, 1].scatter(np.arange(30), \n",
    "                 np.arange(30) + 3 * np.random.standard_normal(30))\n",
    "ax[1, 1].set_title(\"Scatterplot\")\n",
    "\n",
    "# figure\n",
    "fig.suptitle(\"Multiple Plots in 2x2\") # Control figure-wide properties\n",
    "fig.tight_layout(rect=[0, 0, 1, 0.95]); # adjust layout to avoid overlap"
   ]
  },
  {
   "cell_type": "markdown",
   "id": "e1c63927-2f57-4d68-bc19-fecf5282106f",
   "metadata": {},
   "source": [
    "The `rect=[0, 0, 1, 0.95]` option of the last line defines the rectangle in normalized figure coordinates (`[left, bottom, right, top]`) that the subplots will fit inside. For example, `rect=[0, 0, 1, 0.95]` reserves the top 5% of the figure for a suptitle."
   ]
  },
  {
   "cell_type": "markdown",
   "id": "3a47f581-5001-4be2-afdb-93a9475d6277",
   "metadata": {},
   "source": [
    "## Loading Datasets from R packages\n",
    "\n",
    "Before exploring more advanced visualization techniques, we’ll show how to use real-world datasets available in some R packages. The `statsmodels` module offers access to R datasets from CRAN using `statsmodels.datasets.get_rdataset()`.\n",
    "\n",
    "Below is a table of various social science datasets accessible through `statsmodels.datasets.get_rdataset()` and the Python code to load them. These classical datasets are commonly used in economics, political science, and sociology.\n",
    "\n",
    "| Dataset    | R Package / Source | Description                                | Load in Python                                         |\n",
    "| ---------- | ------------------ | ------------------------------------------ | ------------------------------------------------------ |\n",
    "| *`Fair`     | `Ecdat`            | Extramarital affairs data   | `sm.datasets.get_rdataset(\"Fair\", \"Ecdat\").data`       |\n",
    "| *`Guerry`   | `HistData`         | Moral statistics of 19th-century France    | `sm.datasets.get_rdataset(\"Guerry\", \"HistData\").data`  |\n",
    "| `anes96`   | `carData`          | American National Election Survey, 1996    | `sm.datasets.get_rdataset(\"anes96\", \"carData\").data`   |\n",
    "| `nes96`    | `carData`          | Another 1996 US election survey            | `sm.datasets.get_rdataset(\"nes96\", \"carData\").data`    |\n",
    "| `usair`    | `datasets`         | US air pollution & health data             | `sm.datasets.get_rdataset(\"usair\", \"datasets\").data`   |\n",
    "| *`CPS1985`  | `AER`              | U.S. Current Population Survey 1985        | `sm.datasets.get_rdataset(\"CPS1985\", \"AER\").data`      |\n",
    "| `Longley`  | `datasets`         | Macroeconomic data for regression examples | `sm.datasets.get_rdataset(\"Longley\", \"datasets\").data` |\n",
    "| `Grunfeld` | `Ecdat`            | Investment data for firms                  | `sm.datasets.get_rdataset(\"Grunfeld\", \"Ecdat\").data`   |\n"
   ]
  },
  {
   "cell_type": "markdown",
   "id": "adf2067e-ec13-4b82-90db-4f09beae3a82",
   "metadata": {},
   "source": [
    "For example, `sm.datasets.get_rdataset(\"Fair\", \"Ecdat\")` fetches the dataset, `Fair`, from the R package named `Ecdat`:"
   ]
  },
  {
   "cell_type": "code",
   "execution_count": null,
   "id": "709d667d-47ae-4491-9a14-fc51474505d3",
   "metadata": {},
   "outputs": [],
   "source": [
    "fair = sm.datasets.get_rdataset(\"Fair\", \"Ecdat\")\n",
    "df_fair = fair.data\n",
    "df_fair.head()"
   ]
  },
  {
   "cell_type": "markdown",
   "id": "ab86a6b4-3429-4212-8519-e2b908790b2d",
   "metadata": {},
   "source": [
    "Here are the variables contained in the dataset, along with brief descriptions.\n",
    "\n",
    "| **Variable** | **Description**                                                                       |\n",
    "| ------------ | ------------------------------------------------------------------------------------- |\n",
    "| `sex`        | Gender of the respondent: *male* or *female*                                          |\n",
    "| `age`        | Age of the respondent                                                                 |\n",
    "| `ym`         | Number of years married                                                               |\n",
    "| `child`      | Presence of children: *yes* or *no*                                                   |\n",
    "| `religious`  | Self-reported religiosity, on a scale from 1 (anti) to 5 (very religious)             |\n",
    "| `education`  | Years of education completed                                                          |\n",
    "| `occupation` | Occupation level, coded from 1 to 7 based on Hollingshead classification              |\n",
    "| `rate`       | Self-rating of marriage happiness, on a scale from 1 (very unhappy) to 5 (very happy) |\n",
    "| `nbaffairs`  | Number of extramarital affairs in the past year                                       |\n",
    "\n"
   ]
  },
  {
   "cell_type": "markdown",
   "id": "6f8fb955-0613-4df0-9c4b-392a0e296858",
   "metadata": {},
   "source": [
    "## Line Charts\n",
    "\n",
    "A line chart is one of the most common types of visualizations in Matplotlib. It is typically used to show trends over time or ordered categories.\n",
    "\n",
    "- In Matplotlib, a line chart is created using the function `plt.plot()`.\n",
    "- The first argument represents the x-values (independent variable) and the second argument represents the y-values (dependent variable).\n",
    "- Line charts are great for showing continuous data and spotting patterns, trends, and relationships."
   ]
  },
  {
   "cell_type": "code",
   "execution_count": null,
   "id": "775e2298-6de5-474d-8496-2ce26aa60ba0",
   "metadata": {},
   "outputs": [],
   "source": [
    "fig, ax = plt.subplots(2, 2)\n",
    "\n",
    "rng = np.random.default_rng(42) # create a generator with seed 42\n",
    "\n",
    "x = rng.standard_normal(100).cumsum()\n",
    "\n",
    "ax[0, 0].plot(x, linestyle=\"-\", color=\"k\")   # solid black\n",
    "ax[0, 1].plot(x, linestyle=\"--\", color=\"r\")  # dashed red\n",
    "ax[1, 0].plot(x, linestyle=\":\", color=\"b\")   # dotted blue\n",
    "ax[1, 1].plot(x, linestyle=\"-.\", color=\"c\"); # dash dot cyan"
   ]
  },
  {
   "cell_type": "markdown",
   "id": "b310b0c6-fa30-41ac-b38b-36e84eb553d0",
   "metadata": {},
   "source": [
    "### Practice Exercise 1\n",
    "\n",
    "Generate an array `x` with 200 values evenly spaced from 0 to 2π using `np.linspace` and `np.pi`.\n",
    "\n",
    "Plot both functions, `y1 = sin(x)` and `y2 = cos(x)`, on the same chart.\n",
    "\n",
    "Include a title, axis labels, and a legend:\n",
    "- Title: \"Sine and Cosine Functions\"\n",
    "- X-axis label: \"x (radians)\"\n",
    "- Y-axis label: \"y value\"\n",
    "- Add a legend to identify each function."
   ]
  },
  {
   "cell_type": "markdown",
   "id": "6db4ed61-a3c2-49de-a8f7-22543947c88e",
   "metadata": {},
   "source": [
    "**Step 1**: Generate `x`, `y1`, and `y2`"
   ]
  },
  {
   "cell_type": "code",
   "execution_count": null,
   "id": "5627c17c-2428-4d2d-811a-2a03c5ff0351",
   "metadata": {},
   "outputs": [],
   "source": [
    "# Your CODE HERE\n"
   ]
  },
  {
   "cell_type": "markdown",
   "id": "a06cdb38-b9d1-4d07-9645-5189806c87af",
   "metadata": {},
   "source": [
    "**Step 2**: Plot both functions using **Method 1**, e.g., `plt.plot()`:"
   ]
  },
  {
   "cell_type": "code",
   "execution_count": null,
   "id": "5096b222-1550-4b45-8620-016cee5e95b3",
   "metadata": {},
   "outputs": [],
   "source": [
    "# YOUR CODE HERE - Method 1\n"
   ]
  },
  {
   "cell_type": "markdown",
   "id": "db9d3085-9909-49dc-a8d7-3ee4251413e6",
   "metadata": {},
   "source": [
    "**Step 3**: Plot both functions using **Method 2**, e.g., `fig, ax = plt.subplots()`:"
   ]
  },
  {
   "cell_type": "code",
   "execution_count": null,
   "id": "7e11a8f7-0178-4f25-848d-37cc48114028",
   "metadata": {},
   "outputs": [],
   "source": [
    "# YOUR CODE HERE - Method 2\n",
    "  "
   ]
  },
  {
   "cell_type": "markdown",
   "id": "2d19291b-783e-4050-a16d-9e0b44dedcdb",
   "metadata": {},
   "source": [
    "### The Guerry Dataset\n",
    "\n",
    "The Guerry dataset is a classic historical dataset in social science, compiled by the French lawyer and statistician André-Michel Guerry in the 1830s. It provides detailed information on moral and social statistics across the 86 départements of France.\n",
    "\n",
    "🔹 Purpose\n",
    "\n",
    "Guerry aimed to understand patterns of crime, education, wealth, and social behavior in 19th-century France. By mapping and analyzing these variables, he sought to explore the relationship between social conditions and moral outcomes, predating modern quantitative social science."
   ]
  },
  {
   "cell_type": "markdown",
   "id": "cdd765b6-da69-4450-ab80-22feb54e5588",
   "metadata": {},
   "source": [
    "The dataset contains these variables:\n",
    "\n",
    "| Variable      | Description             | Type          | Notes / Units                                                |\n",
    "| ------------- | ----------------------- | ------------- | ------------------------------------------------------------ |\n",
    "| `Dept`        | Department number       | Integer       | French administrative region code (1–86 in 1830s France)     |\n",
    "| `Department`  | Department name         | String        | Name of the department                                       |\n",
    "| `Crime_pers`  | Crimes against persons  | Numeric       | Number of crimes against persons per 100,000 inhabitants     |\n",
    "| `Crime_prop`  | Crimes against property | Numeric       | Number of crimes against property per 100,000 inhabitants    |\n",
    "| `Literacy`    | Literacy                | Numeric       | Percentage of the population who can read and write          |\n",
    "| `Donations`   | Donations to the poor   | Numeric       | Number of donations to the poor per 100,000 inhabitants      |\n",
    "| `Infants`     | Illegitimate births     | Numeric       | Number of children born out of wedlock per 1,000 births      |\n",
    "| `Suicides`    | Suicides                | Numeric       | Number of suicides per 100,000 inhabitants                   |\n",
    "| `Wealth`      | Wealth                  | Numeric       | Taxable property per inhabitant (arbitrary units)            |\n",
    "| `Commerce`    | Commerce                | Numeric       | Number of commercial establishments per 100,000 inhabitants  |\n",
    "| `Clergy`      | Clergy                  | Numeric       | Number of clergymen per 100,000 inhabitants                  |\n",
    "| `Crime_total` | Total crime             | Numeric       | Sum of crimes against persons and property                   |\n",
    "| `Region`      | Region name             | Factor/String | Geographical region (e.g., North, South, East, West, Center) |\n"
   ]
  },
  {
   "cell_type": "code",
   "execution_count": null,
   "id": "1e6839e4-10f0-4eab-b882-0994a21da3f3",
   "metadata": {},
   "outputs": [],
   "source": [
    "# Load Guerry dataset from HistData\n",
    "data_guerry = sm.datasets.get_rdataset(\"Guerry\", \"HistData\").data\n",
    "\n",
    "# Select variables to plot: Crime_pers, Crime_prop, Literacy, Region\n",
    "df_guerry = data_guerry[['Department', 'Crime_pers', 'Crime_prop', 'Literacy', 'Region']]\n",
    "\n",
    "# Sort by Department name alphabetically\n",
    "df_guerry = df_guerry.sort_values('Department')\n",
    "df_guerry.head(10)"
   ]
  },
  {
   "cell_type": "code",
   "execution_count": null,
   "id": "13ae0ff9-ea07-49a2-b791-975970c65e2b",
   "metadata": {},
   "outputs": [],
   "source": [
    "# Set the plot size\n",
    "plt.figure(figsize=(14, 6))\n",
    "\n",
    "# Plot each variable as a line\n",
    "plt.plot(df_guerry['Department'], df_guerry['Crime_pers'], marker='o', label='Crime Against Persons')\n",
    "plt.plot(df_guerry['Department'], df_guerry['Crime_prop'], marker='s', label='Crime Against Property')\n",
    "plt.plot(df_guerry['Department'], df_guerry['Literacy'], marker='^', label='Literacy (%)')\n",
    "\n",
    "# Add labels and title\n",
    "plt.xlabel('Department')\n",
    "plt.ylabel('Value')\n",
    "plt.title('Crime and Literacy by French Department (Guerry Dataset, 1830s)')\n",
    "plt.xticks(rotation=90)  # rotate department names\n",
    "plt.legend()\n",
    "\n",
    "plt.grid(True)\n",
    "plt.tight_layout()"
   ]
  },
  {
   "cell_type": "markdown",
   "id": "d61b55ce-8223-4e7e-87c2-198493b47847",
   "metadata": {},
   "source": [
    "`Literacy` is measured as a percentage (0–100), while crime data is reported as counts per 100,000 people. Plotting `Literacy` in its raw form makes the line appear very flat. To visually compare, we can rescale Crime per 100,000 and Crime proportion to match the range of Literacy."
   ]
  },
  {
   "cell_type": "code",
   "execution_count": null,
   "id": "487dbef6-34b5-4545-8aef-08f6275988b1",
   "metadata": {},
   "outputs": [],
   "source": [
    "# Rescale crime variables\n",
    "df_guerry['Crime_pers_scaled'] = df_guerry['Crime_pers'] / 100_000 * 100\n",
    "df_guerry['Crime_prop_scaled'] = df_guerry['Crime_prop'] / 100_000 * 100\n",
    "\n",
    "# Plot\n",
    "plt.figure(figsize=(14, 6))\n",
    "\n",
    "plt.plot(df_guerry['Department'], df_guerry['Crime_pers_scaled'], marker='o', label='Crime Against Persons (per capita)')\n",
    "plt.plot(df_guerry['Department'], df_guerry['Crime_prop_scaled'], marker='s', label='Crime Against Property (per capita)')\n",
    "plt.plot(df_guerry['Department'], df_guerry['Literacy'], marker='^', label='Literacy (%)')\n",
    "\n",
    "plt.xlabel('Department')\n",
    "plt.ylabel('Value')\n",
    "plt.title('Crime and Literacy by French Department (Guerry Dataset, 1830s)')\n",
    "plt.xticks(rotation=90)\n",
    "plt.legend()\n",
    "\n",
    "plt.grid(True)\n",
    "plt.tight_layout()"
   ]
  },
  {
   "cell_type": "markdown",
   "id": "f8d015b4-e377-4e77-8a22-ae55858a9f5a",
   "metadata": {},
   "source": [
    "Currently, the x-axis is sorted by `Department`. To sort the series by another variable, e.g., `Literacy`, you can reorder the DataFrame prior to plotting. This will ensure all three series remain consistently aligned."
   ]
  },
  {
   "cell_type": "code",
   "execution_count": null,
   "id": "63ed37ff-87bb-456b-9869-26cfd4f6e0ac",
   "metadata": {},
   "outputs": [],
   "source": [
    "# Rescale crime variables\n",
    "df_guerry['Crime_pers_scaled'] = df_guerry['Crime_pers'] / 100_000 * 100\n",
    "df_guerry['Crime_prop_scaled'] = df_guerry['Crime_prop'] / 100_000 * 100\n",
    "\n",
    "# Sort by Literacy\n",
    "df_sorted = df_guerry.sort_values(by='Literacy') # Beware inplace=True\n",
    "\n",
    "# Plot\n",
    "plt.figure(figsize=(14, 6))\n",
    "\n",
    "plt.plot(df_sorted['Department'], df_sorted['Crime_pers_scaled'], marker='o',\n",
    "         label='Crime Against Persons (per capita)')\n",
    "plt.plot(df_sorted['Department'], df_sorted['Crime_prop_scaled'], marker='s',\n",
    "         label='Crime Against Property (per capita)')\n",
    "plt.plot(df_sorted['Department'], df_sorted['Literacy'], marker='^',\n",
    "         label='Literacy (%)')\n",
    "\n",
    "plt.xlabel('Department')\n",
    "plt.ylabel('Value')\n",
    "plt.title('Crime and Literacy by French Department (Guerry Dataset, 1830s)')\n",
    "plt.xticks(rotation=90)\n",
    "plt.legend()\n",
    "\n",
    "plt.grid(True)\n",
    "plt.tight_layout()"
   ]
  },
  {
   "cell_type": "markdown",
   "id": "651909f8-910b-41b4-a1b2-8061ce642eb6",
   "metadata": {},
   "source": [
    "## Bar Charts\n",
    "\n",
    "Bar charts are one of the most common tools for visualizing categorical data. They provide a clear and effective way to compare the sizes of different categories or the magnitudes of summary statistics.\n",
    "\n",
    "A bar chart visually represents categorical data using rectangular bars. The height (or length, in the case of horizontal bars) of each bar corresponds to the value of its category. This value can represent a count or a statistic, such as the mean. Bar charts are ideal for comparing quantities across various categories.\n",
    "\n",
    "In Matplotlib, you can create bar charts by using the `plt.bar()` function for vertical bars or the `plt.barh()` function for horizontal bars."
   ]
  },
  {
   "cell_type": "markdown",
   "id": "d037538a-d393-46cc-b73b-642e3ab5ea2a",
   "metadata": {},
   "source": [
    "### Vertical Bar Chart\n",
    "\n",
    "A small bookstore wants to visualize its monthly sales for four genres: Fiction, Non-Fiction, Science, and History. The sales (in units) are:\n",
    "\n",
    "| Genre       | Sales |\n",
    "| ----------- | ----- |\n",
    "| Fiction     | 120   |\n",
    "| Non-Fiction | 90    |\n",
    "| Science     | 60    |\n",
    "| History     | 30    |\n",
    "\n",
    "- Create a vertical bar chart showing the sales of each genre.\n",
    "- Customize the chart with a title \"Monthly Book Sales\" and label the axes appropriately.\n",
    "- Change the bar color to \"lightgreen\"."
   ]
  },
  {
   "cell_type": "code",
   "execution_count": null,
   "id": "92ac8809-35a4-42f8-b256-11616231c030",
   "metadata": {
    "scrolled": true
   },
   "outputs": [],
   "source": [
    "# Data\n",
    "genres = ['Fiction', 'Non-Fiction', 'Science', 'History']\n",
    "sales = [120, 90, 60, 30]\n",
    "\n",
    "# Create vertical bar chart\n",
    "plt.bar(genres, sales, color='lightgreen')\n",
    "\n",
    "# Add title and axis labels\n",
    "plt.title('Monthly Book Sales')\n",
    "plt.xlabel('Book Genre')\n",
    "plt.ylabel('Units Sold');"
   ]
  },
  {
   "cell_type": "markdown",
   "id": "98fb8992-3fb3-4a46-9432-5cd22fbd1d4a",
   "metadata": {},
   "source": [
    "Horizontal Orientation with `barh()`."
   ]
  },
  {
   "cell_type": "code",
   "execution_count": null,
   "id": "266d333b-f469-4e66-9c4a-6d2610519e7f",
   "metadata": {},
   "outputs": [],
   "source": [
    "# Create horizontal bar chart\n",
    "plt.barh(genres, sales, color='magenta')\n",
    "\n",
    "# Add title and axis labels\n",
    "plt.title('Monthly Book Sales')\n",
    "plt.ylabel('Book Genre')\n",
    "plt.xlabel('Units Sold');"
   ]
  },
  {
   "cell_type": "markdown",
   "id": "e31284b8-44ab-4f8c-ae64-7f6c1909ad64",
   "metadata": {},
   "source": [
    "Individual bar colors"
   ]
  },
  {
   "cell_type": "code",
   "execution_count": null,
   "id": "aba0b749-351d-4178-b7fa-f8affe88903e",
   "metadata": {},
   "outputs": [],
   "source": [
    "# Create horizontal bar chart with individual bar colors\n",
    "genre_colors = ['pink', 'black', 'skyblue', 'grey']\n",
    "\n",
    "plt.barh(genres, sales, label=genres, color=genre_colors)\n",
    "\n",
    "# Add title and axis labels\n",
    "plt.title('Monthly Book Sales')\n",
    "plt.ylabel('Book Genre')\n",
    "plt.xlabel('Units Sold')\n",
    "plt.legend();"
   ]
  },
  {
   "cell_type": "markdown",
   "id": "ae565a09-c9cd-4ef3-b72f-a5404bc49725",
   "metadata": {},
   "source": [
    "Using a color palette"
   ]
  },
  {
   "cell_type": "code",
   "execution_count": null,
   "id": "904b2f7b-d970-4283-8383-ec8661eb0510",
   "metadata": {},
   "outputs": [],
   "source": [
    "# Choose a colormap\n",
    "cmap = plt.cm.viridis # equivalently, cmap = plt.get_cmap(\"viridis\")\n",
    "\n",
    "# Sample 5 evenly spaced colors from the colormap\n",
    "genre_colors = cmap(np.linspace(0, 1, 5))\n",
    "\n",
    "plt.barh(genres, sales, label=genres, color=genre_colors)\n",
    "\n",
    "# Add title and axis labels\n",
    "plt.title('Monthly Book Sales')\n",
    "plt.ylabel('Book Genre')\n",
    "plt.xlabel('Units Sold')\n",
    "plt.legend();"
   ]
  },
  {
   "cell_type": "markdown",
   "id": "1e589b0d-dcf7-42f4-a1b8-6d26ae760f49",
   "metadata": {},
   "source": [
    "### Perceptually uniform colormaps\n",
    "\n",
    "You may want to try these other color maps. They are more suitable for continuous variables than for categorical ones, but they do offer some aesthetic appeal.\n",
    "\n",
    "| Name      | Description                | Example use                                                   |\n",
    "| --------- | -------------------------- | ------------------------------------------------------------- |\n",
    "| `viridis` | Dark purple → yellow       | Default in many plots, great for general-purpose numeric data |\n",
    "| `plasma`  | Dark purple → yellow-red   | Slightly warmer than viridis                                  |\n",
    "| `inferno` | Black → yellow             | High-contrast, good for dark backgrounds                      |\n",
    "| `magma`   | Dark purple → light orange | Smooth, subtle gradient                                       |\n",
    "| `cividis` | Blue → yellow              | Colorblind-friendly                                           |"
   ]
  },
  {
   "cell_type": "markdown",
   "id": "a9ec99c4-ff92-41ae-a1fd-19f21a3708a0",
   "metadata": {},
   "source": [
    "## Pandas shortcut to `matplotlib`\n",
    "\n",
    "Both `pd.Series` and `pd.DataFrame` objects in Pandas have a `.plot()` method. Pandas uses its built-in plotting accessor, which serves as a wrapper around `matplotlib`.\n",
    "\n",
    "For example, we can create a `pd.Series` by combining the `genres` and `sales` lists from the example above, and then call the `.plot()` method on the resulting Series."
   ]
  },
  {
   "cell_type": "code",
   "execution_count": null,
   "id": "fe8931ad-8f0e-4a59-9295-a6bb7c50e91f",
   "metadata": {},
   "outputs": [],
   "source": [
    "# Data\n",
    "genres = ['Fiction', 'Non-Fiction', 'Science', 'History']\n",
    "sales = [120, 90, 60, 30]\n",
    "\n",
    "# Create a pd.Series\n",
    "sales_by_genre = pd.Series(sales, index=genres, name=\"Sales\")\n",
    "\n",
    "ax = sales_by_genre.plot(kind=\"bar\", color=genre_colors, rot=0)\n",
    "\n",
    "plt.title(\"Monthly Book Sales by Genre\")\n",
    "plt.ylabel(\"Sales\");\n"
   ]
  },
  {
   "cell_type": "markdown",
   "id": "6458dd04-e087-4928-922c-f0007cc5e825",
   "metadata": {},
   "source": [
    "### Practice Exercise 2\n",
    "\n",
    "In studies of human behavior, researchers are often interested in how personal characteristics influence social outcomes. One area of interest is the relationship between religiosity and marital behavior. The **Fair** dataset from the **Ecdat** package contains survey data on individuals’ marital histories, including the number of extramarital affairs and measures of religiosity.\n",
    "\n",
    "For this exercise, we will use the `df_fair` DataFrame to explore this relationship by creating a bar chart that visualizes the average number of affairs grouped by levels of religiosity. This helps illustrate potential patterns between personal beliefs and reported marital behavior."
   ]
  },
  {
   "cell_type": "markdown",
   "id": "18fde9b9-d695-46f5-947a-160fcfe134e7",
   "metadata": {},
   "source": [
    "**Step 1**\n",
    "\n",
    "Compute the average number of affairs (`nbaffairs`) by the religiosity ratings (`religious`) and save it as `mean_affairs`:"
   ]
  },
  {
   "cell_type": "code",
   "execution_count": null,
   "id": "8b2df0a1-8ac8-410c-af6f-671c2cd0d17a",
   "metadata": {},
   "outputs": [],
   "source": [
    "# YOUR CODE HERE\n"
   ]
  },
  {
   "cell_type": "markdown",
   "id": "19ebe667-3eee-49da-8050-830d07b95476",
   "metadata": {},
   "source": [
    "**Step 2**\n",
    "\n",
    "Using Pandas shortcut to `matplotlib`, create a bar chart for `mean_affairs` with the following customizations.\n",
    "\n",
    "- title: \"Mean Number of Affairs by Religiousness (Fair Dataset)\"\n",
    "- x-axis label: \"Religiousness (1=least, 5=most)\"\n",
    "- y-axis label: \"Mean Number of Affairs\""
   ]
  },
  {
   "cell_type": "code",
   "execution_count": null,
   "id": "a7f3db36-dce7-428b-adba-7ddec06d3626",
   "metadata": {
    "scrolled": true
   },
   "outputs": [],
   "source": [
    "# YOUR CODE HERE\n"
   ]
  },
  {
   "cell_type": "markdown",
   "id": "ea7c1779-8217-4b71-a74b-c573e1906da2",
   "metadata": {},
   "source": [
    "## Stacked and Juxtaposed Barcharts\n",
    "\n",
    "**Juxtaposed** (grouped) bar chart: places bars for different groups side by side, making it easy to compare categories across groups.\n",
    "\n",
    "**Stacked** bar chart: stacks group bars on top of each other within each category, making it easy to see the total distribution but harder to compare groups directly.\n",
    "\n",
    "When to use which?\n",
    "- Use juxtaposed bars when you want to emphasize differences between groups.\n",
    "- Use stacked bars when you want to emphasize the composition within a category."
   ]
  },
  {
   "cell_type": "markdown",
   "id": "1bc67c84-2a47-4202-b4b7-601099fb47d5",
   "metadata": {},
   "source": [
    "**Example**\n",
    "\n",
    "Suppose a survey asked respondents about their level of agreement with the statement:\n",
    "\n",
    "\"Government should provide more support for higher education.\"\n",
    "\n",
    "Responses were: Agree, Neutral, Disagree.\n",
    "We also recorded respondents’ political affiliation (Group A vs. Group B).\n",
    "\n",
    "We want to visualize how opinions differ between groups.\n",
    "\n",
    "Using the following dataset, let's create both a stacked bar chart and a juxtaposed bar chart to compare opinions between groups:\n",
    "\n",
    "| Political Affiliation | Agree | Neutral | Disagree |\n",
    "| --------------------- | ----- | ------- | -------- |\n",
    "| Group A               | 40    | 15      | 20       |\n",
    "| Group B               | 25    | 30      | 35       |\n"
   ]
  },
  {
   "cell_type": "code",
   "execution_count": null,
   "id": "022dcf05-f8c1-43d4-83d9-2e4edc4d750c",
   "metadata": {},
   "outputs": [],
   "source": [
    "# Raw data\n",
    "data = {\n",
    "    \"Group\": [\"Group A\", \"Group B\"],\n",
    "    \"Agree\": [40, 25],\n",
    "    \"Neutral\": [15, 30],\n",
    "    \"Disagree\": [20, 35]\n",
    "}\n",
    "\n",
    "df = pd.DataFrame(data)\n",
    "# Use Group as index\n",
    "df = df.set_index(\"Group\")\n",
    "print(df)"
   ]
  },
  {
   "cell_type": "markdown",
   "id": "3c96ac5a-cc3d-4fdc-8c04-518bdeb3a410",
   "metadata": {},
   "source": [
    "Let's create a stacked bar chart showing response distributions by political affiliation."
   ]
  },
  {
   "cell_type": "code",
   "execution_count": null,
   "id": "d29b2822-e587-45bc-9dbe-0882c4a87c02",
   "metadata": {},
   "outputs": [],
   "source": [
    "# Plot stacked\n",
    "df.plot(kind=\"bar\", stacked=True, figsize=(6,4))\n",
    "\n",
    "plt.ylabel(\"Number of respondents\")\n",
    "plt.title(\"Opinions by Political Affiliation (Stacked)\")\n",
    "plt.xticks(rotation=0)\n",
    "plt.legend(title=\"Response\");"
   ]
  },
  {
   "cell_type": "markdown",
   "id": "e569e621-7e76-46c7-a2c5-3bba7aa82e76",
   "metadata": {},
   "source": [
    "Let's create a juxtaposed bar chart for the same data."
   ]
  },
  {
   "cell_type": "code",
   "execution_count": null,
   "id": "64ff9c66-fbaa-4d56-bfa6-3c913d852b99",
   "metadata": {},
   "outputs": [],
   "source": [
    "df.plot(\n",
    "    kind=\"bar\",\n",
    "    stacked=False,\n",
    "    figsize=(6,4))\n",
    "\n",
    "plt.ylabel(\"Number of respondents\")\n",
    "plt.title(\"Opinions by Political Affiliation (Juxtaposed)\")\n",
    "plt.xticks(rotation=0)\n",
    "plt.legend(loc=\"upper center\", title=\"Response\");"
   ]
  },
  {
   "cell_type": "markdown",
   "id": "bdfd02c6-8e15-488e-9707-7b3c2a557157",
   "metadata": {},
   "source": [
    "### Practice Exercise 3\n",
    "\n",
    "Using `df_guerry`, create a grouped bar chart for `Crime_pers_scaled` and `Crime_prop_scaled` by `Region`. "
   ]
  },
  {
   "cell_type": "markdown",
   "id": "bcf86136-e530-4e9c-b24e-35b45e057fb7",
   "metadata": {},
   "source": [
    "**Step 1**\n",
    "\n",
    "Compute the crime rates per region and save as `regions_means`"
   ]
  },
  {
   "cell_type": "code",
   "execution_count": null,
   "id": "1620a0ad-a354-4299-ae9e-b15734a3501d",
   "metadata": {},
   "outputs": [],
   "source": [
    "# YOUR CODE HERE\n"
   ]
  },
  {
   "cell_type": "markdown",
   "id": "bd6d2145-e95e-44f8-8d36-362cee3dc9cf",
   "metadata": {},
   "source": [
    "**Step 2**\n",
    "\n",
    "Create a **stacked** bar chart for `Crime_pers_scaled` and `Crime_prop_scaled` by `Region` with the following details:\n",
    "\n",
    "- title: Average Crime by Region (Guerry Dataset, 1830s)\n",
    "- y-axis label: Average Crime Rates\n",
    "- x-axis label: Region\n",
    "- color of bars: \"red\", \"black\"\n",
    "- legend title: Crime Type\n",
    "- legend labels: \"Personal Crime\", \"Property Crime\""
   ]
  },
  {
   "cell_type": "code",
   "execution_count": null,
   "id": "7b2e49f9-e04b-4e07-8bb1-26be8b34e619",
   "metadata": {},
   "outputs": [],
   "source": [
    "# YOUR CODE HERE \n",
    "# Plot a grouped bar chart with pandas\n"
   ]
  },
  {
   "cell_type": "markdown",
   "id": "479a2aa7-b280-42bf-8222-636a62b13d55",
   "metadata": {
    "jp-MarkdownHeadingCollapsed": true,
    "tags": []
   },
   "source": [
    "### Customizing Plots using `plt` vs. `ax`\n",
    "\n",
    "You've seen how to customize plots using two approaches: the `plt` functions and `ax` methods.\n",
    "\n",
    "- `plt` functions modify the current figure globally.\n",
    "- `ax` methods affect only the specific axes object, making them safer when working with multiple subplots or writing reusable code.\n",
    "\n",
    "While you can mix both styles, the Object-Oriented approach is generally preferred for its clarity and control.\n",
    "\n",
    "Here’s atable summarizing common Matplotlib plot customizations and how to set them using `plt` (pyplot) vs. `ax` (object-oriented Axes):\n",
    "\n",
    "| Option        | `plt` (pyplot)                                  | `ax` (Axes / OO style)                                  | Notes                                   |\n",
    "| ------------- | ----------------------------------------------- | ------------------------------------------------------- | --------------------------------------- |\n",
    "| Figure size   | `plt.figure(figsize=(6,4))`                     | `fig, ax = plt.subplots(figsize=(6,4))`                 | Creates the figure and axes             |\n",
    "| Plot type     | `plt.bar(x, y)` / `plt.plot(x, y)`              | `ax.bar(x, y)` / `ax.plot(x, y)`                        | Any plot method works on Axes           |\n",
    "| Title         | `plt.title(\"My Title\")`                         | `ax.set_title(\"My Title\")`                              | OO style is per-Axes                    |\n",
    "| X-axis label  | `plt.xlabel(\"X Label\")`                         | `ax.set_xlabel(\"X Label\")`                              |                                         |\n",
    "| Y-axis label  | `plt.ylabel(\"Y Label\")`                         | `ax.set_ylabel(\"Y Label\")`                              |                                         |\n",
    "| X-tick labels | `plt.xticks(rotation=45)`                       | `ax.set_xticklabels(ax.get_xticklabels(), rotation=45)` | Must pass labels in OO style            |\n",
    "| Y-tick labels | `plt.yticks(rotation=45)`                       | `ax.set_yticklabels(ax.get_yticklabels(), rotation=45)` | Similar to X-ticks                      |\n",
    "| Grid          | `plt.grid(axis=\"y\", linestyle=\"--\", alpha=0.7)` | `ax.grid(axis=\"y\", linestyle=\"--\", alpha=0.7)`          | Works for both single and multiple axes |\n",
    "| Legend        | `plt.legend([\"A\",\"B\"], title=\"Legend\")`         | `ax.legend([\"A\",\"B\"], title=\"Legend\")`                  | OO style allows per-Axes control        |\n",
    "| Tight layout  | `plt.tight_layout()`                            | `ax.figure.tight_layout()`                              | Adjusts spacing automatically           |\n",
    "| Color         | `plt.bar(x, y, color=\"skyblue\")`                | `ax.bar(x, y, color=\"skyblue\")`                         | Works for bar, plot, scatter, etc.      |\n"
   ]
  },
  {
   "cell_type": "markdown",
   "id": "3b393c07-0c39-4e68-ae2f-4ffb2a836071",
   "metadata": {},
   "source": [
    "## Scatter Plots\n",
    "\n",
    "A scatter plot is a simple visualization tool commonly used as an initial step in exploratory data analysis to illustrate the relationship between two numerical variables. Each observation in the dataset is represented as a point, with its position determined by the values of the two variables.\n",
    "\n",
    "In social science research, scatter plots are often employed to investigate questions such as:\n",
    "- Is there a relationship between education level and income?\n",
    "- Is there a connection between unemployment rates and crime rates across different regions?\n",
    "- How does age influence political participation?"
   ]
  },
  {
   "cell_type": "markdown",
   "id": "49fbc22d-1f17-4c26-b92c-41c8fc75f10d",
   "metadata": {},
   "source": [
    "Let's create a scatterplot of `Crime_pers` and `Crime_prop` in pure `matplotlib`."
   ]
  },
  {
   "cell_type": "code",
   "execution_count": null,
   "id": "15f0565c-4307-499e-83f7-1070c7baaba8",
   "metadata": {},
   "outputs": [],
   "source": [
    "# Pure `matplotlib`\n",
    "plt.figure(figsize=(6, 6))\n",
    "plt.scatter(df_guerry['Crime_pers'], df_guerry['Crime_prop'], color='black')\n",
    "\n",
    "plt.xlabel(\"Crime Against Persons (per capita)\")\n",
    "plt.ylabel(\"Crime Against Property (per capita)\")\n",
    "plt.title(\"Scatterplot of Crime Rates (Guerry Dataset)\")\n",
    "plt.grid(True, linestyle=\"--\", alpha=0.6)"
   ]
  },
  {
   "cell_type": "markdown",
   "id": "756e18fd-fece-49e0-a98a-93e5cc01685b",
   "metadata": {},
   "source": [
    "Let's reproduce this in Pandas using `.plot(kind=\"scatter\")`."
   ]
  },
  {
   "cell_type": "code",
   "execution_count": null,
   "id": "dcd2b11c-0566-4033-b339-56c3e25f2db2",
   "metadata": {},
   "outputs": [],
   "source": [
    "# Pure `matplotlib`\n",
    "ax = df_guerry.plot(\n",
    "    x='Crime_pers',\n",
    "    y='Crime_prop',\n",
    "    kind='scatter',\n",
    "    color='red',\n",
    "    figsize=(6, 6),\n",
    "    title=\"Scatterplot of Crime Rates (Guerry Dataset)\"\n",
    ")\n",
    "\n",
    "ax.set_xlabel(\"Crime Against Persons (per capita)\")\n",
    "ax.set_ylabel(\"Crime Against Property (per capita)\")\n",
    "ax.grid(True, linestyle=\"--\", alpha=0.6)"
   ]
  },
  {
   "cell_type": "markdown",
   "id": "93413d8e-ecc8-4a7a-9351-b5de172d45ab",
   "metadata": {},
   "source": [
    "### Encoding Data with Visual Aesthetics \n",
    "\n",
    "In many plots, we can use visual features like color, shape, or size to represent another variable. For instance, in a scatter plot, the size of each point could show literacy rate, and the color could show the region. This makes it easier to see patterns, compare values, and notice unusual cases, all at a glance."
   ]
  },
  {
   "cell_type": "code",
   "execution_count": null,
   "id": "7ac191fd-afc5-4411-be2e-c0b3d63ca6dd",
   "metadata": {},
   "outputs": [],
   "source": [
    "# Scale Literacy so marker sizes are reasonable\n",
    "size_scale = 5\n",
    "\n",
    "ax = df_guerry.plot(\n",
    "    x='Crime_pers',\n",
    "    y='Crime_prop',\n",
    "    kind='scatter',\n",
    "    color=\"red\",\n",
    "    s=df_guerry['Literacy'] * size_scale,  # bubble size from Literacy\n",
    "    alpha=0.4,  # transparency for readability\n",
    "    figsize=(8, 6),\n",
    "    title=\"Crime vs. Crime by Region and Literacy (Guerry Dataset)\"\n",
    ")\n",
    "\n",
    "ax.set_xlabel(\"Crime Against Persons (per capita)\")\n",
    "ax.set_ylabel(\"Crime Against Property (per capita)\")\n",
    "ax.grid(True, linestyle=\"--\", alpha=0.6)"
   ]
  },
  {
   "cell_type": "markdown",
   "id": "7833b140-9af0-4718-ab37-aa9fa913fa59",
   "metadata": {},
   "source": [
    "### Practice Exercise 4\n",
    "\n",
    "Load the CPS1985 dataset from the AER package in R, accessible via the `statsmodels` library as `df_cps1985`. This dataset contains 534 observations on 11 variables related to wages and demographic characteristics.\n",
    "\n",
    "Visualize the relationship between the number of years of education (education) and hourly wage (wage) using a scatterplot."
   ]
  },
  {
   "cell_type": "markdown",
   "id": "1ad39eb3-283c-402a-b9a7-ab1090d9bdf8",
   "metadata": {},
   "source": [
    "**Step 1** Load Data\n",
    "\n",
    "Using `sm.datasets.get_rdataset()` load \"CPS1985\" in the \"AER\" package."
   ]
  },
  {
   "cell_type": "code",
   "execution_count": null,
   "id": "c9fc75f5-3fc9-455d-b101-b994f4b87307",
   "metadata": {},
   "outputs": [],
   "source": [
    "# YOUR CODE HERE\n"
   ]
  },
  {
   "cell_type": "markdown",
   "id": "2925b3ef-12c7-4106-9992-2a108ec92a0f",
   "metadata": {},
   "source": [
    "**Step 2** Inspect Data\n",
    "\n",
    "Display the first few rows to understand its structure."
   ]
  },
  {
   "cell_type": "code",
   "execution_count": null,
   "id": "64f19453-9020-46e6-8c8c-8c68138b5cf9",
   "metadata": {},
   "outputs": [],
   "source": [
    "# YOUR CODE HERE\n"
   ]
  },
  {
   "cell_type": "markdown",
   "id": "99f45e5f-2d99-4763-b001-ad81c1c6cbdc",
   "metadata": {},
   "source": [
    "**Step 3** Data Wrangling\n",
    "\n",
    "Collapse all education values ≤ 8 into a single value of 8."
   ]
  },
  {
   "cell_type": "code",
   "execution_count": null,
   "id": "09fcca2f-8f94-4345-82e0-e72de30c919b",
   "metadata": {},
   "outputs": [],
   "source": [
    "# YOUR CODE HERE\n"
   ]
  },
  {
   "cell_type": "markdown",
   "id": "efa2dbc1-75e3-4ce4-b802-5490c8fddefb",
   "metadata": {},
   "source": [
    "**Step 4** Create a scatterplot\n",
    "\n",
    "Create a scatterplot displaying the relationship between years of education (`education`) and hourly wage (`wage`) across the 534 individuals in the dataset.\n",
    "\n",
    "Use the `alpha=0.7` parameter to add transparency to the points, and enable the grid with a dashed line style for improved readability."
   ]
  },
  {
   "cell_type": "code",
   "execution_count": null,
   "id": "8ad0d4af-a933-4858-96b1-3c7876247d97",
   "metadata": {},
   "outputs": [],
   "source": [
    "# YOUR CODE HERE\n",
    "# Pandas method\n"
   ]
  },
  {
   "cell_type": "markdown",
   "id": "e67e36b2-58db-4bf7-9fba-12561fc97e9b",
   "metadata": {},
   "source": [
    "### More Encoding Data with Visual Aesthetics\n",
    "\n",
    "In our previous discussion, we demonstrated how to encode variables using visual aesthetics to convey multiple dimensions of information in a single plot. In this more detailed example, we use a bubble map to represent cities in California, incorporating the following elements:\n",
    "\n",
    "- **Position (x and y coordinates)**: This indicates the geographic location of cities based on their longitude and latitude. \n",
    "- **Color (hue)**: We use a log transformation of the total population, which enables viewers to easily distinguish between small and large cities.\n",
    "- **Size (area of markers)**: The size of each marker represents the total land area of each city, adding another dimension of scale. \n",
    "- **Transparency (alpha)**: Adjusting the transparency helps reduce overplotting in densely populated areas, improving the overall readability of the map."
   ]
  },
  {
   "cell_type": "code",
   "execution_count": null,
   "id": "caaa4f90-0161-4047-aff8-2c11ee1d14af",
   "metadata": {
    "scrolled": true
   },
   "outputs": [],
   "source": [
    "pd_cities = pd.read_csv('../data/california_cities.csv', index_col=0)\n",
    "pd_cities.head()"
   ]
  },
  {
   "cell_type": "markdown",
   "id": "4b0e70c1-929f-45df-889b-27060a2a2a37",
   "metadata": {},
   "source": [
    "The following example is adapted from VanderPlas (2023, p. 273), where the color and size of the points are mapped to two features (Population and Area) of the data."
   ]
  },
  {
   "cell_type": "code",
   "execution_count": null,
   "id": "9e9ac6d3-e840-4b3d-b7fc-fe74115e5fed",
   "metadata": {},
   "outputs": [],
   "source": [
    "ax = pd_cities.plot.scatter(\n",
    "    x=\"longd\",\n",
    "    y=\"latd\",\n",
    "    c=np.log10(pd_cities[\"population_total\"]),  # log-color scale\n",
    "    cmap=\"plasma\",\n",
    "    s=pd_cities[\"area_total_km2\"],              # bubble size\n",
    "    linewidth=0,\n",
    "    alpha=0.5,\n",
    "    label=None,  # suppresses lengend\n",
    "    clim=(3, 7), # sets the colormap limits\n",
    "    grid=True,\n",
    "    figsize=(8, 6)\n",
    ")\n",
    "\n",
    "# Axis labels and title\n",
    "ax.set_xlabel(\"Longitude\")\n",
    "ax.set_ylabel(\"Latitude\")\n",
    "ax.set_title(\"California Cities: Population (color) and Area (size)\");\n"
   ]
  },
  {
   "cell_type": "markdown",
   "id": "3f5746fc-0227-45ca-800f-eb707de39a06",
   "metadata": {},
   "source": [
    "## Histogram and Density Plots\n",
    "\n",
    "Histograms and density plots are fundamental tools for visualizing the distribution of a single numeric variable.\n",
    "\n",
    "- **Histogram**: Divides the range of the variable into bins and counts how many observations fall into each bin. Useful for seeing frequency distributions and detecting skewness or outliers.\n",
    "- **Density Plot**: A smoothed version of a histogram that estimates the probability density function of the variable. Provides a continuous view of the distribution.\n",
    "\n",
    "Using the `population_total` variable in the `pd_cities` dataset:\n",
    "- A histogram can show how many cities fall into different population ranges.\n",
    "- A density plot can reveal the overall shape of the distribution (e.g., many small cities, few mega-cities)."
   ]
  },
  {
   "cell_type": "markdown",
   "id": "483d0b56-a693-4b48-8d4e-cce5f7895897",
   "metadata": {},
   "source": [
    "Plot a histogram of population_total for all cities.\n",
    "- Overlay a density plot on the same figure.\n",
    "- Use a logarithmic scale on the x-axis to handle skewed populations.\n",
    "- Add appropriate axis labels and a title."
   ]
  },
  {
   "cell_type": "code",
   "execution_count": null,
   "id": "9b1c9ce0-dba5-4694-9fa3-eb8b104ce944",
   "metadata": {},
   "outputs": [],
   "source": [
    "from scipy.stats import gaussian_kde\n",
    "\n",
    "# Log-transform population to handle skew\n",
    "log_pop = np.log10(pd_cities[\"population_total\"])\n",
    "\n",
    "plt.figure(figsize=(8, 6))\n",
    "\n",
    "# Histogram\n",
    "plt.hist(log_pop, bins=30, color=\"skyblue\", alpha=0.7, density=True, label=\"Histogram\")\n",
    "\n",
    "# Density plot\n",
    "density = gaussian_kde(log_pop)\n",
    "x_vals = np.linspace(log_pop.min(), log_pop.max(), 200)\n",
    "plt.plot(x_vals, density(x_vals), color=\"darkblue\", linewidth=2, label=\"Density\")\n",
    "\n",
    "plt.xlabel(\"Log10 of Total Population\")\n",
    "plt.ylabel(\"Density\")\n",
    "plt.title(\"Distribution of City Population (Log-Scaled)\")\n",
    "plt.legend()\n",
    "plt.grid(axis=\"y\", linestyle=\"--\", alpha=0.6)"
   ]
  },
  {
   "cell_type": "markdown",
   "id": "3fea0de0-64b5-407d-86bb-6ac3ffab257e",
   "metadata": {},
   "source": [
    "### Practice Exercise 5\n",
    "\n",
    "In this exercise, we will create a histogram overlaid with a density plot for the Total Area (in square miles), represented by `area_total_sq_mi`. \n",
    "\n",
    "We will use Pandas’ built-in plotting methods, specifically `.plot.hist()` for the histogram and `.plot.kde()` for the density plot."
   ]
  },
  {
   "cell_type": "markdown",
   "id": "3b1b44f1-78fc-4979-b93c-53fd9660adea",
   "metadata": {},
   "source": [
    "**Step 1**\n",
    "\n",
    "The `area_total_sq_mi` variable is highly skewed and contains zero values. Before applying the log transformation, filter out any values less than or equal to zero. Use `np.log10()` to transform the variable and save the result as a Pandas Series, `log_area_total`. \n",
    "\n",
    "- Cities with `area_total_sq_mi` <= 0 are dropped.\n",
    "- We use `np.log10()` (common for area/population variables).\n",
    "- Both histogram and density are drawn on the transformed scale."
   ]
  },
  {
   "cell_type": "code",
   "execution_count": null,
   "id": "fdbad069-5edc-417a-8483-cb0c5a8a73df",
   "metadata": {},
   "outputs": [],
   "source": [
    "# YOUR CODE HERE\n"
   ]
  },
  {
   "cell_type": "markdown",
   "id": "c87b13f5-e768-4a82-84e1-ea1f24b46801",
   "metadata": {},
   "source": [
    "**Step 2**\n",
    "\n",
    "Create a histogram with an overlaid density plot using Pandas’ built-in plotting methods, `.plot.hist()` and `.plot.kde()`, instead of manually calling Matplotlib:\n",
    "\n",
    "- Histogram:\n",
    "    - 30 bins\n",
    "    - color: \"lightgreen\"\n",
    "    - density: True\n",
    "    - xlim: (-3, 3)\n",
    "    - label: \"Histogram\"\n",
    "\n",
    "- Density Plot:\n",
    "    - color: \"darkgreen\"\n",
    "    - linewidth: 2\n",
    "    - label: \"Density\""
   ]
  },
  {
   "cell_type": "code",
   "execution_count": null,
   "id": "17d41d03-29a3-4189-8997-8e3b7e34874d",
   "metadata": {},
   "outputs": [],
   "source": [
    "# YOUR CODE HERE\n"
   ]
  },
  {
   "cell_type": "markdown",
   "id": "4438e332-4ff6-47c2-ada8-dae71d8124d5",
   "metadata": {},
   "source": [
    "## Visualizing Uncertainties\n",
    "\n",
    "Measurements in nearly all scientific disciplines are subject to errors, such as sampling and measurement errors. It is important to clearly account for uncertainties when reporting numerical data. This is particularly relevant in social science research, where comparing average outcomes across groups and displaying the uncertainty in those estimates is crucial.\n",
    "\n",
    "The `errbar()` function in Matplotlib can be used to represent variability, such as standard errors or confidence intervals, in estimates."
   ]
  },
  {
   "cell_type": "markdown",
   "id": "a71d3d1c-bc16-4545-a975-d42b1308e15b",
   "metadata": {},
   "source": [
    "Using the `df_cps1985` again, we will show mean wages by gender with ±1 standard error ($\\sigma_{\\bar{X}}$) error bars. \n",
    "\n",
    "$$\\sigma_{\\bar{X}} = \\frac{\\hat{\\sigma}}{\\sqrt{N}}$$"
   ]
  },
  {
   "cell_type": "code",
   "execution_count": null,
   "id": "da73b3a6-2bc5-4e2d-ab85-9160a00b9d27",
   "metadata": {},
   "outputs": [],
   "source": [
    "# Load CPS1985 dataset\n",
    "df_cps1985 = sm.datasets.get_rdataset(\"CPS1985\", \"AER\").data\n",
    "\n",
    "# Compute mean and standard error by gender\n",
    "group_stats = df_cps1985.groupby(\"gender\")[\"wage\"].agg([\"mean\", \"std\", \"count\"])\n",
    "group_stats[\"se\"] = group_stats[\"std\"] / group_stats[\"count\"]**0.5"
   ]
  },
  {
   "cell_type": "markdown",
   "id": "bcf7f954-f05a-47e2-8108-864f98eb9e02",
   "metadata": {},
   "source": [
    "Matplotlib’s `plt.errorbar()` is used to draw plots with error bars:\n",
    "\n",
    "```python\n",
    "plt.errorbar(x, y, yerr=errors, fmt='o')\n",
    "```\n",
    "\n",
    "- `x`: x-values (groups or predictors)\n",
    "- `y`: mean values (or central estimate)\n",
    "- `yerr`: error bar length (can be ±SE, CI, etc.)\n",
    "- `fmt='o'`: marker style for the central point\n",
    "\n",
    "Other options: `capsize=5` to add caps, `color` for bar color, `elinewidth` for line thickness, and `ecolor` for error bar color."
   ]
  },
  {
   "cell_type": "code",
   "execution_count": null,
   "id": "431224ad-bb42-4a83-97d0-2281238df76d",
   "metadata": {},
   "outputs": [],
   "source": [
    "# Create figure and axes\n",
    "fig, ax = plt.subplots(figsize=(6, 5))\n",
    "\n",
    "# Plot error bars on the axes\n",
    "ax.errorbar(\n",
    "    x=group_stats.index,\n",
    "    y=group_stats[\"mean\"],\n",
    "    yerr=group_stats[\"se\"],\n",
    "    fmt=\"o\",\n",
    "    capsize=5,\n",
    "    color=\"blue\",\n",
    "    ecolor=\"black\"\n",
    ")\n",
    "\n",
    "# Customize axes\n",
    "ax.set_title(\"Hourly Wages by Gender (CPS1985, ±1 SE)\")\n",
    "ax.set_xlabel(\"Gender\")\n",
    "ax.set_ylabel(\"Average Hourly Wage (USD)\")\n",
    "ax.set_ylim(6, 12)\n",
    "ax.grid(axis=\"y\", linestyle=\"--\", alpha=0.6)\n",
    "\n",
    "# Optional: adjust layout\n",
    "fig.tight_layout()"
   ]
  },
  {
   "cell_type": "markdown",
   "id": "6be0bbe3-0607-4973-8c46-7a7d0d28b44f",
   "metadata": {},
   "source": [
    "### Practice Exercise 6\n",
    "\n",
    "Let’s redo the example, but instead of reporting `wage` conditioning on `gender` (2 levels: male/female), we’ll condition on `occupation` (several levels). \n",
    "\n",
    "- Using `df_cps1985`, plot the mean `wage` by `occupation` with 95% error bars showing ±1.96 standard error. \n",
    "- Use Pandas’ built-in plotting (`DataFrame.plot`) instead of calling `plt.errorbar()` directly."
   ]
  },
  {
   "cell_type": "markdown",
   "id": "88c36d19-8010-43a5-9eb2-73ae2d87b2ab",
   "metadata": {},
   "source": [
    "**Step 1** \n",
    "\n",
    "Compute mean wange by occupation and save it as a DataFrame `group_stats`:"
   ]
  },
  {
   "cell_type": "code",
   "execution_count": null,
   "id": "cc0701b2-565b-45ff-8998-edba58bed734",
   "metadata": {},
   "outputs": [],
   "source": [
    "# YOUR CODE\n"
   ]
  },
  {
   "cell_type": "markdown",
   "id": "a75f69b5-2ba4-4d6b-a1cb-011dd43cfd86",
   "metadata": {},
   "source": [
    "**Step 2**\n",
    "\n",
    "Note that Pandas doesn’t have a `.errbar()` method. As a workaround, we can call `group_stats.plot()` and generate a bar chart with error bars. Use `.plot()` with `kind=\"bar\"`, along with the following options:\n",
    "\n",
    "- title: \"Average Hourly Wages by Occupation (CPS1985, ±1 SE)\"\n",
    "- xlabel: \"Occupation\"\n",
    "- ylabel: \"Hourly Wage (USD)\""
   ]
  },
  {
   "cell_type": "code",
   "execution_count": null,
   "id": "8d3e5586-cdbe-49cc-97e7-f7292fd6d832",
   "metadata": {},
   "outputs": [],
   "source": [
    "# YOUR CODE HERE\n"
   ]
  },
  {
   "cell_type": "markdown",
   "id": "f3c7e558-21f3-4943-a139-21b6ec0d13dd",
   "metadata": {},
   "source": [
    "We’ve only scratched the surface with Matplotlib. Be sure to check out the Matplotlib [gallery](https://matplotlib.org/stable/gallery/) for some advanced techniques and inspiration!"
   ]
  },
  {
   "cell_type": "markdown",
   "id": "431e4582-e6d9-4668-ba6d-bb80b9a4503c",
   "metadata": {
    "tags": []
   },
   "source": [
    "### Wrap Up"
   ]
  },
  {
   "cell_type": "markdown",
   "id": "970c23b8-a490-4a85-a9a4-f1c5849e1d70",
   "metadata": {},
   "source": [
    "That's all for now.\n",
    "- Please complete the DC course \"Introduction to Data Visualization with Seaborn\" by noon on 10/13.\n",
    "- Submit the in-class exercise notebook by 6:00 PM today."
   ]
  },
  {
   "cell_type": "markdown",
   "id": "376bae81-768e-498b-91e4-3cb02c32ace8",
   "metadata": {},
   "source": [
    "BY PRINTING YOUR NAME BELOW, YOU CONFIRM THAT THE EXERCISES YOU SUBMITTED IN THIS NOTEBOOK ARE YOUR OWN AND THAT YOU DID NOT USE AI TO ASSIST WITH YOUR WORK."
   ]
  },
  {
   "cell_type": "code",
   "execution_count": null,
   "id": "92f8f273-7f3e-4ced-a673-dfcafb523798",
   "metadata": {},
   "outputs": [],
   "source": [
    "# PRINT YOUR NAME\n",
    "print(\"Enter Your Name Here\")"
   ]
  }
 ],
 "metadata": {
  "kernelspec": {
   "display_name": "Pysocs",
   "language": "python",
   "name": "myenv"
  },
  "language_info": {
   "codemirror_mode": {
    "name": "ipython",
    "version": 3
   },
   "file_extension": ".py",
   "mimetype": "text/x-python",
   "name": "python",
   "nbconvert_exporter": "python",
   "pygments_lexer": "ipython3",
   "version": "3.13.5"
  }
 },
 "nbformat": 4,
 "nbformat_minor": 5
}
