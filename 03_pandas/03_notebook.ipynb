{
 "cells": [
  {
   "cell_type": "markdown",
   "id": "bd75d36a-52fa-4971-ac41-baf6af6f0402",
   "metadata": {},
   "source": [
    "# Python for Social Science"
   ]
  },
  {
   "cell_type": "markdown",
   "id": "3fccbc92-8d13-4f50-9caf-ccd0c88a7a39",
   "metadata": {},
   "source": [
    "<img src=\"../figures/PySocs_banner.png\" width=\"50%\" align=\"left\">"
   ]
  },
  {
   "cell_type": "markdown",
   "id": "fc9870e6-3eee-47b7-ad21-f1f5c59e76af",
   "metadata": {},
   "source": [
    "# Introduction to Pandas\n",
    "\n",
    "![Zimbabwe](../figures/Zimbabwe.png)\n",
    "\n",
    "In this section, we introduce the pandas library, tailored for social science researchers. We will cover key topics including data structures, data loading, exploration, cleaning, transformation, and basic analysis.\n",
    "\n",
    "Pandas provides versatile data structures and manipulation tools, making data cleaning and analysis fast and efficient in Python.\n",
    "\n",
    "While pandas adopts many coding conventions from NumPy, its main advantage lies in managing tabular or heterogeneous data, whereas NumPy excels with homogeneous numerical array data."
   ]
  },
  {
   "cell_type": "code",
   "execution_count": null,
   "id": "f4068a22-8f6b-4b72-bd19-c76dbadc3354",
   "metadata": {},
   "outputs": [],
   "source": [
    "import numpy as np\n",
    "import pandas as pd"
   ]
  },
  {
   "cell_type": "markdown",
   "id": "122b6b4d-1df0-47c7-987d-338de42e8cf3",
   "metadata": {},
   "source": [
    "## Basic data structures in pandas\n",
    "\n",
    "Pandas provides two workhorse data structures, Series and DataFrame:\n",
    "\n",
    "- **Series**: a one-dimensional labeled array holding data of any type such as integers, strings, Python objects etc.\n",
    "- **DataFrame**: a two-dimensional data structure that holds data like a two-dimension array or a table with rows and columns."
   ]
  },
  {
   "cell_type": "markdown",
   "id": "e36c1d2e-59e6-4a4b-8683-b4645ea796f7",
   "metadata": {},
   "source": [
    "### Series\n",
    "\n",
    "A series is a one-dimensional sequence of values, similar to NumPy's array object."
   ]
  },
  {
   "cell_type": "code",
   "execution_count": null,
   "id": "c3153fdc-04c1-4582-a3aa-a172c58a86c2",
   "metadata": {},
   "outputs": [],
   "source": [
    "arr = np.array([2, 4, 6, np.nan, 8, 10])\n",
    "arr"
   ]
  },
  {
   "cell_type": "markdown",
   "id": "c6c5615a-3e9d-40df-b81d-fed588c782e3",
   "metadata": {},
   "source": [
    "The simplest Pandas Series can be constructed similarly:"
   ]
  },
  {
   "cell_type": "code",
   "execution_count": null,
   "id": "670f9159-a836-41b1-9770-9c1e1c5de912",
   "metadata": {
    "tags": []
   },
   "outputs": [],
   "source": [
    "s = pd.Series([2, 4, 6, np.nan, 8, 10])\n",
    "s"
   ]
  },
  {
   "cell_type": "code",
   "execution_count": null,
   "id": "49bc394d-9304-4b2d-ab1c-00aaefc002f1",
   "metadata": {},
   "outputs": [],
   "source": [
    "pd.Series(arr)"
   ]
  },
  {
   "cell_type": "code",
   "execution_count": null,
   "id": "a423dfdc-51c1-444d-929a-bb09e61d775b",
   "metadata": {},
   "outputs": [],
   "source": [
    "s.values"
   ]
  },
  {
   "cell_type": "code",
   "execution_count": null,
   "id": "1107bd3b-8375-4d5d-871c-4e0e0c2415e7",
   "metadata": {},
   "outputs": [],
   "source": [
    "type(s.values)"
   ]
  },
  {
   "cell_type": "markdown",
   "id": "9eac9bbe-1497-42d6-8f57-ec839565eeca",
   "metadata": {},
   "source": [
    "#### Series as a NumPy array plus Index\n",
    "\n",
    "A distinctive feature of a Series is its array of data labels, known as the index:"
   ]
  },
  {
   "cell_type": "code",
   "execution_count": null,
   "id": "b6ddcbf8-ac9e-4b05-a4ba-2a929bf74b47",
   "metadata": {},
   "outputs": [],
   "source": [
    "s.index"
   ]
  },
  {
   "cell_type": "code",
   "execution_count": null,
   "id": "e592601c-bbba-4923-954b-ea4dbcb0369d",
   "metadata": {},
   "outputs": [],
   "source": [
    "list(s.index)"
   ]
  },
  {
   "cell_type": "markdown",
   "id": "2efc447b-dd9f-4a48-9d28-8fe8a517e2ac",
   "metadata": {},
   "source": [
    "Since we did not specify an index for the data, a default one consisting of the integers $0$ through $N - 1$ (where $N$ is the length of the data) is created."
   ]
  },
  {
   "cell_type": "markdown",
   "id": "54ca3634-cc16-4901-abf2-a9c8eb3c8845",
   "metadata": {},
   "source": [
    "#### Series with Index Labels\n",
    "\n",
    "We can create a Series with an index identifying each value with a label. For example,"
   ]
  },
  {
   "cell_type": "code",
   "execution_count": null,
   "id": "dba7507d-6be8-40ec-87d2-4b1610c74637",
   "metadata": {},
   "outputs": [],
   "source": [
    "s = pd.Series([2, 4, 6, np.nan, 8, 10], \n",
    "             index=[\"a\", \"b\", \"c\", \"d\", \"e\", \"f\"])\n",
    "s"
   ]
  },
  {
   "cell_type": "code",
   "execution_count": null,
   "id": "14235aa1-03e9-4d0e-a320-45df1aadea8c",
   "metadata": {},
   "outputs": [],
   "source": [
    "s.index"
   ]
  },
  {
   "cell_type": "markdown",
   "id": "18191231-dcf3-4306-8a7c-f5471d3eb211",
   "metadata": {},
   "source": [
    "#### Practice Exercise 1\n",
    "\n",
    "You are analyzing the number of hours different students studied for an exam.\n",
    "The data you collected is:\n",
    "\n",
    "| Student | Hours Studied |\n",
    "| ------- | ------------- |\n",
    "| Alice   | 5             |\n",
    "| Bob     | 7             |\n",
    "| Charlie | 4             |\n",
    "| Diana   | 6             |\n",
    "\n",
    "1. Create a Pandas Series called `study_hours`:\n",
    "2. The values should be the number of hours studied.\n",
    "3. The index should be the names of the students.\n",
    "4. Print the Series to confirm that the data and index were set correctly.\n",
    "5. Access the study hours for \"Charlie\" using index.\n",
    "6. Update Diana's study hours to 8.\n",
    "7. Check which students studied more than 5 hours using boolean filtering."
   ]
  },
  {
   "cell_type": "code",
   "execution_count": null,
   "id": "246a4e56-d294-450a-8f36-3fd0c0d2baf7",
   "metadata": {},
   "outputs": [],
   "source": [
    "# Create a Pandas Series called `study_hours`\n",
    "# YOUR CODE HERE\n"
   ]
  },
  {
   "cell_type": "code",
   "execution_count": null,
   "id": "0ecc9e15-80f8-43dd-ac8b-04342c8ad0a0",
   "metadata": {},
   "outputs": [],
   "source": [
    "# Access the study hours for \"Charlie\".\n",
    "# YOUR CODE HERE\n"
   ]
  },
  {
   "cell_type": "code",
   "execution_count": null,
   "id": "e83b0d18-48d7-4218-8af1-4fc1468dfacf",
   "metadata": {},
   "outputs": [],
   "source": [
    "# Update Diana's study hours to 8.\n",
    "# YOUR CODE HERE\n"
   ]
  },
  {
   "cell_type": "code",
   "execution_count": null,
   "id": "d77aa5e2-4a77-4991-8a5a-b2e52deb103d",
   "metadata": {},
   "outputs": [],
   "source": [
    "# Check which students studied more than 5 hours using boolean filtering.\n",
    "# YOUR CODE HERE\n"
   ]
  },
  {
   "cell_type": "markdown",
   "id": "7ad01ae2-18b3-47d6-91b9-4136acb03418",
   "metadata": {},
   "source": [
    "The values of a Series, which is a NumPy array, can be retrieved as follows:"
   ]
  },
  {
   "cell_type": "markdown",
   "id": "5d560ffd-2c58-4dfe-9ec8-00ff956a53ea",
   "metadata": {},
   "source": [
    "#### Access Series with Labels\n",
    "\n",
    "Compared with NumPy arrays, you can use the index when selecting one or more values:"
   ]
  },
  {
   "cell_type": "code",
   "execution_count": null,
   "id": "466c848d-9897-4010-915a-88a357cc6b3c",
   "metadata": {},
   "outputs": [],
   "source": [
    "s = pd.Series([2, 4, 6, np.nan, 8, 10], \n",
    "             index=[\"a\", \"b\", \"c\", \"d\", \"e\", \"f\"])\n",
    "s['a']"
   ]
  },
  {
   "cell_type": "code",
   "execution_count": null,
   "id": "c10d2006-76e7-4ee4-ac93-7e43ce398bf6",
   "metadata": {},
   "outputs": [],
   "source": [
    "s[['a', 'c', 'b']]"
   ]
  },
  {
   "cell_type": "markdown",
   "id": "8b19d269-4c6b-4521-9d51-b70537d07a21",
   "metadata": {},
   "source": [
    "Because a Series stores its data as a NumPy array, you can apply any operation suitable for NumPy arrays to a Series."
   ]
  },
  {
   "cell_type": "code",
   "execution_count": null,
   "id": "d5a936f6-4ea3-4f85-abca-a8785d9f6360",
   "metadata": {},
   "outputs": [],
   "source": [
    "s[0:3] += 1\n",
    "s"
   ]
  },
  {
   "cell_type": "markdown",
   "id": "694ad341-64f9-4685-8909-5673cc43a9f7",
   "metadata": {},
   "source": [
    "Slicing with labels behaves differently than Python slicing in that the end-point is **inclusive**:"
   ]
  },
  {
   "cell_type": "code",
   "execution_count": null,
   "id": "b0c9e0f0-81cf-4b28-b46a-211b97750d07",
   "metadata": {},
   "outputs": [],
   "source": [
    "s['a':'d']"
   ]
  },
  {
   "cell_type": "markdown",
   "id": "a01ef1a5-cc4d-4471-8dd3-5175d27ca2b1",
   "metadata": {},
   "source": [
    "Computations with Series are vectorized, much like operations on NumPy arrays."
   ]
  },
  {
   "cell_type": "code",
   "execution_count": null,
   "id": "9ae2c7ec-6442-48a6-8d59-b7c4df2900aa",
   "metadata": {
    "tags": []
   },
   "outputs": [],
   "source": [
    "s * 2 + 10"
   ]
  },
  {
   "cell_type": "markdown",
   "id": "0e3c3fdc-52ea-42f9-bc78-c9759d98c50d",
   "metadata": {},
   "source": [
    "Boolean filters can still be used to select elements that meet specific conditions."
   ]
  },
  {
   "cell_type": "code",
   "execution_count": null,
   "id": "dd4db067-03d6-4010-89eb-64eb3f6b1824",
   "metadata": {},
   "outputs": [],
   "source": [
    "s[s > 5]"
   ]
  },
  {
   "cell_type": "markdown",
   "id": "467eaa26-0dad-493d-81d9-9479bfdd6e63",
   "metadata": {},
   "source": [
    "The `isnull()` and `notnull()` functions are used to identify missing values."
   ]
  },
  {
   "cell_type": "code",
   "execution_count": null,
   "id": "efe82b5e-61c7-4f77-b940-0576b3c82ec1",
   "metadata": {
    "tags": []
   },
   "outputs": [],
   "source": [
    "pd.isnull(s)"
   ]
  },
  {
   "cell_type": "code",
   "execution_count": null,
   "id": "86661415-70aa-4ceb-88c5-9ddef65e77b6",
   "metadata": {},
   "outputs": [],
   "source": [
    "pd.notnull(s)"
   ]
  },
  {
   "cell_type": "markdown",
   "id": "7e4892a2-1fc8-4d94-b1c6-57bab75d8e5c",
   "metadata": {},
   "source": [
    "Boolean arrays can be used to select specific elements, such as non-missing values."
   ]
  },
  {
   "cell_type": "code",
   "execution_count": null,
   "id": "46d043f1-a34d-4383-b3a9-ff4d59f67acb",
   "metadata": {
    "tags": []
   },
   "outputs": [],
   "source": [
    "s[pd.notnull(s)]"
   ]
  },
  {
   "cell_type": "code",
   "execution_count": null,
   "id": "e11053e6-ac70-4999-b0a4-47328a00be00",
   "metadata": {},
   "outputs": [],
   "source": [
    "pd.notnull(s).sum()"
   ]
  },
  {
   "cell_type": "markdown",
   "id": "89cdaa4c-7865-4bd0-ac34-e9ce31b8ad74",
   "metadata": {},
   "source": [
    "Pandas Series index labels can contain duplicates!\n",
    "Pandas does not require index labels to be unique, unlike some database systems. However, duplicate labels affect how you access and manipulate the data:"
   ]
  },
  {
   "cell_type": "code",
   "execution_count": null,
   "id": "bf950a20-779e-4700-977e-fc7b28ba9b2b",
   "metadata": {},
   "outputs": [],
   "source": [
    "s = pd.Series([10, 20, 30, 40], index=['A', 'B', 'A', 'C'])\n",
    "print(s)"
   ]
  },
  {
   "cell_type": "markdown",
   "id": "83d7c188-5d0b-458e-9d84-2ceff18b6394",
   "metadata": {},
   "source": [
    "Notice that 'A' appears twice. \n",
    "\n",
    "Duplicates are allowed in a Pandas Series index. If there are duplicates, `.loc['A']` returns a Series containing all matching entries, not just one value."
   ]
  },
  {
   "cell_type": "code",
   "execution_count": null,
   "id": "0c4b11a9-f954-4ab4-978d-4abc5053cb97",
   "metadata": {},
   "outputs": [],
   "source": [
    "s.loc[\"A\"]"
   ]
  },
  {
   "cell_type": "code",
   "execution_count": null,
   "id": "ae47c849-4ca2-4464-8340-f4bf946be2a2",
   "metadata": {},
   "outputs": [],
   "source": [
    "s.index.is_unique"
   ]
  },
  {
   "cell_type": "markdown",
   "id": "a95115ac-d7d7-47aa-b1b4-d8b5339869a1",
   "metadata": {},
   "source": [
    "#### Series as a Dictionary\n",
    "\n",
    "Another way to think about a Series is as a dictionary."
   ]
  },
  {
   "cell_type": "code",
   "execution_count": null,
   "id": "3687b01e-f132-4744-8fe3-992b81af5953",
   "metadata": {},
   "outputs": [],
   "source": [
    "s = pd.Series({\"a\": 2, \"b\": 4, \"c\": 6, \"d\": np.nan, \"e\": 8, \"f\": 10})\n",
    "s"
   ]
  },
  {
   "cell_type": "markdown",
   "id": "aa30ce1f-87da-44d2-af25-f128d8546862",
   "metadata": {},
   "source": [
    "It can be used in many contexts where you might use a dictionary."
   ]
  },
  {
   "cell_type": "code",
   "execution_count": null,
   "id": "a7ac9608-8d8c-4099-918c-c31e3dcd77a2",
   "metadata": {},
   "outputs": [],
   "source": [
    "\"f\" in s"
   ]
  },
  {
   "cell_type": "code",
   "execution_count": null,
   "id": "4f32845f-2c46-461a-ac84-f1ba3191796f",
   "metadata": {},
   "outputs": [],
   "source": [
    "\"g\" in s"
   ]
  },
  {
   "cell_type": "markdown",
   "id": "4df29720-13c6-489a-9631-1208d0b749fe",
   "metadata": {},
   "source": [
    "#### Integer Indexing\n",
    "\n",
    "Working with pandas objects that use integer-based indexing can often introduce bugs because their indexing semantics differ from those of Python’s built-in data structures, such as lists and tuples."
   ]
  },
  {
   "cell_type": "code",
   "execution_count": null,
   "id": "d5003268-155c-41fc-93dd-287dc93e295d",
   "metadata": {},
   "outputs": [],
   "source": [
    "s = pd.Series([2, 4, 6, np.nan, 8, 10], \n",
    "             index=[1, 2, 3, 4, 5, 6])\n",
    "s"
   ]
  },
  {
   "cell_type": "markdown",
   "id": "b0f3efd9-96f6-4d7f-8006-0b628925e5c9",
   "metadata": {},
   "source": [
    "For example, you might expect the following to return the first and last elements of `s`; however, both will raise a `KeyError`.\n",
    "\n",
    "```python\n",
    "s[0]\n",
    "s[-1]\n",
    "```"
   ]
  },
  {
   "cell_type": "markdown",
   "id": "a543cc06-9e19-477c-8441-7a05f740df5b",
   "metadata": {},
   "source": [
    "On the other hand, when using label-based indexing, both methods function as expected."
   ]
  },
  {
   "cell_type": "code",
   "execution_count": null,
   "id": "4096d033-c671-476c-a29c-9117f0c9d5dc",
   "metadata": {},
   "outputs": [],
   "source": [
    "s = pd.Series([2, 4, 6, np.nan, 8, 10], \n",
    "             index=[\"a\", \"b\", \"c\", \"d\", \"e\", \"f\"])\n",
    "print(s[0])\n",
    "print(s[-1])"
   ]
  },
  {
   "cell_type": "markdown",
   "id": "822de064-fe39-40d5-8d3e-d26a6ff72e53",
   "metadata": {},
   "source": [
    "To avoid this ambiguity, pandas offers two specific indexing methods: `loc` for label-based indexing and `iloc` for integer-based indexing."
   ]
  },
  {
   "cell_type": "code",
   "execution_count": null,
   "id": "5c08daaa-ab04-413c-aad4-a9e7fabf6b71",
   "metadata": {},
   "outputs": [],
   "source": [
    "s = pd.Series([2, 4, 6, np.nan, 8, 10], \n",
    "             index=[1, 2, 3, 4, 5, 6])\n",
    "\n",
    "print(s.iloc[0])\n",
    "print(s.iloc[-1])"
   ]
  },
  {
   "cell_type": "code",
   "execution_count": null,
   "id": "83b8693c-357a-4d2f-81fc-010602370b6f",
   "metadata": {},
   "outputs": [],
   "source": [
    "print(s.loc[1])\n",
    "print(s.loc[6])"
   ]
  },
  {
   "cell_type": "code",
   "execution_count": null,
   "id": "41df4115-b9eb-442c-b61b-3aaf1432a178",
   "metadata": {},
   "outputs": [],
   "source": [
    "s.iloc[1:3]"
   ]
  },
  {
   "cell_type": "markdown",
   "id": "3eb0b624-5955-4559-8443-e30bf6ac5adb",
   "metadata": {},
   "source": [
    "Notice that Slicing returns a Series, not a list."
   ]
  },
  {
   "cell_type": "markdown",
   "id": "496b8903-548d-4b53-bea9-3a66ccc674d2",
   "metadata": {},
   "source": [
    "#### Key Difference: .iloc vs .loc\n",
    "\n",
    "| Action                  | `.iloc` (position-based)             | `.loc` (label-based)           |\n",
    "| ----------------------- | ------------------------------------ | ------------------------------ |\n",
    "| Single integer or label | Returns **scalar value only**        | Returns **scalar value only**  |\n",
    "| Slice or list           | Returns **Series with labels**       | Returns **Series with labels** |\n",
    "| Index meaning           | Strictly **positional** (like lists) | **Label-based**                |\n"
   ]
  },
  {
   "cell_type": "markdown",
   "id": "3d61c2bb-2bf3-492f-869d-fb7decc0ccf3",
   "metadata": {},
   "source": [
    "#### Practice Exercise 2\n",
    "\n",
    "You are analyzing monthly sales revenue (in thousands of dollars) for a retail store during 2024. The data is given below:\n",
    "\n",
    "| Month | Sales |\n",
    "| ----- | ----- |\n",
    "| Jan   | 52    |\n",
    "| Feb   | 47    |\n",
    "| Mar   | 53    |\n",
    "| Apr   | 59    |\n",
    "| May   | 62    |\n",
    "| Jun   | 58    |\n",
    "| Jul   | 66    |\n",
    "| Aug   | 64    |\n",
    "| Sep   | 63    |\n",
    "| Oct   | 67    |\n",
    "| Nov   | 71    |\n",
    "| Dec   | 75    |\n"
   ]
  },
  {
   "cell_type": "code",
   "execution_count": null,
   "id": "16d10ff3-f89c-4f50-b740-bc306918dc32",
   "metadata": {},
   "outputs": [],
   "source": [
    "import calendar\n",
    "\n",
    "# Get short month names (Jan, Feb, ..., Dec)\n",
    "# calendar.month_abbr[0] is an empty string ('') by design, so you slice from [1:].\n",
    "\n",
    "list(calendar.month_abbr)[1:]  # Skip the empty string at index 0"
   ]
  },
  {
   "cell_type": "markdown",
   "id": "ea921fc0-0fe4-4755-94f4-23e2b3d5964d",
   "metadata": {},
   "source": [
    "**Step 1**. Create the Series, `sales`, where:\n",
    " - The sales values are the data.\n",
    " - The month names are the index."
   ]
  },
  {
   "cell_type": "code",
   "execution_count": null,
   "id": "c6d7d824-b5db-49b7-a572-185ae1a9af1a",
   "metadata": {},
   "outputs": [],
   "source": [
    "# YOUR CODE HERE\n"
   ]
  },
  {
   "cell_type": "markdown",
   "id": "a1115508-771d-4c60-b03d-87fc0a30f640",
   "metadata": {},
   "source": [
    "**Step 2**. Practice `.iloc`\n",
    "\n",
    " - Retrieve the first three months of sales.\n",
    " - Get the last month’s sales.\n",
    " - Get the sales for months at positions 2, 5, and 8.\n",
    " - Slice from April to August using .iloc."
   ]
  },
  {
   "cell_type": "code",
   "execution_count": null,
   "id": "2ee9c960-919b-4a41-8fa4-7b2d4e2bcc25",
   "metadata": {},
   "outputs": [],
   "source": [
    "# Retrieve the first three months of sales.\n"
   ]
  },
  {
   "cell_type": "code",
   "execution_count": null,
   "id": "92a004dc-7e3d-40e3-8c15-96780f946e30",
   "metadata": {},
   "outputs": [],
   "source": [
    "# Get the last month’s sales.\n"
   ]
  },
  {
   "cell_type": "code",
   "execution_count": null,
   "id": "3c08b5b4-31d3-4372-98db-82d6b9d7e517",
   "metadata": {},
   "outputs": [],
   "source": [
    "# Get the sales for months at positions 2, 5, and 8.\n"
   ]
  },
  {
   "cell_type": "code",
   "execution_count": null,
   "id": "f0bf44de-4f5b-4790-9092-1da01eebe948",
   "metadata": {},
   "outputs": [],
   "source": [
    "# Slice from April to August using .iloc.\n"
   ]
  },
  {
   "cell_type": "markdown",
   "id": "1e723826-07ba-492b-bba0-13436476d059",
   "metadata": {},
   "source": [
    "**Step 3**. Practice `.loc`\n",
    "\n",
    " - Retrieve the sales for March.\n",
    " - Get the sales for June through September (inclusive).\n",
    " - Select sales for March, July, and December in a single call.\n",
    " - Update the sales for February to 50."
   ]
  },
  {
   "cell_type": "code",
   "execution_count": null,
   "id": "0934a7c3-c37e-4e06-8f2a-b1be799cb5d4",
   "metadata": {},
   "outputs": [],
   "source": [
    "# Retrieve the sales for March.\n"
   ]
  },
  {
   "cell_type": "code",
   "execution_count": null,
   "id": "52ed8ddd-a566-4800-869c-f52521939350",
   "metadata": {},
   "outputs": [],
   "source": [
    "# Get the sales for June through September (inclusive).\n"
   ]
  },
  {
   "cell_type": "code",
   "execution_count": null,
   "id": "f6669cd6-1f70-4b4c-921e-49c81b6c0d26",
   "metadata": {},
   "outputs": [],
   "source": [
    "# Select sales for March, July, and December in a single call.\n"
   ]
  },
  {
   "cell_type": "code",
   "execution_count": null,
   "id": "f63ed60b-7fdf-4c63-b81d-7cd3a528da4e",
   "metadata": {},
   "outputs": [],
   "source": [
    "# Update the sales for February to 50.\n"
   ]
  },
  {
   "cell_type": "markdown",
   "id": "96ebee53-c76d-4eba-a591-5002ebdbf7a3",
   "metadata": {},
   "source": [
    "#### Arithmetic and Data Alignment\n",
    "\n",
    "Arithmetic operations with pandas Series objects are performed after aligning the objects by their indexes."
   ]
  },
  {
   "cell_type": "code",
   "execution_count": null,
   "id": "3b3a853f-4b8c-49d2-8cfe-5a33b46a0131",
   "metadata": {},
   "outputs": [],
   "source": [
    "s1 = pd.Series([2.5, 7.6, 1.9, 9.8], index=['b', 'a', 'e', 'd'])\n",
    "s2 = pd.Series([3.3, 1.4, 3.5, 6.5, 7.1], index=['a', 'b', 'd', 'f', 'g'])\n",
    "\n",
    "s1 + s2"
   ]
  },
  {
   "cell_type": "code",
   "execution_count": null,
   "id": "212ba4e2-e1f5-4d5e-8ead-072d336be690",
   "metadata": {},
   "outputs": [],
   "source": [
    "s1.index.intersection(s2.index)"
   ]
  },
  {
   "cell_type": "markdown",
   "id": "7481001a-3ae9-4274-ab8b-1a60319fa6cf",
   "metadata": {},
   "source": [
    "### DataFrame \n",
    "\n",
    "If a pandas Series is analogous to a 1D NumPy array with explicit indices, then a DataFrame is comparable to a 2D array with explicit row and column labels.\n",
    "\n",
    "The following example is adapted from vanderPlas (2023, p. 105)."
   ]
  },
  {
   "cell_type": "code",
   "execution_count": null,
   "id": "c18ab825-137c-4f51-91de-0f4aa418d5c8",
   "metadata": {},
   "outputs": [],
   "source": [
    "# land area of 5 states\n",
    "area_dict = {\n",
    "    'California': 423967,\n",
    "    'Florida': 170312,\n",
    "    'New York': 141297,\n",
    "    \"Pennsylvania\": 119280,\n",
    "    'Texas': 695662,\n",
    "}\n",
    "area_dict"
   ]
  },
  {
   "cell_type": "code",
   "execution_count": null,
   "id": "48a9f08a-47fc-4f13-a700-9a0a9368f04e",
   "metadata": {},
   "outputs": [],
   "source": [
    "# population of 5 states\n",
    "pop_dict = {\n",
    "    'California': 39538223,\n",
    "    'Texas': 29145505,\n",
    "    'Florida': 21538187,\n",
    "    'New York': 20201249,\n",
    "    'Pennsylvania': 13002700\n",
    "}\n",
    "pop_dict"
   ]
  },
  {
   "cell_type": "code",
   "execution_count": null,
   "id": "0a5ba3c9-35cb-40f5-a0c5-2ab3dc1b5d85",
   "metadata": {},
   "outputs": [],
   "source": [
    "# constructing a DataFrame from dictionaries\n",
    "states = pd.DataFrame({'area': area_dict, \n",
    "                       'population': pop_dict})\n",
    "states"
   ]
  },
  {
   "cell_type": "markdown",
   "id": "ae94462c-2fd2-479b-a44e-ed6c71509a28",
   "metadata": {},
   "source": [
    "Notice that the two columns are aligned by their indices!"
   ]
  },
  {
   "cell_type": "markdown",
   "id": "0bc9cf45-e7af-4104-87de-d30742571826",
   "metadata": {},
   "source": [
    "The DataFrame object has an index attribute like Series."
   ]
  },
  {
   "cell_type": "code",
   "execution_count": null,
   "id": "98a0105a-7272-4151-a87c-de2ad7e9b47c",
   "metadata": {},
   "outputs": [],
   "source": [
    "states.index"
   ]
  },
  {
   "cell_type": "markdown",
   "id": "14c09d41-6269-45de-af94-8079ed197881",
   "metadata": {},
   "source": [
    "In addition, the DataFrame object has a `columns` attribute. "
   ]
  },
  {
   "cell_type": "code",
   "execution_count": null,
   "id": "5d683c30-58f6-41f7-ab93-7fb08ca0da93",
   "metadata": {},
   "outputs": [],
   "source": [
    "states.columns"
   ]
  },
  {
   "cell_type": "code",
   "execution_count": null,
   "id": "89106dd1-9527-4715-9242-d42d63532ce9",
   "metadata": {},
   "outputs": [],
   "source": [
    "# retriving a column\n",
    "states['area']"
   ]
  },
  {
   "cell_type": "code",
   "execution_count": null,
   "id": "2c700654-8778-4670-ac29-8e553a49e776",
   "metadata": {},
   "outputs": [],
   "source": [
    "# retrieving columns\n",
    "states[['population', 'area']]"
   ]
  },
  {
   "cell_type": "markdown",
   "id": "b23f4939-4e06-47f7-a542-4b330cc06401",
   "metadata": {},
   "source": [
    "Another method to construct a DataFrame is to combine separate column lists with `zip()`."
   ]
  },
  {
   "cell_type": "code",
   "execution_count": null,
   "id": "5c4d00e0-be1d-4cb5-af5e-dba31ac240a8",
   "metadata": {},
   "outputs": [],
   "source": [
    "state = ['California', 'Florida', 'New York', 'Pennsylvania', 'Texas']\n",
    "population = [39538223, 21538187, 20201249, 13002700, 29145505]\n",
    "area = [423967, 170312, 141297, 119280, 695662]"
   ]
  },
  {
   "cell_type": "code",
   "execution_count": null,
   "id": "093bc0e5-aac4-43e1-9bec-3908a471d7f3",
   "metadata": {},
   "outputs": [],
   "source": [
    "states = pd.DataFrame(zip(population, area), \n",
    "                      columns=['population', 'area'],\n",
    "                      index=state)\n",
    "states"
   ]
  },
  {
   "cell_type": "markdown",
   "id": "fd88d527-7c9a-455f-b243-bdf2247c37b9",
   "metadata": {
    "tags": []
   },
   "source": [
    "#### DataFrame from a 2D NumPy Array\n",
    "\n",
    "Because the DataFrame object is essentially a 2D array that can hold different data types, we can create it from a two-dimensional NumPy array—as a special case where all columns contain the same data type."
   ]
  },
  {
   "cell_type": "code",
   "execution_count": null,
   "id": "f780d38c-ad9f-4dd9-a91b-22b7c1df861f",
   "metadata": {},
   "outputs": [],
   "source": [
    "states_other = pd.DataFrame(np.random.rand(5, 2), # random normal deviates\n",
    "                            columns=['col3', \"col4\"],\n",
    "                            index=['Texas', 'Pennsylvania', 'New York', 'Florida', 'California' ])\n",
    "states_other"
   ]
  },
  {
   "cell_type": "code",
   "execution_count": null,
   "id": "0e97d8d7-c5cd-403b-aaad-dd6a30d484a9",
   "metadata": {},
   "outputs": [],
   "source": [
    "# Joining on the index\n",
    "states.join(states_other)"
   ]
  },
  {
   "cell_type": "markdown",
   "id": "0aeffc6f-4123-4b0e-9e75-369994063836",
   "metadata": {},
   "source": [
    "A useful feature of pandas objects is that they automatically align data based on index labels."
   ]
  },
  {
   "cell_type": "markdown",
   "id": "9ae05b85-71cf-4e28-aa5d-93d01f87378e",
   "metadata": {},
   "source": [
    "#### Accessing Columns of a DataFrame\n",
    "\n",
    "A column in a DataFrame can be retrieved the usual way:"
   ]
  },
  {
   "cell_type": "code",
   "execution_count": null,
   "id": "e333f43c-8c4c-4b44-af21-c359143652ce",
   "metadata": {},
   "outputs": [],
   "source": [
    "states[\"population\"]"
   ]
  },
  {
   "cell_type": "markdown",
   "id": "fbe78f29-8cb4-4df5-971e-f625d14bbdf0",
   "metadata": {},
   "source": [
    "We can also retrieve a column by using the dot notation (attribute notation):"
   ]
  },
  {
   "cell_type": "code",
   "execution_count": null,
   "id": "9a082f0d-f665-4614-b026-62a31a33e607",
   "metadata": {},
   "outputs": [],
   "source": [
    "states.population"
   ]
  },
  {
   "cell_type": "markdown",
   "id": "cbf1a713-e154-4bfe-adb3-83ad796175fa",
   "metadata": {},
   "source": [
    "#### Accessing Rows of a DataFrame\n",
    "\n",
    "Rows can be retrieved by position or name with an integer (`iloc`) or a label (`loc`):"
   ]
  },
  {
   "cell_type": "code",
   "execution_count": null,
   "id": "e1f303c6-3414-4a2d-b97a-9225bcfaadc3",
   "metadata": {},
   "outputs": [],
   "source": [
    "states.iloc[4]"
   ]
  },
  {
   "cell_type": "code",
   "execution_count": null,
   "id": "d72e5e7b-9d98-4cd8-8428-77bd7e666a9e",
   "metadata": {},
   "outputs": [],
   "source": [
    "states.loc[\"Texas\"]"
   ]
  },
  {
   "cell_type": "code",
   "execution_count": null,
   "id": "e0280b0a-88aa-4596-be17-03205db491b4",
   "metadata": {},
   "outputs": [],
   "source": [
    "states.iloc[0:3] # exclusive"
   ]
  },
  {
   "cell_type": "code",
   "execution_count": null,
   "id": "7a47985a-801d-48ca-a12e-7d9f8a3a79e1",
   "metadata": {},
   "outputs": [],
   "source": [
    "states.loc[\"California\":\"New York\"] # inclusive"
   ]
  },
  {
   "cell_type": "code",
   "execution_count": null,
   "id": "1018e41f-955b-4608-a23a-f0d69f23c3f2",
   "metadata": {},
   "outputs": [],
   "source": [
    "states.iloc[2:, [0, 1, 3]] # Rows 0-2, Columns 0 and 1"
   ]
  },
  {
   "cell_type": "code",
   "execution_count": null,
   "id": "16f932c7-ff08-469e-83b1-a06bd54d2a29",
   "metadata": {},
   "outputs": [],
   "source": [
    "states[states.area > 5e5]"
   ]
  },
  {
   "cell_type": "markdown",
   "id": "6bf8b269-0ece-4dcd-88ac-90df16661051",
   "metadata": {},
   "source": [
    "#### Practice Exercise 3\n",
    "\n",
    "You are working as a data analyst for a retail company.\n",
    "The dataset below shows monthly sales revenue (in thousands of dollars) and units sold for three store branches during the first 6 months of 2024.\n",
    "\n",
    "| Month | Branch  | Sales | Units\\_Sold |\n",
    "| ----- | ------- | ----- | ----------- |\n",
    "| Jan   | East    | 52000 | 1200        |\n",
    "| Jan   | West    | 51000 | 1150        |\n",
    "| Jan   | Central | 49500 | 1100        |\n",
    "| Feb   | East    | 47000 | 1050        |\n",
    "| Feb   | West    | 46500 | 1040        |\n",
    "| Feb   | Central | 46000 | 1030        |\n",
    "| Mar   | East    | 53000 | 1250        |\n",
    "| Mar   | West    | 52500 | 1240        |\n",
    "| Mar   | Central | 51500 | 1230        |\n",
    "| Apr   | East    | 59000 | 1300        |\n",
    "| Apr   | West    | 57500 | 1290        |\n",
    "| Apr   | Central | 56500 | 1280        |\n",
    "| May   | East    | 62000 | 1320        |\n",
    "| May   | West    | 61500 | 1310        |\n",
    "| May   | Central | 61000 | 1300        |\n",
    "| Jun   | East    | 58000 | 1260        |\n",
    "| Jun   | West    | 57000 | 1250        |\n",
    "| Jun   | Central | 56000 | 1240        |\n"
   ]
  },
  {
   "cell_type": "markdown",
   "id": "975c9003-e1b0-4ff4-a260-7fefa972b1bb",
   "metadata": {},
   "source": [
    "You can use the data components below to create the DataFrame (Make sure the column names are as specified)."
   ]
  },
  {
   "cell_type": "code",
   "execution_count": null,
   "id": "7175bfd1-19e5-421e-9b96-87381eaa4657",
   "metadata": {},
   "outputs": [],
   "source": [
    "months = ['Jan','Jan','Jan','Feb','Feb','Feb','Mar','Mar','Mar',\n",
    "          'Apr','Apr','Apr','May','May','May','Jun','Jun','Jun']\n",
    "\n",
    "branches = ['East','West','Central'] * 6\n",
    "\n",
    "sales = [52000,51000,49500,47000,46500,46000,\n",
    "         53000,52500,51500,59000,57500,56500,\n",
    "         62000,61500,61000,58000,57000,56000]\n",
    "\n",
    "units_sold = [1200,1150,1100,1050,1040,1030,\n",
    "              1250,1240,1230,1300,1290,1280,\n",
    "              1320,1310,1300,1260,1250,1240]"
   ]
  },
  {
   "cell_type": "code",
   "execution_count": null,
   "id": "7f58d005-7f1a-4665-a4b1-29c0a31d4aad",
   "metadata": {},
   "outputs": [],
   "source": [
    "# Create the DataFrame 'df_sales' and print\n"
   ]
  },
  {
   "cell_type": "markdown",
   "id": "27f05ffe-6411-459d-bb8c-f286e76de97d",
   "metadata": {},
   "source": [
    "**Tasks** for Position-Based Indexing\n",
    "\n",
    " 1. Select the first 5 rows of the DataFrame.\n",
    " 2. Get the value in the 10th row and 3rd column (Sales value).\n",
    " 3. Select the first 10 rows and first two columns only.\n",
    " 4. Extract rows 5, 8, and 12 and columns 1 and 2.\n",
    " 5. Get the last 3 rows using negative indices.\n",
    " 6. Slice rows 6–12 (inclusive) and all columns."
   ]
  },
  {
   "cell_type": "code",
   "execution_count": null,
   "id": "b347038f-fa65-4d6f-8ecc-e011aec32a6c",
   "metadata": {},
   "outputs": [],
   "source": [
    "# Select the first 5 rows of the DataFrame.\n"
   ]
  },
  {
   "cell_type": "code",
   "execution_count": null,
   "id": "eabecb60-9d28-4f08-a600-091a23e54fe8",
   "metadata": {},
   "outputs": [],
   "source": [
    "# Get the value in the 10th row and 3rd column (Sales value).\n"
   ]
  },
  {
   "cell_type": "code",
   "execution_count": null,
   "id": "aa85781f-d8df-4b50-805e-cd98a78826c6",
   "metadata": {},
   "outputs": [],
   "source": [
    "# Select the first 10 rows and first two columns only.\n"
   ]
  },
  {
   "cell_type": "code",
   "execution_count": null,
   "id": "8bcc6bfb-298e-4b2c-b9c8-6270d9b84d67",
   "metadata": {},
   "outputs": [],
   "source": [
    "# Extract row indexes 5, 8, and 12 and columns 1 and 2.\n"
   ]
  },
  {
   "cell_type": "code",
   "execution_count": null,
   "id": "70c48aac-57e4-4b63-8d15-89faf3a5abb8",
   "metadata": {},
   "outputs": [],
   "source": [
    "# Get the last 3 rows using negative indices.\n"
   ]
  },
  {
   "cell_type": "code",
   "execution_count": null,
   "id": "7da89047-5f8a-4d93-812e-ea84f3c67bee",
   "metadata": {},
   "outputs": [],
   "source": [
    "# Slice rows 6–12 (inclusive) and all columns.\n"
   ]
  },
  {
   "cell_type": "markdown",
   "id": "2f62d9bf-164e-47eb-8a8e-4116ee5e5c55",
   "metadata": {},
   "source": [
    "**Tasks** for Label-Based Indexing\n",
    "\n",
    " 1. Select all rows for the 'Mar' month.\n",
    " 2. Get the Sales and Units_Sold for 'East' branch in May.\n",
    " 3. Retrieve rows where Month is 'Feb' or 'Mar' and only the columns `['Month', 'Branch', 'Sales']`.\n",
    " 4. Update the Units_Sold for 'West' in Apr to 1305.\n",
    " 5. Get Sales values for months Apr through Jun (inclusive).\n",
    " 6. Filter rows where Sales > 60,000."
   ]
  },
  {
   "cell_type": "code",
   "execution_count": null,
   "id": "6951572b-e94c-46a9-b276-99b57a9ac4af",
   "metadata": {},
   "outputs": [],
   "source": [
    "# Select all rows for the 'Mar' month.\n"
   ]
  },
  {
   "cell_type": "code",
   "execution_count": null,
   "id": "447b07d7-c6e5-4fd0-aa1b-19c78cc2acad",
   "metadata": {},
   "outputs": [],
   "source": [
    "# Get the Sales and Units_Sold for 'East' branch in May.\n"
   ]
  },
  {
   "cell_type": "code",
   "execution_count": null,
   "id": "466afb1a-170e-4d12-9bf9-612d71265e5f",
   "metadata": {},
   "outputs": [],
   "source": [
    "# Retrieve rows where Month is 'Feb' or 'Mar' and only the columns ['Month', 'Branch', 'Sales']\n"
   ]
  },
  {
   "cell_type": "code",
   "execution_count": null,
   "id": "781bfc56-70f1-426c-a1c7-bd0a3ebdf84e",
   "metadata": {},
   "outputs": [],
   "source": [
    "# Update the Units_Sold for 'West' in Apr to 1305.\n"
   ]
  },
  {
   "cell_type": "code",
   "execution_count": null,
   "id": "72cd506a-aa0c-4f88-b1f1-c344d8222128",
   "metadata": {},
   "outputs": [],
   "source": [
    "# Get Sales values for months Apr through Jun (inclusive).\n"
   ]
  },
  {
   "cell_type": "code",
   "execution_count": null,
   "id": "bf9aeda1-3508-470b-8d38-ae4fb01e407a",
   "metadata": {},
   "outputs": [],
   "source": [
    "# Filter rows where Sales > 60,000.\n"
   ]
  },
  {
   "cell_type": "markdown",
   "id": "90f3c873-7a8c-478d-af96-8890448546f1",
   "metadata": {},
   "source": [
    "#### Adding/Removing Columns\n",
    "\n",
    "A DataFrame in pandas is essentially a table consisting of rows and columns. The ability to add or remove columns is fundamental for data manipulation, cleaning, and analysis.\n",
    "\n",
    "Let's revisit the `states` DataFrame and add a `flowers` column to represent the state flowers."
   ]
  },
  {
   "cell_type": "code",
   "execution_count": null,
   "id": "094cd9a8-b4cc-4e4d-b376-ba2d68f940d7",
   "metadata": {},
   "outputs": [],
   "source": [
    "flowers = ['California poppy', \n",
    "           'Orange blossom', \n",
    "           'Rose', \n",
    "           'Mountain laurel', \n",
    "           'Bluebonnet']\n",
    "\n",
    "states['flower'] = flowers\n",
    "states"
   ]
  },
  {
   "cell_type": "markdown",
   "id": "6e102082-b75e-43e9-972e-932e639f9ef7",
   "metadata": {},
   "source": [
    "A new column can be added by performing calculations on existing columns."
   ]
  },
  {
   "cell_type": "code",
   "execution_count": null,
   "id": "e4f72539-c45e-4f9f-9417-4c638a64124c",
   "metadata": {},
   "outputs": [],
   "source": [
    "states[\"density\"] = states[\"population\"] / states[\"area\"]\n",
    "states"
   ]
  },
  {
   "cell_type": "markdown",
   "id": "c6c3a5ee-d82b-4f0b-985a-a8c12c961884",
   "metadata": {},
   "source": [
    "#### Working with DataFrame - Illustration\n",
    "\n",
    "Here's a brief illustration of how to use a DataFrame for various tasks."
   ]
  },
  {
   "cell_type": "code",
   "execution_count": null,
   "id": "32800fcb-d88e-4a79-9ebc-825fe56a12df",
   "metadata": {},
   "outputs": [],
   "source": [
    "# DataFrame example: students\n",
    "students = pd.DataFrame({\n",
    "    'student_id': range(1,9),\n",
    "    'name': ['Ana', 'Ben', 'Carmen', 'Diego', 'Eli', 'Farah', 'George', 'Hana'],\n",
    "    'age': [17, 18, 17, 19, 18, 17, 20, 18],\n",
    "    'math_score': [88, 92, 79, 85, np.nan, 90, 73, 95],\n",
    "    'english_score': [91, 85, 84, np.nan, 78, 88, 80, 94],\n",
    "    'school': ['North HS','North HS','East HS','East HS','West HS','West HS','North HS','East HS']\n",
    "})\n",
    "\n",
    "students"
   ]
  },
  {
   "cell_type": "code",
   "execution_count": null,
   "id": "b4c7de99-a5ef-46ac-a1dc-9fc02fcfa249",
   "metadata": {},
   "outputs": [],
   "source": [
    "# Drop rows with any missing values\n",
    "students.dropna()"
   ]
  },
  {
   "cell_type": "markdown",
   "id": "ba1aee65-c202-41c6-bd3e-d194898c5fef",
   "metadata": {},
   "source": [
    "Rows 3 and 4 each contain one missing value and have been removed."
   ]
  },
  {
   "cell_type": "markdown",
   "id": "bd068ff8-959c-4032-91b7-dcd01e96b581",
   "metadata": {},
   "source": [
    "We can use a specific column(s) for `dropna()` as follows:"
   ]
  },
  {
   "cell_type": "code",
   "execution_count": null,
   "id": "d52f125d-2db3-469f-877c-9bf49a5a98f2",
   "metadata": {},
   "outputs": [],
   "source": [
    "students.dropna(subset='math_score')"
   ]
  },
  {
   "cell_type": "markdown",
   "id": "930d97d9-3982-4a34-90f8-329f9fa992ac",
   "metadata": {},
   "source": [
    "Note that the fourth student, whose `english_score` is missing, is still included."
   ]
  },
  {
   "cell_type": "markdown",
   "id": "c778c7c4-fd0a-4d8f-abd9-26d2aec86847",
   "metadata": {},
   "source": [
    "We can also specify the minimum number of non-NA values to be retained. For example, `thresh=6` means keep only rows (`axis=0`) or columns (`axis=1`) that have at least 6 non-NA values."
   ]
  },
  {
   "cell_type": "code",
   "execution_count": null,
   "id": "3b4ef039-6903-4c33-9d3c-dadf32294db5",
   "metadata": {},
   "outputs": [],
   "source": [
    "students.dropna(thresh=6, axis=0)"
   ]
  },
  {
   "cell_type": "markdown",
   "id": "6fb71034-db8b-4a4d-8916-b1f43c196957",
   "metadata": {},
   "source": [
    "We can determine whether each cell contains a missing value or a non-missing (non-NA) value."
   ]
  },
  {
   "cell_type": "code",
   "execution_count": null,
   "id": "8c9e3b8c-fe3d-4c6b-b48b-1ae143e0ac11",
   "metadata": {},
   "outputs": [],
   "source": [
    "students.isnull()"
   ]
  },
  {
   "cell_type": "code",
   "execution_count": null,
   "id": "3ffd33d0-2883-4506-9cf8-a9b9e02085f9",
   "metadata": {},
   "outputs": [],
   "source": [
    "students.isna().sum(axis=0)"
   ]
  },
  {
   "cell_type": "code",
   "execution_count": null,
   "id": "e3b276ce-bb39-4f0e-ad32-83b66de31bd3",
   "metadata": {},
   "outputs": [],
   "source": [
    "students.isna().sum(axis=1)"
   ]
  },
  {
   "cell_type": "markdown",
   "id": "d0aa7bf1-148c-42e8-9a32-3f34867399fb",
   "metadata": {},
   "source": [
    "#### Handling Missing Data in Computations\n",
    "\n",
    "In real-world datasets, missing values (`NaN`) are common and can interfere with computations, summaries, and modeling. Proper handling of missing data is essential to ensure accurate analysis.\n",
    "\n",
    "Properly handling missing data ensures that calculations, statistics, and models reflect the true patterns in your dataset without being skewed by gaps."
   ]
  },
  {
   "cell_type": "code",
   "execution_count": null,
   "id": "f88451c5-7780-4929-9d4a-50c5e59625b7",
   "metadata": {},
   "outputs": [],
   "source": [
    "# Create avg_score as the mean of math_score and english_score\n",
    "students['avg_score'] = students[['math_score', 'english_score']].mean(axis=1)\n",
    "students"
   ]
  },
  {
   "cell_type": "markdown",
   "id": "6b597c4f-6e83-41f6-aaaf-10395aa52edd",
   "metadata": {},
   "source": [
    "The result may seem unexpected because `.mean(axis=1)` ignores `NaN` values by default. If you want `avg_score` to be `NaN` whenever either `math_score` or `english_score` is missing, use the `skipna=False` option."
   ]
  },
  {
   "cell_type": "code",
   "execution_count": null,
   "id": "5c867ba8-a660-4997-865a-17e98c08266d",
   "metadata": {},
   "outputs": [],
   "source": [
    "students['avg_score'] = students[['math_score', 'english_score']].mean(axis=1, skipna=False)\n",
    "students"
   ]
  },
  {
   "cell_type": "markdown",
   "id": "2142e440-c9b8-44ca-91fa-82d683a44dc7",
   "metadata": {},
   "source": [
    "Alternatively, you can use `np.where` to explicitly manage any missing data."
   ]
  },
  {
   "cell_type": "code",
   "execution_count": null,
   "id": "a3dc9f2d-daf4-4519-a707-2e49fb9c2787",
   "metadata": {},
   "outputs": [],
   "source": [
    "students['avg_score'] = np.where(\n",
    "    students[['math_score', 'english_score']].isna().any(axis=1),\n",
    "    np.nan,\n",
    "    students[['math_score', 'english_score']].mean(axis=1)\n",
    ")\n",
    "students"
   ]
  },
  {
   "cell_type": "markdown",
   "id": "ec8f155a-71f9-4b78-8e8a-93eeb8e2168c",
   "metadata": {},
   "source": [
    "### Aggregating Data with groupby\n",
    "\n",
    "![groupby](../figures/split_apply_combine.png)\n",
    "\n",
    "Data often comes in a nested or hierarchical format, where individual observations are grouped into subgroups. In such cases, we typically need to summarize or aggregate data within each subgroup. This can be done by splitting a DataFrame by a grouping key into multiple DataFrames, each corresponding to a subgroup. "
   ]
  },
  {
   "cell_type": "markdown",
   "id": "1d44afe3-b6d7-4cb5-b428-036bd321dc0d",
   "metadata": {},
   "source": [
    "The `groupby()` method in Pandas is a powerful tool for this task. It implements the **split-apply-combine** strategy:\n",
    "\n",
    "1. **Split** – Divide the data into groups based on one or more keys (e.g., by school, region, or product category).\n",
    "2. **Apply** – Perform a function on each group, like mean(), sum(), or count().\n",
    "3. **Combine** – Merge the results back into a new summarized DataFrame."
   ]
  },
  {
   "cell_type": "markdown",
   "id": "c62b0673-d9a9-43ed-8e5e-87da143ec6ed",
   "metadata": {},
   "source": [
    "**Step 1**. Group Data"
   ]
  },
  {
   "cell_type": "code",
   "execution_count": null,
   "id": "a7ca3c76-bbe9-4754-8c87-198ab4b6a8a8",
   "metadata": {},
   "outputs": [],
   "source": [
    "grouped = students.groupby('school')\n",
    "grouped"
   ]
  },
  {
   "cell_type": "markdown",
   "id": "fa01572d-1b5c-40df-841d-30347852bde0",
   "metadata": {},
   "source": [
    "This code doesn't perform any calculation yet. It creates a DataFrameGroupBy object, which organizes the rows into three groups: East HS, North HS, and West HS. At this stage, it only displays meta-information—not the actual grouped data. To view the data in each subgroup, you need to loop over the object."
   ]
  },
  {
   "cell_type": "code",
   "execution_count": null,
   "id": "30e5253b-9280-47d3-9ffd-d711fe530eb5",
   "metadata": {},
   "outputs": [],
   "source": [
    "for group, data in students.groupby('school'):\n",
    "    print(f\"School: {group}\")\n",
    "    print(data, \"\\n\")"
   ]
  },
  {
   "cell_type": "markdown",
   "id": "bdc2c7af-c2b8-4460-9373-fa57d1a08217",
   "metadata": {},
   "source": [
    "**Step 2**. Aggregate \n",
    "\n",
    "A. Single Aggregation\n",
    "\n",
    "Compute the mean math score for each school:"
   ]
  },
  {
   "cell_type": "code",
   "execution_count": null,
   "id": "1d65039e-e4db-44ec-8ac0-aecbbb2e42f6",
   "metadata": {},
   "outputs": [],
   "source": [
    "grouped['math_score'].mean()"
   ]
  },
  {
   "cell_type": "markdown",
   "id": "7a55804f-b1ac-430e-8275-344b77356ed9",
   "metadata": {},
   "source": [
    "B. Multiple Aggregations\n",
    "\n",
    "Use `.agg()` to compute several summary statistics at once:"
   ]
  },
  {
   "cell_type": "code",
   "execution_count": null,
   "id": "07d9a0d7-f625-4483-89b5-fc955ed99044",
   "metadata": {},
   "outputs": [],
   "source": [
    "grouped['math_score'].agg(['min', 'mean', 'max'])"
   ]
  },
  {
   "cell_type": "markdown",
   "id": "282164eb-af5e-4a02-b9ed-d353c9d5390c",
   "metadata": {},
   "source": [
    "C. Aggregating Multiple Columns\n",
    "\n",
    "To summarize multiple numeric columns, pass a dictionary mapping each column to its aggregation functions:"
   ]
  },
  {
   "cell_type": "code",
   "execution_count": null,
   "id": "19ede062-d11f-4e63-8ef4-22b011591f14",
   "metadata": {},
   "outputs": [],
   "source": [
    "grouped.agg({\n",
    "    'math_score': ['min', 'mean', 'std'],\n",
    "    'english_score': ['min', 'mean', 'max']\n",
    "})"
   ]
  },
  {
   "cell_type": "markdown",
   "id": "91cf60e1-35d0-4205-94f6-3eddc616458b",
   "metadata": {},
   "source": [
    "#### Summary of Key Methods\n",
    "\n",
    "| Method        | Purpose                               |\n",
    "| ------------- | ------------------------------------- |\n",
    "| `.mean()`     | Average per group                     |\n",
    "| `.sum()`      | Sum per group                         |\n",
    "| `.count()`    | Count of non-missing values per group |\n",
    "| `.agg()`      | Apply multiple functions at once      |\n",
    "| `.size()`     | Count of rows per group               |\n",
    "| `.describe()` | Full summary stats per group          |\n"
   ]
  },
  {
   "cell_type": "markdown",
   "id": "a3d31267-406d-4f67-9bad-86cc5e9841b9",
   "metadata": {
    "tags": []
   },
   "source": [
    "## Illustration - The SAFI Project\n",
    "\n",
    "![SAFI](../figures/SAFI.png)\n",
    "\n",
    "SAFI (Studying African Farmer-Led Irrigation) is a currently running project which is looking at farming and irrigation methods. This is survey data relating to households and agriculture in Tanzania and Mozambique. The survey data was collected through interviews conducted between November 2016 and June 2017. The survey covered such things as; household features (e.g. construction materials used, number of household members), agricultural practices (e.g. water usage), assets (e.g. number and types of livestock) and details about the household members.\n",
    "\n",
    "This is a teaching version of the collected data, it is not the full dataset.\n",
    "\n",
    "Source:[here](https://http://www.safi-research.org/)"
   ]
  },
  {
   "cell_type": "markdown",
   "id": "36b5e357-e99a-47fa-a091-5146dad96052",
   "metadata": {},
   "source": [
    "### Survey Sections:\n",
    "\n",
    "-    **A**: General questions about when and where the survey was conducted.\n",
    "-    **B**: Information about the household and how long they have been living in the area\n",
    "-    **C**: Details about the accommodation and other buildings on the farm\n",
    "-    **D**: Details about the different plots of land they grow crops on\n",
    "-    **E**: Details about how they irrigate the land and availability of water\n",
    "-    **F**: Financial details including assets owned and sources of income\n",
    "-    **G**: Details of Financial hardships\n",
    "-    **X**: Information collected directly from the smartphone (GPS) or automatically included in the form (instanceID)"
   ]
  },
  {
   "cell_type": "markdown",
   "id": "06a647a0-b76d-4052-971f-802758ddf978",
   "metadata": {
    "jp-MarkdownHeadingCollapsed": true,
    "tags": []
   },
   "source": [
    "#### Section A: Interview & Household Info\n",
    "\n",
    "| Variable | Description |\n",
    "|----------|-------------|\n",
    "| key_id | Added to provide a unique Id for each observation. (The InstanceID field does this as well but it is not as convenient to use) |\n",
    "| A01_interview_date | Date of Interview |\n",
    "| A03_quest_no | Questionnaire number |\n",
    "| A04_start | Timestamp of start of Interview |\n",
    "| A05_end | Timestamp of end of Interview |\n",
    "| A06_province | Province name |\n",
    "| A07_district | District name |\n",
    "| A08_ward | Ward name |\n",
    "| A09_village | Village name |\n",
    "| A11_years_farm | Number of years the household have been farming in this area |\n",
    "| A12_agr_assoc | Does the head of the household belong to an agricultural association |\n",
    "| _note2 | Possible form comment relating to the section |\n",
    "\n",
    "#### Section B: Household Members\n",
    "\n",
    "| Variable | Description |\n",
    "|----------|-------------|\n",
    "| B_no_membrs | How many members of the household? |\n",
    "| _members_count | Internal count of members |\n",
    "| B11_remittance_money | Is there any financial assistance from family members not living on the farm |\n",
    "| B16_years_liv | How many years have you been living in this village or neighbouring village? |\n",
    "| B17_parents_liv | Did your parents live in this village or neighbouring village? |\n",
    "| B18_sp_parents_liv | Did your spouse's parents live in this village or neighbouring village? |\n",
    "| B19_grand_liv | Did your grandparents live in this village or neighbouring village? |\n",
    "| B20_sp_grand_liv | Did your spouse's grandparents live in this village or neighbouring village? |\n",
    "\n",
    "#### Section C: House & Buildings\n",
    "\n",
    "| Variable | Description |\n",
    "|----------|-------------|\n",
    "| C01_respondent_roof_type | What type of roof does their house have? |\n",
    "| C02_respondent_wall_type | What type of walls does their house have (from list) |\n",
    "| C02_respondent_wall_type_other | What type of walls does their house have (not on list) |\n",
    "| C03_respondent_floor_type | What type of floor does their house have |\n",
    "| C04_window_type | Does the house have glass in at least one window? |\n",
    "| C05_buildings_in_compound | How many buildings are in the compound? Do not include stores, toilets or temporary structures. |\n",
    "| C06_rooms | How many rooms in the main house are used for sleeping? |\n",
    "| C07_other_buildings | Does the DU own any other buildings other than those on this plot |\n",
    "\n",
    "#### Section D: Plots Cultivated\n",
    "\n",
    "| Variable | Description |\n",
    "|----------|-------------|\n",
    "| D_no_plots | How many plots were cultivated in the last 12 months? |\n",
    "| D_plots_count | Internal count of plots |\n",
    "\n",
    "#### Section E: Water & Irrigation\n",
    "\n",
    "| Variable | Description |\n",
    "|----------|-------------|\n",
    "| E01_water_use | Do you bring water to your fields, stop water leaving your fields or drain water out of any of your fields? |\n",
    "| E_no_group_count | How many plots are irrigated? |\n",
    "| E_yes_group_count | How many plots are not irrigated? |\n",
    "| E17_no_enough_water | Are there months when you cannot get enough water for your crops? Indicate which months. |\n",
    "| E18_months_no_water | Please select the months |\n",
    "| E19_period_use | For how long have you been using these methods of watering crops? (years) |\n",
    "| E20_exper_other | Do you have experience of such methods on other farms? |\n",
    "| E21_other_meth | Have you used other methods before? |\n",
    "| E22_res_change | Why did you change the way of watering your crops? |\n",
    "| E23_memb_assoc | Are you a member of an irrigation association? |\n",
    "| E24_resp_assoc | Do you have responsibilities in that association? |\n",
    "| E25_fees_water | Do you pay fees to use water? |\n",
    "| E26_affect_conflicts | Have you been affected by conflicts with other irrigators in the area? |\n",
    "| _note | Form comment for section |\n",
    "\n",
    "#### Section F: Money, Labor & Livestock\n",
    "\n",
    "| Variable | Description |\n",
    "|----------|-------------|\n",
    "| F04_need_money | If you started or changed the way you water your crops recently, did you need any money for it? |\n",
    "| F05_money_source | Where did the money came from? (list) |\n",
    "| F05_money_source_other | Where did the money came from? (not on list) |\n",
    "| F06_crops_contr | Considering fields where you have applied water, how much do those crops contribute to your overall income? |\n",
    "| F08_emply_lab | In the most recent cultivation season, did you employ day labourers on fields? |\n",
    "| F09_du_labour | In the most recent cultivation season, did anyone in the household undertake day labour work on other farm? |\n",
    "| F10_liv_owned | What types of livestock do you own? (list) |\n",
    "| F10_liv_owned_other | What types of livestock do you own? (not on list) |\n",
    "| F_liv_count | Livestock count |\n",
    "| F12_poultry | Own poultry? |\n",
    "| F13_du_look_aftr_cows | At the present time, does the household look after cows for someone else in return for milk or money? |\n",
    "| F14_items_owned | Which of the following items are owned by the household? (list) |\n",
    "| F14_items_owned_other | Which of the following items are owned by the household? (not on list) |\n",
    "\n",
    "#### Section G: Food Security\n",
    "\n",
    "| Variable | Description |\n",
    "|----------|-------------|\n",
    "| G01_no_meals | How many meals do people in your household normally eat in a day? |\n",
    "| G02_months_lack_food | Indicate which months, in the last 12 months have you faced a situation when you did not have enough food to feed the household? |\n",
    "| G03_no_food_mitigation | When you have faced such a situation what do you do? |\n",
    "\n",
    "#### GPS & Submission\n",
    "\n",
    "| Variable | Description |\n",
    "|----------|-------------|\n",
    "| gps:Latitude | Location latitude (provided by smartphone) |\n",
    "| gps:Longitude | Location Longitude (provided by smartphone) |\n",
    "| gps:Altitude | Location Altitude (provided by smartphone) |\n",
    "| gps:Accuracy | Location accuracy (provided by smartphone) |\n",
    "| instanceID | Unique identifier for the form data submission |\n"
   ]
  },
  {
   "cell_type": "markdown",
   "id": "d2d63c8f-3e18-4905-a3dd-9949568ed0dc",
   "metadata": {},
   "source": [
    "### Browsing Data"
   ]
  },
  {
   "cell_type": "code",
   "execution_count": null,
   "id": "e78046ce-ce30-4aff-a5d9-93a37736ae89",
   "metadata": {},
   "outputs": [],
   "source": [
    "# Load Data\n",
    "df_survey = pd.read_csv('../data/Moz_SAFI_Survey_Final_results.csv', index_col=0)\n",
    "df_survey.shape"
   ]
  },
  {
   "cell_type": "code",
   "execution_count": null,
   "id": "06d54d70-91ef-40eb-b0db-cf0d500c514b",
   "metadata": {},
   "outputs": [],
   "source": [
    "df_survey.head()"
   ]
  },
  {
   "cell_type": "code",
   "execution_count": null,
   "id": "b611f23f-665c-4df1-985e-c8071860321e",
   "metadata": {},
   "outputs": [],
   "source": [
    "df_survey.tail()"
   ]
  },
  {
   "cell_type": "code",
   "execution_count": null,
   "id": "914a2131-3843-4af3-af3e-dc13397e3f97",
   "metadata": {},
   "outputs": [],
   "source": [
    "df_survey.shape"
   ]
  },
  {
   "cell_type": "code",
   "execution_count": null,
   "id": "8a1fad6f-210d-4c63-8ede-2b5c0503005d",
   "metadata": {
    "tags": []
   },
   "outputs": [],
   "source": [
    "df_survey.columns"
   ]
  },
  {
   "cell_type": "code",
   "execution_count": null,
   "id": "970a19c2-7a21-4d4d-a380-529edb6bf447",
   "metadata": {},
   "outputs": [],
   "source": [
    "df_survey.columns.to_list()"
   ]
  },
  {
   "cell_type": "markdown",
   "id": "12cc52d3-2f7f-45e3-b2a2-4835841861dc",
   "metadata": {},
   "source": [
    "Count the missing values in each column, create a DataFrame from these counts, and keep only the rows where there is at least one missing value. Note that the tick marks in `N Missing` were due to the space in the column name."
   ]
  },
  {
   "cell_type": "code",
   "execution_count": null,
   "id": "d7c2dd62-d2b9-46ff-a8a8-0f5a7c749e5c",
   "metadata": {},
   "outputs": [],
   "source": [
    "df_survey.isnull().sum().to_frame(name='N Missing').query(\"`N Missing` > 0\")"
   ]
  },
  {
   "cell_type": "markdown",
   "id": "8255f3e9-fc67-4cc5-b6c6-52ba815e077a",
   "metadata": {},
   "source": [
    "### Survey Locations\n",
    "\n",
    "This teaching version of the full dataset is a subset consisting of 131 surveys collected in Zimbabwe. The data includes the latitude and longitude of each location, enabling you to map the sites geographically.\n",
    "\n",
    "The `folium` package is not installed by default in the Anaconda distribution. While it is available through `conda`, it’s not included in the default `conda` channel. Instead, you can install it from `conda-forge`, which provides a broader selection of packages.\n",
    "\n",
    "To install `folium`, remove the `#` and run the following code cell:"
   ]
  },
  {
   "cell_type": "code",
   "execution_count": null,
   "id": "1bc160ef-86f6-44ec-a666-9ac530579c9b",
   "metadata": {},
   "outputs": [],
   "source": [
    "#!conda install -c conda-forge folium -y"
   ]
  },
  {
   "cell_type": "code",
   "execution_count": null,
   "id": "db41149b-5a07-4207-a768-ce44b4e4ad11",
   "metadata": {},
   "outputs": [],
   "source": [
    "# Load required package\n",
    "import folium"
   ]
  },
  {
   "cell_type": "code",
   "execution_count": null,
   "id": "5cd482c2-9bad-41a9-975c-4fcacb2e2df5",
   "metadata": {},
   "outputs": [],
   "source": [
    "# --------------------------------------------\n",
    "# Step 1. Prepare a dataset\n",
    "# --------------------------------------------\n",
    "\n",
    "df_loc = df_survey[['A09_village', 'gps:Latitude', 'gps:Longitude']].rename(\n",
    "    columns={\n",
    "        'A09_village': 'Location',\n",
    "        'gps:Latitude': 'Latitude',\n",
    "        'gps:Longitude': 'Longitude' \n",
    "    }\n",
    ")\n",
    "\n",
    "# --------------------------------------------\n",
    "# Step 2. Create a folium map centered on Africa\n",
    "# --------------------------------------------\n",
    "# Africa center roughly: Latitude = 0, Longitude = 20\n",
    "africa_map = folium.Map(location=[0, 20], zoom_start=3)\n",
    "\n",
    "# --------------------------------------------\n",
    "# Step 3. Add points to the map\n",
    "# --------------------------------------------\n",
    "for _, row in df_loc.iterrows():\n",
    "    folium.Marker(\n",
    "        location=[row['Latitude'], row['Longitude']],\n",
    "        popup=f\"{row['Location']}<br>Lat: {row['Latitude']}, Lon: {row['Longitude']}\",\n",
    "        icon=folium.Icon(color='blue', icon='info-sign')\n",
    "    ).add_to(africa_map)\n",
    "\n",
    "# --------------------------------------------\n",
    "# Display map inline in Jupyter Notebook\n",
    "# --------------------------------------------\n",
    "africa_map"
   ]
  },
  {
   "cell_type": "markdown",
   "id": "b1a842c3-e3a9-4bf4-b8b5-c276a4ec509d",
   "metadata": {},
   "source": [
    "### Data Wrangling\n",
    "\n",
    "Survey data often includes composite variables created from multi-select questions, such as \"check all that apply.\" \n",
    "\n",
    "For example, one variable in our survey is `F14_items_owned_cleaned`, based on the question: \"Which of the following items are owned by the household?\" Respondents could select from a list of 15 household items.\n",
    "\n",
    "We can break this composite variable into several new variables, with each one representing whether a particular asset is owned in the household (as a dummy variable). This process is known as **one-hot encoding**."
   ]
  },
  {
   "cell_type": "code",
   "execution_count": null,
   "id": "30247cf8-4549-40ed-9e4e-31ee69324272",
   "metadata": {},
   "outputs": [],
   "source": [
    "print(df_survey['F14_items_owned'])"
   ]
  },
  {
   "cell_type": "code",
   "execution_count": null,
   "id": "d8f12747-cd8e-4474-8d86-e310b0cf28bc",
   "metadata": {},
   "outputs": [],
   "source": [
    "print(df_survey['F14_items_owned_cleaned'].dtype)"
   ]
  },
  {
   "cell_type": "markdown",
   "id": "7ccf183b-111a-46a3-84aa-a582476dbf34",
   "metadata": {},
   "source": [
    "This means the column contains strings or mixed types. There are some `NaN` values present, which are special floating-point values defined in NumPy (`numpy.nan`).\n",
    "\n",
    "Missing values in object columns cannot be represented as integers or floats, so Pandas uses `numpy.nan` instead.\n",
    "\n",
    "Another issue is that some string values contain '[]', which should be removed before parsing.\n",
    "\n",
    "You can also use `;` to split a list into individual items.\n",
    "\n",
    "Since there is no built-in function to parse the string variable exactly as needed, you will need to create a custom parsing function or parser."
   ]
  },
  {
   "cell_type": "markdown",
   "id": "d7ed49a9-fd2f-4eb4-a61f-cb3ccf351aec",
   "metadata": {
    "tags": []
   },
   "source": [
    "#### Custom Parser\n",
    "\n",
    "To summarize, we need a parser that\n",
    "1. Returns an empty list `[]` for `NaN` or '[]'.\n",
    "2. Cleans the string:\n",
    "    - Remove brackets '[]'\n",
    "    - Split on ';'\n",
    "    - Strip extra quotes and whitespace"
   ]
  },
  {
   "cell_type": "code",
   "execution_count": null,
   "id": "4018d6bb-e5dc-4084-a4f4-77416ff81b02",
   "metadata": {},
   "outputs": [],
   "source": [
    "def parse_assets(x):\n",
    "    if pd.isna(x):\n",
    "        return []\n",
    "    \n",
    "    x = str(x).strip()\n",
    "    if x in {\"[]\", \"\"}:\n",
    "        return []\n",
    "\n",
    "    x = x.strip(\"[]\")\n",
    "    \n",
    "    items = [\n",
    "        item.strip().strip(\"'\\\"\")  # clean quotes and spaces\n",
    "        for item in x.split(\";\")\n",
    "        if item.strip()\n",
    "    ]\n",
    "    return items\n"
   ]
  },
  {
   "cell_type": "markdown",
   "id": "343d70a3-b3cb-414d-afce-21280e7e2475",
   "metadata": {},
   "source": [
    "Let’s go line by line and carefully explain what this `parse_assets` function does. It’s designed to take a raw string or missing value (`NaN`) representing assets and return a cleaned list of individual assets."
   ]
  },
  {
   "cell_type": "markdown",
   "id": "52c3c628-76a2-440d-bf76-fe04ada911d9",
   "metadata": {},
   "source": [
    "**Step 1**\n",
    "\n",
    "```python\n",
    "def parse_assets(x):\n",
    "```\n",
    "\n",
    "Defines a function called `parse_assets` that takes one argument `x`.\n",
    "\n",
    "`x` is expected to be either a string representing assets (e.g., `['Car'; 'Bike']`) or possibly a missing value (`NaN`)."
   ]
  },
  {
   "cell_type": "markdown",
   "id": "3013f472-3cf8-4d85-a44d-f61dff9521b6",
   "metadata": {},
   "source": [
    "**Step 2**\n",
    "\n",
    "```python\n",
    "if pd.isna(x):\n",
    "    return []\n",
    "```\n",
    "\n",
    "Uses `pd.isna(x)` to check if `x` is missing (`NaN` or `None`).\n",
    "\n",
    "If it is missing, return an empty list `[]`, since there are no assets."
   ]
  },
  {
   "cell_type": "markdown",
   "id": "827edeb1-6e59-49b3-9163-943dd9820448",
   "metadata": {},
   "source": [
    "**Step 3**\n",
    "\n",
    "```python\n",
    "x = str(x).strip()\n",
    "```\n",
    "\n",
    "Converts `x` to a string (in case it’s not already).\n",
    "\n",
    "`.strip()` removes leading and trailing whitespace.\n",
    "\n",
    "Example: \" ['Car'; 'Bike'] \" → \"['Car'; 'Bike']\"."
   ]
  },
  {
   "cell_type": "markdown",
   "id": "290feba8-98b0-451d-bda4-4c3096265913",
   "metadata": {},
   "source": [
    "**Step 4**\n",
    "\n",
    "```python\n",
    "if x in {\"[]\", \"\"}:\n",
    "    return []\n",
    "```\n",
    "\n",
    "Checks if `x` is an empty string `\"\"` or `\"[]\"` (an empty list representation in string form).\n",
    "\n",
    "If yes, return an empty list, because there are no assets."
   ]
  },
  {
   "cell_type": "markdown",
   "id": "739b2ddb-9a5b-4ab9-b650-e43deb1068ab",
   "metadata": {},
   "source": [
    "**Step 5**\n",
    "\n",
    "```python\n",
    "x = x.strip(\"[]\")\n",
    "```\n",
    "\n",
    "Removes leading and trailing square brackets `[` and `]`.\n",
    "\n",
    "Example: `\"['Car'; 'Bike']\"` → `\"'Car'; 'Bike'\"`."
   ]
  },
  {
   "cell_type": "markdown",
   "id": "02fa43ae-923f-401f-94f5-763615c00b09",
   "metadata": {},
   "source": [
    "**Step 6**\n",
    "\n",
    "```python\n",
    "    items = [\n",
    "        item.strip().strip(\"'\\\"\")  # clean quotes and spaces\n",
    "        for item in x.split(\";\")\n",
    "        if item.strip()\n",
    "    ]\n",
    "```\n",
    "\n",
    "This is a list comprehension. Let’s break it down:\n",
    "\n",
    "    1. `x.split(\";\")`\n",
    "        - Splits the string by semicolon `;` into individual items.\n",
    "        - Example: `\"'Car'; 'Bike'\"` → `['Car', 'Bike']`.\n",
    "\n",
    "    2. `item.strip()`\n",
    "        - Removes leading/trailing whitespace from each item.\n",
    "\n",
    "    3. `.strip(\"'\\\"\")`\n",
    "        - Removes single ' or double \" quotes surrounding each item.\n",
    "\n",
    "    4. `if item.strip()`\n",
    "        - Only keeps items that are non-empty after stripping spaces.\n",
    "        - This avoids empty strings in the list.\n",
    "        - In an `if` statement, it evaluates the result for truthiness:\n",
    "            * Non-empty strings → True\n",
    "            * Empty strings → False\n",
    "\n",
    "The result is a clean list of asset names."
   ]
  },
  {
   "cell_type": "markdown",
   "id": "fb623d3c-631d-4c4e-884c-42038fd0e265",
   "metadata": {},
   "source": [
    "**Step 7**\n",
    "\n",
    "```python\n",
    "return items\n",
    "```\n",
    "\n",
    "Returns the final list of cleaned asset names.\n",
    "\n",
    "Example:\n",
    "\n",
    "```python\n",
    "parse_assets(\"['Car'; 'Bike'; 'Truck']\")  \n",
    "# Output: ['Car', 'Bike', 'Truck']\n",
    "\n",
    "parse_assets(np.nan)  \n",
    "# Output: []\n",
    "\n",
    "parse_assets(\"[]\")  \n",
    "# Output: []\n",
    "```"
   ]
  },
  {
   "cell_type": "markdown",
   "id": "2e323f32-9d90-4edb-9f00-8291b0f4d584",
   "metadata": {},
   "source": [
    "#### Applying `parse_assets()`\n",
    "\n",
    "We can use the parser on `F14_items_owned` and generate a new column, `F14_items_owned_cleaned`, by applying the `.apply()` method as shown below:\n"
   ]
  },
  {
   "cell_type": "code",
   "execution_count": null,
   "id": "71a1d735-c935-4699-b602-8fffa8804ef1",
   "metadata": {},
   "outputs": [],
   "source": [
    "df_survey['F14_items_owned_cleaned'] = df_survey['F14_items_owned'].apply(parse_assets)\n",
    "\n",
    "#print(\"After parsing to Python lists:\\n\", df_survey, \"\\n\")\n",
    "print(df_survey['F14_items_owned_cleaned'])"
   ]
  },
  {
   "cell_type": "code",
   "execution_count": null,
   "id": "8f64a4ff-cd50-4f3f-8ff8-17feb2654047",
   "metadata": {},
   "outputs": [],
   "source": [
    "print(df_survey['F14_items_owned_cleaned'].apply(type).value_counts())"
   ]
  },
  {
   "cell_type": "markdown",
   "id": "87caf4df-43d5-40bd-9a55-feb5f362375c",
   "metadata": {},
   "source": [
    "#### One-Hot Encoding\n",
    "\n",
    "One-hot encoding transforms a categorical variable with $k$ unique categories into $k$ separate binary columns.\n",
    "\n",
    "    - Each column represents one category.\n",
    "    - The value is 1 if the observation belongs to that category, and 0 otherwise.\n",
    "\n",
    "For example, if a survey asks *“Which assets does your household own?”* and one household owns \"Car\" and \"Bike\", the one-hot encoded output might look like this:\n",
    "\n",
    "| Car     | Bike     | TV      |\n",
    "|---------|----------|---------|\n",
    "| 1       | 1        | 0       |"
   ]
  },
  {
   "cell_type": "markdown",
   "id": "9ea3eb2f-46a6-4835-82e3-48166a21e072",
   "metadata": {},
   "source": [
    "#### Household Asset Ownership\n",
    "\n",
    "Consider our survey dataset, where `F14_items_owned` contains messy strings representing the assets each household owns:\n",
    "\n",
    "| Household | F14\\_items\\_owned  |\n",
    "| --------- | ------------------ |\n",
    "| 0         | \"\\['Car'; 'Bike']\" |\n",
    "| 1         | \"\\[]\"              |\n",
    "| 2         | NaN                |\n",
    "| 3         | \"\\['TV'; 'Radio']\" |"
   ]
  },
  {
   "cell_type": "markdown",
   "id": "cd5e92c6-c641-4017-bfab-ca19b036e3b8",
   "metadata": {},
   "source": [
    "We first used the `parse_assets` function to convert the messy string into a Python list:\n",
    "\n",
    "| Household | F14\\_items\\_owned\\_cleaned |\n",
    "| --------- | -------------------------- |\n",
    "| 0         | \\['Car', 'Bike']           |\n",
    "| 1         | \\[]                        |\n",
    "| 2         | \\[]                        |\n",
    "| 3         | \\['TV', 'Radio']           |\n"
   ]
  },
  {
   "cell_type": "markdown",
   "id": "bd732128-9ef1-48a2-946c-bcfd4b065009",
   "metadata": {},
   "source": [
    "To figure out how many one-hot variables to create we can compile the lists under `F14_items_owned_cleaned` to create a set of unique items."
   ]
  },
  {
   "cell_type": "code",
   "execution_count": null,
   "id": "3dfbc524-7604-4db3-b06a-3fb5ca6b4da6",
   "metadata": {},
   "outputs": [],
   "source": [
    "# Step 1: Get the unique set of all items\n",
    "all_items = set(item for sublist in df_survey['F14_items_owned_cleaned'] for item in sublist)\n",
    "print(\"Unique items found:\", all_items, \"\\n\")"
   ]
  },
  {
   "cell_type": "code",
   "execution_count": null,
   "id": "4f589b40-0316-4879-bfc1-6b66d915599b",
   "metadata": {},
   "outputs": [],
   "source": [
    "print(list(all_items))"
   ]
  },
  {
   "cell_type": "code",
   "execution_count": null,
   "id": "6cff6bb8-fbf6-4c0b-b706-a2e62e0ccf03",
   "metadata": {},
   "outputs": [],
   "source": [
    "len(all_items)"
   ]
  },
  {
   "cell_type": "markdown",
   "id": "280f6d29-dc94-44f8-95d8-44c0aea1f11b",
   "metadata": {},
   "source": [
    "Let's go step-by-step and carefully break down what this code does. It's using a nested generator expression to collect all unique assets from a column where each cell contains a list of assets."
   ]
  },
  {
   "cell_type": "markdown",
   "id": "b0844fba-e051-4b53-97a5-70afe3c42c07",
   "metadata": {},
   "source": [
    "**The key part here is**:\n",
    "\n",
    "```python\n",
    "for sublist in df_survey['F14_items_owned_cleaned'] \n",
    "    for item in sublist\n",
    "```\n",
    "\n",
    "This is a nested loop written in a single line.\n",
    "\n",
    "Equivalent expanded version:\n",
    "\n",
    "```python\n",
    "items_list = []\n",
    "for sublist in df_survey['F14_items_owned_cleaned']:\n",
    "    for item in sublist:\n",
    "        items_list.append(item)\n",
    "```\n",
    "\n",
    "What this does:\n",
    "\n",
    "    - Outer loop: Iterates over each row in the column.\n",
    "        - Example: First iteration → sublist = ['Car', 'Bike']\n",
    "    - Inner loop: Iterates over each item inside that list.\n",
    "        - Example: 'Car', then 'Bike'\n",
    "\n",
    "Result after this step would be a flat sequence:\n",
    "`['Car', 'Bike', 'TV', 'Radio']`"
   ]
  },
  {
   "cell_type": "markdown",
   "id": "4c1b4e98-b7ea-4a25-afbe-5b99b5f8a797",
   "metadata": {},
   "source": [
    "**Wrapping with set(...)**\n",
    "\n",
    "```python\n",
    "all_items = set(item for sublist in df_survey['F14_items_owned_cleaned'] for item in sublist)\n",
    "```\n",
    "\n",
    "    - `set()` removes duplicates and stores only unique values\n",
    "    - So even if multiple households own \"Bike\", it will appear only once\n",
    "\n",
    "Example:\n",
    "\n",
    "```python\n",
    "['Car', 'Bike', 'Bike', 'TV', 'Radio']\n",
    "↓\n",
    "{'Car', 'Bike', 'TV', 'Radio'}\n",
    "```\n",
    "\n",
    "This technique is very common in Python when you want to flatten nested lists and remove duplicates at the same time."
   ]
  },
  {
   "cell_type": "code",
   "execution_count": null,
   "id": "bea2cc15-8c09-42d0-bb34-f089b719c3a9",
   "metadata": {},
   "outputs": [],
   "source": [
    "# Step 2: Create binary columns for each item\n",
    "for item in all_items:\n",
    "    df_survey[item] = df_survey['F14_items_owned_cleaned'].apply(lambda x: int(item in x))"
   ]
  },
  {
   "cell_type": "markdown",
   "id": "6e2cd072-5e42-4c04-8d24-0a22126bec41",
   "metadata": {},
   "source": [
    "Here, we are creating one binary (0/1) column per unique item that indicates whether each household owns that item.\n",
    "\n",
    "```python\n",
    "for item in all_items:\n",
    "```\n",
    "\n",
    "    - Loop over every unique asset name stored in the `all_items` set (e.g. 'Car', 'Bike', 'TV', ...).\n",
    "\n",
    "```python\n",
    "df_survey[item] = ...\n",
    "```\n",
    "\n",
    "    - For the current item, create a new column in `df_survey` named exactly `item`. This will hold 0/1 values for every row.\n",
    "\n",
    "```python\n",
    "df_survey['F14_items_owned_cleaned'].apply(...)\n",
    "```\n",
    "\n",
    "    - Call `.apply()` on the column that contains lists of assets (one list per row). `.apply()` runs the provided function once per row value in that column and returns a Series of results which is assigned into the new column.\n",
    "\n",
    "```python\n",
    "lambda x: int(item in x)\n",
    "```\n",
    "\n",
    "    - For each row value `x` (which should be a list of assets):\n",
    "        - `item` in `x` is a membership test that returns `True` if the item appears in that list, `False` otherwise.\n",
    "        - `int(...)` converts `True` → `1` and `False` → `0`.\n",
    "    - So each row gets 1 if the household owns item, else 0.\n",
    "    \n",
    "You might be wondering if there is a more concise alternative to this method. The `scikit-learn` package offers `MultiLabelBinarizer()`, which you may want to explore."
   ]
  },
  {
   "cell_type": "markdown",
   "id": "aae0503a-adb5-48c7-812d-07ebad455a7a",
   "metadata": {},
   "source": [
    "Finally, here are the one-hot encoded binary variables."
   ]
  },
  {
   "cell_type": "code",
   "execution_count": null,
   "id": "0d0c49c6-9ae7-41cc-806e-3dc181ec5a57",
   "metadata": {},
   "outputs": [],
   "source": [
    "df_survey[list(all_items)].head()"
   ]
  },
  {
   "cell_type": "markdown",
   "id": "4c8c021e-5715-4489-a3bb-eb9ab6e29c88",
   "metadata": {},
   "source": [
    "#### Using One-Hot Encoded Binary Variables\n",
    "\n",
    "One-hot encoded binary variables are much easier to summarize, and many statistical modeling procedures can use them without additional processing."
   ]
  },
  {
   "cell_type": "markdown",
   "id": "f030cca0-285e-4a5b-9dd7-a2b5494a1113",
   "metadata": {},
   "source": [
    "For example, we can create a variable that counts the total number of positive values across the binary variables."
   ]
  },
  {
   "cell_type": "code",
   "execution_count": null,
   "id": "606fbb33-9612-498b-aa1c-7b6fe14545bd",
   "metadata": {},
   "outputs": [],
   "source": [
    "# Create a count variable summing up the binary variables\n",
    "n_assets = df_survey[list(all_items)].sum(axis=1)\n",
    "n_assets.head()"
   ]
  },
  {
   "cell_type": "code",
   "execution_count": null,
   "id": "c41c785c-84e6-46af-9ae8-e998c404f422",
   "metadata": {},
   "outputs": [],
   "source": [
    "# Create a frequency distribution\n",
    "count_assets = n_assets.value_counts().sort_index()\n",
    "count_assets.head()"
   ]
  },
  {
   "cell_type": "markdown",
   "id": "d6aa360e-c1a3-4543-9c9b-a80347fc285a",
   "metadata": {},
   "source": [
    "We can quickly visualize the distribution of the total count variable."
   ]
  },
  {
   "cell_type": "code",
   "execution_count": null,
   "id": "44212d37-4e48-44c3-9d79-70e35a5e811c",
   "metadata": {},
   "outputs": [],
   "source": [
    "import matplotlib.pyplot as plt\n",
    "\n",
    "# Plot the bar chart\n",
    "count_assets.plot(kind='bar', color='skyblue', edgecolor='black')\n",
    "plt.title(\"Distribution of Assets Owned\")\n",
    "plt.xlabel(\"Number of Assets Owned\") \n",
    "plt.ylabel(\"Count\")\n",
    "plt.xticks(rotation=0)      # Keep labels horizontal\n",
    "plt.show()"
   ]
  },
  {
   "cell_type": "markdown",
   "id": "3b84ea0f-b33a-48a8-b00a-ba139d898d61",
   "metadata": {},
   "source": [
    "Calculating the percentage of each household item owned by respondents is simple."
   ]
  },
  {
   "cell_type": "code",
   "execution_count": null,
   "id": "360e5420-26a7-4a1c-a115-4cb330cfcb29",
   "metadata": {},
   "outputs": [],
   "source": [
    "df_survey[list(all_items)].describe().round(1)"
   ]
  },
  {
   "cell_type": "markdown",
   "id": "d000a832-e169-4026-8ae2-112984797aa6",
   "metadata": {},
   "source": [
    "#### Practice Exercise 4\n",
    "\n",
    "Another variable of interest is `E18_months_no_water`, which records responses to the question: *'Are there months when you cannot obtain enough water for your crops? Please indicate which months.'*\n",
    "\n",
    "The responses consist of a string variable that contains lists of months selected from a multi-select question (e.g., 'select all that apply')."
   ]
  },
  {
   "cell_type": "code",
   "execution_count": null,
   "id": "76d06b22-03f7-4599-8059-b03d9399c6e3",
   "metadata": {},
   "outputs": [],
   "source": [
    "print(df_survey['E18_months_no_water'].dtype)"
   ]
  },
  {
   "cell_type": "code",
   "execution_count": null,
   "id": "6f138e18-cbe7-4188-96bc-bf5cc43e3844",
   "metadata": {},
   "outputs": [],
   "source": [
    "df_survey['E18_months_no_water'].head(10)"
   ]
  },
  {
   "cell_type": "code",
   "execution_count": null,
   "id": "6b09034c-6349-49ad-8b6f-37acf959e525",
   "metadata": {},
   "outputs": [],
   "source": [
    "df_survey['E18_months_no_water'].value_counts()"
   ]
  },
  {
   "cell_type": "markdown",
   "id": "0202b081-4159-49e3-9a5b-d55823e27f05",
   "metadata": {},
   "source": [
    "Here are the tasks you need to complete:\n",
    "- Create a custom parser similar to the one used for `F14_items_owned`.\n",
    "    - Some months are incorrectly abbreviated, such as 'June', 'July', and 'Sept'.\n",
    "    - Ensure the parser applies correct abbreviations for all months.\n",
    "- Generate a cleaned version of the `E18_months_no_water_cleaned` variable.\n",
    "- Apply one-hot encoding to convert months into binary variables.\n",
    "- Use `.describe()` on the DataFrame with the one-hot encoded variables to display descriptive statistics.\n",
    "- Generate a bar graph to show the count for each month."
   ]
  },
  {
   "cell_type": "code",
   "execution_count": null,
   "id": "d5108e0b-82fb-4e0d-8170-f6b004188c86",
   "metadata": {},
   "outputs": [],
   "source": [
    "# Create a custom parser\n"
   ]
  },
  {
   "cell_type": "code",
   "execution_count": null,
   "id": "3a80cd15-a50b-4f11-9f92-b56f73d5a049",
   "metadata": {},
   "outputs": [],
   "source": [
    "# Apply the parser to the column and save the result as 'E18_months_no_water_cleaned'.\n"
   ]
  },
  {
   "cell_type": "markdown",
   "id": "37accc80-36d6-4e47-acd2-c9839ebaa15b",
   "metadata": {},
   "source": [
    "Rather than deriving a unique set of month abbreviations, use the provided list to generate the complete set of one-hot encoded binary variables."
   ]
  },
  {
   "cell_type": "code",
   "execution_count": null,
   "id": "d485498b-9de5-4e6d-9878-3d5a9827a950",
   "metadata": {},
   "outputs": [],
   "source": [
    "months = ['Jan', 'Feb', 'Mar', 'Apr', 'May', 'Jun', 'Jul', 'Aug', 'Sep', 'Oct', 'Nov', 'Dec']"
   ]
  },
  {
   "cell_type": "code",
   "execution_count": null,
   "id": "e1c541e6-9913-4d64-a138-ddc72c9a6831",
   "metadata": {},
   "outputs": [],
   "source": [
    "# Create one-hot encoded variables for each of the 12 months.\n"
   ]
  },
  {
   "cell_type": "code",
   "execution_count": null,
   "id": "003c9e0e-5996-4e0e-b2b8-47490654f8fa",
   "metadata": {},
   "outputs": [],
   "source": [
    "# Generate descriptive stats on the binary variables.\n"
   ]
  },
  {
   "cell_type": "code",
   "execution_count": null,
   "id": "1813f53e-4173-41a7-9248-c744c5601661",
   "metadata": {},
   "outputs": [],
   "source": [
    "# Create a count variable, `n_months`, summing up the binary variables.\n"
   ]
  },
  {
   "cell_type": "code",
   "execution_count": null,
   "id": "f5d1d8e2-696a-412e-838c-715847d7e688",
   "metadata": {},
   "outputs": [],
   "source": [
    "# Create a frequency distribution\n"
   ]
  },
  {
   "cell_type": "code",
   "execution_count": null,
   "id": "43decf37-495f-4dd8-82d9-03102995aa51",
   "metadata": {},
   "outputs": [],
   "source": [
    "# Generate a bar graph\n"
   ]
  },
  {
   "cell_type": "markdown",
   "id": "8107b7dd-4e33-4cc3-b736-a6099e906de4",
   "metadata": {},
   "source": [
    "The expected output:\n",
    "\n",
    "![No Water](../figures/months_no_water.png)"
   ]
  },
  {
   "cell_type": "markdown",
   "id": "eaa6c8ea-8c14-47ec-8494-c93bb3a7fc39",
   "metadata": {},
   "source": [
    "### Wrap Up"
   ]
  },
  {
   "cell_type": "markdown",
   "id": "c484f7a2-d6f6-407d-b8fc-d7634c09f0aa",
   "metadata": {},
   "source": [
    "That's it for now. \n",
    "- There will be no DC course this week.\n",
    "- Instead, please submit the in-class exercise notebook by noon on 9/29/2025."
   ]
  },
  {
   "cell_type": "markdown",
   "id": "1939b616-08c8-4ffd-86be-b264d77b61f6",
   "metadata": {},
   "source": [
    "BY PRINTING YOUR NAME BELOW, YOU CONFIRM THAT THE EXERCISES YOU SUBMITTED IN THIS NOTEBOOK ARE YOUR OWN AND THAT YOU DID NOT USE AI TO ASSIST WITH YOUR WORK."
   ]
  },
  {
   "cell_type": "code",
   "execution_count": null,
   "id": "4c7a8f59-8d38-4584-b4f1-5b2bc687c44a",
   "metadata": {},
   "outputs": [],
   "source": [
    "# PRINT YOUR NAME\n",
    "print(\"Enter Your Name Here\")"
   ]
  }
 ],
 "metadata": {
  "kernelspec": {
   "display_name": "Python 3 (ipykernel)",
   "language": "python",
   "name": "python3"
  },
  "language_info": {
   "codemirror_mode": {
    "name": "ipython",
    "version": 3
   },
   "file_extension": ".py",
   "mimetype": "text/x-python",
   "name": "python",
   "nbconvert_exporter": "python",
   "pygments_lexer": "ipython3",
   "version": "3.9.12"
  }
 },
 "nbformat": 4,
 "nbformat_minor": 5
}
